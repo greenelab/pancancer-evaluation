{
 "cells": [
  {
   "cell_type": "code",
   "execution_count": 1,
   "metadata": {},
   "outputs": [],
   "source": [
    "import numpy as np\n",
    "import pandas as pd\n",
    "import scipy.stats as st\n",
    "import matplotlib.pyplot as plt\n",
    "import seaborn as sns\n",
    "\n",
    "from numpy.random import default_rng\n",
    "\n",
    "random_seed = 42\n",
    "rng = default_rng(random_seed)"
   ]
  },
  {
   "cell_type": "code",
   "execution_count": 2,
   "metadata": {},
   "outputs": [
    {
     "data": {
      "text/html": [
       "<div>\n",
       "<style scoped>\n",
       "    .dataframe tbody tr th:only-of-type {\n",
       "        vertical-align: middle;\n",
       "    }\n",
       "\n",
       "    .dataframe tbody tr th {\n",
       "        vertical-align: top;\n",
       "    }\n",
       "\n",
       "    .dataframe thead th {\n",
       "        text-align: right;\n",
       "    }\n",
       "</style>\n",
       "<table border=\"1\" class=\"dataframe\">\n",
       "  <thead>\n",
       "    <tr style=\"text-align: right;\">\n",
       "      <th></th>\n",
       "      <th>0</th>\n",
       "      <th>1</th>\n",
       "      <th>2</th>\n",
       "    </tr>\n",
       "  </thead>\n",
       "  <tbody>\n",
       "    <tr>\n",
       "      <th>0</th>\n",
       "      <td>0.304717</td>\n",
       "      <td>0.167356</td>\n",
       "      <td>6.671342</td>\n",
       "    </tr>\n",
       "    <tr>\n",
       "      <th>1</th>\n",
       "      <td>-1.039984</td>\n",
       "      <td>1.315057</td>\n",
       "      <td>128.911121</td>\n",
       "    </tr>\n",
       "    <tr>\n",
       "      <th>2</th>\n",
       "      <td>0.750451</td>\n",
       "      <td>3.995756</td>\n",
       "      <td>22.333791</td>\n",
       "    </tr>\n",
       "    <tr>\n",
       "      <th>3</th>\n",
       "      <td>0.940565</td>\n",
       "      <td>0.563538</td>\n",
       "      <td>13.703003</td>\n",
       "    </tr>\n",
       "    <tr>\n",
       "      <th>4</th>\n",
       "      <td>-1.951035</td>\n",
       "      <td>0.284040</td>\n",
       "      <td>2.501008</td>\n",
       "    </tr>\n",
       "  </tbody>\n",
       "</table>\n",
       "</div>"
      ],
      "text/plain": [
       "          0         1           2\n",
       "0  0.304717  0.167356    6.671342\n",
       "1 -1.039984  1.315057  128.911121\n",
       "2  0.750451  3.995756   22.333791\n",
       "3  0.940565  0.563538   13.703003\n",
       "4 -1.951035  0.284040    2.501008"
      ]
     },
     "execution_count": 2,
     "metadata": {},
     "output_type": "execute_result"
    }
   ],
   "source": [
    "n_samples = 50\n",
    "\n",
    "X_df = pd.DataFrame(\n",
    "    np.array([\n",
    "        rng.standard_normal(size=n_samples),\n",
    "        rng.exponential(size=n_samples),\n",
    "        st.halfcauchy.rvs(scale=10, size=n_samples, random_state=random_seed),\n",
    "    ]).T\n",
    ")\n",
    "\n",
    "X_df.head()"
   ]
  },
  {
   "cell_type": "code",
   "execution_count": 3,
   "metadata": {},
   "outputs": [
    {
     "data": {
      "text/plain": [
       "<AxesSubplot:xlabel='2', ylabel='Count'>"
      ]
     },
     "execution_count": 3,
     "metadata": {},
     "output_type": "execute_result"
    },
    {
     "data": {
      "image/png": "[encoded data removed]",
      "text/plain": [
       "<Figure size 1080x360 with 3 Axes>"
      ]
     },
     "metadata": {},
     "output_type": "display_data"
    }
   ],
   "source": [
    "sns.set({'figure.figsize': (15, 5)})\n",
    "fig, axarr = plt.subplots(1, 3)\n",
    "\n",
    "sns.histplot(X_df.iloc[:, 0], ax=axarr[0])\n",
    "sns.histplot(X_df.iloc[:, 1], ax=axarr[1])\n",
    "sns.histplot(X_df.iloc[:, 2], ax=axarr[2])"
   ]
  },
  {
   "cell_type": "code",
   "execution_count": 4,
   "metadata": {},
   "outputs": [],
   "source": [
    "def generate_feature_weights(feature_df, weights_type='MAD'):\n",
    "    \"\"\"Generate feature weights from data.\n",
    "    \n",
    "    Options for weights_type:\n",
    "      - 'MAD': mean absolute deviation\n",
    "      - 'max LOF': local outlier factor of max\n",
    "      - 'average LOF': average local outlier factor\n",
    "      - 'kurtosis': kurtosis of input distribution\n",
    "    \"\"\"\n",
    "    if weights_type == 'MAD':\n",
    "        weights = feature_df.mad(axis=0).values\n",
    "        \n",
    "    # should have one weight per feature\n",
    "    assert weights.shape[0] == feature_df.shape[1]\n",
    "    \n",
    "    return weights"
   ]
  },
  {
   "cell_type": "code",
   "execution_count": 5,
   "metadata": {},
   "outputs": [
    {
     "name": "stdout",
     "output_type": "stream",
     "text": [
      "[ 0.61155758  0.77936541 26.17120734]\n"
     ]
    }
   ],
   "source": [
    "print(generate_feature_weights(X_df))"
   ]
  }
 ],
 "metadata": {
  "kernelspec": {
   "display_name": "Python [conda env:pancancer-evaluation]",
   "language": "python",
   "name": "conda-env-pancancer-evaluation-py"
  },
  "language_info": {
   "codemirror_mode": {
    "name": "ipython",
    "version": 3
   },
   "file_extension": ".py",
   "mimetype": "text/x-python",
   "name": "python",
   "nbconvert_exporter": "python",
   "pygments_lexer": "ipython3",
   "version": "3.6.9"
  }
 },
 "nbformat": 4,
 "nbformat_minor": 4
}
