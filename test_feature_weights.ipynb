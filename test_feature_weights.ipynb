{
 "cells": [
  {
   "cell_type": "code",
   "execution_count": 1,
   "metadata": {},
   "outputs": [],
   "source": [
    "import numpy as np\n",
    "import pandas as pd\n",
    "import scipy.stats as st\n",
    "import matplotlib.pyplot as plt\n",
    "import seaborn as sns\n",
    "\n",
    "from numpy.random import default_rng\n",
    "\n",
    "random_seed = 42\n",
    "rng = default_rng(random_seed)"
   ]
  },
  {
   "cell_type": "code",
   "execution_count": 2,
   "metadata": {},
   "outputs": [
    {
     "data": {
      "text/html": [
       "<div>\n",
       "<style scoped>\n",
       "    .dataframe tbody tr th:only-of-type {\n",
       "        vertical-align: middle;\n",
       "    }\n",
       "\n",
       "    .dataframe tbody tr th {\n",
       "        vertical-align: top;\n",
       "    }\n",
       "\n",
       "    .dataframe thead th {\n",
       "        text-align: right;\n",
       "    }\n",
       "</style>\n",
       "<table border=\"1\" class=\"dataframe\">\n",
       "  <thead>\n",
       "    <tr style=\"text-align: right;\">\n",
       "      <th></th>\n",
       "      <th>0</th>\n",
       "      <th>1</th>\n",
       "      <th>2</th>\n",
       "    </tr>\n",
       "  </thead>\n",
       "  <tbody>\n",
       "    <tr>\n",
       "      <th>0</th>\n",
       "      <td>-1</td>\n",
       "      <td>-1</td>\n",
       "      <td>-1</td>\n",
       "    </tr>\n",
       "    <tr>\n",
       "      <th>1</th>\n",
       "      <td>0</td>\n",
       "      <td>0</td>\n",
       "      <td>0</td>\n",
       "    </tr>\n",
       "    <tr>\n",
       "      <th>2</th>\n",
       "      <td>1</td>\n",
       "      <td>1</td>\n",
       "      <td>1</td>\n",
       "    </tr>\n",
       "    <tr>\n",
       "      <th>3</th>\n",
       "      <td>0</td>\n",
       "      <td>0</td>\n",
       "      <td>0</td>\n",
       "    </tr>\n",
       "    <tr>\n",
       "      <th>4</th>\n",
       "      <td>-1</td>\n",
       "      <td>2</td>\n",
       "      <td>100</td>\n",
       "    </tr>\n",
       "  </tbody>\n",
       "</table>\n",
       "</div>"
      ],
      "text/plain": [
       "   0  1    2\n",
       "0 -1 -1   -1\n",
       "1  0  0    0\n",
       "2  1  1    1\n",
       "3  0  0    0\n",
       "4 -1  2  100"
      ]
     },
     "execution_count": 2,
     "metadata": {},
     "output_type": "execute_result"
    }
   ],
   "source": [
    "n_samples = 50\n",
    "\n",
    "# X_df = pd.DataFrame(\n",
    "#     np.array([\n",
    "#         rng.standard_normal(size=n_samples),\n",
    "#         rng.exponential(size=n_samples),\n",
    "#         st.halfcauchy.rvs(scale=10, size=n_samples, random_state=random_seed),\n",
    "#     ]).T\n",
    "# )\n",
    "\n",
    "X_df = pd.DataFrame(\n",
    "    [[-1, 0, 1, 0, -1],\n",
    "     [-1, 0, 1, 0, 2],\n",
    "     [-1, 0, 1, 0, 100]]\n",
    ").T\n",
    "\n",
    "X_df.head()"
   ]
  },
  {
   "cell_type": "code",
   "execution_count": 3,
   "metadata": {},
   "outputs": [
    {
     "data": {
      "text/plain": [
       "<AxesSubplot:xlabel='2', ylabel='Count'>"
      ]
     },
     "execution_count": 3,
     "metadata": {},
     "output_type": "execute_result"
    },
    {
     "data": {
      "image/png": "[encoded data removed]",
      "text/plain": [
       "<Figure size 1080x360 with 3 Axes>"
      ]
     },
     "metadata": {},
     "output_type": "display_data"
    }
   ],
   "source": [
    "sns.set({'figure.figsize': (15, 5)})\n",
    "fig, axarr = plt.subplots(1, 3)\n",
    "\n",
    "sns.histplot(X_df.iloc[:, 0], ax=axarr[0])\n",
    "sns.histplot(X_df.iloc[:, 1], ax=axarr[1])\n",
    "sns.histplot(X_df.iloc[:, 2], ax=axarr[2])"
   ]
  },
  {
   "cell_type": "code",
   "execution_count": 4,
   "metadata": {},
   "outputs": [],
   "source": [
    "def generate_feature_weights(feature_df, weights_type='MAD'):\n",
    "    \"\"\"Generate feature weights from data.\n",
    "    \n",
    "    feature_df is a dataframe where columns are features, and rows can\n",
    "    be any values deemed relevant to feature selection.\n",
    "    \n",
    "    Options for weights_type:\n",
    "      - 'MAD': mean absolute deviation of rows\n",
    "      - 'max LOF': local outlier factor of max row value\n",
    "      - 'average LOF': average local outlier factor across rows\n",
    "      - 'kurtosis': kurtosis of distribution across rows\n",
    "    \"\"\"\n",
    "    if weights_type == 'MAD':\n",
    "        weights = feature_df.mad(axis=0).values\n",
    "    elif weights_type == 'max LOF':\n",
    "        from sklearn.neighbors import LocalOutlierFactor\n",
    "        \n",
    "        def column_to_max_lof(col):\n",
    "            max_ix = col.idxmax()\n",
    "            max_value = col.max()\n",
    "            lof = LocalOutlierFactor(n_neighbors=2,\n",
    "                                     contamination='auto')\n",
    "            lof.fit_predict(\n",
    "                col.values.reshape(-1, 1)\n",
    "            )\n",
    "            max_lof = lof.negative_outlier_factor_[\n",
    "                col.index.get_loc(max_ix)\n",
    "            ]\n",
    "            return max_lof\n",
    "            \n",
    "        weights = (feature_df\n",
    "          .apply(column_to_max_lof, axis='index')\n",
    "          .to_numpy()\n",
    "        )\n",
    "    elif weights_type == 'average LOF':\n",
    "        from sklearn.neighbors import LocalOutlierFactor\n",
    "        \n",
    "        def column_to_avg_lof(col):\n",
    "            lof = LocalOutlierFactor(n_neighbors=2,\n",
    "                                     contamination='auto')\n",
    "            lof.fit_predict(\n",
    "                col.values.reshape(-1, 1)\n",
    "            )\n",
    "            return np.mean(lof.negative_outlier_factor_)\n",
    "        \n",
    "        weights = (feature_df\n",
    "          .apply(column_to_avg_lof, axis='index')\n",
    "          .to_numpy()\n",
    "        )\n",
    "    elif weights_type == 'kurtosis':\n",
    "        weights = (feature_df\n",
    "          .apply(st.kurtosis, axis='index')\n",
    "          .to_numpy()\n",
    "        )\n",
    "        # min-max scale the kurtosis since it's relative to\n",
    "        # a normal distribution defined as 0, the negative/\n",
    "        # positive values don't have meaning to us\n",
    "        from sklearn.preprocessing import MinMaxScaler\n",
    "        scaler = MinMaxScaler()\n",
    "        scaler.fit(weights.reshape(-1, 1))\n",
    "        weights = scaler.transform(weights.reshape(-1, 1)).flatten()\n",
    "        \n",
    "    # should have one weight per feature\n",
    "    assert weights.shape[0] == feature_df.shape[1]\n",
    "    \n",
    "    return weights"
   ]
  },
  {
   "cell_type": "code",
   "execution_count": 5,
   "metadata": {},
   "outputs": [
    {
     "name": "stdout",
     "output_type": "stream",
     "text": [
      "[ 0.64  0.88 32.  ]\n"
     ]
    }
   ],
   "source": [
    "print(generate_feature_weights(X_df))"
   ]
  },
  {
   "cell_type": "code",
   "execution_count": 6,
   "metadata": {},
   "outputs": [
    {
     "name": "stdout",
     "output_type": "stream",
     "text": [
      "[ -1.          -1.5        -99.49999999]\n"
     ]
    }
   ],
   "source": [
    "print(generate_feature_weights(X_df, weights_type='max LOF'))"
   ]
  },
  {
   "cell_type": "code",
   "execution_count": 7,
   "metadata": {},
   "outputs": [
    {
     "name": "stdout",
     "output_type": "stream",
     "text": [
      "[ -1.   -1.1 -20.7]\n"
     ]
    }
   ],
   "source": [
    "print(generate_feature_weights(X_df, weights_type='average LOF'))"
   ]
  },
  {
   "cell_type": "code",
   "execution_count": 8,
   "metadata": {},
   "outputs": [
    {
     "name": "stdout",
     "output_type": "stream",
     "text": [
      "[0.         0.07753004 1.        ]\n"
     ]
    }
   ],
   "source": [
    "print(generate_feature_weights(X_df, weights_type='kurtosis'))"
   ]
  }
 ],
 "metadata": {
  "kernelspec": {
   "display_name": "Python [conda env:pancancer-evaluation]",
   "language": "python",
   "name": "conda-env-pancancer-evaluation-py"
  },
  "language_info": {
   "codemirror_mode": {
    "name": "ipython",
    "version": 3
   },
   "file_extension": ".py",
   "mimetype": "text/x-python",
   "name": "python",
   "nbconvert_exporter": "python",
   "pygments_lexer": "ipython3",
   "version": "3.6.9"
  }
 },
 "nbformat": 4,
 "nbformat_minor": 4
}
