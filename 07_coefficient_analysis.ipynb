{
 "cells": [
  {
   "cell_type": "markdown",
   "metadata": {},
   "source": [
    "## Analysis of model coefficients"
   ]
  },
  {
   "cell_type": "code",
   "execution_count": 1,
   "metadata": {},
   "outputs": [],
   "source": [
    "import os\n",
    "import itertools as it\n",
    "\n",
    "import numpy as np\n",
    "import pandas as pd\n",
    "import matplotlib.pyplot as plt\n",
    "import seaborn as sns\n",
    "\n",
    "import pancancer_evaluation.config as cfg\n",
    "import pancancer_evaluation.utilities.data_utilities as du\n",
    "import pancancer_evaluation.utilities.analysis_utilities as au"
   ]
  },
  {
   "cell_type": "code",
   "execution_count": 2,
   "metadata": {},
   "outputs": [],
   "source": [
    "pancancer_dir = os.path.join(cfg.results_dir, 'pancancer')\n",
    "single_cancer_dir = os.path.join(cfg.results_dir, 'single_cancer')"
   ]
  },
  {
   "cell_type": "markdown",
   "metadata": {},
   "source": [
    "For the pan-cancer experiments, we added covariates (e.g. fixed effects, dummy/one-hot encoded variables) for the cancer types present in the dataset.\n",
    "\n",
    "Here, we want to look at the proportion of models in which the coefficient for these cancer type covariates. Are they mostly zero (since we're using elastic net regularization), or are they often informative? Does this differ between models that outperform the negative control and models that don't?"
   ]
  },
  {
   "cell_type": "code",
   "execution_count": 3,
   "metadata": {},
   "outputs": [
    {
     "data": {
      "text/html": [
       "<div>\n",
       "<style scoped>\n",
       "    .dataframe tbody tr th:only-of-type {\n",
       "        vertical-align: middle;\n",
       "    }\n",
       "\n",
       "    .dataframe tbody tr th {\n",
       "        vertical-align: top;\n",
       "    }\n",
       "\n",
       "    .dataframe thead th {\n",
       "        text-align: right;\n",
       "    }\n",
       "</style>\n",
       "<table border=\"1\" class=\"dataframe\">\n",
       "  <thead>\n",
       "    <tr style=\"text-align: right;\">\n",
       "      <th></th>\n",
       "      <th>identifier</th>\n",
       "      <th>fold</th>\n",
       "      <th>nz_cov_count</th>\n",
       "      <th>nz_covs</th>\n",
       "    </tr>\n",
       "  </thead>\n",
       "  <tbody>\n",
       "    <tr>\n",
       "      <th>0</th>\n",
       "      <td>MAP3K1_BRCA</td>\n",
       "      <td>0</td>\n",
       "      <td>1</td>\n",
       "      <td>[BRCA]</td>\n",
       "    </tr>\n",
       "    <tr>\n",
       "      <th>9</th>\n",
       "      <td>MLH1_UCEC</td>\n",
       "      <td>1</td>\n",
       "      <td>1</td>\n",
       "      <td>[UCEC]</td>\n",
       "    </tr>\n",
       "    <tr>\n",
       "      <th>10</th>\n",
       "      <td>MLH1_UCEC</td>\n",
       "      <td>2</td>\n",
       "      <td>1</td>\n",
       "      <td>[UCEC]</td>\n",
       "    </tr>\n",
       "    <tr>\n",
       "      <th>160</th>\n",
       "      <td>CIC_SKCM</td>\n",
       "      <td>0</td>\n",
       "      <td>1</td>\n",
       "      <td>[LGG]</td>\n",
       "    </tr>\n",
       "    <tr>\n",
       "      <th>256</th>\n",
       "      <td>CBL_UCEC</td>\n",
       "      <td>0</td>\n",
       "      <td>1</td>\n",
       "      <td>[UCEC]</td>\n",
       "    </tr>\n",
       "    <tr>\n",
       "      <th>258</th>\n",
       "      <td>CBL_UCEC</td>\n",
       "      <td>2</td>\n",
       "      <td>1</td>\n",
       "      <td>[UCEC]</td>\n",
       "    </tr>\n",
       "    <tr>\n",
       "      <th>273</th>\n",
       "      <td>JAK3_OV</td>\n",
       "      <td>1</td>\n",
       "      <td>1</td>\n",
       "      <td>[UCEC]</td>\n",
       "    </tr>\n",
       "    <tr>\n",
       "      <th>277</th>\n",
       "      <td>H3F3A_BRCA</td>\n",
       "      <td>1</td>\n",
       "      <td>1</td>\n",
       "      <td>[BRCA]</td>\n",
       "    </tr>\n",
       "    <tr>\n",
       "      <th>280</th>\n",
       "      <td>H3F3A_LIHC</td>\n",
       "      <td>0</td>\n",
       "      <td>1</td>\n",
       "      <td>[BRCA]</td>\n",
       "    </tr>\n",
       "    <tr>\n",
       "      <th>315</th>\n",
       "      <td>MAP2K1_SKCM</td>\n",
       "      <td>3</td>\n",
       "      <td>1</td>\n",
       "      <td>[SKCM]</td>\n",
       "    </tr>\n",
       "  </tbody>\n",
       "</table>\n",
       "</div>"
      ],
      "text/plain": [
       "      identifier  fold  nz_cov_count nz_covs\n",
       "0    MAP3K1_BRCA     0             1  [BRCA]\n",
       "9      MLH1_UCEC     1             1  [UCEC]\n",
       "10     MLH1_UCEC     2             1  [UCEC]\n",
       "160     CIC_SKCM     0             1   [LGG]\n",
       "256     CBL_UCEC     0             1  [UCEC]\n",
       "258     CBL_UCEC     2             1  [UCEC]\n",
       "273      JAK3_OV     1             1  [UCEC]\n",
       "277   H3F3A_BRCA     1             1  [BRCA]\n",
       "280   H3F3A_LIHC     0             1  [BRCA]\n",
       "315  MAP2K1_SKCM     3             1  [SKCM]"
      ]
     },
     "execution_count": 3,
     "metadata": {},
     "output_type": "execute_result"
    }
   ],
   "source": [
    "sample_info_df = du.load_sample_info()\n",
    "tcga_cancer_types = list(np.unique(sample_info_df.cancer_type))\n",
    "\n",
    "identifier_coefs_info = []\n",
    "for identifier, coefs_list in au.generate_nonzero_coefficients(pancancer_dir):\n",
    "    for fold_no, coefs in enumerate(coefs_list):\n",
    "        cancer_covs = au.get_cancer_type_covariates(coefs, tcga_cancer_types)\n",
    "        identifier_coefs_info.append((identifier, fold_no, len(cancer_covs), cancer_covs))\n",
    "        \n",
    "# TODO: do we need a way to generate list of all features?\n",
    "ids_df = pd.DataFrame(identifier_coefs_info, columns=['identifier', 'fold', 'nz_cov_count', 'nz_covs'])\n",
    "ids_df[ids_df.nz_cov_count > 0].head(n=10)"
   ]
  },
  {
   "cell_type": "code",
   "execution_count": 4,
   "metadata": {},
   "outputs": [
    {
     "data": {
      "text/html": [
       "<div>\n",
       "<style scoped>\n",
       "    .dataframe tbody tr th:only-of-type {\n",
       "        vertical-align: middle;\n",
       "    }\n",
       "\n",
       "    .dataframe tbody tr th {\n",
       "        vertical-align: top;\n",
       "    }\n",
       "\n",
       "    .dataframe thead th {\n",
       "        text-align: right;\n",
       "    }\n",
       "</style>\n",
       "<table border=\"1\" class=\"dataframe\">\n",
       "  <thead>\n",
       "    <tr style=\"text-align: right;\">\n",
       "      <th></th>\n",
       "      <th>identifier</th>\n",
       "      <th>fold</th>\n",
       "      <th>nz_cov_count</th>\n",
       "      <th>nz_covs</th>\n",
       "      <th>reject_null</th>\n",
       "    </tr>\n",
       "  </thead>\n",
       "  <tbody>\n",
       "    <tr>\n",
       "      <th>0</th>\n",
       "      <td>MAP3K1_BRCA</td>\n",
       "      <td>0</td>\n",
       "      <td>1</td>\n",
       "      <td>[BRCA]</td>\n",
       "      <td>True</td>\n",
       "    </tr>\n",
       "    <tr>\n",
       "      <th>1</th>\n",
       "      <td>MAP3K1_BRCA</td>\n",
       "      <td>1</td>\n",
       "      <td>0</td>\n",
       "      <td>[]</td>\n",
       "      <td>True</td>\n",
       "    </tr>\n",
       "    <tr>\n",
       "      <th>2</th>\n",
       "      <td>MAP3K1_BRCA</td>\n",
       "      <td>2</td>\n",
       "      <td>0</td>\n",
       "      <td>[]</td>\n",
       "      <td>True</td>\n",
       "    </tr>\n",
       "    <tr>\n",
       "      <th>3</th>\n",
       "      <td>MAP3K1_BRCA</td>\n",
       "      <td>3</td>\n",
       "      <td>0</td>\n",
       "      <td>[]</td>\n",
       "      <td>True</td>\n",
       "    </tr>\n",
       "    <tr>\n",
       "      <th>4</th>\n",
       "      <td>MAP3K1_UCEC</td>\n",
       "      <td>0</td>\n",
       "      <td>0</td>\n",
       "      <td>[]</td>\n",
       "      <td>False</td>\n",
       "    </tr>\n",
       "    <tr>\n",
       "      <th>5</th>\n",
       "      <td>MAP3K1_UCEC</td>\n",
       "      <td>1</td>\n",
       "      <td>0</td>\n",
       "      <td>[]</td>\n",
       "      <td>False</td>\n",
       "    </tr>\n",
       "    <tr>\n",
       "      <th>6</th>\n",
       "      <td>MAP3K1_UCEC</td>\n",
       "      <td>2</td>\n",
       "      <td>0</td>\n",
       "      <td>[]</td>\n",
       "      <td>False</td>\n",
       "    </tr>\n",
       "    <tr>\n",
       "      <th>7</th>\n",
       "      <td>MAP3K1_UCEC</td>\n",
       "      <td>3</td>\n",
       "      <td>0</td>\n",
       "      <td>[]</td>\n",
       "      <td>False</td>\n",
       "    </tr>\n",
       "  </tbody>\n",
       "</table>\n",
       "</div>"
      ],
      "text/plain": [
       "    identifier  fold  nz_cov_count nz_covs  reject_null\n",
       "0  MAP3K1_BRCA     0             1  [BRCA]         True\n",
       "1  MAP3K1_BRCA     1             0      []         True\n",
       "2  MAP3K1_BRCA     2             0      []         True\n",
       "3  MAP3K1_BRCA     3             0      []         True\n",
       "4  MAP3K1_UCEC     0             0      []        False\n",
       "5  MAP3K1_UCEC     1             0      []        False\n",
       "6  MAP3K1_UCEC     2             0      []        False\n",
       "7  MAP3K1_UCEC     3             0      []        False"
      ]
     },
     "execution_count": 4,
     "metadata": {},
     "output_type": "execute_result"
    }
   ],
   "source": [
    "# load significant identifiers and join into coefficients dataframe\n",
    "# pancancer_comparison_df = pd.read_csv(os.path.join(cfg.results_dir, 'pancancer_pvals.tsv'),\n",
    "#                                       index_col=False, sep='\\t')\n",
    "results_dir = '/home/jake/data/pancancer_vogelstein_09_25'\n",
    "pancancer_comparison_df = pd.read_csv(os.path.join(results_dir, 'pancancer_pvals.tsv'),\n",
    "                                      index_col=False, sep='\\t')\n",
    "merge_df = (\n",
    "    ids_df.merge(pancancer_comparison_df, left_on='identifier', right_on='identifier')\n",
    "          .drop(columns=['delta_mean', 'p_value', 'corr_pval', 'nlog10_p'])\n",
    ")\n",
    "merge_df.head(n=8)"
   ]
  },
  {
   "cell_type": "code",
   "execution_count": 5,
   "metadata": {},
   "outputs": [
    {
     "data": {
      "text/plain": [
       "Text(0, 0.5, 'Number of models (fold/cancer type/gene)')"
      ]
     },
     "execution_count": 5,
     "metadata": {},
     "output_type": "execute_result"
    },
    {
     "data": {
      "image/png": "[encoded data removed]",
      "text/plain": [
       "<Figure size 576x432 with 1 Axes>"
      ]
     },
     "metadata": {},
     "output_type": "display_data"
    }
   ],
   "source": [
    "sns.set({'figure.figsize': (8, 6)})\n",
    "sns.histplot(data=merge_df, x='nz_cov_count', hue='reject_null', log_scale=(False, True),\n",
    "             kde=False, multiple='dodge')\n",
    "plt.xticks(range(0, 5))\n",
    "plt.xlim(-0.1, 4.1)\n",
    "plt.title('Distribution of nonzero cancer type covariate count')\n",
    "plt.xlabel('Nonzero covariate count')\n",
    "plt.ylabel('Number of models (fold/cancer type/gene)')"
   ]
  },
  {
   "cell_type": "markdown",
   "metadata": {},
   "source": [
    "So, it looks like the cancer type covariates are largely unused by the models, and the proportion of models using them doesn't seem to vary much between well-performing and poorly-performing models.\n",
    "\n",
    "Now we want to do something similar for the sample mutation burden covariate (\"log10_mut\")."
   ]
  },
  {
   "cell_type": "code",
   "execution_count": 6,
   "metadata": {},
   "outputs": [
    {
     "data": {
      "text/html": [
       "<div>\n",
       "<style scoped>\n",
       "    .dataframe tbody tr th:only-of-type {\n",
       "        vertical-align: middle;\n",
       "    }\n",
       "\n",
       "    .dataframe tbody tr th {\n",
       "        vertical-align: top;\n",
       "    }\n",
       "\n",
       "    .dataframe thead th {\n",
       "        text-align: right;\n",
       "    }\n",
       "</style>\n",
       "<table border=\"1\" class=\"dataframe\">\n",
       "  <thead>\n",
       "    <tr style=\"text-align: right;\">\n",
       "      <th></th>\n",
       "      <th>identifier</th>\n",
       "      <th>fold</th>\n",
       "      <th>mut_cov</th>\n",
       "      <th>reject_null</th>\n",
       "    </tr>\n",
       "  </thead>\n",
       "  <tbody>\n",
       "    <tr>\n",
       "      <th>0</th>\n",
       "      <td>MAP3K1_BRCA</td>\n",
       "      <td>0</td>\n",
       "      <td>True</td>\n",
       "      <td>True</td>\n",
       "    </tr>\n",
       "    <tr>\n",
       "      <th>1</th>\n",
       "      <td>MAP3K1_BRCA</td>\n",
       "      <td>1</td>\n",
       "      <td>True</td>\n",
       "      <td>True</td>\n",
       "    </tr>\n",
       "    <tr>\n",
       "      <th>2</th>\n",
       "      <td>MAP3K1_BRCA</td>\n",
       "      <td>2</td>\n",
       "      <td>False</td>\n",
       "      <td>True</td>\n",
       "    </tr>\n",
       "    <tr>\n",
       "      <th>3</th>\n",
       "      <td>MAP3K1_BRCA</td>\n",
       "      <td>3</td>\n",
       "      <td>True</td>\n",
       "      <td>True</td>\n",
       "    </tr>\n",
       "    <tr>\n",
       "      <th>4</th>\n",
       "      <td>MAP3K1_UCEC</td>\n",
       "      <td>0</td>\n",
       "      <td>False</td>\n",
       "      <td>False</td>\n",
       "    </tr>\n",
       "    <tr>\n",
       "      <th>5</th>\n",
       "      <td>MAP3K1_UCEC</td>\n",
       "      <td>1</td>\n",
       "      <td>True</td>\n",
       "      <td>False</td>\n",
       "    </tr>\n",
       "    <tr>\n",
       "      <th>6</th>\n",
       "      <td>MAP3K1_UCEC</td>\n",
       "      <td>2</td>\n",
       "      <td>True</td>\n",
       "      <td>False</td>\n",
       "    </tr>\n",
       "    <tr>\n",
       "      <th>7</th>\n",
       "      <td>MAP3K1_UCEC</td>\n",
       "      <td>3</td>\n",
       "      <td>False</td>\n",
       "      <td>False</td>\n",
       "    </tr>\n",
       "  </tbody>\n",
       "</table>\n",
       "</div>"
      ],
      "text/plain": [
       "    identifier  fold  mut_cov  reject_null\n",
       "0  MAP3K1_BRCA     0     True         True\n",
       "1  MAP3K1_BRCA     1     True         True\n",
       "2  MAP3K1_BRCA     2    False         True\n",
       "3  MAP3K1_BRCA     3     True         True\n",
       "4  MAP3K1_UCEC     0    False        False\n",
       "5  MAP3K1_UCEC     1     True        False\n",
       "6  MAP3K1_UCEC     2     True        False\n",
       "7  MAP3K1_UCEC     3    False        False"
      ]
     },
     "execution_count": 6,
     "metadata": {},
     "output_type": "execute_result"
    }
   ],
   "source": [
    "identifier_mut_coefs = []\n",
    "for identifier, coefs_list in au.generate_nonzero_coefficients(pancancer_dir):\n",
    "    for fold_no, coefs in enumerate(coefs_list):\n",
    "        mut_cov = au.get_mutation_covariate(coefs)\n",
    "        identifier_mut_coefs.append((identifier, fold_no, mut_cov))\n",
    "        \n",
    "mut_ids_df = pd.DataFrame(identifier_mut_coefs, columns=['identifier', 'fold', 'mut_cov'])\n",
    "mut_ids_df.head(n=10)\n",
    "\n",
    "mut_merge_df = (\n",
    "    mut_ids_df.merge(pancancer_comparison_df, left_on='identifier', right_on='identifier')\n",
    "              .drop(columns=['delta_mean', 'p_value', 'corr_pval', 'nlog10_p'])\n",
    ")\n",
    "mut_merge_df.head(n=8)"
   ]
  },
  {
   "cell_type": "code",
   "execution_count": 7,
   "metadata": {},
   "outputs": [
    {
     "name": "stderr",
     "output_type": "stream",
     "text": [
      "/home/jake/anaconda3/envs/pancancer-evaluation/lib/python3.6/site-packages/numpy/lib/histograms.py:778: RuntimeWarning: Converting input from bool to <class 'numpy.uint8'> for compatibility.\n",
      "  a, weights = _ravel_and_check_weights(a, weights)\n"
     ]
    },
    {
     "data": {
      "text/plain": [
       "Text(0, 0.5, 'Number of models (fold/cancer type/gene)')"
      ]
     },
     "execution_count": 7,
     "metadata": {},
     "output_type": "execute_result"
    },
    {
     "data": {
      "image/png": "[encoded data removed]",
      "text/plain": [
       "<Figure size 576x432 with 1 Axes>"
      ]
     },
     "metadata": {},
     "output_type": "display_data"
    }
   ],
   "source": [
    "sns.set({'figure.figsize': (8, 6)})\n",
    "sns.histplot(data=mut_merge_df, x='mut_cov', hue='reject_null',\n",
    "             kde=False, discrete=True, multiple='dodge', shrink=.8)\n",
    "plt.xticks((0, 1))\n",
    "plt.xlabel('Mutation covariate included')\n",
    "plt.ylabel('Number of models (fold/cancer type/gene)')"
   ]
  },
  {
   "cell_type": "markdown",
   "metadata": {},
   "source": [
    "We can see that the mutation burden covariate is included in our models fairly frequently, more than half the time. It also seems to be zeroed out more often in well-performing models than poorly-performing models. This makes sense: in the case where a mutation doesn't result in a gene expression perturbation, there should be a bit of predictive signal in mutation burden, but in the case where a mutation perturbs gene expression noticeably, signal in the mutation burden should be at least somewhat redundant to the signal in the expression data (at least in some cases).\n",
    "\n",
    "Last, we want to look at the genes selected by elastic net. The underlying question is: are most of the genes selected the most variable ones (i.e. have a high mean absolute deviation), or is the model selecting less variable genes in some cases? Again, we'll segment by well-performing/poorly-performing and see if we notice a difference."
   ]
  },
  {
   "cell_type": "raw",
   "metadata": {},
   "source": [
    "# get top n genes in terms of MAD\n",
    "# note the actual feature selection may be different, since it does this selection\n",
    "# independently for each training set (subset of all data)\n",
    "rnaseq_df = du.load_expression_data(verbose=True)\n",
    "mad_genes_df = (\n",
    "    rnaseq_df.mad(axis=0)\n",
    "             .sort_values(ascending=False)\n",
    "             .reset_index()\n",
    ")\n",
    "mad_genes_df.columns = ['gene_id', 'mean_absolute_deviation']\n",
    "mad_genes = mad_genes_df.gene_id.astype(str).values\n",
    "print(mad_genes[:5])\n",
    "mad_genes_df.head()"
   ]
  },
  {
   "cell_type": "raw",
   "metadata": {},
   "source": [
    "# how many of nonzero coefficients are in top n MAD genes?\n",
    "n_mad_genes = 4000\n",
    "\n",
    "identifier_mad_coefs = []\n",
    "for identifier, coefs_list in au.generate_nonzero_coefficients(pancancer_dir):\n",
    "    for fold_no, coefs in enumerate(coefs_list):\n",
    "        mad_proportion = au.get_mad_proportion(coefs, mad_genes[:n_mad_genes])\n",
    "        identifier_mad_coefs.append((identifier, fold_no, n_mad_genes, mad_proportion))\n",
    "        \n",
    "# TODO: do we need a way to generate list of all features?\n",
    "mad_ids_df = pd.DataFrame(identifier_mad_coefs, columns=['identifier', 'fold', 'n_mad_genes', 'mad_proportion'])\n",
    "mad_ids_df.head(n=10)"
   ]
  },
  {
   "cell_type": "raw",
   "metadata": {},
   "source": [
    "mad_merge_df = (\n",
    "    mad_ids_df.merge(pancancer_comparison_df, left_on='identifier', right_on='identifier')\n",
    "              .drop(columns=['delta_mean', 'p_value', 'corr_pval', 'nlog10_p'])\n",
    ")\n",
    "sns.set({'figure.figsize': (8, 6)})\n",
    "sns.histplot(data=mad_merge_df, x='mad_proportion', hue='reject_null', kde=False)\n",
    "plt.xlabel('Proportion of selected/nonzero genes in top {} MAD genes'.format(n_mad_genes))\n",
    "plt.ylabel('Number of models (fold/cancer type/gene)')"
   ]
  },
  {
   "cell_type": "code",
   "execution_count": null,
   "metadata": {},
   "outputs": [],
   "source": [
    "# how stable are models between folds?\n",
    "#\n",
    "# we can quantify this using Jaccard similarity: treat coefficients as\n",
    "# binary vectors (either 0 or 1=nonzero), and evaluate overlap\n",
    "# between nonzero coefficients\n",
    "\n",
    "# jaccard_analysis_desc = 'single cancer'\n",
    "jaccard_analysis_desc = 'pancancer'\n",
    "jaccard_analysis_dir = (single_cancer_dir if jaccard_analysis_desc == 'single cancer'\n",
    "                         else pancancer_dir)\n",
    "\n",
    "per_fold_jaccard = []\n",
    "for identifier, coefs_list in au.generate_nonzero_coefficients(jaccard_analysis_dir):\n",
    "    # for each pairwise fold comparison, calculate jaccard index\n",
    "    num_folds = len(coefs_list)\n",
    "    for f1, f2 in it.combinations(range(num_folds), 2):\n",
    "        try:\n",
    "            nonzero_coefs_f1 = list(zip(*coefs_list[f1]))[0]\n",
    "            nonzero_coefs_f2 = list(zip(*coefs_list[f2]))[0]\n",
    "            inter_fold_jaccard, _, __ = au.compute_jaccard(nonzero_coefs_f1, nonzero_coefs_f2)\n",
    "        except IndexError:\n",
    "            # this can occur if all coefficients for a given fold were zero\n",
    "            # (i.e. model predicts the mean/fits only an intercept)\n",
    "            # if so, we call it a jaccard index of 0\n",
    "            inter_fold_jaccard = 0.0\n",
    "        per_fold_jaccard.append((identifier, f1, f2, inter_fold_jaccard))\n",
    "    \n",
    "intra_jaccard_df = pd.DataFrame(per_fold_jaccard, columns=['identifier', 'f1', 'f2', 'jaccard'])\n",
    "intra_jaccard_df.head(n=10)"
   ]
  },
  {
   "cell_type": "code",
   "execution_count": null,
   "metadata": {},
   "outputs": [],
   "source": [
    "intra_jaccard_merge_df = (\n",
    "    intra_jaccard_df.merge(pancancer_comparison_df, left_on='identifier', right_on='identifier')\n",
    "                    .drop(columns=['delta_mean', 'p_value', 'corr_pval', 'nlog10_p'])\n",
    ")\n",
    "sns.set({'figure.figsize': (8, 6)})\n",
    "sns.histplot(data=intra_jaccard_merge_df, x='jaccard', stat='count',\n",
    "             hue='reject_null', element='step', kde=False)\n",
    "plt.xlabel('Inter-fold Jaccard index')\n",
    "plt.ylabel('Bin count')\n",
    "plt.title('Jaccard similarity between folds of same model, {}'.format(jaccard_analysis_desc))"
   ]
  },
  {
   "cell_type": "code",
   "execution_count": null,
   "metadata": {},
   "outputs": [],
   "source": [
    "# how stable are models between cancer types for the same gene?\n",
    "genes_df = du.load_vogelstein()\n",
    "\n",
    "inter_cancer_jaccard_df = None\n",
    "for _, gene_series in genes_df.iterrows():\n",
    "    gene = gene_series.gene\n",
    "    per_gene_jaccard = {}\n",
    "    for identifier, coefs_list in au.generate_nonzero_coefficients_for_gene(\n",
    "                                                    jaccard_analysis_dir, gene):\n",
    "        per_gene_jaccard[identifier] = coefs_list\n",
    "    results_df = au.compare_inter_cancer_coefs(gene, per_gene_jaccard,\n",
    "                                               pancancer_comparison_df)\n",
    "    if inter_cancer_jaccard_df is None:\n",
    "        inter_cancer_jaccard_df = results_df\n",
    "    else:\n",
    "        inter_cancer_jaccard_df = pd.concat((inter_cancer_jaccard_df, results_df))\n",
    "            \n",
    "print(inter_cancer_jaccard_df.shape)\n",
    "inter_cancer_jaccard_df.head(n=10)    "
   ]
  },
  {
   "cell_type": "code",
   "execution_count": null,
   "metadata": {},
   "outputs": [],
   "source": [
    "sns.set({'figure.figsize': (8, 6)})\n",
    "sns.histplot(data=inter_cancer_jaccard_df, x='mean_jaccard', stat='count',\n",
    "             hue='reject_null', element='step', kde=False)\n",
    "plt.xlabel('Inter-cancer type, same gene Jaccard index')\n",
    "plt.ylabel('Bin count')\n",
    "plt.title('Same gene/different cancer types, {}'.format(jaccard_analysis_desc))"
   ]
  }
 ],
 "metadata": {
  "kernelspec": {
   "display_name": "Python [conda env:pancancer-evaluation]",
   "language": "python",
   "name": "conda-env-pancancer-evaluation-py"
  },
  "language_info": {
   "codemirror_mode": {
    "name": "ipython",
    "version": 3
   },
   "file_extension": ".py",
   "mimetype": "text/x-python",
   "name": "python",
   "nbconvert_exporter": "python",
   "pygments_lexer": "ipython3",
   "version": "3.6.9"
  }
 },
 "nbformat": 4,
 "nbformat_minor": 4
}
