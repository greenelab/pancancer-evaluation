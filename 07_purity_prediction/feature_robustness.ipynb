{
 "cells": [
  {
   "cell_type": "markdown",
   "metadata": {},
   "source": [
    "## Exploration of feature selection robustness\n",
    "\n",
    "We want to look at whether or not there are differences in how \"robust\" (i.e. stable/consistent between cross-validation folds and random seeds) the feature selection results for different selection methods are."
   ]
  },
  {
   "cell_type": "code",
   "execution_count": 1,
   "metadata": {},
   "outputs": [],
   "source": [
    "import os\n",
    "import sys\n",
    "\n",
    "import numpy as np\n",
    "import pandas as pd\n",
    "import matplotlib.pyplot as plt\n",
    "import seaborn as sns\n",
    "\n",
    "import pancancer_evaluation.config as cfg\n",
    "import pancancer_evaluation.utilities.analysis_utilities as au\n",
    "\n",
    "%load_ext autoreload\n",
    "%autoreload 2"
   ]
  },
  {
   "cell_type": "markdown",
   "metadata": {},
   "source": [
    "### Load selected coefficients"
   ]
  },
  {
   "cell_type": "code",
   "execution_count": 2,
   "metadata": {},
   "outputs": [],
   "source": [
    "# for this analysis we'll just look at the \"all other cancers\" results\n",
    "pancancer_only_dir = os.path.join(\n",
    "    'results', 'purity_binary_median', 'all_other_cancers'\n",
    ")"
   ]
  },
  {
   "cell_type": "code",
   "execution_count": 3,
   "metadata": {},
   "outputs": [
    {
     "name": "stdout",
     "output_type": "stream",
     "text": [
      "1320\n"
     ]
    }
   ],
   "source": [
    "all_coefs = []\n",
    "for coefs_info, coefs_list in au.generate_coefficients_fs_purity(\n",
    "        pancancer_only_dir, cfg.fs_methods, nonzero_only=False):\n",
    "    for fold_no, coefs in enumerate(coefs_list):\n",
    "        fold_info = coefs_info + [fold_no]\n",
    "        all_coefs.append([fold_info, coefs])\n",
    "        \n",
    "print(len(all_coefs))"
   ]
  },
  {
   "cell_type": "code",
   "execution_count": 4,
   "metadata": {},
   "outputs": [
    {
     "name": "stdout",
     "output_type": "stream",
     "text": [
      "2\n",
      "['DLBC', 'mad', 1000, 1, 0] [('3512', -0.26612), ('714', -0.21247), ('712', -0.17399), ('7316', 0.17222), ('3133', -0.16511)]\n"
     ]
    }
   ],
   "source": [
    "print(len(all_coefs[0]))\n",
    "print(all_coefs[0][0], all_coefs[0][1][:5])"
   ]
  },
  {
   "cell_type": "markdown",
   "metadata": {},
   "source": [
    "### Get coefficient robustness info\n",
    "\n",
    "Here, we want to look at how frequently each feature is selected. If a feature is selected almost every time across cancer types and cross-validation folds we'll consider it \"robust\", and if it's selected comparatively few times we'll consider it \"not robust\".\n",
    "\n",
    "We'll just do this at the pan-cancer level for now -- not sure how best to summarize over individual cancer types."
   ]
  },
  {
   "cell_type": "code",
   "execution_count": 5,
   "metadata": {},
   "outputs": [
    {
     "name": "stdout",
     "output_type": "stream",
     "text": [
      "['mad_1000', 'median_f_test_250', 'random_250', 'pancan_f_test_250', 'mad_250']\n"
     ]
    }
   ],
   "source": [
    "# get pan-cancer feature selection frequency\n",
    "# NOTE this is how frequently the feature was selected by\n",
    "# the feature selection method, NOT how often it was actually\n",
    "# used by the elastic net classifier\n",
    "fs_method_coefs = {}\n",
    "fs_method_denoms = {}\n",
    "for coefs_info in all_coefs:\n",
    "    identifier = '_'.join(\n",
    "        [str(s) for s in coefs_info[0][1:3]]\n",
    "    )\n",
    "    coefs = coefs_info[1]\n",
    "    fs_method_coefs[identifier] = (\n",
    "        fs_method_coefs.get(identifier, {})\n",
    "    )\n",
    "    fs_method_denoms[identifier] = (\n",
    "        fs_method_denoms.get(identifier, 0) + 1\n",
    "    )\n",
    "    for gene_coef in coefs:\n",
    "        gene, coef = gene_coef\n",
    "        # skip non-gene covariates\n",
    "        if not gene.isdigit(): continue\n",
    "        fs_method_coefs[identifier][gene] = (\n",
    "            fs_method_coefs[identifier].get(gene, 0) + 1\n",
    "        )\n",
    "        \n",
    "print(list(fs_method_coefs.keys()))"
   ]
  },
  {
   "cell_type": "code",
   "execution_count": 6,
   "metadata": {},
   "outputs": [
    {
     "name": "stdout",
     "output_type": "stream",
     "text": [
      "['56833', '3512', '187', '23306', '3561']\n",
      "(6628,)\n"
     ]
    }
   ],
   "source": [
    "print(list(fs_method_coefs['random_250'].keys())[:5])\n",
    "print(np.unique(list(fs_method_coefs['random_250'].keys())).shape)"
   ]
  },
  {
   "cell_type": "code",
   "execution_count": 7,
   "metadata": {},
   "outputs": [
    {
     "name": "stdout",
     "output_type": "stream",
     "text": [
      "{'mad_1000': 264, 'median_f_test_250': 264, 'random_250': 264, 'pancan_f_test_250': 264, 'mad_250': 264}\n"
     ]
    }
   ],
   "source": [
    "print(fs_method_denoms)"
   ]
  },
  {
   "cell_type": "code",
   "execution_count": 8,
   "metadata": {},
   "outputs": [
    {
     "data": {
      "text/plain": [
       "16"
      ]
     },
     "metadata": {},
     "output_type": "display_data"
    },
    {
     "data": {
      "text/plain": [
       "264"
      ]
     },
     "metadata": {},
     "output_type": "display_data"
    }
   ],
   "source": [
    "display(fs_method_coefs['random_250']['10437'],\n",
    "        fs_method_denoms['random_250'])"
   ]
  },
  {
   "cell_type": "code",
   "execution_count": 9,
   "metadata": {},
   "outputs": [
    {
     "name": "stdout",
     "output_type": "stream",
     "text": [
      "(8655, 5)\n"
     ]
    },
    {
     "data": {
      "text/html": [
       "<div>\n",
       "<style scoped>\n",
       "    .dataframe tbody tr th:only-of-type {\n",
       "        vertical-align: middle;\n",
       "    }\n",
       "\n",
       "    .dataframe tbody tr th {\n",
       "        vertical-align: top;\n",
       "    }\n",
       "\n",
       "    .dataframe thead th {\n",
       "        text-align: right;\n",
       "    }\n",
       "</style>\n",
       "<table border=\"1\" class=\"dataframe\">\n",
       "  <thead>\n",
       "    <tr style=\"text-align: right;\">\n",
       "      <th></th>\n",
       "      <th>gene</th>\n",
       "      <th>fs_method</th>\n",
       "      <th>selected_count</th>\n",
       "      <th>denom</th>\n",
       "      <th>selected_prop</th>\n",
       "    </tr>\n",
       "  </thead>\n",
       "  <tbody>\n",
       "    <tr>\n",
       "      <th>0</th>\n",
       "      <td>3512</td>\n",
       "      <td>mad_1000</td>\n",
       "      <td>264.0</td>\n",
       "      <td>264</td>\n",
       "      <td>1.0</td>\n",
       "    </tr>\n",
       "    <tr>\n",
       "      <th>1</th>\n",
       "      <td>714</td>\n",
       "      <td>mad_1000</td>\n",
       "      <td>264.0</td>\n",
       "      <td>264</td>\n",
       "      <td>1.0</td>\n",
       "    </tr>\n",
       "    <tr>\n",
       "      <th>2</th>\n",
       "      <td>712</td>\n",
       "      <td>mad_1000</td>\n",
       "      <td>264.0</td>\n",
       "      <td>264</td>\n",
       "      <td>1.0</td>\n",
       "    </tr>\n",
       "    <tr>\n",
       "      <th>3</th>\n",
       "      <td>7316</td>\n",
       "      <td>mad_1000</td>\n",
       "      <td>264.0</td>\n",
       "      <td>264</td>\n",
       "      <td>1.0</td>\n",
       "    </tr>\n",
       "    <tr>\n",
       "      <th>4</th>\n",
       "      <td>3133</td>\n",
       "      <td>mad_1000</td>\n",
       "      <td>264.0</td>\n",
       "      <td>264</td>\n",
       "      <td>1.0</td>\n",
       "    </tr>\n",
       "  </tbody>\n",
       "</table>\n",
       "</div>"
      ],
      "text/plain": [
       "   gene fs_method  selected_count  denom  selected_prop\n",
       "0  3512  mad_1000           264.0    264            1.0\n",
       "1   714  mad_1000           264.0    264            1.0\n",
       "2   712  mad_1000           264.0    264            1.0\n",
       "3  7316  mad_1000           264.0    264            1.0\n",
       "4  3133  mad_1000           264.0    264            1.0"
      ]
     },
     "execution_count": 9,
     "metadata": {},
     "output_type": "execute_result"
    }
   ],
   "source": [
    "coefs_df = (\n",
    "    pd.DataFrame(fs_method_coefs)\n",
    "      .reset_index()\n",
    "      .melt(id_vars='index', value_vars=fs_method_coefs.keys())\n",
    "      .rename(columns={\n",
    "          'index': 'gene',\n",
    "          'variable': 'fs_method',\n",
    "          'value': 'selected_count'\n",
    "      })\n",
    "      .dropna(subset=['selected_count'])\n",
    ")\n",
    "coefs_df['denom'] = coefs_df.fs_method.map(fs_method_denoms)\n",
    "coefs_df['selected_prop'] = coefs_df.selected_count / coefs_df.denom\n",
    "\n",
    "print(coefs_df.shape)\n",
    "coefs_df.head()"
   ]
  },
  {
   "cell_type": "code",
   "execution_count": 10,
   "metadata": {},
   "outputs": [
    {
     "data": {
      "text/html": [
       "<div>\n",
       "<style scoped>\n",
       "    .dataframe tbody tr th:only-of-type {\n",
       "        vertical-align: middle;\n",
       "    }\n",
       "\n",
       "    .dataframe tbody tr th {\n",
       "        vertical-align: top;\n",
       "    }\n",
       "\n",
       "    .dataframe thead th {\n",
       "        text-align: right;\n",
       "    }\n",
       "</style>\n",
       "<table border=\"1\" class=\"dataframe\">\n",
       "  <thead>\n",
       "    <tr style=\"text-align: right;\">\n",
       "      <th></th>\n",
       "      <th>gene</th>\n",
       "    </tr>\n",
       "    <tr>\n",
       "      <th>fs_method</th>\n",
       "      <th></th>\n",
       "    </tr>\n",
       "  </thead>\n",
       "  <tbody>\n",
       "    <tr>\n",
       "      <th>mad_1000</th>\n",
       "      <td>1069</td>\n",
       "    </tr>\n",
       "    <tr>\n",
       "      <th>mad_250</th>\n",
       "      <td>277</td>\n",
       "    </tr>\n",
       "    <tr>\n",
       "      <th>median_f_test_250</th>\n",
       "      <td>300</td>\n",
       "    </tr>\n",
       "    <tr>\n",
       "      <th>pancan_f_test_250</th>\n",
       "      <td>381</td>\n",
       "    </tr>\n",
       "    <tr>\n",
       "      <th>random_250</th>\n",
       "      <td>6628</td>\n",
       "    </tr>\n",
       "  </tbody>\n",
       "</table>\n",
       "</div>"
      ],
      "text/plain": [
       "                   gene\n",
       "fs_method              \n",
       "mad_1000           1069\n",
       "mad_250             277\n",
       "median_f_test_250   300\n",
       "pancan_f_test_250   381\n",
       "random_250         6628"
      ]
     },
     "execution_count": 10,
     "metadata": {},
     "output_type": "execute_result"
    }
   ],
   "source": [
    "# unique genes selected by each feature selection method\n",
    "# across all 264 CV iterations\n",
    "coefs_df.groupby('fs_method').count().loc[:, ['gene']]"
   ]
  },
  {
   "cell_type": "code",
   "execution_count": 11,
   "metadata": {},
   "outputs": [
    {
     "data": {
      "text/plain": [
       "Text(0, 0.5, 'Number of features')"
      ]
     },
     "execution_count": 11,
     "metadata": {},
     "output_type": "execute_result"
    },
    {
     "data": {
      "image/png": "[encoded data removed]",
      "text/plain": [
       "<Figure size 576x432 with 1 Axes>"
      ]
     },
     "metadata": {},
     "output_type": "display_data"
    }
   ],
   "source": [
    "sns.set({'figure.figsize': (8, 6)})\n",
    "\n",
    "sns.histplot(coefs_df, x='selected_prop', hue='fs_method',\n",
    "             hue_order=np.sort(coefs_df.fs_method.unique()),\n",
    "             bins=20)\n",
    "plt.title('Selection frequency, by feature selection method')\n",
    "plt.xlabel('Proportion of times feature was selected')\n",
    "plt.ylabel('Number of features')"
   ]
  },
  {
   "cell_type": "code",
   "execution_count": 12,
   "metadata": {},
   "outputs": [
    {
     "data": {
      "text/plain": [
       "Text(0, 0.5, 'Number of features')"
      ]
     },
     "execution_count": 12,
     "metadata": {},
     "output_type": "execute_result"
    },
    {
     "data": {
      "image/png": "[encoded data removed]",
      "text/plain": [
       "<Figure size 576x432 with 1 Axes>"
      ]
     },
     "metadata": {},
     "output_type": "display_data"
    }
   ],
   "source": [
    "sns.set({'figure.figsize': (8, 6)})\n",
    "\n",
    "sns.histplot(coefs_df[~(coefs_df.fs_method == 'random_250')],\n",
    "             x='selected_prop', hue='fs_method',\n",
    "             hue_order=np.sort(coefs_df.fs_method.unique())[:-1],\n",
    "             bins=20)\n",
    "plt.title('Selection frequency, by feature selection method')\n",
    "plt.xlabel('Proportion of times feature was selected')\n",
    "plt.ylabel('Number of features')"
   ]
  },
  {
   "cell_type": "markdown",
   "metadata": {},
   "source": [
    "So here, we can see that the random feature selection is the least \"robust\" (most unique genes selected), which makes sense since it selects a new random set of genes per CV fold.\n",
    "\n",
    "The other methods are much more robust (fewer unique genes selected), which makes sense since they are dependent on the data which shouldn't change that much between CV folds in the pan-cancer case. However, we can also see that better robustness doesn't necessarily correspond to better performance: `mad_250` is the most robust in terms of consistency between folds, but it performs worse in terms of AUPR/AUROC than the f-test methods. "
   ]
  }
 ],
 "metadata": {
  "kernelspec": {
   "display_name": "pc-eval",
   "language": "python",
   "name": "pc-eval"
  },
  "language_info": {
   "codemirror_mode": {
    "name": "ipython",
    "version": 3
   },
   "file_extension": ".py",
   "mimetype": "text/x-python",
   "name": "python",
   "nbconvert_exporter": "python",
   "pygments_lexer": "ipython3",
   "version": "3.8.13"
  }
 },
 "nbformat": 4,
 "nbformat_minor": 4
}
