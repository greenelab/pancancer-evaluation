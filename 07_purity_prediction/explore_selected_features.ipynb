{
 "cells": [
  {
   "cell_type": "markdown",
   "metadata": {},
   "source": [
    "## Exploration of selected features"
   ]
  },
  {
   "cell_type": "code",
   "execution_count": 1,
   "metadata": {},
   "outputs": [],
   "source": [
    "import os\n",
    "import sys\n",
    "\n",
    "import numpy as np\n",
    "import pandas as pd\n",
    "import matplotlib.pyplot as plt\n",
    "import seaborn as sns\n",
    "\n",
    "import pancancer_evaluation.config as cfg\n",
    "import pancancer_evaluation.utilities.analysis_utilities as au\n",
    "\n",
    "%load_ext autoreload\n",
    "%autoreload 2"
   ]
  },
  {
   "cell_type": "markdown",
   "metadata": {},
   "source": [
    "### Load selected coefficients"
   ]
  },
  {
   "cell_type": "code",
   "execution_count": 2,
   "metadata": {},
   "outputs": [],
   "source": [
    "# start with just pancancer only\n",
    "pancancer_only_dir = os.path.join(\n",
    "    'results', 'purity_binary_median', 'all_other_cancers'\n",
    ")"
   ]
  },
  {
   "cell_type": "code",
   "execution_count": 3,
   "metadata": {},
   "outputs": [
    {
     "name": "stdout",
     "output_type": "stream",
     "text": [
      "1320\n"
     ]
    }
   ],
   "source": [
    "all_coefs = []\n",
    "for coefs_info, coefs_list in au.generate_nonzero_coefficients_fs_purity(\n",
    "        pancancer_only_dir, cfg.fs_methods):\n",
    "    for fold_no, coefs in enumerate(coefs_list):\n",
    "        fold_info = coefs_info + [fold_no]\n",
    "        all_coefs.append([fold_info, coefs])\n",
    "        \n",
    "print(len(all_coefs))"
   ]
  },
  {
   "cell_type": "code",
   "execution_count": 4,
   "metadata": {},
   "outputs": [
    {
     "name": "stdout",
     "output_type": "stream",
     "text": [
      "2\n",
      "['DLBC', 'mad', 1000, 1, 0] [('3512', -0.26612), ('714', -0.21247), ('712', -0.17399), ('7316', 0.17222), ('3133', -0.16511)]\n"
     ]
    }
   ],
   "source": [
    "print(len(all_coefs[0]))\n",
    "print(all_coefs[0][0], all_coefs[0][1][:5])"
   ]
  }
 ],
 "metadata": {
  "kernelspec": {
   "display_name": "pc-eval",
   "language": "python",
   "name": "pc-eval"
  },
  "language_info": {
   "codemirror_mode": {
    "name": "ipython",
    "version": 3
   },
   "file_extension": ".py",
   "mimetype": "text/x-python",
   "name": "python",
   "nbconvert_exporter": "python",
   "pygments_lexer": "ipython3",
   "version": "3.8.13"
  }
 },
 "nbformat": 4,
 "nbformat_minor": 4
}
