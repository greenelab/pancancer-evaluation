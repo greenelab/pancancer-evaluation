{
 "cells": [
  {
   "cell_type": "markdown",
   "metadata": {},
   "source": [
    "## Download tumor purity data\n",
    "\n",
    "The TCGA PanCanAtlas used [ABSOLUTE](https://doi.org/10.1038/nbt.2203) to calculate tumor purity and cell ploidy for samples with WES data. We'll use tumor purity values as a target variable/label for some of our multi-omics experiments."
   ]
  },
  {
   "cell_type": "code",
   "execution_count": 4,
   "metadata": {},
   "outputs": [],
   "source": [
    "import os\n",
    "import pandas as pd\n",
    "from urllib.request import urlretrieve\n",
    "\n",
    "import pancancer_evaluation.config as cfg"
   ]
  },
  {
   "cell_type": "code",
   "execution_count": 5,
   "metadata": {},
   "outputs": [],
   "source": [
    "# from manifest:\n",
    "# https://gdc.cancer.gov/files/public/file/PanCan-General_Open_GDC-Manifest_2.txt\n",
    "# (retrieved on August 1, 2022)\n",
    "purity_id = '4f277128-f793-4354-a13d-30cc7fe9f6b5'\n",
    "purity_filename = 'TCGA_mastercalls.abs_tables_JSedit.fixed.txt'\n",
    "purity_md5 = '8ea2ca92c8ae58350538999dfa1174da'"
   ]
  },
  {
   "cell_type": "code",
   "execution_count": 7,
   "metadata": {},
   "outputs": [],
   "source": [
    "purity_filepath = os.path.join(cfg.data_dir, purity_filename)\n",
    "if not os.path.exists(cfg.data_dir):\n",
    "    os.makedirs(cfg.data_dir)"
   ]
  },
  {
   "cell_type": "code",
   "execution_count": 8,
   "metadata": {},
   "outputs": [],
   "source": [
    "url = 'http://api.gdc.cancer.gov/data/{}'.format(purity_id)\n",
    "    \n",
    "if not os.path.exists(purity_filepath):\n",
    "    urlretrieve(url, purity_filepath)\n",
    "else:\n",
    "    print('Downloaded data file already exists, skipping download')"
   ]
  },
  {
   "cell_type": "code",
   "execution_count": 9,
   "metadata": {},
   "outputs": [
    {
     "name": "stdout",
     "output_type": "stream",
     "text": [
      "8ea2ca92c8ae58350538999dfa1174da  /home/jake/research/pancancer-evaluation/data/TCGA_mastercalls.abs_tables_JSedit.fixed.txt\n"
     ]
    }
   ],
   "source": [
    "md5_sum = !md5sum $purity_filepath\n",
    "print(md5_sum[0])\n",
    "assert md5_sum[0].split(' ')[0] == purity_md5"
   ]
  }
 ],
 "metadata": {
  "kernelspec": {
   "display_name": "Python [conda env:pancancer-evaluation]",
   "language": "python",
   "name": "conda-env-pancancer-evaluation-py"
  },
  "language_info": {
   "codemirror_mode": {
    "name": "ipython",
    "version": 3
   },
   "file_extension": ".py",
   "mimetype": "text/x-python",
   "name": "python",
   "nbconvert_exporter": "python",
   "pygments_lexer": "ipython3",
   "version": "3.6.9"
  }
 },
 "nbformat": 4,
 "nbformat_minor": 4
}
