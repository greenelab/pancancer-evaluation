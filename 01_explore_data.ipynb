{
 "cells": [
  {
   "cell_type": "code",
   "execution_count": 3,
   "metadata": {},
   "outputs": [],
   "source": [
    "# How many genes pass our filters? And other assorted questions\n",
    "import sys\n",
    "from pathlib import Path\n",
    "\n",
    "import numpy as np\n",
    "import pandas as pd\n",
    "import matplotlib.pyplot as plt\n",
    "import seaborn as sns\n",
    "\n",
    "import pancancer_evaluation.config as cfg\n",
    "import pancancer_evaluation.utilities.data_utilities as du"
   ]
  },
  {
   "cell_type": "code",
   "execution_count": 4,
   "metadata": {},
   "outputs": [
    {
     "name": "stderr",
     "output_type": "stream",
     "text": [
      "Loading gene label data...\n",
      "Loading pan-cancer data from cached pickle file...\n",
      "Loading gene expression data...\n"
     ]
    }
   ],
   "source": [
    "# load relevant data\n",
    "# TODO: this needs to generalize to more than just the top 50 genes\n",
    "# can also probably decouple loading genes and loading mutation data\n",
    "print('Loading gene label data...', file=sys.stderr)\n",
    "genes_df = du.load_top_50()\n",
    "pancancer_data = du.load_pancancer_data(verbose=True)\n",
    "(sample_freeze_df,\n",
    " mutation_df,\n",
    " copy_loss_df,\n",
    " copy_gain_df,\n",
    " mut_burden_df) = pancancer_data\n",
    "rnaseq_df = du.load_expression_data(verbose=True)"
   ]
  },
  {
   "cell_type": "code",
   "execution_count": 5,
   "metadata": {},
   "outputs": [
    {
     "name": "stdout",
     "output_type": "stream",
     "text": [
      "(11060, 16148)\n"
     ]
    },
    {
     "data": {
      "text/html": [
       "<div>\n",
       "<style scoped>\n",
       "    .dataframe tbody tr th:only-of-type {\n",
       "        vertical-align: middle;\n",
       "    }\n",
       "\n",
       "    .dataframe tbody tr th {\n",
       "        vertical-align: top;\n",
       "    }\n",
       "\n",
       "    .dataframe thead th {\n",
       "        text-align: right;\n",
       "    }\n",
       "</style>\n",
       "<table border=\"1\" class=\"dataframe\">\n",
       "  <thead>\n",
       "    <tr style=\"text-align: right;\">\n",
       "      <th></th>\n",
       "      <th>1</th>\n",
       "      <th>10</th>\n",
       "      <th>100</th>\n",
       "      <th>1000</th>\n",
       "      <th>10000</th>\n",
       "    </tr>\n",
       "    <tr>\n",
       "      <th>sample_id</th>\n",
       "      <th></th>\n",
       "      <th></th>\n",
       "      <th></th>\n",
       "      <th></th>\n",
       "      <th></th>\n",
       "    </tr>\n",
       "  </thead>\n",
       "  <tbody>\n",
       "    <tr>\n",
       "      <th>TCGA-02-0047-01</th>\n",
       "      <td>125.0</td>\n",
       "      <td>10.40</td>\n",
       "      <td>136.0</td>\n",
       "      <td>2300.0</td>\n",
       "      <td>1300.0</td>\n",
       "    </tr>\n",
       "    <tr>\n",
       "      <th>TCGA-02-0055-01</th>\n",
       "      <td>392.0</td>\n",
       "      <td>1.12</td>\n",
       "      <td>222.0</td>\n",
       "      <td>1820.0</td>\n",
       "      <td>903.0</td>\n",
       "    </tr>\n",
       "    <tr>\n",
       "      <th>TCGA-02-2483-01</th>\n",
       "      <td>272.0</td>\n",
       "      <td>4.64</td>\n",
       "      <td>256.0</td>\n",
       "      <td>2890.0</td>\n",
       "      <td>1320.0</td>\n",
       "    </tr>\n",
       "    <tr>\n",
       "      <th>TCGA-02-2485-01</th>\n",
       "      <td>83.9</td>\n",
       "      <td>20.00</td>\n",
       "      <td>129.0</td>\n",
       "      <td>6970.0</td>\n",
       "      <td>10100.0</td>\n",
       "    </tr>\n",
       "    <tr>\n",
       "      <th>TCGA-02-2486-01</th>\n",
       "      <td>108.0</td>\n",
       "      <td>3.66</td>\n",
       "      <td>205.0</td>\n",
       "      <td>2250.0</td>\n",
       "      <td>873.0</td>\n",
       "    </tr>\n",
       "  </tbody>\n",
       "</table>\n",
       "</div>"
      ],
      "text/plain": [
       "                     1     10    100    1000    10000\n",
       "sample_id                                            \n",
       "TCGA-02-0047-01  125.0  10.40  136.0  2300.0   1300.0\n",
       "TCGA-02-0055-01  392.0   1.12  222.0  1820.0    903.0\n",
       "TCGA-02-2483-01  272.0   4.64  256.0  2890.0   1320.0\n",
       "TCGA-02-2485-01   83.9  20.00  129.0  6970.0  10100.0\n",
       "TCGA-02-2486-01  108.0   3.66  205.0  2250.0    873.0"
      ]
     },
     "execution_count": 5,
     "metadata": {},
     "output_type": "execute_result"
    }
   ],
   "source": [
    "print(rnaseq_df.shape)\n",
    "rnaseq_df.iloc[:5, :5]"
   ]
  },
  {
   "cell_type": "code",
   "execution_count": 6,
   "metadata": {},
   "outputs": [
    {
     "name": "stdout",
     "output_type": "stream",
     "text": [
      "Genes with mutation information: 19660\n"
     ]
    }
   ],
   "source": [
    "mutation_genes = set(mutation_df.columns)\n",
    "copy_loss_genes = set(copy_loss_df.columns)\n",
    "copy_gain_genes = set(copy_gain_df.columns)\n",
    "overlap_genes = mutation_genes.intersection(copy_loss_genes.intersection(copy_gain_genes))\n",
    "print('Genes with mutation information: {}'.format(len(overlap_genes)))"
   ]
  },
  {
   "cell_type": "code",
   "execution_count": 8,
   "metadata": {},
   "outputs": [
    {
     "name": "stdout",
     "output_type": "stream",
     "text": [
      "Total cancer type/mutation combinations: 648780\n"
     ]
    },
    {
     "data": {
      "text/html": [
       "<div>\n",
       "<style scoped>\n",
       "    .dataframe tbody tr th:only-of-type {\n",
       "        vertical-align: middle;\n",
       "    }\n",
       "\n",
       "    .dataframe tbody tr th {\n",
       "        vertical-align: top;\n",
       "    }\n",
       "\n",
       "    .dataframe thead th {\n",
       "        text-align: right;\n",
       "    }\n",
       "</style>\n",
       "<table border=\"1\" class=\"dataframe\">\n",
       "  <thead>\n",
       "    <tr style=\"text-align: right;\">\n",
       "      <th></th>\n",
       "      <th>cancertype</th>\n",
       "      <th>n =</th>\n",
       "    </tr>\n",
       "  </thead>\n",
       "  <tbody>\n",
       "    <tr>\n",
       "      <th>0</th>\n",
       "      <td>BRCA</td>\n",
       "      <td>1218</td>\n",
       "    </tr>\n",
       "    <tr>\n",
       "      <th>1</th>\n",
       "      <td>KIRC</td>\n",
       "      <td>606</td>\n",
       "    </tr>\n",
       "    <tr>\n",
       "      <th>2</th>\n",
       "      <td>LUAD</td>\n",
       "      <td>576</td>\n",
       "    </tr>\n",
       "    <tr>\n",
       "      <th>3</th>\n",
       "      <td>THCA</td>\n",
       "      <td>572</td>\n",
       "    </tr>\n",
       "    <tr>\n",
       "      <th>4</th>\n",
       "      <td>UCEC</td>\n",
       "      <td>567</td>\n",
       "    </tr>\n",
       "  </tbody>\n",
       "</table>\n",
       "</div>"
      ],
      "text/plain": [
       "  cancertype   n =\n",
       "0       BRCA  1218\n",
       "1       KIRC   606\n",
       "2       LUAD   576\n",
       "3       THCA   572\n",
       "4       UCEC   567"
      ]
     },
     "execution_count": 8,
     "metadata": {},
     "output_type": "execute_result"
    }
   ],
   "source": [
    "cancer_types_df = pd.read_csv(\n",
    "    Path(cfg.data_dir, 'tcga_sample_counts.tsv').resolve(),\n",
    "    sep='\\t'\n",
    ")\n",
    "print('Total cancer type/mutation combinations: {}'.format(cancer_types_df.shape[0] * len(overlap_genes)))\n",
    "cancer_types_df.head()"
   ]
  },
  {
   "cell_type": "code",
   "execution_count": 9,
   "metadata": {},
   "outputs": [
    {
     "name": "stderr",
     "output_type": "stream",
     "text": [
      "500 done\n",
      "1000 done\n",
      "1500 done\n",
      "2000 done\n",
      "2500 done\n",
      "3000 done\n",
      "3500 done\n",
      "4000 done\n",
      "4500 done\n",
      "5000 done\n",
      "5500 done\n",
      "6000 done\n",
      "6500 done\n",
      "7000 done\n",
      "7500 done\n",
      "8000 done\n",
      "8500 done\n",
      "9000 done\n",
      "9500 done\n",
      "10000 done\n",
      "10500 done\n",
      "11000 done\n",
      "11500 done\n",
      "12000 done\n",
      "12500 done\n",
      "13000 done\n",
      "13500 done\n",
      "14000 done\n",
      "14500 done\n",
      "15000 done\n",
      "15500 done\n",
      "16000 done\n",
      "16500 done\n",
      "17000 done\n",
      "17500 done\n",
      "18000 done\n",
      "18500 done\n",
      "19000 done\n",
      "19500 done\n"
     ]
    },
    {
     "data": {
      "text/html": [
       "<div>\n",
       "<style scoped>\n",
       "    .dataframe tbody tr th:only-of-type {\n",
       "        vertical-align: middle;\n",
       "    }\n",
       "\n",
       "    .dataframe tbody tr th {\n",
       "        vertical-align: top;\n",
       "    }\n",
       "\n",
       "    .dataframe thead th {\n",
       "        text-align: right;\n",
       "    }\n",
       "</style>\n",
       "<table border=\"1\" class=\"dataframe\">\n",
       "  <thead>\n",
       "    <tr style=\"text-align: right;\">\n",
       "      <th></th>\n",
       "      <th>disease</th>\n",
       "      <th>gene</th>\n",
       "    </tr>\n",
       "  </thead>\n",
       "  <tbody>\n",
       "    <tr>\n",
       "      <th>0</th>\n",
       "      <td>UCEC</td>\n",
       "      <td>HPS3</td>\n",
       "    </tr>\n",
       "    <tr>\n",
       "      <th>0</th>\n",
       "      <td>COAD</td>\n",
       "      <td>NRXN2</td>\n",
       "    </tr>\n",
       "    <tr>\n",
       "      <th>1</th>\n",
       "      <td>SKCM</td>\n",
       "      <td>NRXN2</td>\n",
       "    </tr>\n",
       "    <tr>\n",
       "      <th>2</th>\n",
       "      <td>STAD</td>\n",
       "      <td>NRXN2</td>\n",
       "    </tr>\n",
       "    <tr>\n",
       "      <th>3</th>\n",
       "      <td>UCEC</td>\n",
       "      <td>NRXN2</td>\n",
       "    </tr>\n",
       "  </tbody>\n",
       "</table>\n",
       "</div>"
      ],
      "text/plain": [
       "  disease   gene\n",
       "0    UCEC   HPS3\n",
       "0    COAD  NRXN2\n",
       "1    SKCM  NRXN2\n",
       "2    STAD  NRXN2\n",
       "3    UCEC  NRXN2"
      ]
     },
     "execution_count": 9,
     "metadata": {},
     "output_type": "execute_result"
    }
   ],
   "source": [
    "def filter_cancer_types(gene, y_df, sample_freeze, mutation_burden):\n",
    "    # copies most code from process_y_matrix in pancancer_utilities.tcga_utilities\n",
    "    # \n",
    "    # note this is not including copy number variants, to do that we have to\n",
    "    # know oncogene/TSG status for every gene (need to figure out where to get\n",
    "    # this info)\n",
    "    y_df = pd.DataFrame(y_df)\n",
    "    y_df.columns = ['status']\n",
    "    y_df = (\n",
    "        y_df.merge(\n",
    "            sample_freeze, how='left', left_index=True, right_on='SAMPLE_BARCODE'\n",
    "        )\n",
    "        .set_index('SAMPLE_BARCODE')\n",
    "        .merge(mutation_burden, left_index=True, right_index=True)\n",
    "    )\n",
    "    disease_counts_df = pd.DataFrame(y_df.groupby('DISEASE').sum()['status'])\n",
    "    disease_proportion_df = disease_counts_df.divide(\n",
    "        y_df['DISEASE'].value_counts(sort=False).sort_index(), axis=0\n",
    "    )\n",
    "    filter_disease_df = (disease_counts_df > cfg.filter_count) & (disease_proportion_df > cfg.filter_prop)\n",
    "    filter_disease_df.columns = ['disease_included']\n",
    "    return filter_disease_df\n",
    "\n",
    "\n",
    "valid_combos_df = pd.DataFrame()\n",
    "counter = 0\n",
    "for gene in overlap_genes:\n",
    "    filter_df = filter_cancer_types(gene, mutation_df.loc[:, gene],\n",
    "                                    sample_freeze_df, mut_burden_df)\n",
    "    valid_df = (\n",
    "        filter_df.query('disease_included')\n",
    "        .drop(['disease_included'], axis='columns')\n",
    "        .reset_index()\n",
    "        .rename({'DISEASE': 'disease'}, axis='columns')\n",
    "    )\n",
    "    valid_df['gene'] = gene\n",
    "    if len(valid_df) > 0:\n",
    "        valid_combos_df = pd.concat((valid_combos_df, valid_df))\n",
    "    counter += 1\n",
    "    if counter % 500 == 0:\n",
    "        print('{} done'.format(counter), file=sys.stderr)\n",
    "        \n",
    "print('done.', file=sys.stderr)"
   ]
  },
  {
   "cell_type": "code",
   "execution_count": 12,
   "metadata": {},
   "outputs": [
    {
     "name": "stdout",
     "output_type": "stream",
     "text": [
      "13422 / 648780 valid mutation/cancer type combinations\n"
     ]
    },
    {
     "data": {
      "text/html": [
       "<div>\n",
       "<style scoped>\n",
       "    .dataframe tbody tr th:only-of-type {\n",
       "        vertical-align: middle;\n",
       "    }\n",
       "\n",
       "    .dataframe tbody tr th {\n",
       "        vertical-align: top;\n",
       "    }\n",
       "\n",
       "    .dataframe thead th {\n",
       "        text-align: right;\n",
       "    }\n",
       "</style>\n",
       "<table border=\"1\" class=\"dataframe\">\n",
       "  <thead>\n",
       "    <tr style=\"text-align: right;\">\n",
       "      <th></th>\n",
       "      <th>disease</th>\n",
       "      <th>gene</th>\n",
       "    </tr>\n",
       "  </thead>\n",
       "  <tbody>\n",
       "    <tr>\n",
       "      <th>0</th>\n",
       "      <td>UCEC</td>\n",
       "      <td>HPS3</td>\n",
       "    </tr>\n",
       "    <tr>\n",
       "      <th>0</th>\n",
       "      <td>COAD</td>\n",
       "      <td>NRXN2</td>\n",
       "    </tr>\n",
       "    <tr>\n",
       "      <th>1</th>\n",
       "      <td>SKCM</td>\n",
       "      <td>NRXN2</td>\n",
       "    </tr>\n",
       "    <tr>\n",
       "      <th>2</th>\n",
       "      <td>STAD</td>\n",
       "      <td>NRXN2</td>\n",
       "    </tr>\n",
       "    <tr>\n",
       "      <th>3</th>\n",
       "      <td>UCEC</td>\n",
       "      <td>NRXN2</td>\n",
       "    </tr>\n",
       "  </tbody>\n",
       "</table>\n",
       "</div>"
      ],
      "text/plain": [
       "  disease   gene\n",
       "0    UCEC   HPS3\n",
       "0    COAD  NRXN2\n",
       "1    SKCM  NRXN2\n",
       "2    STAD  NRXN2\n",
       "3    UCEC  NRXN2"
      ]
     },
     "execution_count": 12,
     "metadata": {},
     "output_type": "execute_result"
    }
   ],
   "source": [
    "print(len(valid_combos_df), '/', cancer_types_df.shape[0] * len(overlap_genes), 'valid mutation/cancer type combinations')\n",
    "valid_combos_df.head()"
   ]
  },
  {
   "cell_type": "code",
   "execution_count": 30,
   "metadata": {},
   "outputs": [
    {
     "name": "stdout",
     "output_type": "stream",
     "text": [
      "536 combos out of 1650 possibiliites\n",
      "50 genes have valid\n",
      "24 cancers have valid\n",
      "['BLCA' 'BRCA' 'CESC' 'COAD' 'ESCA' 'GBM' 'HNSC' 'KICH' 'KIRC' 'KIRP'\n",
      " 'LGG' 'LIHC' 'LUAD' 'LUSC' 'OV' 'PAAD' 'PRAD' 'READ' 'SARC' 'SKCM' 'STAD'\n",
      " 'THCA' 'UCEC' 'UCS']\n"
     ]
    }
   ],
   "source": [
    "top_genes_df = du.load_top_50()\n",
    "top_valid_df = valid_combos_df[valid_combos_df['gene'].isin(top_genes_df.gene)]\n",
    "print(len(top_valid_df), 'combos out of', 50 *33, 'possibiliites')\n",
    "unique_genes = np.unique(top_valid_df.gene)\n",
    "print(len(unique_genes), 'genes have valid')\n",
    "unique_cancers = np.unique(top_valid_df.disease)\n",
    "print(len(unique_cancers), 'cancers have valid combinations, out of ' '\n",
    "print(unique_cancers)"
   ]
  },
  {
   "cell_type": "code",
   "execution_count": null,
   "metadata": {},
   "outputs": [],
   "source": []
  }
 ],
 "metadata": {
  "kernelspec": {
   "display_name": "Python [conda env:pancancer-evaluation]",
   "language": "python",
   "name": "conda-env-pancancer-evaluation-py"
  },
  "language_info": {
   "codemirror_mode": {
    "name": "ipython",
    "version": 3
   },
   "file_extension": ".py",
   "mimetype": "text/x-python",
   "name": "python",
   "nbconvert_exporter": "python",
   "pygments_lexer": "ipython3",
   "version": "3.6.9"
  }
 },
 "nbformat": 4,
 "nbformat_minor": 4
}
