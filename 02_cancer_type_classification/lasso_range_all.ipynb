{
 "cells": [
  {
   "cell_type": "markdown",
   "id": "6fdd9bfd-2ffc-47f2-96e9-e7a9c02221a5",
   "metadata": {},
   "source": [
    "### LASSO parameter range experiments, summary across all genes"
   ]
  },
  {
   "cell_type": "code",
   "execution_count": 1,
   "id": "3d1d8c71-d646-441a-931b-11349d701ed2",
   "metadata": {},
   "outputs": [],
   "source": [
    "import os\n",
    "import itertools as it\n",
    "\n",
    "import numpy as np\n",
    "import pandas as pd\n",
    "import matplotlib.pyplot as plt\n",
    "from scipy.stats import pearsonr\n",
    "import seaborn as sns\n",
    "\n",
    "import pancancer_evaluation.config as cfg\n",
    "import pancancer_evaluation.utilities.data_utilities as du\n",
    "import pancancer_evaluation.utilities.analysis_utilities as au\n",
    "\n",
    "%load_ext autoreload\n",
    "%autoreload 2"
   ]
  },
  {
   "cell_type": "code",
   "execution_count": 2,
   "id": "8ecc9509-3356-45c8-ad0e-a8d605cfc6aa",
   "metadata": {
    "tags": [
     "parameters"
    ]
   },
   "outputs": [],
   "source": [
    "base_results_dir = os.path.join(\n",
    "    cfg.repo_root, '02_cancer_type_classification', 'results', 'lasso_range_valid'\n",
    ")\n",
    "\n",
    "training_dataset = 'all_other_cancers'\n",
    "results_dir = os.path.join(base_results_dir, training_dataset)\n",
    "\n",
    "metric = 'aupr'\n",
    "\n",
    "output_plots = True\n",
    "output_plots_dir = cfg.cancer_type_lasso_range_dir"
   ]
  },
  {
   "cell_type": "markdown",
   "id": "c0d2dc3e-a355-44eb-b856-3bcbb50f8e4e",
   "metadata": {},
   "source": [
    "### Get coefficient information for each lasso penalty"
   ]
  },
  {
   "cell_type": "code",
   "execution_count": 3,
   "id": "7ea04459-0ead-45e1-b50b-97ac49facd1c",
   "metadata": {},
   "outputs": [
    {
     "data": {
      "text/html": [
       "<div>\n",
       "<style scoped>\n",
       "    .dataframe tbody tr th:only-of-type {\n",
       "        vertical-align: middle;\n",
       "    }\n",
       "\n",
       "    .dataframe tbody tr th {\n",
       "        vertical-align: top;\n",
       "    }\n",
       "\n",
       "    .dataframe thead th {\n",
       "        text-align: right;\n",
       "    }\n",
       "</style>\n",
       "<table border=\"1\" class=\"dataframe\">\n",
       "  <thead>\n",
       "    <tr style=\"text-align: right;\">\n",
       "      <th></th>\n",
       "      <th>gene</th>\n",
       "      <th>cancer_type</th>\n",
       "      <th>lasso_param</th>\n",
       "      <th>seed</th>\n",
       "      <th>fold</th>\n",
       "      <th>nz_coefs</th>\n",
       "    </tr>\n",
       "  </thead>\n",
       "  <tbody>\n",
       "    <tr>\n",
       "      <th>0</th>\n",
       "      <td>TP53</td>\n",
       "      <td>UCEC</td>\n",
       "      <td>0.00025</td>\n",
       "      <td>42</td>\n",
       "      <td>0</td>\n",
       "      <td>6882</td>\n",
       "    </tr>\n",
       "    <tr>\n",
       "      <th>1</th>\n",
       "      <td>TP53</td>\n",
       "      <td>UCEC</td>\n",
       "      <td>0.00025</td>\n",
       "      <td>42</td>\n",
       "      <td>1</td>\n",
       "      <td>6827</td>\n",
       "    </tr>\n",
       "    <tr>\n",
       "      <th>2</th>\n",
       "      <td>TP53</td>\n",
       "      <td>UCEC</td>\n",
       "      <td>0.00025</td>\n",
       "      <td>42</td>\n",
       "      <td>2</td>\n",
       "      <td>6923</td>\n",
       "    </tr>\n",
       "    <tr>\n",
       "      <th>3</th>\n",
       "      <td>TP53</td>\n",
       "      <td>UCEC</td>\n",
       "      <td>0.00025</td>\n",
       "      <td>42</td>\n",
       "      <td>3</td>\n",
       "      <td>6898</td>\n",
       "    </tr>\n",
       "    <tr>\n",
       "      <th>4</th>\n",
       "      <td>TP53</td>\n",
       "      <td>LUAD</td>\n",
       "      <td>0.0005</td>\n",
       "      <td>1</td>\n",
       "      <td>0</td>\n",
       "      <td>6143</td>\n",
       "    </tr>\n",
       "  </tbody>\n",
       "</table>\n",
       "</div>"
      ],
      "text/plain": [
       "   gene cancer_type lasso_param  seed  fold  nz_coefs\n",
       "0  TP53        UCEC     0.00025    42     0      6882\n",
       "1  TP53        UCEC     0.00025    42     1      6827\n",
       "2  TP53        UCEC     0.00025    42     2      6923\n",
       "3  TP53        UCEC     0.00025    42     3      6898\n",
       "4  TP53        LUAD      0.0005     1     0      6143"
      ]
     },
     "execution_count": 3,
     "metadata": {},
     "output_type": "execute_result"
    }
   ],
   "source": [
    "nz_coefs_df = []\n",
    "\n",
    "# get pancancer coefs info for now\n",
    "for coef_info in au.generate_nonzero_coefficients_lasso_range(results_dir):\n",
    "    (gene,\n",
    "     cancer_type,\n",
    "     seed,\n",
    "     lasso_param,\n",
    "     coefs_list) = coef_info\n",
    "    for fold_no, coefs in enumerate(coefs_list):\n",
    "        nz_coefs_df.append(\n",
    "            [gene, cancer_type, lasso_param, seed, fold_no, len(coefs)]\n",
    "        )\n",
    "        \n",
    "nz_coefs_df = pd.DataFrame(\n",
    "    nz_coefs_df,\n",
    "    columns=['gene', 'cancer_type', 'lasso_param', 'seed', 'fold', 'nz_coefs']\n",
    ")\n",
    "nz_coefs_df.head()"
   ]
  },
  {
   "cell_type": "markdown",
   "id": "f3ec0bc5-aa38-4519-8fa3-0cccfb6d4fc3",
   "metadata": {},
   "source": [
    "### Get performance information for each lasso penalty"
   ]
  },
  {
   "cell_type": "code",
   "execution_count": 4,
   "id": "221dcd36-82d4-4d54-a043-5203bc3d587c",
   "metadata": {},
   "outputs": [
    {
     "data": {
      "text/html": [
       "<div>\n",
       "<style scoped>\n",
       "    .dataframe tbody tr th:only-of-type {\n",
       "        vertical-align: middle;\n",
       "    }\n",
       "\n",
       "    .dataframe tbody tr th {\n",
       "        vertical-align: top;\n",
       "    }\n",
       "\n",
       "    .dataframe thead th {\n",
       "        text-align: right;\n",
       "    }\n",
       "</style>\n",
       "<table border=\"1\" class=\"dataframe\">\n",
       "  <thead>\n",
       "    <tr style=\"text-align: right;\">\n",
       "      <th></th>\n",
       "      <th>auroc</th>\n",
       "      <th>aupr</th>\n",
       "      <th>gene</th>\n",
       "      <th>holdout_cancer_type</th>\n",
       "      <th>signal</th>\n",
       "      <th>seed</th>\n",
       "      <th>data_type</th>\n",
       "      <th>fold</th>\n",
       "      <th>experiment</th>\n",
       "      <th>lasso_param</th>\n",
       "    </tr>\n",
       "  </thead>\n",
       "  <tbody>\n",
       "    <tr>\n",
       "      <th>0</th>\n",
       "      <td>0.661710</td>\n",
       "      <td>0.63834</td>\n",
       "      <td>TP53</td>\n",
       "      <td>OV</td>\n",
       "      <td>signal</td>\n",
       "      <td>42</td>\n",
       "      <td>train</td>\n",
       "      <td>0</td>\n",
       "      <td>all_other_cancers</td>\n",
       "      <td>0.1</td>\n",
       "    </tr>\n",
       "    <tr>\n",
       "      <th>1</th>\n",
       "      <td>0.089431</td>\n",
       "      <td>0.84457</td>\n",
       "      <td>TP53</td>\n",
       "      <td>OV</td>\n",
       "      <td>signal</td>\n",
       "      <td>42</td>\n",
       "      <td>test</td>\n",
       "      <td>0</td>\n",
       "      <td>all_other_cancers</td>\n",
       "      <td>0.1</td>\n",
       "    </tr>\n",
       "    <tr>\n",
       "      <th>2</th>\n",
       "      <td>0.668130</td>\n",
       "      <td>0.60945</td>\n",
       "      <td>TP53</td>\n",
       "      <td>OV</td>\n",
       "      <td>signal</td>\n",
       "      <td>42</td>\n",
       "      <td>cv</td>\n",
       "      <td>0</td>\n",
       "      <td>all_other_cancers</td>\n",
       "      <td>0.1</td>\n",
       "    </tr>\n",
       "    <tr>\n",
       "      <th>3</th>\n",
       "      <td>0.685860</td>\n",
       "      <td>0.62514</td>\n",
       "      <td>TP53</td>\n",
       "      <td>OV</td>\n",
       "      <td>signal</td>\n",
       "      <td>42</td>\n",
       "      <td>train</td>\n",
       "      <td>1</td>\n",
       "      <td>all_other_cancers</td>\n",
       "      <td>0.1</td>\n",
       "    </tr>\n",
       "    <tr>\n",
       "      <th>4</th>\n",
       "      <td>0.666670</td>\n",
       "      <td>0.97639</td>\n",
       "      <td>TP53</td>\n",
       "      <td>OV</td>\n",
       "      <td>signal</td>\n",
       "      <td>42</td>\n",
       "      <td>test</td>\n",
       "      <td>1</td>\n",
       "      <td>all_other_cancers</td>\n",
       "      <td>0.1</td>\n",
       "    </tr>\n",
       "  </tbody>\n",
       "</table>\n",
       "</div>"
      ],
      "text/plain": [
       "      auroc     aupr  gene holdout_cancer_type  signal  seed data_type  fold  \\\n",
       "0  0.661710  0.63834  TP53                  OV  signal    42     train     0   \n",
       "1  0.089431  0.84457  TP53                  OV  signal    42      test     0   \n",
       "2  0.668130  0.60945  TP53                  OV  signal    42        cv     0   \n",
       "3  0.685860  0.62514  TP53                  OV  signal    42     train     1   \n",
       "4  0.666670  0.97639  TP53                  OV  signal    42      test     1   \n",
       "\n",
       "          experiment lasso_param  \n",
       "0  all_other_cancers         0.1  \n",
       "1  all_other_cancers         0.1  \n",
       "2  all_other_cancers         0.1  \n",
       "3  all_other_cancers         0.1  \n",
       "4  all_other_cancers         0.1  "
      ]
     },
     "execution_count": 4,
     "metadata": {},
     "output_type": "execute_result"
    }
   ],
   "source": [
    "perf_df = au.load_prediction_results_lasso_range(results_dir, training_dataset)\n",
    "perf_df.head()"
   ]
  },
  {
   "cell_type": "markdown",
   "id": "dc81ba78-f674-4259-9e6e-1369990f3e58",
   "metadata": {},
   "source": [
    "### Compare feature selection with performance"
   ]
  },
  {
   "cell_type": "code",
   "execution_count": 16,
   "id": "036ae328-237b-4ccd-9d7b-155ea024e5f3",
   "metadata": {},
   "outputs": [
    {
     "data": {
      "text/html": [
       "<div>\n",
       "<style scoped>\n",
       "    .dataframe tbody tr th:only-of-type {\n",
       "        vertical-align: middle;\n",
       "    }\n",
       "\n",
       "    .dataframe tbody tr th {\n",
       "        vertical-align: top;\n",
       "    }\n",
       "\n",
       "    .dataframe thead th {\n",
       "        text-align: right;\n",
       "    }\n",
       "</style>\n",
       "<table border=\"1\" class=\"dataframe\">\n",
       "  <thead>\n",
       "    <tr style=\"text-align: right;\">\n",
       "      <th></th>\n",
       "      <th>gene</th>\n",
       "      <th>holdout_cancer_type</th>\n",
       "      <th>lasso_param</th>\n",
       "      <th>seed</th>\n",
       "      <th>fold</th>\n",
       "      <th>nz_coefs</th>\n",
       "      <th>auroc</th>\n",
       "      <th>aupr</th>\n",
       "      <th>data_type</th>\n",
       "    </tr>\n",
       "    <tr>\n",
       "      <th>experiment</th>\n",
       "      <th></th>\n",
       "      <th></th>\n",
       "      <th></th>\n",
       "      <th></th>\n",
       "      <th></th>\n",
       "      <th></th>\n",
       "      <th></th>\n",
       "      <th></th>\n",
       "      <th></th>\n",
       "    </tr>\n",
       "  </thead>\n",
       "  <tbody>\n",
       "    <tr>\n",
       "      <th>all_other_cancers</th>\n",
       "      <td>66600</td>\n",
       "      <td>66600</td>\n",
       "      <td>66600</td>\n",
       "      <td>66600</td>\n",
       "      <td>66600</td>\n",
       "      <td>66600</td>\n",
       "      <td>66600</td>\n",
       "      <td>66600</td>\n",
       "      <td>66600</td>\n",
       "    </tr>\n",
       "  </tbody>\n",
       "</table>\n",
       "</div>"
      ],
      "text/plain": [
       "                    gene  holdout_cancer_type  lasso_param   seed   fold  \\\n",
       "experiment                                                                 \n",
       "all_other_cancers  66600                66600        66600  66600  66600   \n",
       "\n",
       "                   nz_coefs  auroc   aupr  data_type  \n",
       "experiment                                            \n",
       "all_other_cancers     66600  66600  66600      66600  "
      ]
     },
     "execution_count": 16,
     "metadata": {},
     "output_type": "execute_result"
    }
   ],
   "source": [
    "coefs_perf_df = (nz_coefs_df\n",
    "    .rename(columns={'cancer_type': 'holdout_cancer_type'})\n",
    "    .merge(perf_df[perf_df.signal == 'signal'],\n",
    "           on=['gene', 'holdout_cancer_type', 'seed', 'fold', 'lasso_param'])\n",
    "    .drop(columns=['signal', 'experiment'])\n",
    ")\n",
    "\n",
    "coefs_perf_df.head()"
   ]
  },
  {
   "cell_type": "code",
   "execution_count": 6,
   "id": "6ee0e151-a2f0-4b6b-ad62-102b391386fd",
   "metadata": {},
   "outputs": [],
   "source": [
    "sns.set({'figure.figsize': (8, 6)})\n",
    "\n",
    "sns.histplot(coefs_perf_df.nz_coefs, log_scale=(True, False))\n",
    "plt.gca().axvline(coefs_perf_df.nz_coefs.quantile(q=0.1), linestyle='--')\n",
    "plt.title('Distribution of feature count across cancer types/folds')\n",
    "plt.xlabel('Number of nonzero features')\n",
    "\n",
    "coefs_perf_df.loc[coefs_perf_df.nz_coefs.sort_values()[:8].index, :]"
   ]
  },
  {
   "cell_type": "markdown",
   "id": "178d1b74-e7d2-4bbe-9973-69002dddb398",
   "metadata": {},
   "source": [
    "### Calculate model size/performance correlations for each cancer type individually\n",
    "\n",
    "In this case, a positive correlation means that more features in the model is associated with better performance."
   ]
  },
  {
   "cell_type": "code",
   "execution_count": 7,
   "id": "5e5976a9-bd7e-4ab8-b99f-5e3291d2f4a2",
   "metadata": {},
   "outputs": [
    {
     "name": "stdout",
     "output_type": "stream",
     "text": [
      "(46, 4)\n"
     ]
    },
    {
     "data": {
      "text/html": [
       "<div>\n",
       "<style scoped>\n",
       "    .dataframe tbody tr th:only-of-type {\n",
       "        vertical-align: middle;\n",
       "    }\n",
       "\n",
       "    .dataframe tbody tr th {\n",
       "        vertical-align: top;\n",
       "    }\n",
       "\n",
       "    .dataframe thead th {\n",
       "        text-align: right;\n",
       "    }\n",
       "</style>\n",
       "<table border=\"1\" class=\"dataframe\">\n",
       "  <thead>\n",
       "    <tr style=\"text-align: right;\">\n",
       "      <th></th>\n",
       "      <th>gene</th>\n",
       "      <th>cancer_type</th>\n",
       "      <th>pearson_r</th>\n",
       "      <th>pearson_pval</th>\n",
       "    </tr>\n",
       "  </thead>\n",
       "  <tbody>\n",
       "    <tr>\n",
       "      <th>25</th>\n",
       "      <td>CDKN2A</td>\n",
       "      <td>GBM</td>\n",
       "      <td>0.720391</td>\n",
       "      <td>4.648561e-13</td>\n",
       "    </tr>\n",
       "    <tr>\n",
       "      <th>19</th>\n",
       "      <td>TP53</td>\n",
       "      <td>PAAD</td>\n",
       "      <td>0.655119</td>\n",
       "      <td>4.278330e-10</td>\n",
       "    </tr>\n",
       "    <tr>\n",
       "      <th>23</th>\n",
       "      <td>CDKN2A</td>\n",
       "      <td>BLCA</td>\n",
       "      <td>0.648517</td>\n",
       "      <td>7.292598e-10</td>\n",
       "    </tr>\n",
       "    <tr>\n",
       "      <th>5</th>\n",
       "      <td>TP53</td>\n",
       "      <td>BLCA</td>\n",
       "      <td>0.609789</td>\n",
       "      <td>2.675061e-08</td>\n",
       "    </tr>\n",
       "    <tr>\n",
       "      <th>0</th>\n",
       "      <td>TP53</td>\n",
       "      <td>UCEC</td>\n",
       "      <td>0.604867</td>\n",
       "      <td>1.830818e-08</td>\n",
       "    </tr>\n",
       "  </tbody>\n",
       "</table>\n",
       "</div>"
      ],
      "text/plain": [
       "      gene cancer_type  pearson_r  pearson_pval\n",
       "25  CDKN2A         GBM   0.720391  4.648561e-13\n",
       "19    TP53        PAAD   0.655119  4.278330e-10\n",
       "23  CDKN2A        BLCA   0.648517  7.292598e-10\n",
       "5     TP53        BLCA   0.609789  2.675061e-08\n",
       "0     TP53        UCEC   0.604867  1.830818e-08"
      ]
     },
     "execution_count": 7,
     "metadata": {},
     "output_type": "execute_result"
    }
   ],
   "source": [
    "corr_cancer_type_df = []\n",
    "\n",
    "# nz_coefs_cutoff sets a minimum number of features per model\n",
    "# this can help to trim the \"dummy regressors\" from the dataset that only\n",
    "# use very few features at high lasso penalties, these can deflate performance\n",
    "# and lead to a spurious positive correlation\n",
    "# for now, we're setting it to be the smallest 10% of models\n",
    "nz_coefs_cutoff = coefs_perf_df.nz_coefs.quantile(q=0.1)\n",
    "if nz_coefs_cutoff is not None:\n",
    "    coefs_perf_df = coefs_perf_df[coefs_perf_df.nz_coefs > nz_coefs_cutoff].copy()\n",
    "\n",
    "for gene in coefs_perf_df.gene.unique():\n",
    "    for cancer_type in coefs_perf_df.holdout_cancer_type.unique():\n",
    "        corr_df = coefs_perf_df[\n",
    "            (coefs_perf_df.gene == gene) &\n",
    "            (coefs_perf_df.holdout_cancer_type == cancer_type) &\n",
    "            (coefs_perf_df.data_type == 'test')\n",
    "        ]\n",
    "        try:\n",
    "            r, p = pearsonr(corr_df.nz_coefs.values, corr_df.aupr.values)\n",
    "        except ValueError:\n",
    "            # this happens when the model wasn't trained on the cancer type\n",
    "            # for the given gene, just skip\n",
    "            continue\n",
    "        corr_cancer_type_df.append(\n",
    "            [gene, cancer_type, r, p]\n",
    "        )\n",
    "    \n",
    "corr_cancer_type_df = pd.DataFrame(\n",
    "    corr_cancer_type_df,\n",
    "    columns=['gene', 'cancer_type', 'pearson_r', 'pearson_pval']\n",
    ").sort_values(by='pearson_r', ascending=False)\n",
    "\n",
    "print(corr_cancer_type_df.shape)\n",
    "corr_cancer_type_df.head()"
   ]
  },
  {
   "cell_type": "code",
   "execution_count": 8,
   "id": "e8092f4a-fb78-4902-99d2-5a595e04cfdd",
   "metadata": {},
   "outputs": [
    {
     "data": {
      "text/plain": [
       "Text(0, 0.5, 'Pearson correlation')"
      ]
     },
     "execution_count": 8,
     "metadata": {},
     "output_type": "execute_result"
    },
    {
     "data": {
      "image/png": "[encoded data removed]",
      "text/plain": [
       "<Figure size 864x432 with 1 Axes>"
      ]
     },
     "metadata": {},
     "output_type": "display_data"
    }
   ],
   "source": [
    "# plot test performance vs. number of nonzero features\n",
    "sns.set({'figure.figsize': (12, 6)})\n",
    "\n",
    "ax = sns.boxplot(data=corr_cancer_type_df, x='gene', y='pearson_r')\n",
    "ax.axhline(0.0, linestyle='--', color='black')\n",
    "plt.title(f'Model size/performance correlations across cancer types, per gene (nonzero cutoff: {nz_coefs_cutoff})')\n",
    "plt.xlabel('Gene')\n",
    "plt.ylabel('Pearson correlation')"
   ]
  },
  {
   "cell_type": "markdown",
   "id": "33debac8-0f94-4562-93fb-888c8b73a68d",
   "metadata": {},
   "source": [
    "This box plot suggests that across these 4 genes, there tends to be a positive correlation between the number of features in the model and generalization performance (i.e. in general, more features in the model => better generalization). "
   ]
  }
 ],
 "metadata": {
  "kernelspec": {
   "display_name": "Python [conda env:pc2]",
   "language": "python",
   "name": "conda-env-pc2-py"
  },
  "language_info": {
   "codemirror_mode": {
    "name": "ipython",
    "version": 3
   },
   "file_extension": ".py",
   "mimetype": "text/x-python",
   "name": "python",
   "nbconvert_exporter": "python",
   "pygments_lexer": "ipython3",
   "version": "3.9.15"
  }
 },
 "nbformat": 4,
 "nbformat_minor": 5
}
