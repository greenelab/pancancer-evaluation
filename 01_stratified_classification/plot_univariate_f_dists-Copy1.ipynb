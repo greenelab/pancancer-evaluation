{
 "cells": [
  {
   "cell_type": "markdown",
   "metadata": {},
   "source": [
    "## Visualization of f-statistic distributions for selected features"
   ]
  },
  {
   "cell_type": "code",
   "execution_count": 27,
   "metadata": {},
   "outputs": [
    {
     "name": "stdout",
     "output_type": "stream",
     "text": [
      "The autoreload extension is already loaded. To reload it, use:\n",
      "  %reload_ext autoreload\n"
     ]
    }
   ],
   "source": [
    "import os\n",
    "import sys\n",
    "\n",
    "import numpy as np\n",
    "import pandas as pd\n",
    "import matplotlib.pyplot as plt\n",
    "import seaborn as sns\n",
    "\n",
    "import pancancer_evaluation.config as cfg\n",
    "import pancancer_evaluation.utilities.analysis_utilities as au\n",
    "import pancancer_evaluation.utilities.tcga_utilities as tu\n",
    "\n",
    "%load_ext autoreload\n",
    "%autoreload 2"
   ]
  },
  {
   "cell_type": "markdown",
   "metadata": {},
   "source": [
    "### Load selected coefficients"
   ]
  },
  {
   "cell_type": "code",
   "execution_count": 2,
   "metadata": {},
   "outputs": [],
   "source": [
    "results_dir = os.path.join('results', 'univariate_fs', 'pancancer')"
   ]
  },
  {
   "cell_type": "code",
   "execution_count": 3,
   "metadata": {},
   "outputs": [
    {
     "name": "stdout",
     "output_type": "stream",
     "text": [
      "40\n"
     ]
    }
   ],
   "source": [
    "# gene to analyze features for\n",
    "gene = 'TP53'\n",
    "\n",
    "id_coefs_info = []\n",
    "for identifier, coefs_list in au.generate_nonzero_coefficients_fs(\n",
    "        results_dir, cfg.fs_methods):\n",
    "    if not identifier.startswith(gene): continue\n",
    "    for fold_no, coefs in enumerate(coefs_list):\n",
    "        id_coefs_info.append([identifier, fold_no, coefs])\n",
    "        \n",
    "print(len(id_coefs_info))"
   ]
  },
  {
   "cell_type": "code",
   "execution_count": 4,
   "metadata": {},
   "outputs": [
    {
     "name": "stdout",
     "output_type": "stream",
     "text": [
      "3\n",
      "['TP53_mad_n100', 0] [('6490', -48.839), ('CESC', -10.332), ('OV', 4.6879), ('UCS', 2.6518), ('PAAD', 1.6652)]\n"
     ]
    }
   ],
   "source": [
    "# format of id_coefs_info:\n",
    "# [experiment descriptor, fold no, [list of features and effect sizes]]\n",
    "print(len(id_coefs_info[0]))\n",
    "print(id_coefs_info[0][:2], id_coefs_info[0][2][:5])"
   ]
  },
  {
   "cell_type": "code",
   "execution_count": 5,
   "metadata": {},
   "outputs": [
    {
     "name": "stdout",
     "output_type": "stream",
     "text": [
      "['TP53_mad_n100', 'TP53_mad_n1000', 'TP53_mad_f_test_n100', 'TP53_median_f_test_n100', 'TP53_pancan_f_test_n100']\n"
     ]
    }
   ],
   "source": [
    "# list of sets, one for each feature selection method, of\n",
    "# features that were selected in at least one cross-validation fold\n",
    "fs_method_coefs = {}\n",
    "for coefs_list in id_coefs_info:\n",
    "    identifier = coefs_list[0]\n",
    "    features = list(zip(*coefs_list[2]))[0]\n",
    "    if identifier in fs_method_coefs:\n",
    "        fs_method_coefs[identifier].update(features)\n",
    "    else:\n",
    "        fs_method_coefs[identifier] = set(features)\n",
    "    \n",
    "print(list(fs_method_coefs.keys()))"
   ]
  },
  {
   "cell_type": "markdown",
   "metadata": {},
   "source": [
    "### Get distribution of univariate feature correlations\n",
    "\n",
    "NOTE: these won't be exactly what was used for feature selection since we're not doing the same train/test splits here, or filtering cancer types by mutation count -- instead we're just calculating on the whole dataset. This could and probably should be fixed in the future, the actual distributions that we're selecting features based on could be quite different."
   ]
  },
  {
   "cell_type": "code",
   "execution_count": 6,
   "metadata": {},
   "outputs": [
    {
     "name": "stderr",
     "output_type": "stream",
     "text": [
      "Loading gene label data...\n",
      "Loading sample info...\n",
      "Loading pan-cancer data from cached pickle file...\n",
      "Loading gene expression data...\n"
     ]
    }
   ],
   "source": [
    "from sklearn.preprocessing import StandardScaler\n",
    "from sklearn.feature_selection import f_classif\n",
    "\n",
    "import pancancer_evaluation.utilities.data_utilities as du\n",
    "\n",
    "print('Loading gene label data...', file=sys.stderr)\n",
    "genes_df = du.load_top_50()\n",
    "sample_info_df = du.load_sample_info(verbose=True)\n",
    "\n",
    "# this returns a tuple of dataframes, unpack it below\n",
    "pancancer_data = du.load_pancancer_data(verbose=True)\n",
    "(sample_freeze_df,\n",
    " mutation_df,\n",
    " copy_loss_df,\n",
    " copy_gain_df,\n",
    " mut_burden_df) = pancancer_data\n",
    "\n",
    "rnaseq_df = du.load_expression_data(verbose=True)"
   ]
  },
  {
   "cell_type": "code",
   "execution_count": 7,
   "metadata": {},
   "outputs": [
    {
     "name": "stdout",
     "output_type": "stream",
     "text": [
      "(11060, 16148)\n"
     ]
    },
    {
     "data": {
      "text/html": [
       "<div>\n",
       "<style scoped>\n",
       "    .dataframe tbody tr th:only-of-type {\n",
       "        vertical-align: middle;\n",
       "    }\n",
       "\n",
       "    .dataframe tbody tr th {\n",
       "        vertical-align: top;\n",
       "    }\n",
       "\n",
       "    .dataframe thead th {\n",
       "        text-align: right;\n",
       "    }\n",
       "</style>\n",
       "<table border=\"1\" class=\"dataframe\">\n",
       "  <thead>\n",
       "    <tr style=\"text-align: right;\">\n",
       "      <th></th>\n",
       "      <th>1</th>\n",
       "      <th>10</th>\n",
       "      <th>100</th>\n",
       "      <th>1000</th>\n",
       "      <th>10000</th>\n",
       "    </tr>\n",
       "    <tr>\n",
       "      <th>sample_id</th>\n",
       "      <th></th>\n",
       "      <th></th>\n",
       "      <th></th>\n",
       "      <th></th>\n",
       "      <th></th>\n",
       "    </tr>\n",
       "  </thead>\n",
       "  <tbody>\n",
       "    <tr>\n",
       "      <th>TCGA-02-0047-01</th>\n",
       "      <td>125.0</td>\n",
       "      <td>10.40</td>\n",
       "      <td>136.0</td>\n",
       "      <td>2300.0</td>\n",
       "      <td>1300.0</td>\n",
       "    </tr>\n",
       "    <tr>\n",
       "      <th>TCGA-02-0055-01</th>\n",
       "      <td>392.0</td>\n",
       "      <td>1.12</td>\n",
       "      <td>222.0</td>\n",
       "      <td>1820.0</td>\n",
       "      <td>903.0</td>\n",
       "    </tr>\n",
       "    <tr>\n",
       "      <th>TCGA-02-2483-01</th>\n",
       "      <td>272.0</td>\n",
       "      <td>4.64</td>\n",
       "      <td>256.0</td>\n",
       "      <td>2890.0</td>\n",
       "      <td>1320.0</td>\n",
       "    </tr>\n",
       "    <tr>\n",
       "      <th>TCGA-02-2485-01</th>\n",
       "      <td>83.9</td>\n",
       "      <td>20.00</td>\n",
       "      <td>129.0</td>\n",
       "      <td>6970.0</td>\n",
       "      <td>10100.0</td>\n",
       "    </tr>\n",
       "    <tr>\n",
       "      <th>TCGA-02-2486-01</th>\n",
       "      <td>108.0</td>\n",
       "      <td>3.66</td>\n",
       "      <td>205.0</td>\n",
       "      <td>2250.0</td>\n",
       "      <td>873.0</td>\n",
       "    </tr>\n",
       "  </tbody>\n",
       "</table>\n",
       "</div>"
      ],
      "text/plain": [
       "                     1     10    100    1000    10000\n",
       "sample_id                                            \n",
       "TCGA-02-0047-01  125.0  10.40  136.0  2300.0   1300.0\n",
       "TCGA-02-0055-01  392.0   1.12  222.0  1820.0    903.0\n",
       "TCGA-02-2483-01  272.0   4.64  256.0  2890.0   1320.0\n",
       "TCGA-02-2485-01   83.9  20.00  129.0  6970.0  10100.0\n",
       "TCGA-02-2486-01  108.0   3.66  205.0  2250.0    873.0"
      ]
     },
     "execution_count": 7,
     "metadata": {},
     "output_type": "execute_result"
    }
   ],
   "source": [
    "print(rnaseq_df.shape)\n",
    "rnaseq_df.iloc[:5, :5]"
   ]
  },
  {
   "cell_type": "code",
   "execution_count": 8,
   "metadata": {},
   "outputs": [
    {
     "data": {
      "text/plain": [
       "(9074, 3)"
      ]
     },
     "metadata": {},
     "output_type": "display_data"
    },
    {
     "data": {
      "text/html": [
       "<div>\n",
       "<style scoped>\n",
       "    .dataframe tbody tr th:only-of-type {\n",
       "        vertical-align: middle;\n",
       "    }\n",
       "\n",
       "    .dataframe tbody tr th {\n",
       "        vertical-align: top;\n",
       "    }\n",
       "\n",
       "    .dataframe thead th {\n",
       "        text-align: right;\n",
       "    }\n",
       "</style>\n",
       "<table border=\"1\" class=\"dataframe\">\n",
       "  <thead>\n",
       "    <tr style=\"text-align: right;\">\n",
       "      <th></th>\n",
       "      <th>status</th>\n",
       "      <th>cancer_type</th>\n",
       "      <th>subtype</th>\n",
       "    </tr>\n",
       "    <tr>\n",
       "      <th>SAMPLE_BARCODE</th>\n",
       "      <th></th>\n",
       "      <th></th>\n",
       "      <th></th>\n",
       "    </tr>\n",
       "  </thead>\n",
       "  <tbody>\n",
       "    <tr>\n",
       "      <th>TCGA-02-0047-01</th>\n",
       "      <td>0</td>\n",
       "      <td>GBM</td>\n",
       "      <td>IDHwt</td>\n",
       "    </tr>\n",
       "    <tr>\n",
       "      <th>TCGA-02-0055-01</th>\n",
       "      <td>1</td>\n",
       "      <td>GBM</td>\n",
       "      <td>IDHwt</td>\n",
       "    </tr>\n",
       "    <tr>\n",
       "      <th>TCGA-02-2483-01</th>\n",
       "      <td>1</td>\n",
       "      <td>GBM</td>\n",
       "      <td>IDHmut-non-codel</td>\n",
       "    </tr>\n",
       "    <tr>\n",
       "      <th>TCGA-02-2485-01</th>\n",
       "      <td>1</td>\n",
       "      <td>GBM</td>\n",
       "      <td>IDHwt</td>\n",
       "    </tr>\n",
       "    <tr>\n",
       "      <th>TCGA-02-2486-01</th>\n",
       "      <td>0</td>\n",
       "      <td>GBM</td>\n",
       "      <td>IDHwt</td>\n",
       "    </tr>\n",
       "  </tbody>\n",
       "</table>\n",
       "</div>"
      ],
      "text/plain": [
       "                 status cancer_type           subtype\n",
       "SAMPLE_BARCODE                                       \n",
       "TCGA-02-0047-01       0         GBM             IDHwt\n",
       "TCGA-02-0055-01       1         GBM             IDHwt\n",
       "TCGA-02-2483-01       1         GBM  IDHmut-non-codel\n",
       "TCGA-02-2485-01       1         GBM             IDHwt\n",
       "TCGA-02-2486-01       0         GBM             IDHwt"
      ]
     },
     "metadata": {},
     "output_type": "display_data"
    }
   ],
   "source": [
    "y_df = (mutation_df\n",
    "    .loc[:, [gene]]\n",
    "    .merge(sample_freeze_df, left_index=True, right_on='SAMPLE_BARCODE')\n",
    "    .drop(columns='PATIENT_BARCODE')\n",
    "    .set_index('SAMPLE_BARCODE')\n",
    "    .rename(columns={gene: 'status',\n",
    "                     'DISEASE': 'cancer_type',\n",
    "                     'SUBTYPE': 'subtype'})\n",
    ")\n",
    "display(y_df.shape, y_df.head())"
   ]
  },
  {
   "cell_type": "code",
   "execution_count": 9,
   "metadata": {},
   "outputs": [
    {
     "data": {
      "text/plain": [
       "(9074, 16148)"
      ]
     },
     "metadata": {},
     "output_type": "display_data"
    },
    {
     "data": {
      "text/plain": [
       "0"
      ]
     },
     "metadata": {},
     "output_type": "display_data"
    },
    {
     "data": {
      "text/html": [
       "<div>\n",
       "<style scoped>\n",
       "    .dataframe tbody tr th:only-of-type {\n",
       "        vertical-align: middle;\n",
       "    }\n",
       "\n",
       "    .dataframe tbody tr th {\n",
       "        vertical-align: top;\n",
       "    }\n",
       "\n",
       "    .dataframe thead th {\n",
       "        text-align: right;\n",
       "    }\n",
       "</style>\n",
       "<table border=\"1\" class=\"dataframe\">\n",
       "  <thead>\n",
       "    <tr style=\"text-align: right;\">\n",
       "      <th></th>\n",
       "      <th>1</th>\n",
       "      <th>10</th>\n",
       "      <th>100</th>\n",
       "      <th>1000</th>\n",
       "      <th>10000</th>\n",
       "    </tr>\n",
       "    <tr>\n",
       "      <th>SAMPLE_BARCODE</th>\n",
       "      <th></th>\n",
       "      <th></th>\n",
       "      <th></th>\n",
       "      <th></th>\n",
       "      <th></th>\n",
       "    </tr>\n",
       "  </thead>\n",
       "  <tbody>\n",
       "    <tr>\n",
       "      <th>TCGA-02-0047-01</th>\n",
       "      <td>-0.134350</td>\n",
       "      <td>-0.115823</td>\n",
       "      <td>-0.208325</td>\n",
       "      <td>1.022045</td>\n",
       "      <td>0.645482</td>\n",
       "    </tr>\n",
       "    <tr>\n",
       "      <th>TCGA-02-0055-01</th>\n",
       "      <td>-0.112881</td>\n",
       "      <td>-0.216739</td>\n",
       "      <td>-0.139308</td>\n",
       "      <td>0.683152</td>\n",
       "      <td>0.164651</td>\n",
       "    </tr>\n",
       "    <tr>\n",
       "      <th>TCGA-02-2483-01</th>\n",
       "      <td>-0.122530</td>\n",
       "      <td>-0.178461</td>\n",
       "      <td>-0.112022</td>\n",
       "      <td>1.438602</td>\n",
       "      <td>0.669705</td>\n",
       "    </tr>\n",
       "    <tr>\n",
       "      <th>TCGA-02-2485-01</th>\n",
       "      <td>-0.137654</td>\n",
       "      <td>-0.011428</td>\n",
       "      <td>-0.213943</td>\n",
       "      <td>4.319199</td>\n",
       "      <td>11.303693</td>\n",
       "    </tr>\n",
       "    <tr>\n",
       "      <th>TCGA-02-2486-01</th>\n",
       "      <td>-0.135717</td>\n",
       "      <td>-0.189118</td>\n",
       "      <td>-0.152951</td>\n",
       "      <td>0.986744</td>\n",
       "      <td>0.128316</td>\n",
       "    </tr>\n",
       "  </tbody>\n",
       "</table>\n",
       "</div>"
      ],
      "text/plain": [
       "                        1        10       100      1000      10000\n",
       "SAMPLE_BARCODE                                                    \n",
       "TCGA-02-0047-01 -0.134350 -0.115823 -0.208325  1.022045   0.645482\n",
       "TCGA-02-0055-01 -0.112881 -0.216739 -0.139308  0.683152   0.164651\n",
       "TCGA-02-2483-01 -0.122530 -0.178461 -0.112022  1.438602   0.669705\n",
       "TCGA-02-2485-01 -0.137654 -0.011428 -0.213943  4.319199  11.303693\n",
       "TCGA-02-2486-01 -0.135717 -0.189118 -0.152951  0.986744   0.128316"
      ]
     },
     "metadata": {},
     "output_type": "display_data"
    }
   ],
   "source": [
    "X_df_unscaled = rnaseq_df.reindex(y_df.index)\n",
    "\n",
    "X_df = pd.DataFrame(\n",
    "    StandardScaler().fit_transform(X_df_unscaled),\n",
    "    index=X_df_unscaled.index.copy(),\n",
    "    columns=X_df_unscaled.columns.copy()\n",
    ")\n",
    "\n",
    "# make sure we didn't introduce any NA rows\n",
    "assert X_df.isna().sum().sum() == 0\n",
    "\n",
    "display(X_df.shape,\n",
    "        X_df.isna().sum().sum(),\n",
    "        X_df.iloc[:5, :5])"
   ]
  },
  {
   "cell_type": "code",
   "execution_count": 25,
   "metadata": {},
   "outputs": [],
   "source": [
    "def filter_cancer_types(gene, X_df, y_df, sample_freeze_df, mutation_burden_df, classification=None):\n",
    "    # most of this code is copied from process_y_matrix in pancancer_utilities.tcga_utilities\n",
    "    # \n",
    "    # note this is not including copy number variants, to do that we have to\n",
    "    # know oncogene/TSG status for every gene (need to figure out where to get\n",
    "    # this info)\n",
    "    y_df = (\n",
    "        y_df.merge(\n",
    "            sample_freeze_df,\n",
    "            how='left',\n",
    "            left_index=True,\n",
    "            right_on='SAMPLE_BARCODE'\n",
    "        )\n",
    "        .set_index('SAMPLE_BARCODE')\n",
    "        .merge(mutation_burden_df, left_index=True, right_index=True)\n",
    "    )\n",
    "    if classification is not None:\n",
    "        if classification == 'Oncogene':\n",
    "            y_copy = copy_gain_df.loc[:, gene]\n",
    "        elif classification == 'TSG':\n",
    "            y_copy = copy_loss_df.loc[:, gene]\n",
    "        y_df.status = y_df.status + y_copy\n",
    "    disease_counts_df = pd.DataFrame(y_df.groupby('cancer_type').sum()['status'])\n",
    "    disease_proportion_df = disease_counts_df.divide(\n",
    "        y_df['cancer_type'].value_counts(sort=False).sort_index(), axis=0\n",
    "    )\n",
    "    filter_disease_df = (\n",
    "        (disease_counts_df > cfg.filter_count) &\n",
    "        (disease_proportion_df > cfg.filter_prop)\n",
    "    )\n",
    "    disease_proportion_df['disease_included'] = filter_disease_df\n",
    "    disease_proportion_df['count'] = disease_counts_df['status']\n",
    "    filter_disease_df.columns = ['disease_included']\n",
    "    \n",
    "    use_diseases = disease_proportion_df.query('disease_included').index.tolist()\n",
    "    \n",
    "    y_filtered_df = y_df.query('cancer_type in @use_diseases')\n",
    "    X_filtered_df = X_df.reindex(index=y_filtered_df.index)\n",
    "    \n",
    "    return X_filtered_df, y_filtered_df\n",
    "\n",
    "def get_f_stats_for_cancer_types(gene, X_df, y_df, classification=None):\n",
    "    # filter to cancer types with sufficient mutations\n",
    "    X_filtered_df, y_filtered_df = filter_cancer_types(\n",
    "        gene, X_df, y_df, sample_freeze_df, mut_burden_df,\n",
    "        classification=classification\n",
    "    )\n",
    "    assert X_filtered_df.isna().sum().sum() == 0\n",
    "    \n",
    "    # then calculate pan-cancer and specific-cancer f-statistics\n",
    "    # (i.e. univariate correlations with labels)\n",
    "    f_stats_df = {\n",
    "        'pancan': f_classif(X_filtered_df, y_filtered_df.status)[0]\n",
    "    }\n",
    "    for cancer_type in y_filtered_df.cancer_type.unique():\n",
    "        ct_samples = y_filtered_df[y_filtered_df.cancer_type == cancer_type].index\n",
    "        X_ct_df = X_filtered_df.reindex(ct_samples)\n",
    "        y_ct_df = y_filtered_df.reindex(ct_samples)\n",
    "        \n",
    "        f_stats_df[cancer_type] = f_classif(X_ct_df, y_ct_df.status)[0]\n",
    "        \n",
    "    return pd.DataFrame(f_stats_df, index=X_filtered_df.columns)"
   ]
  },
  {
   "cell_type": "code",
   "execution_count": 31,
   "metadata": {},
   "outputs": [
    {
     "data": {
      "text/html": [
       "<div>\n",
       "<style scoped>\n",
       "    .dataframe tbody tr th:only-of-type {\n",
       "        vertical-align: middle;\n",
       "    }\n",
       "\n",
       "    .dataframe tbody tr th {\n",
       "        vertical-align: top;\n",
       "    }\n",
       "\n",
       "    .dataframe thead th {\n",
       "        text-align: right;\n",
       "    }\n",
       "</style>\n",
       "<table border=\"1\" class=\"dataframe\">\n",
       "  <thead>\n",
       "    <tr style=\"text-align: right;\">\n",
       "      <th></th>\n",
       "      <th>pancan</th>\n",
       "    </tr>\n",
       "  </thead>\n",
       "  <tbody>\n",
       "    <tr>\n",
       "      <th>1</th>\n",
       "      <td>21.931270</td>\n",
       "    </tr>\n",
       "    <tr>\n",
       "      <th>10</th>\n",
       "      <td>15.846867</td>\n",
       "    </tr>\n",
       "    <tr>\n",
       "      <th>100</th>\n",
       "      <td>67.273993</td>\n",
       "    </tr>\n",
       "    <tr>\n",
       "      <th>1000</th>\n",
       "      <td>0.072898</td>\n",
       "    </tr>\n",
       "    <tr>\n",
       "      <th>10000</th>\n",
       "      <td>35.642366</td>\n",
       "    </tr>\n",
       "    <tr>\n",
       "      <th>10001</th>\n",
       "      <td>107.648375</td>\n",
       "    </tr>\n",
       "    <tr>\n",
       "      <th>10002</th>\n",
       "      <td>27.246646</td>\n",
       "    </tr>\n",
       "    <tr>\n",
       "      <th>10003</th>\n",
       "      <td>9.829642</td>\n",
       "    </tr>\n",
       "    <tr>\n",
       "      <th>100037417</th>\n",
       "      <td>12.162419</td>\n",
       "    </tr>\n",
       "    <tr>\n",
       "      <th>10004</th>\n",
       "      <td>0.408068</td>\n",
       "    </tr>\n",
       "  </tbody>\n",
       "</table>\n",
       "</div>"
      ],
      "text/plain": [
       "               pancan\n",
       "1           21.931270\n",
       "10          15.846867\n",
       "100         67.273993\n",
       "1000         0.072898\n",
       "10000       35.642366\n",
       "10001      107.648375\n",
       "10002       27.246646\n",
       "10003        9.829642\n",
       "100037417   12.162419\n",
       "10004        0.408068"
      ]
     },
     "execution_count": 31,
     "metadata": {},
     "output_type": "execute_result"
    }
   ],
   "source": [
    "f_stats_df = get_f_stats_for_cancer_types('TP53', X_df, y_df, classification='TSG')\n",
    "f_stats_df.iloc[:10, [0]]"
   ]
  },
  {
   "cell_type": "code",
   "execution_count": 35,
   "metadata": {},
   "outputs": [],
   "source": [
    "symbol_to_entrez, old_to_new_entrez = tu.get_symbol_map()\n",
    "entrez_to_symbol = {str(v): k for k, v in symbol_to_entrez.items()}\n",
    "\n",
    "f_stats_df = f_stats_df.iloc[:, [0]].copy()\n",
    "f_stats_df['gene_symbol'] = f_stats_df.index.to_series().map(entrez_to_symbol)\n",
    "f_stats_df.sort_values(by='pancan', ascending=False).iloc[:50, :].to_csv('./tp53_f_test_top50.tsv', sep='\\t')"
   ]
  },
  {
   "cell_type": "code",
   "execution_count": 30,
   "metadata": {},
   "outputs": [
    {
     "name": "stdout",
     "output_type": "stream",
     "text": [
      "[(1, 'A1BG'), (2, 'A2M'), (9, 'NAT1'), (10, 'NAT2'), (12, 'SERPINA3'), (13, 'AADAC'), (14, 'AAMP'), (15, 'AANAT'), (16, 'AARS'), (18, 'ABAT')]\n"
     ]
    }
   ],
   "source": [
    "print(list([(k, v) for k, v in entrez_to_symbol.items()])[:10])"
   ]
  },
  {
   "cell_type": "code",
   "execution_count": null,
   "metadata": {},
   "outputs": [],
   "source": []
  }
 ],
 "metadata": {
  "kernelspec": {
   "display_name": "pc-eval",
   "language": "python",
   "name": "pc-eval"
  },
  "language_info": {
   "codemirror_mode": {
    "name": "ipython",
    "version": 3
   },
   "file_extension": ".py",
   "mimetype": "text/x-python",
   "name": "python",
   "nbconvert_exporter": "python",
   "pygments_lexer": "ipython3",
   "version": "3.8.13"
  }
 },
 "nbformat": 4,
 "nbformat_minor": 4
}
