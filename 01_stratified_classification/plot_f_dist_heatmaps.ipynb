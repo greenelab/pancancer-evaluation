{
 "cells": [
  {
   "cell_type": "markdown",
   "id": "f6d004ef-8f31-4d16-be97-532ec22e1e8f",
   "metadata": {},
   "source": [
    "## Plot univariate correlation heatmaps for mutation prediction, across gene features\n",
    "\n",
    "To support the idea of selecting features using cancer type specific $f$-statistics, we wanted to visualize $f$-statistics across cancer types for some genes. We are expecting to see that when we select by MAD or pan-cancer $f$-statistic we often get genes/features that are highly correlated with the label in one cancer type and not in others, but when we select by median $f$-statistic we find features that are more evenly correlated across all cancer types in the dataset, relative to the other methods."
   ]
  },
  {
   "cell_type": "code",
   "execution_count": 1,
   "id": "52478d57-83e3-44ca-bdba-8d70e21bac02",
   "metadata": {},
   "outputs": [],
   "source": [
    "import os\n",
    "import sys\n",
    "from pathlib import Path\n",
    "\n",
    "import numpy as np\n",
    "import pandas as pd\n",
    "import matplotlib.pyplot as plt\n",
    "import seaborn as sns\n",
    "from sklearn.preprocessing import StandardScaler\n",
    "from sklearn.feature_selection import f_classif\n",
    "\n",
    "import pancancer_evaluation.config as cfg\n",
    "import pancancer_evaluation.utilities.analysis_utilities as au\n",
    "import pancancer_evaluation.utilities.data_utilities as du\n",
    "\n",
    "%load_ext autoreload\n",
    "%autoreload 2"
   ]
  },
  {
   "cell_type": "markdown",
   "id": "0364728e-af92-42ea-b328-7ad6cc3b3f88",
   "metadata": {},
   "source": [
    "### Load data"
   ]
  },
  {
   "cell_type": "code",
   "execution_count": 2,
   "id": "4a8e38f9-5483-4510-a8d5-8e5e35678a12",
   "metadata": {
    "tags": [
     "parameters"
    ]
   },
   "outputs": [],
   "source": [
    "# gene to analyze features for\n",
    "gene = 'PTEN'\n",
    "\n",
    "# plot parameters\n",
    "# calculate f-statistics from this number of genes by MAD\n",
    "num_mad_genes = 10000\n",
    "\n",
    "# plot this many genes on the x-axis of heatmaps\n",
    "# (if this is too big heatmaps are hard to read)\n",
    "num_genes_to_plot = 100\n",
    "\n",
    "# where to save plots\n",
    "output_plots = True\n",
    "output_plots_dir = Path('./heatmaps')"
   ]
  },
  {
   "cell_type": "code",
   "execution_count": 3,
   "id": "02d45699-a6b4-4863-aa1f-949e796ce2fb",
   "metadata": {},
   "outputs": [
    {
     "name": "stderr",
     "output_type": "stream",
     "text": [
      "Loading gene label data...\n",
      "Loading sample info...\n",
      "Loading pan-cancer data from cached pickle file...\n",
      "Loading gene expression data...\n"
     ]
    }
   ],
   "source": [
    "print('Loading gene label data...', file=sys.stderr)\n",
    "genes_df = du.load_top_50()\n",
    "sample_info_df = du.load_sample_info(verbose=True)\n",
    "\n",
    "# this returns a tuple of dataframes, unpack it below\n",
    "pancancer_data = du.load_pancancer_data(verbose=True)\n",
    "(sample_freeze_df,\n",
    " mutation_df,\n",
    " copy_loss_df,\n",
    " copy_gain_df,\n",
    " mut_burden_df) = pancancer_data\n",
    "\n",
    "rnaseq_df = du.load_expression_data(verbose=True)"
   ]
  },
  {
   "cell_type": "code",
   "execution_count": 4,
   "id": "90a4f8f5-ef30-452f-87b2-e681d9e0dac1",
   "metadata": {},
   "outputs": [
    {
     "name": "stdout",
     "output_type": "stream",
     "text": [
      "(11060, 16148)\n"
     ]
    },
    {
     "data": {
      "text/html": [
       "<div>\n",
       "<style scoped>\n",
       "    .dataframe tbody tr th:only-of-type {\n",
       "        vertical-align: middle;\n",
       "    }\n",
       "\n",
       "    .dataframe tbody tr th {\n",
       "        vertical-align: top;\n",
       "    }\n",
       "\n",
       "    .dataframe thead th {\n",
       "        text-align: right;\n",
       "    }\n",
       "</style>\n",
       "<table border=\"1\" class=\"dataframe\">\n",
       "  <thead>\n",
       "    <tr style=\"text-align: right;\">\n",
       "      <th></th>\n",
       "      <th>1</th>\n",
       "      <th>10</th>\n",
       "      <th>100</th>\n",
       "      <th>1000</th>\n",
       "      <th>10000</th>\n",
       "    </tr>\n",
       "    <tr>\n",
       "      <th>sample_id</th>\n",
       "      <th></th>\n",
       "      <th></th>\n",
       "      <th></th>\n",
       "      <th></th>\n",
       "      <th></th>\n",
       "    </tr>\n",
       "  </thead>\n",
       "  <tbody>\n",
       "    <tr>\n",
       "      <th>TCGA-02-0047-01</th>\n",
       "      <td>125.0</td>\n",
       "      <td>10.40</td>\n",
       "      <td>136.0</td>\n",
       "      <td>2300.0</td>\n",
       "      <td>1300.0</td>\n",
       "    </tr>\n",
       "    <tr>\n",
       "      <th>TCGA-02-0055-01</th>\n",
       "      <td>392.0</td>\n",
       "      <td>1.12</td>\n",
       "      <td>222.0</td>\n",
       "      <td>1820.0</td>\n",
       "      <td>903.0</td>\n",
       "    </tr>\n",
       "    <tr>\n",
       "      <th>TCGA-02-2483-01</th>\n",
       "      <td>272.0</td>\n",
       "      <td>4.64</td>\n",
       "      <td>256.0</td>\n",
       "      <td>2890.0</td>\n",
       "      <td>1320.0</td>\n",
       "    </tr>\n",
       "    <tr>\n",
       "      <th>TCGA-02-2485-01</th>\n",
       "      <td>83.9</td>\n",
       "      <td>20.00</td>\n",
       "      <td>129.0</td>\n",
       "      <td>6970.0</td>\n",
       "      <td>10100.0</td>\n",
       "    </tr>\n",
       "    <tr>\n",
       "      <th>TCGA-02-2486-01</th>\n",
       "      <td>108.0</td>\n",
       "      <td>3.66</td>\n",
       "      <td>205.0</td>\n",
       "      <td>2250.0</td>\n",
       "      <td>873.0</td>\n",
       "    </tr>\n",
       "  </tbody>\n",
       "</table>\n",
       "</div>"
      ],
      "text/plain": [
       "                     1     10    100    1000    10000\n",
       "sample_id                                            \n",
       "TCGA-02-0047-01  125.0  10.40  136.0  2300.0   1300.0\n",
       "TCGA-02-0055-01  392.0   1.12  222.0  1820.0    903.0\n",
       "TCGA-02-2483-01  272.0   4.64  256.0  2890.0   1320.0\n",
       "TCGA-02-2485-01   83.9  20.00  129.0  6970.0  10100.0\n",
       "TCGA-02-2486-01  108.0   3.66  205.0  2250.0    873.0"
      ]
     },
     "execution_count": 4,
     "metadata": {},
     "output_type": "execute_result"
    }
   ],
   "source": [
    "print(rnaseq_df.shape)\n",
    "rnaseq_df.iloc[:5, :5]"
   ]
  },
  {
   "cell_type": "code",
   "execution_count": 5,
   "id": "c108c5ac-41e0-4e2c-a6c6-8a653933ce59",
   "metadata": {},
   "outputs": [
    {
     "data": {
      "text/plain": [
       "(9074, 3)"
      ]
     },
     "metadata": {},
     "output_type": "display_data"
    },
    {
     "data": {
      "text/html": [
       "<div>\n",
       "<style scoped>\n",
       "    .dataframe tbody tr th:only-of-type {\n",
       "        vertical-align: middle;\n",
       "    }\n",
       "\n",
       "    .dataframe tbody tr th {\n",
       "        vertical-align: top;\n",
       "    }\n",
       "\n",
       "    .dataframe thead th {\n",
       "        text-align: right;\n",
       "    }\n",
       "</style>\n",
       "<table border=\"1\" class=\"dataframe\">\n",
       "  <thead>\n",
       "    <tr style=\"text-align: right;\">\n",
       "      <th></th>\n",
       "      <th>status</th>\n",
       "      <th>cancer_type</th>\n",
       "      <th>subtype</th>\n",
       "    </tr>\n",
       "    <tr>\n",
       "      <th>SAMPLE_BARCODE</th>\n",
       "      <th></th>\n",
       "      <th></th>\n",
       "      <th></th>\n",
       "    </tr>\n",
       "  </thead>\n",
       "  <tbody>\n",
       "    <tr>\n",
       "      <th>TCGA-02-0047-01</th>\n",
       "      <td>0</td>\n",
       "      <td>GBM</td>\n",
       "      <td>IDHwt</td>\n",
       "    </tr>\n",
       "    <tr>\n",
       "      <th>TCGA-02-0055-01</th>\n",
       "      <td>1</td>\n",
       "      <td>GBM</td>\n",
       "      <td>IDHwt</td>\n",
       "    </tr>\n",
       "    <tr>\n",
       "      <th>TCGA-02-2483-01</th>\n",
       "      <td>0</td>\n",
       "      <td>GBM</td>\n",
       "      <td>IDHmut-non-codel</td>\n",
       "    </tr>\n",
       "    <tr>\n",
       "      <th>TCGA-02-2485-01</th>\n",
       "      <td>0</td>\n",
       "      <td>GBM</td>\n",
       "      <td>IDHwt</td>\n",
       "    </tr>\n",
       "    <tr>\n",
       "      <th>TCGA-02-2486-01</th>\n",
       "      <td>0</td>\n",
       "      <td>GBM</td>\n",
       "      <td>IDHwt</td>\n",
       "    </tr>\n",
       "  </tbody>\n",
       "</table>\n",
       "</div>"
      ],
      "text/plain": [
       "                 status cancer_type           subtype\n",
       "SAMPLE_BARCODE                                       \n",
       "TCGA-02-0047-01       0         GBM             IDHwt\n",
       "TCGA-02-0055-01       1         GBM             IDHwt\n",
       "TCGA-02-2483-01       0         GBM  IDHmut-non-codel\n",
       "TCGA-02-2485-01       0         GBM             IDHwt\n",
       "TCGA-02-2486-01       0         GBM             IDHwt"
      ]
     },
     "metadata": {},
     "output_type": "display_data"
    }
   ],
   "source": [
    "y_df = (mutation_df\n",
    "    .loc[:, [gene]]\n",
    "    .merge(sample_freeze_df, left_index=True, right_on='SAMPLE_BARCODE')\n",
    "    .drop(columns='PATIENT_BARCODE')\n",
    "    .set_index('SAMPLE_BARCODE')\n",
    "    .rename(columns={gene: 'status',\n",
    "                     'DISEASE': 'cancer_type',\n",
    "                     'SUBTYPE': 'subtype'})\n",
    ")\n",
    "display(y_df.shape, y_df.head())"
   ]
  },
  {
   "cell_type": "code",
   "execution_count": 6,
   "id": "60ee93f3-954c-43da-b720-2cbca443f2af",
   "metadata": {},
   "outputs": [
    {
     "data": {
      "text/plain": [
       "(9074, 16148)"
      ]
     },
     "metadata": {},
     "output_type": "display_data"
    },
    {
     "data": {
      "text/plain": [
       "0"
      ]
     },
     "metadata": {},
     "output_type": "display_data"
    },
    {
     "data": {
      "text/html": [
       "<div>\n",
       "<style scoped>\n",
       "    .dataframe tbody tr th:only-of-type {\n",
       "        vertical-align: middle;\n",
       "    }\n",
       "\n",
       "    .dataframe tbody tr th {\n",
       "        vertical-align: top;\n",
       "    }\n",
       "\n",
       "    .dataframe thead th {\n",
       "        text-align: right;\n",
       "    }\n",
       "</style>\n",
       "<table border=\"1\" class=\"dataframe\">\n",
       "  <thead>\n",
       "    <tr style=\"text-align: right;\">\n",
       "      <th></th>\n",
       "      <th>1</th>\n",
       "      <th>10</th>\n",
       "      <th>100</th>\n",
       "      <th>1000</th>\n",
       "      <th>10000</th>\n",
       "    </tr>\n",
       "    <tr>\n",
       "      <th>SAMPLE_BARCODE</th>\n",
       "      <th></th>\n",
       "      <th></th>\n",
       "      <th></th>\n",
       "      <th></th>\n",
       "      <th></th>\n",
       "    </tr>\n",
       "  </thead>\n",
       "  <tbody>\n",
       "    <tr>\n",
       "      <th>TCGA-02-0047-01</th>\n",
       "      <td>-0.134350</td>\n",
       "      <td>-0.115823</td>\n",
       "      <td>-0.208325</td>\n",
       "      <td>1.022045</td>\n",
       "      <td>0.645482</td>\n",
       "    </tr>\n",
       "    <tr>\n",
       "      <th>TCGA-02-0055-01</th>\n",
       "      <td>-0.112881</td>\n",
       "      <td>-0.216739</td>\n",
       "      <td>-0.139308</td>\n",
       "      <td>0.683152</td>\n",
       "      <td>0.164651</td>\n",
       "    </tr>\n",
       "    <tr>\n",
       "      <th>TCGA-02-2483-01</th>\n",
       "      <td>-0.122530</td>\n",
       "      <td>-0.178461</td>\n",
       "      <td>-0.112022</td>\n",
       "      <td>1.438602</td>\n",
       "      <td>0.669705</td>\n",
       "    </tr>\n",
       "    <tr>\n",
       "      <th>TCGA-02-2485-01</th>\n",
       "      <td>-0.137654</td>\n",
       "      <td>-0.011428</td>\n",
       "      <td>-0.213943</td>\n",
       "      <td>4.319199</td>\n",
       "      <td>11.303693</td>\n",
       "    </tr>\n",
       "    <tr>\n",
       "      <th>TCGA-02-2486-01</th>\n",
       "      <td>-0.135717</td>\n",
       "      <td>-0.189118</td>\n",
       "      <td>-0.152951</td>\n",
       "      <td>0.986744</td>\n",
       "      <td>0.128316</td>\n",
       "    </tr>\n",
       "  </tbody>\n",
       "</table>\n",
       "</div>"
      ],
      "text/plain": [
       "                        1        10       100      1000      10000\n",
       "SAMPLE_BARCODE                                                    \n",
       "TCGA-02-0047-01 -0.134350 -0.115823 -0.208325  1.022045   0.645482\n",
       "TCGA-02-0055-01 -0.112881 -0.216739 -0.139308  0.683152   0.164651\n",
       "TCGA-02-2483-01 -0.122530 -0.178461 -0.112022  1.438602   0.669705\n",
       "TCGA-02-2485-01 -0.137654 -0.011428 -0.213943  4.319199  11.303693\n",
       "TCGA-02-2486-01 -0.135717 -0.189118 -0.152951  0.986744   0.128316"
      ]
     },
     "metadata": {},
     "output_type": "display_data"
    }
   ],
   "source": [
    "X_df_unscaled = rnaseq_df.reindex(y_df.index)\n",
    "\n",
    "X_df = pd.DataFrame(\n",
    "    StandardScaler().fit_transform(X_df_unscaled),\n",
    "    index=X_df_unscaled.index.copy(),\n",
    "    columns=X_df_unscaled.columns.copy()\n",
    ")\n",
    "\n",
    "# make sure we didn't introduce any NA rows\n",
    "assert X_df.isna().sum().sum() == 0\n",
    "\n",
    "display(X_df.shape,\n",
    "        X_df.isna().sum().sum(),\n",
    "        X_df.iloc[:5, :5])"
   ]
  },
  {
   "cell_type": "markdown",
   "id": "b913bd8f-cabe-44a4-865e-703d23fe697c",
   "metadata": {},
   "source": [
    "### Get distribution of univariate feature correlations"
   ]
  },
  {
   "cell_type": "code",
   "execution_count": 7,
   "id": "9cbc15c7-b2a1-4d8b-b30e-aeaef7b66e1e",
   "metadata": {},
   "outputs": [],
   "source": [
    "def filter_cancer_types(gene, X_df, y_df, sample_freeze_df, mutation_burden_df):\n",
    "    # most of this code is copied from process_y_matrix in pancancer_utilities.tcga_utilities\n",
    "    # \n",
    "    # note this is not including copy number variants, to do that we have to\n",
    "    # know oncogene/TSG status for every gene (need to figure out where to get\n",
    "    # this info)\n",
    "    y_df = (\n",
    "        y_df.merge(\n",
    "            sample_freeze_df,\n",
    "            how='left',\n",
    "            left_index=True,\n",
    "            right_on='SAMPLE_BARCODE'\n",
    "        )\n",
    "        .set_index('SAMPLE_BARCODE')\n",
    "        .merge(mutation_burden_df, left_index=True, right_index=True)\n",
    "    )\n",
    "    disease_counts_df = pd.DataFrame(y_df.groupby('cancer_type').sum()['status'])\n",
    "    disease_proportion_df = disease_counts_df.divide(\n",
    "        y_df['cancer_type'].value_counts(sort=False).sort_index(), axis=0\n",
    "    )\n",
    "    filter_disease_df = (\n",
    "        (disease_counts_df > cfg.filter_count) &\n",
    "        (disease_proportion_df > cfg.filter_prop)\n",
    "    )\n",
    "    disease_proportion_df['disease_included'] = filter_disease_df\n",
    "    disease_proportion_df['count'] = disease_counts_df['status']\n",
    "    filter_disease_df.columns = ['disease_included']\n",
    "    \n",
    "    use_diseases = disease_proportion_df.query('disease_included').index.tolist()\n",
    "    \n",
    "    y_filtered_df = y_df.query('cancer_type in @use_diseases')\n",
    "    X_filtered_df = X_df.reindex(index=y_filtered_df.index)\n",
    "    \n",
    "    return X_filtered_df, y_filtered_df\n",
    "\n",
    "def get_f_stats_for_cancer_types(gene, X_df, y_df):\n",
    "    # filter to cancer types with sufficient mutations\n",
    "    X_filtered_df, y_filtered_df = filter_cancer_types(\n",
    "        gene, X_df, y_df, sample_freeze_df, mut_burden_df\n",
    "    )\n",
    "    assert X_filtered_df.isna().sum().sum() == 0\n",
    "    \n",
    "    # then calculate pan-cancer and specific-cancer f-statistics\n",
    "    # (i.e. univariate correlations with labels)\n",
    "    f_stats_df = {\n",
    "        'pancan': f_classif(X_filtered_df, y_filtered_df.status)[0]\n",
    "    }\n",
    "    for cancer_type in y_filtered_df.cancer_type.unique():\n",
    "        ct_samples = y_filtered_df[y_filtered_df.cancer_type == cancer_type].index\n",
    "        X_ct_df = X_filtered_df.reindex(ct_samples)\n",
    "        y_ct_df = y_filtered_df.reindex(ct_samples)\n",
    "        \n",
    "        f_stats_df[cancer_type] = f_classif(X_ct_df, y_ct_df.status)[0]\n",
    "        \n",
    "    return pd.DataFrame(f_stats_df, index=X_filtered_df.columns)"
   ]
  },
  {
   "cell_type": "code",
   "execution_count": 8,
   "id": "0501051d-d442-4525-8f9f-9c61f45767c8",
   "metadata": {},
   "outputs": [
    {
     "data": {
      "text/plain": [
       "(3435, 16148)"
      ]
     },
     "metadata": {},
     "output_type": "display_data"
    },
    {
     "data": {
      "text/html": [
       "<div>\n",
       "<style scoped>\n",
       "    .dataframe tbody tr th:only-of-type {\n",
       "        vertical-align: middle;\n",
       "    }\n",
       "\n",
       "    .dataframe tbody tr th {\n",
       "        vertical-align: top;\n",
       "    }\n",
       "\n",
       "    .dataframe thead th {\n",
       "        text-align: right;\n",
       "    }\n",
       "</style>\n",
       "<table border=\"1\" class=\"dataframe\">\n",
       "  <thead>\n",
       "    <tr style=\"text-align: right;\">\n",
       "      <th></th>\n",
       "      <th>1</th>\n",
       "      <th>10</th>\n",
       "      <th>100</th>\n",
       "      <th>1000</th>\n",
       "      <th>10000</th>\n",
       "    </tr>\n",
       "    <tr>\n",
       "      <th>SAMPLE_BARCODE</th>\n",
       "      <th></th>\n",
       "      <th></th>\n",
       "      <th></th>\n",
       "      <th></th>\n",
       "      <th></th>\n",
       "    </tr>\n",
       "  </thead>\n",
       "  <tbody>\n",
       "    <tr>\n",
       "      <th>TCGA-02-0047-01</th>\n",
       "      <td>-0.134350</td>\n",
       "      <td>-0.115823</td>\n",
       "      <td>-0.208325</td>\n",
       "      <td>1.022045</td>\n",
       "      <td>0.645482</td>\n",
       "    </tr>\n",
       "    <tr>\n",
       "      <th>TCGA-02-0055-01</th>\n",
       "      <td>-0.112881</td>\n",
       "      <td>-0.216739</td>\n",
       "      <td>-0.139308</td>\n",
       "      <td>0.683152</td>\n",
       "      <td>0.164651</td>\n",
       "    </tr>\n",
       "    <tr>\n",
       "      <th>TCGA-02-2483-01</th>\n",
       "      <td>-0.122530</td>\n",
       "      <td>-0.178461</td>\n",
       "      <td>-0.112022</td>\n",
       "      <td>1.438602</td>\n",
       "      <td>0.669705</td>\n",
       "    </tr>\n",
       "    <tr>\n",
       "      <th>TCGA-02-2485-01</th>\n",
       "      <td>-0.137654</td>\n",
       "      <td>-0.011428</td>\n",
       "      <td>-0.213943</td>\n",
       "      <td>4.319199</td>\n",
       "      <td>11.303693</td>\n",
       "    </tr>\n",
       "    <tr>\n",
       "      <th>TCGA-02-2486-01</th>\n",
       "      <td>-0.135717</td>\n",
       "      <td>-0.189118</td>\n",
       "      <td>-0.152951</td>\n",
       "      <td>0.986744</td>\n",
       "      <td>0.128316</td>\n",
       "    </tr>\n",
       "  </tbody>\n",
       "</table>\n",
       "</div>"
      ],
      "text/plain": [
       "                        1        10       100      1000      10000\n",
       "SAMPLE_BARCODE                                                    \n",
       "TCGA-02-0047-01 -0.134350 -0.115823 -0.208325  1.022045   0.645482\n",
       "TCGA-02-0055-01 -0.112881 -0.216739 -0.139308  0.683152   0.164651\n",
       "TCGA-02-2483-01 -0.122530 -0.178461 -0.112022  1.438602   0.669705\n",
       "TCGA-02-2485-01 -0.137654 -0.011428 -0.213943  4.319199  11.303693\n",
       "TCGA-02-2486-01 -0.135717 -0.189118 -0.152951  0.986744   0.128316"
      ]
     },
     "metadata": {},
     "output_type": "display_data"
    }
   ],
   "source": [
    "X_filtered_df, y_filtered_df = filter_cancer_types(\n",
    "    gene, X_df, y_df, sample_freeze_df, mut_burden_df\n",
    ")\n",
    "display(X_filtered_df.shape, X_filtered_df.iloc[:5, :5])"
   ]
  },
  {
   "cell_type": "markdown",
   "id": "821772ba-bfd4-4f63-9b64-454e8eb41fae",
   "metadata": {
    "tags": []
   },
   "source": [
    "### Heatmaps"
   ]
  },
  {
   "cell_type": "code",
   "execution_count": 9,
   "id": "46f9f4ed-a370-423c-8654-9752e79b97ee",
   "metadata": {},
   "outputs": [
    {
     "data": {
      "text/plain": [
       "(10000,)"
      ]
     },
     "metadata": {},
     "output_type": "display_data"
    },
    {
     "data": {
      "text/plain": [
       "Index(['27134', '7594', '55342', '8503', '253782', '91860', '9453', '10827',\n",
       "       '27236', '7511'],\n",
       "      dtype='object')"
      ]
     },
     "metadata": {},
     "output_type": "display_data"
    }
   ],
   "source": [
    "mad_genes = (X_filtered_df\n",
    "    .mad(axis='index')\n",
    "    .sort_values(ascending=False)\n",
    "    .index\n",
    ")[:num_mad_genes]\n",
    "\n",
    "display(mad_genes.shape, mad_genes[:10])"
   ]
  },
  {
   "cell_type": "code",
   "execution_count": 10,
   "id": "d217ba94-997f-4199-a4c4-0d9349ce56a2",
   "metadata": {},
   "outputs": [
    {
     "data": {
      "text/plain": [
       "(10000, 9)"
      ]
     },
     "metadata": {},
     "output_type": "display_data"
    },
    {
     "data": {
      "text/html": [
       "<div>\n",
       "<style scoped>\n",
       "    .dataframe tbody tr th:only-of-type {\n",
       "        vertical-align: middle;\n",
       "    }\n",
       "\n",
       "    .dataframe tbody tr th {\n",
       "        vertical-align: top;\n",
       "    }\n",
       "\n",
       "    .dataframe thead th {\n",
       "        text-align: right;\n",
       "    }\n",
       "</style>\n",
       "<table border=\"1\" class=\"dataframe\">\n",
       "  <thead>\n",
       "    <tr style=\"text-align: right;\">\n",
       "      <th></th>\n",
       "      <th>pancan</th>\n",
       "      <th>GBM</th>\n",
       "      <th>LUSC</th>\n",
       "      <th>UCEC</th>\n",
       "      <th>CESC</th>\n",
       "    </tr>\n",
       "  </thead>\n",
       "  <tbody>\n",
       "    <tr>\n",
       "      <th>1000</th>\n",
       "      <td>30.712748</td>\n",
       "      <td>1.346641e-03</td>\n",
       "      <td>0.077496</td>\n",
       "      <td>1.670082</td>\n",
       "      <td>0.071961</td>\n",
       "    </tr>\n",
       "    <tr>\n",
       "      <th>10000</th>\n",
       "      <td>60.521706</td>\n",
       "      <td>4.650903e-01</td>\n",
       "      <td>0.980724</td>\n",
       "      <td>0.094307</td>\n",
       "      <td>1.952221</td>\n",
       "    </tr>\n",
       "    <tr>\n",
       "      <th>10001</th>\n",
       "      <td>2.109735</td>\n",
       "      <td>3.217050e-01</td>\n",
       "      <td>2.886425</td>\n",
       "      <td>28.740988</td>\n",
       "      <td>0.212487</td>\n",
       "    </tr>\n",
       "    <tr>\n",
       "      <th>10005</th>\n",
       "      <td>9.575810</td>\n",
       "      <td>9.479898e-01</td>\n",
       "      <td>0.464582</td>\n",
       "      <td>10.191208</td>\n",
       "      <td>0.220327</td>\n",
       "    </tr>\n",
       "    <tr>\n",
       "      <th>10006</th>\n",
       "      <td>48.053270</td>\n",
       "      <td>1.947837e-07</td>\n",
       "      <td>0.767371</td>\n",
       "      <td>1.005452</td>\n",
       "      <td>1.393682</td>\n",
       "    </tr>\n",
       "  </tbody>\n",
       "</table>\n",
       "</div>"
      ],
      "text/plain": [
       "          pancan           GBM      LUSC       UCEC      CESC\n",
       "1000   30.712748  1.346641e-03  0.077496   1.670082  0.071961\n",
       "10000  60.521706  4.650903e-01  0.980724   0.094307  1.952221\n",
       "10001   2.109735  3.217050e-01  2.886425  28.740988  0.212487\n",
       "10005   9.575810  9.479898e-01  0.464582  10.191208  0.220327\n",
       "10006  48.053270  1.947837e-07  0.767371   1.005452  1.393682"
      ]
     },
     "metadata": {},
     "output_type": "display_data"
    }
   ],
   "source": [
    "X_selected_df = X_df.loc[:, X_df.columns.intersection(mad_genes)]\n",
    "f_stats_df = get_f_stats_for_cancer_types(gene, X_selected_df, y_df)\n",
    "    \n",
    "display(f_stats_df.shape, f_stats_df.iloc[:5, :5])"
   ]
  },
  {
   "cell_type": "code",
   "execution_count": 11,
   "id": "26d792c2-a75f-456e-9929-9e34f7368311",
   "metadata": {},
   "outputs": [
    {
     "data": {
      "text/plain": [
       "(100, 8)"
      ]
     },
     "metadata": {},
     "output_type": "display_data"
    },
    {
     "data": {
      "text/html": [
       "<div>\n",
       "<style scoped>\n",
       "    .dataframe tbody tr th:only-of-type {\n",
       "        vertical-align: middle;\n",
       "    }\n",
       "\n",
       "    .dataframe tbody tr th {\n",
       "        vertical-align: top;\n",
       "    }\n",
       "\n",
       "    .dataframe thead th {\n",
       "        text-align: right;\n",
       "    }\n",
       "</style>\n",
       "<table border=\"1\" class=\"dataframe\">\n",
       "  <thead>\n",
       "    <tr style=\"text-align: right;\">\n",
       "      <th></th>\n",
       "      <th>UCEC</th>\n",
       "      <th>CESC</th>\n",
       "      <th>STAD</th>\n",
       "      <th>COAD</th>\n",
       "      <th>BRCA</th>\n",
       "    </tr>\n",
       "  </thead>\n",
       "  <tbody>\n",
       "    <tr>\n",
       "      <th>5229</th>\n",
       "      <td>30.797374</td>\n",
       "      <td>13.561963</td>\n",
       "      <td>16.686732</td>\n",
       "      <td>6.102086</td>\n",
       "      <td>4.399909</td>\n",
       "    </tr>\n",
       "    <tr>\n",
       "      <th>8503</th>\n",
       "      <td>85.110544</td>\n",
       "      <td>15.165847</td>\n",
       "      <td>4.998322</td>\n",
       "      <td>1.193976</td>\n",
       "      <td>4.730130</td>\n",
       "    </tr>\n",
       "    <tr>\n",
       "      <th>8452</th>\n",
       "      <td>20.649365</td>\n",
       "      <td>13.436651</td>\n",
       "      <td>0.190589</td>\n",
       "      <td>3.019774</td>\n",
       "      <td>6.086905</td>\n",
       "    </tr>\n",
       "    <tr>\n",
       "      <th>2065</th>\n",
       "      <td>33.711400</td>\n",
       "      <td>0.240895</td>\n",
       "      <td>3.812066</td>\n",
       "      <td>5.361484</td>\n",
       "      <td>3.688899</td>\n",
       "    </tr>\n",
       "    <tr>\n",
       "      <th>6726</th>\n",
       "      <td>13.858516</td>\n",
       "      <td>11.360587</td>\n",
       "      <td>3.020936</td>\n",
       "      <td>0.381738</td>\n",
       "      <td>3.327115</td>\n",
       "    </tr>\n",
       "  </tbody>\n",
       "</table>\n",
       "</div>"
      ],
      "text/plain": [
       "           UCEC       CESC       STAD      COAD      BRCA\n",
       "5229  30.797374  13.561963  16.686732  6.102086  4.399909\n",
       "8503  85.110544  15.165847   4.998322  1.193976  4.730130\n",
       "8452  20.649365  13.436651   0.190589  3.019774  6.086905\n",
       "2065  33.711400   0.240895   3.812066  5.361484  3.688899\n",
       "6726  13.858516  11.360587   3.020936  0.381738  3.327115"
      ]
     },
     "metadata": {},
     "output_type": "display_data"
    }
   ],
   "source": [
    "f_mad_df = (f_stats_df\n",
    "  .dropna(axis='columns')\n",
    "  .drop(columns=['pancan'])\n",
    "  .loc[mad_genes[:num_genes_to_plot], :]\n",
    ")\n",
    "\n",
    "sorted_genes = f_mad_df.median(axis='columns').sort_values(ascending=False).index\n",
    "f_mad_df = f_mad_df.reindex(sorted_genes)\n",
    "sorted_cancer_types = f_mad_df.median(axis='index').sort_values(ascending=False).index\n",
    "f_mad_df = f_mad_df.reindex(columns=sorted_cancer_types)\n",
    "\n",
    "display(f_mad_df.shape, f_mad_df.iloc[:5, :5])"
   ]
  },
  {
   "cell_type": "code",
   "execution_count": 12,
   "id": "1752ebe1-91f1-4cc5-b3f9-99901c3b8e24",
   "metadata": {},
   "outputs": [
    {
     "data": {
      "text/plain": [
       "<AxesSubplot:>"
      ]
     },
     "execution_count": 12,
     "metadata": {},
     "output_type": "execute_result"
    },
    {
     "data": {
      "image/png": "[encoded data removed]",
      "text/plain": [
       "<Figure size 864x432 with 2 Axes>"
      ]
     },
     "metadata": {},
     "output_type": "display_data"
    }
   ],
   "source": [
    "sns.set({'figure.figsize': (12, 6)})\n",
    "\n",
    "max_mad_value = f_mad_df.max().max()\n",
    "sns.heatmap(f_mad_df.T)"
   ]
  },
  {
   "cell_type": "code",
   "execution_count": 13,
   "id": "d52e6fc7-b33c-4264-86ed-97db319b86f3",
   "metadata": {},
   "outputs": [
    {
     "data": {
      "text/plain": [
       "(10000,)"
      ]
     },
     "metadata": {},
     "output_type": "display_data"
    },
    {
     "data": {
      "text/plain": [
       "Index(['80150', '64321', '53407', '10251', '1750', '1749', '29091', '168002',\n",
       "       '25776', '84281'],\n",
       "      dtype='object')"
      ]
     },
     "metadata": {},
     "output_type": "display_data"
    }
   ],
   "source": [
    "pancan_genes = f_stats_df.pancan.sort_values(ascending=False).index\n",
    "display(pancan_genes.shape, pancan_genes[:10])"
   ]
  },
  {
   "cell_type": "code",
   "execution_count": 14,
   "id": "d3093402-6830-423d-af8d-ccb1f4ce96b1",
   "metadata": {},
   "outputs": [
    {
     "data": {
      "text/plain": [
       "(100, 8)"
      ]
     },
     "metadata": {},
     "output_type": "display_data"
    },
    {
     "data": {
      "text/html": [
       "<div>\n",
       "<style scoped>\n",
       "    .dataframe tbody tr th:only-of-type {\n",
       "        vertical-align: middle;\n",
       "    }\n",
       "\n",
       "    .dataframe tbody tr th {\n",
       "        vertical-align: top;\n",
       "    }\n",
       "\n",
       "    .dataframe thead th {\n",
       "        text-align: right;\n",
       "    }\n",
       "</style>\n",
       "<table border=\"1\" class=\"dataframe\">\n",
       "  <thead>\n",
       "    <tr style=\"text-align: right;\">\n",
       "      <th></th>\n",
       "      <th>UCEC</th>\n",
       "      <th>CESC</th>\n",
       "      <th>STAD</th>\n",
       "      <th>COAD</th>\n",
       "      <th>BRCA</th>\n",
       "    </tr>\n",
       "  </thead>\n",
       "  <tbody>\n",
       "    <tr>\n",
       "      <th>25864</th>\n",
       "      <td>12.964354</td>\n",
       "      <td>6.726707</td>\n",
       "      <td>2.296072</td>\n",
       "      <td>8.889213</td>\n",
       "      <td>2.136359</td>\n",
       "    </tr>\n",
       "    <tr>\n",
       "      <th>10251</th>\n",
       "      <td>51.348697</td>\n",
       "      <td>0.366850</td>\n",
       "      <td>5.991707</td>\n",
       "      <td>8.877541</td>\n",
       "      <td>1.729005</td>\n",
       "    </tr>\n",
       "    <tr>\n",
       "      <th>6001</th>\n",
       "      <td>12.692112</td>\n",
       "      <td>1.100509</td>\n",
       "      <td>3.248870</td>\n",
       "      <td>6.848143</td>\n",
       "      <td>0.064522</td>\n",
       "    </tr>\n",
       "    <tr>\n",
       "      <th>55135</th>\n",
       "      <td>12.254324</td>\n",
       "      <td>1.523795</td>\n",
       "      <td>4.549632</td>\n",
       "      <td>12.155181</td>\n",
       "      <td>0.117446</td>\n",
       "    </tr>\n",
       "    <tr>\n",
       "      <th>25854</th>\n",
       "      <td>56.093083</td>\n",
       "      <td>3.797107</td>\n",
       "      <td>0.930757</td>\n",
       "      <td>3.951083</td>\n",
       "      <td>1.654215</td>\n",
       "    </tr>\n",
       "  </tbody>\n",
       "</table>\n",
       "</div>"
      ],
      "text/plain": [
       "            UCEC      CESC      STAD       COAD      BRCA\n",
       "25864  12.964354  6.726707  2.296072   8.889213  2.136359\n",
       "10251  51.348697  0.366850  5.991707   8.877541  1.729005\n",
       "6001   12.692112  1.100509  3.248870   6.848143  0.064522\n",
       "55135  12.254324  1.523795  4.549632  12.155181  0.117446\n",
       "25854  56.093083  3.797107  0.930757   3.951083  1.654215"
      ]
     },
     "metadata": {},
     "output_type": "display_data"
    }
   ],
   "source": [
    "f_pancan_df = (f_stats_df\n",
    "  .dropna(axis='columns')\n",
    "  .drop(columns=['pancan'])\n",
    "  .loc[pancan_genes[:num_genes_to_plot], :]\n",
    ")\n",
    "\n",
    "sorted_genes = f_pancan_df.median(axis='columns').sort_values(ascending=False).index\n",
    "f_pancan_df = f_pancan_df.reindex(sorted_genes).reindex(columns=sorted_cancer_types)\n",
    "\n",
    "display(f_pancan_df.shape, f_pancan_df.iloc[:5, :5])"
   ]
  },
  {
   "cell_type": "code",
   "execution_count": 15,
   "id": "70f6bf7b-8d8a-4b3e-b801-584fa514e82a",
   "metadata": {},
   "outputs": [
    {
     "data": {
      "text/plain": [
       "<AxesSubplot:>"
      ]
     },
     "execution_count": 15,
     "metadata": {},
     "output_type": "execute_result"
    },
    {
     "data": {
      "image/png": "[encoded data removed]",
      "text/plain": [
       "<Figure size 864x432 with 2 Axes>"
      ]
     },
     "metadata": {},
     "output_type": "display_data"
    }
   ],
   "source": [
    "sns.set({'figure.figsize': (12, 6)})\n",
    "\n",
    "f_pancan_df.where(f_pancan_df <= max_mad_value, max_mad_value, inplace=True)\n",
    "sns.heatmap(f_pancan_df.T)"
   ]
  },
  {
   "cell_type": "code",
   "execution_count": 16,
   "id": "4fb99632-0b6d-4485-90b8-4249322157b5",
   "metadata": {},
   "outputs": [
    {
     "data": {
      "text/plain": [
       "(10000,)"
      ]
     },
     "metadata": {},
     "output_type": "display_data"
    },
    {
     "data": {
      "text/plain": [
       "Index(['60528', '2872', '126308', '54836', '55251', '30001', '27245', '55255',\n",
       "       '57405', '10014'],\n",
       "      dtype='object')"
      ]
     },
     "metadata": {},
     "output_type": "display_data"
    }
   ],
   "source": [
    "median_genes = (f_stats_df\n",
    "  .drop(columns=['pancan'])\n",
    "  .median(axis='columns')\n",
    "  .sort_values(ascending=False)\n",
    "  .index\n",
    ")\n",
    "display(median_genes.shape, median_genes[:10])"
   ]
  },
  {
   "cell_type": "code",
   "execution_count": 17,
   "id": "ab969dc1-69bc-4d5b-a663-f6f613775baf",
   "metadata": {},
   "outputs": [
    {
     "data": {
      "text/plain": [
       "(100, 8)"
      ]
     },
     "metadata": {},
     "output_type": "display_data"
    },
    {
     "data": {
      "text/html": [
       "<div>\n",
       "<style scoped>\n",
       "    .dataframe tbody tr th:only-of-type {\n",
       "        vertical-align: middle;\n",
       "    }\n",
       "\n",
       "    .dataframe tbody tr th {\n",
       "        vertical-align: top;\n",
       "    }\n",
       "\n",
       "    .dataframe thead th {\n",
       "        text-align: right;\n",
       "    }\n",
       "</style>\n",
       "<table border=\"1\" class=\"dataframe\">\n",
       "  <thead>\n",
       "    <tr style=\"text-align: right;\">\n",
       "      <th></th>\n",
       "      <th>UCEC</th>\n",
       "      <th>CESC</th>\n",
       "      <th>STAD</th>\n",
       "      <th>COAD</th>\n",
       "      <th>BRCA</th>\n",
       "    </tr>\n",
       "  </thead>\n",
       "  <tbody>\n",
       "    <tr>\n",
       "      <th>60528</th>\n",
       "      <td>20.489800</td>\n",
       "      <td>9.870274</td>\n",
       "      <td>13.516405</td>\n",
       "      <td>9.084276</td>\n",
       "      <td>0.065692</td>\n",
       "    </tr>\n",
       "    <tr>\n",
       "      <th>2872</th>\n",
       "      <td>103.177151</td>\n",
       "      <td>13.888587</td>\n",
       "      <td>10.045344</td>\n",
       "      <td>1.771473</td>\n",
       "      <td>6.283088</td>\n",
       "    </tr>\n",
       "    <tr>\n",
       "      <th>126308</th>\n",
       "      <td>90.261170</td>\n",
       "      <td>0.002124</td>\n",
       "      <td>8.890955</td>\n",
       "      <td>6.892435</td>\n",
       "      <td>10.445159</td>\n",
       "    </tr>\n",
       "    <tr>\n",
       "      <th>54836</th>\n",
       "      <td>64.296128</td>\n",
       "      <td>13.435696</td>\n",
       "      <td>2.633112</td>\n",
       "      <td>7.541723</td>\n",
       "      <td>0.307509</td>\n",
       "    </tr>\n",
       "    <tr>\n",
       "      <th>55251</th>\n",
       "      <td>39.808450</td>\n",
       "      <td>4.306524</td>\n",
       "      <td>9.930459</td>\n",
       "      <td>18.524199</td>\n",
       "      <td>1.319150</td>\n",
       "    </tr>\n",
       "  </tbody>\n",
       "</table>\n",
       "</div>"
      ],
      "text/plain": [
       "              UCEC       CESC       STAD       COAD       BRCA\n",
       "60528    20.489800   9.870274  13.516405   9.084276   0.065692\n",
       "2872    103.177151  13.888587  10.045344   1.771473   6.283088\n",
       "126308   90.261170   0.002124   8.890955   6.892435  10.445159\n",
       "54836    64.296128  13.435696   2.633112   7.541723   0.307509\n",
       "55251    39.808450   4.306524   9.930459  18.524199   1.319150"
      ]
     },
     "metadata": {},
     "output_type": "display_data"
    }
   ],
   "source": [
    "f_median_df = (f_stats_df\n",
    "  .dropna(axis='columns')\n",
    "  .drop(columns=['pancan'])\n",
    "  .loc[median_genes[:num_genes_to_plot], :]\n",
    ")\n",
    "\n",
    "sorted_genes = f_median_df.median(axis='columns').sort_values(ascending=False).index\n",
    "f_median_df = f_median_df.reindex(sorted_genes).reindex(columns=sorted_cancer_types)\n",
    "\n",
    "display(f_median_df.shape, f_median_df.iloc[:5, :5])"
   ]
  },
  {
   "cell_type": "code",
   "execution_count": 18,
   "id": "bcac3f5a-014b-4993-9007-982c26d0fe0b",
   "metadata": {},
   "outputs": [
    {
     "data": {
      "text/plain": [
       "<AxesSubplot:>"
      ]
     },
     "execution_count": 18,
     "metadata": {},
     "output_type": "execute_result"
    },
    {
     "data": {
      "image/png": "[encoded data removed]",
      "text/plain": [
       "<Figure size 864x432 with 2 Axes>"
      ]
     },
     "metadata": {},
     "output_type": "display_data"
    }
   ],
   "source": [
    "sns.set({'figure.figsize': (12, 6)})\n",
    "\n",
    "f_median_df.where(f_median_df <= max_mad_value, max_mad_value, inplace=True)\n",
    "sns.heatmap(f_median_df.T)"
   ]
  },
  {
   "cell_type": "code",
   "execution_count": 19,
   "id": "02eba3e4-c824-493d-8f68-93d109281d6f",
   "metadata": {},
   "outputs": [
    {
     "data": {
      "image/png": "[encoded data removed]",
      "text/plain": [
       "<Figure size 1728x432 with 4 Axes>"
      ]
     },
     "metadata": {},
     "output_type": "display_data"
    }
   ],
   "source": [
    "sns.set({'figure.figsize': (24, 6)})\n",
    "\n",
    "fig, axarr = plt.subplots(1, 3)\n",
    "cbar_ax = fig.add_axes([.91, .3, .03, .4])\n",
    "\n",
    "sns.heatmap(f_mad_df.T, ax=axarr[0], cbar=False)\n",
    "axarr[0].set_title('Top {} genes by median absolute deviation'.format(num_genes_to_plot))\n",
    "axarr[0].set_xticklabels([])\n",
    "axarr[0].set_xlabel('Genes', size=12)\n",
    "axarr[0].set_ylabel('Cancer types included in classifier', size=12)\n",
    "\n",
    "sns.heatmap(f_pancan_df.T, ax=axarr[1], cbar=False)\n",
    "axarr[1].set_title(r'Top {} genes by pan-cancer $f$-statistic'.format(num_genes_to_plot))\n",
    "axarr[1].set_xticklabels([])\n",
    "axarr[1].set_xlabel('Genes', size=12)\n",
    "\n",
    "sns.heatmap(f_median_df.T, ax=axarr[2], cbar_ax=cbar_ax)\n",
    "axarr[2].set_title(r'Top {} genes by median $f$-statistic across cancer types'.format(num_genes_to_plot))\n",
    "axarr[2].set_xticklabels([])\n",
    "axarr[2].set_xlabel('Genes', size=12)\n",
    "\n",
    "plt.suptitle(r'Univariate $f$-statistic distributions for {} mutation status prediction'.format(gene), size=14)\n",
    "\n",
    "if output_plots:\n",
    "    output_plots_dir.mkdir(exist_ok=True)\n",
    "    plt.savefig(output_plots_dir / '{}_heatmaps.png'.format(gene),\n",
    "                dpi=200, bbox_inches='tight')"
   ]
  },
  {
   "cell_type": "markdown",
   "id": "d1631e69-a75a-44ef-a1f3-107cf30a915b",
   "metadata": {},
   "source": [
    "For _PTEN_ above we can definitely see the expected trend - in the left and middle heatmaps we see that most genes have low correlations/$f$-statistics in most cancer types, but in the right heatmap we can see that the $f$-statistics are more evenly distributed across cancer types (although still largely dominated by correlations in UCEC, where _PTEN_ is frequently mutated and is thought to have a strong driver effect)."
   ]
  }
 ],
 "metadata": {
  "kernelspec": {
   "display_name": "Python [conda env:pc-eval]",
   "language": "python",
   "name": "conda-env-pc-eval-py"
  },
  "language_info": {
   "codemirror_mode": {
    "name": "ipython",
    "version": 3
   },
   "file_extension": ".py",
   "mimetype": "text/x-python",
   "name": "python",
   "nbconvert_exporter": "python",
   "pygments_lexer": "ipython3",
   "version": "3.8.13"
  }
 },
 "nbformat": 4,
 "nbformat_minor": 5
}
