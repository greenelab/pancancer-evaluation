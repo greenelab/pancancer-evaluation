{
 "cells": [
  {
   "cell_type": "markdown",
   "metadata": {},
   "source": [
    "## Visualization of f-statistic distributions for selected features"
   ]
  },
  {
   "cell_type": "code",
   "execution_count": 1,
   "metadata": {},
   "outputs": [],
   "source": [
    "import os\n",
    "import sys\n",
    "\n",
    "import numpy as np\n",
    "import pandas as pd\n",
    "import matplotlib.pyplot as plt\n",
    "import seaborn as sns\n",
    "\n",
    "import pancancer_evaluation.config as cfg\n",
    "import pancancer_evaluation.utilities.analysis_utilities as au\n",
    "\n",
    "%load_ext autoreload\n",
    "%autoreload 2"
   ]
  },
  {
   "cell_type": "markdown",
   "metadata": {},
   "source": [
    "### Load selected coefficients"
   ]
  },
  {
   "cell_type": "code",
   "execution_count": 2,
   "metadata": {},
   "outputs": [],
   "source": [
    "results_dir = os.path.join('results', 'univariate_fs', 'pancancer')"
   ]
  },
  {
   "cell_type": "code",
   "execution_count": 3,
   "metadata": {},
   "outputs": [
    {
     "name": "stdout",
     "output_type": "stream",
     "text": [
      "40\n"
     ]
    }
   ],
   "source": [
    "# gene to analyze features for\n",
    "gene = 'PIK3CA'\n",
    "\n",
    "id_coefs_info = []\n",
    "for identifier, coefs_list in au.generate_nonzero_coefficients_fs(\n",
    "        results_dir, cfg.fs_methods):\n",
    "    if not identifier.startswith(gene): continue\n",
    "    for fold_no, coefs in enumerate(coefs_list):\n",
    "        id_coefs_info.append([identifier, fold_no, coefs])\n",
    "        \n",
    "print(len(id_coefs_info))"
   ]
  },
  {
   "cell_type": "code",
   "execution_count": 4,
   "metadata": {},
   "outputs": [
    {
     "name": "stdout",
     "output_type": "stream",
     "text": [
      "3\n",
      "['PIK3CA_mad_n1000', 0, [('5708', 0.15391), ('7037', 0.12557000000000001), ('1981', 0.12379000000000001), ('5476', -0.09314700000000001), ('5295', 0.09281), ('1495', 0.092049), ('9528', -0.085841), ('1173', 0.084017), ('720', 0.077484), ('8662', -0.075491), ('7803', -0.074432), ('5738', 0.074429), ('1452', 0.072449), ('9982', -0.067751), ('2782', -0.067039), ('2064', -0.066095), ('60481', 0.06448), ('79888', -0.06442), ('10057', 0.06428099999999999), ('7171', 0.06314), ('21', -0.060551999999999995), ('677', 0.060325), ('55920', 0.059345), ('71', 0.056538), ('3481', -0.05567999999999999), ('150094', -0.055101), ('5885', -0.054437), ('2817', 0.053003999999999996), ('3880', 0.052761), ('1345', -0.052283), ('6156', -0.051691999999999995), ('771', 0.051455999999999995), ('999', 0.050896), ('2034', -0.050719), ('3710', -0.050683), ('6125', -0.050527999999999997), ('7812', -0.049960000000000004), ('7555', -0.049198), ('23022', 0.049189), ('3005', -0.048707), ('3326', -0.048598), ('5654', 0.048251), ('7415', -0.047918), ('9761', 0.047798), ('2125', -0.047457), ('6165', 0.047373), ('7094', -0.046897), ('4502', -0.046785), ('4313', 0.046535), ('857', -0.045816), ('10383', 0.045653), ('7453', 0.04515), ('57348', -0.044657), ('63827', -0.044121), ('6451', 0.044015), ('3557', -0.043997), ('9620', 0.043979000000000004), ('1026', 0.043775), ('5757', 0.0436), ('4680', -0.043503), ('217', -0.043258), ('83998', -0.043082), ('5045', -0.042768), ('84790', 0.042306), ('27250', 0.042109), ('1622', 0.040963), ('79784', 0.040705), ('7316', -0.040544), ('7267', 0.040507999999999995), ('9476', -0.040427), ('30061', 0.040263), ('203068', 0.039126999999999995), ('10095', -0.038902), ('4779', -0.038813), ('3914', -0.038709), ('715', -0.038511000000000004), ('2674', 0.038310000000000004), ('51142', -0.038303), ('1893', -0.037882), ('84152', -0.037701), ('8490', -0.037598), ('10631', 0.037418), ('10763', -0.037321), ('5226', 0.037207), ('3855', -0.037054000000000004), ('972', 0.036911), ('308', -0.03594), ('23020', -0.035748), ('5339', -0.03551), ('10768', -0.035497), ('23471', -0.035124), ('2261', -0.035009), ('22883', -0.034987), ('823', -0.034759), ('805', -0.034633), ('6535', 0.034294), ('3675', -0.033957), ('7345', -0.033951), ('7127', 0.033807), ('2', -0.033699), ('9592', 0.033479), ('6275', -0.032331), ('3429', 0.032327999999999996), ('595', -0.032244999999999996), ('3945', -0.03215), ('50848', 0.031695999999999995), ('1410', -0.031646), ('5358', -0.031597), ('1808', -0.031243), ('3133', 0.030918), ('10959', -0.030897000000000004), ('6128', 0.0307), ('1604', -0.030323000000000003), ('4926', -0.030258999999999998), ('5692', -0.029802999999999996), ('3337', 0.028457999999999997), ('1958', 0.028451999999999998), ('8644', 0.028446), ('3304', 0.028020999999999997), ('5355', -0.027993999999999998), ('8531', -0.027718), ('5655', -0.027696), ('3959', 0.027442), ('54407', -0.027408999999999996), ('10971', 0.02727), ('3021', -0.02659), ('3858', 0.026527999999999996), ('5223', 0.026416000000000002), ('216', 0.026239), ('1213', -0.025752999999999998), ('5265', -0.025292), ('5098', 0.02494), ('3169', 0.024706), ('5094', -0.024408000000000003), ('4316', 0.024291), ('7494', 0.024197), ('10562', 0.023553), ('6171', 0.023426), ('5351', 0.023421), ('6143', -0.023395), ('7314', -0.023339), ('643834', 0.023234), ('684', 0.023185), ('9635', 0.022775999999999998), ('log10_mut', 0.022581), ('8743', 0.022336), ('91663', -0.022149000000000002), ('5621', -0.021634), ('11057', -0.021628), ('23499', -0.021609), ('481', 0.021458), ('667', -0.021434), ('2013', 0.021404), ('23654', 0.020797), ('5328', -0.020784), ('4233', -0.020753), ('7351', 0.020485), ('25800', -0.01985), ('9672', 0.019732), ('729238', -0.019609), ('8407', 0.019579), ('10109', -0.019456), ('6542', -0.019312), ('65125', -0.019191999999999997), ('22948', -0.019122), ('727897', -0.018837), ('182', 0.018806), ('6187', 0.018738), ('3309', 0.01865), ('4609', -0.018236000000000002), ('6319', 0.017794), ('3485', 0.017669999999999998), ('8763', 0.017662999999999998), ('4000', -0.017603999999999998), ('5430', -0.017516), ('4071', -0.017224), ('1822', -0.017157), ('3853', 0.017147), ('9806', -0.016961), ('30812', -0.016030000000000003), ('9948', 0.015734), ('56667', -0.01569), ('114908', -0.015158000000000001), ('4784', -0.014731999999999999), ('2023', -0.014721000000000001), ('8553', 0.014641), ('7078', -0.014098), ('80781', 0.013973), ('567', 0.013911000000000001), ('6134', 0.013655), ('2353', 0.013632), ('2907', -0.01344), ('3192', 0.013363), ('9601', 0.013102), ('2288', -0.013078999999999999), ('51386', -0.013043), ('6146', -0.013019), ('10537', 0.013002000000000001), ('563', 0.012933000000000002), ('493', -0.012916999999999998), ('92747', 0.012734), ('64855', -0.012647), ('1075', 0.012368), ('51458', -0.012225), ('116448', -0.012216), ('3383', -0.011858), ('3487', -0.011775), ('6659', 0.011553), ('23204', -0.01145), ('6711', -0.011356), ('8870', 0.010633), ('2335', -0.010625), ('1728', 0.010506999999999999), ('4130', -0.010218000000000001), ('83442', 0.0097891), ('828', 0.009671299999999999), ('8878', -0.0096322), ('3488', 0.0095142), ('498', -0.0091462), ('60681', 0.0089855), ('10972', 0.008843), ('10313', -0.0088041), ('3694', -0.008803499999999999), ('2012', -0.00875), ('55959', 0.0086009), ('11167', 0.0079263), ('2273', -0.007776899999999999), ('64093', -0.0077169), ('171024', -0.007332300000000001), ('6194', -0.006926899999999999), ('3486', 0.0067723), ('347', 0.0067059), ('975', 0.0062932), ('3315', 0.0061988), ('284119', -0.0061272), ('4053', -0.0059318), ('4192', 0.0057641), ('908', -0.0056947), ('4072', -0.0053033), ('5709', -0.005293), ('3983', 0.0051722), ('301', -0.0045052), ('1645', 0.004031600000000001), ('64114', -0.0039689999999999994), ('3320', 0.0039257), ('1362', -0.0038881000000000002), ('23208', -0.0036121), ('56889', 0.0032156), ('10627', -0.0030974), ('3117', 0.0030729), ('56649', 0.0029611), ('3190', 0.0025046), ('6184', -0.0018682000000000002), ('1499', 0.0013957000000000002), ('2821', 0.0009947), ('92154', -0.00095123), ('477', -0.0007884)]]\n"
     ]
    }
   ],
   "source": [
    "print(len(id_coefs_info[0]))\n",
    "print(id_coefs_info[0])"
   ]
  },
  {
   "cell_type": "code",
   "execution_count": 5,
   "metadata": {},
   "outputs": [
    {
     "name": "stdout",
     "output_type": "stream",
     "text": [
      "['PIK3CA_mad_n1000', 'PIK3CA_median_f_test_n100', 'PIK3CA_mad_n100', 'PIK3CA_mad_f_test_n100', 'PIK3CA_pancan_f_test_n100']\n"
     ]
    }
   ],
   "source": [
    "# list of sets, one for each feature selection method, of\n",
    "# features that were selected in at least one cross-validation fold\n",
    "fs_method_coefs = {}\n",
    "for coefs_list in id_coefs_info:\n",
    "    identifier = coefs_list[0]\n",
    "    features = list(zip(*coefs_list[2]))[0]\n",
    "    if identifier in fs_method_coefs:\n",
    "        fs_method_coefs[identifier].update(features)\n",
    "    else:\n",
    "        fs_method_coefs[identifier] = set(features)\n",
    "    \n",
    "print(list(fs_method_coefs.keys()))"
   ]
  },
  {
   "cell_type": "markdown",
   "metadata": {},
   "source": [
    "### Get distribution of univariate feature correlations\n",
    "\n",
    "NOTE: these won't be exactly what was used for feature selection since we're not doing the same train/test splits here, or filtering cancer types by mutation count -- instead we're just calculating on the whole dataset. This could and probably should be fixed in the future, the actual distributions that we're selecting features based on could be quite different."
   ]
  },
  {
   "cell_type": "code",
   "execution_count": 6,
   "metadata": {},
   "outputs": [
    {
     "name": "stderr",
     "output_type": "stream",
     "text": [
      "Loading gene label data...\n",
      "Loading sample info...\n",
      "Loading pan-cancer data from cached pickle file...\n",
      "Loading gene expression data...\n",
      "Standardizing columns of expression data...\n"
     ]
    }
   ],
   "source": [
    "from sklearn.preprocessing import StandardScaler\n",
    "from sklearn.feature_selection import f_classif\n",
    "\n",
    "import pancancer_evaluation.utilities.data_utilities as du\n",
    "\n",
    "print('Loading gene label data...', file=sys.stderr)\n",
    "genes_df = du.load_top_50()\n",
    "sample_info_df = du.load_sample_info(verbose=True)\n",
    "\n",
    "# this returns a tuple of dataframes, unpack it below\n",
    "pancancer_data = du.load_pancancer_data(verbose=True)\n",
    "(sample_freeze_df,\n",
    " mutation_df,\n",
    " copy_loss_df,\n",
    " copy_gain_df,\n",
    " mut_burden_df) = pancancer_data\n",
    "\n",
    "rnaseq_df = du.load_expression_data(verbose=True)\n",
    "\n",
    "# standardize columns of expression dataframe\n",
    "print('Standardizing columns of expression data...', file=sys.stderr)\n",
    "rnaseq_df[rnaseq_df.columns] = StandardScaler().fit_transform(rnaseq_df[rnaseq_df.columns])"
   ]
  },
  {
   "cell_type": "code",
   "execution_count": 7,
   "metadata": {},
   "outputs": [
    {
     "name": "stdout",
     "output_type": "stream",
     "text": [
      "(11060, 16148)\n"
     ]
    },
    {
     "data": {
      "text/html": [
       "<div>\n",
       "<style scoped>\n",
       "    .dataframe tbody tr th:only-of-type {\n",
       "        vertical-align: middle;\n",
       "    }\n",
       "\n",
       "    .dataframe tbody tr th {\n",
       "        vertical-align: top;\n",
       "    }\n",
       "\n",
       "    .dataframe thead th {\n",
       "        text-align: right;\n",
       "    }\n",
       "</style>\n",
       "<table border=\"1\" class=\"dataframe\">\n",
       "  <thead>\n",
       "    <tr style=\"text-align: right;\">\n",
       "      <th></th>\n",
       "      <th>1</th>\n",
       "      <th>10</th>\n",
       "      <th>100</th>\n",
       "      <th>1000</th>\n",
       "      <th>10000</th>\n",
       "    </tr>\n",
       "    <tr>\n",
       "      <th>sample_id</th>\n",
       "      <th></th>\n",
       "      <th></th>\n",
       "      <th></th>\n",
       "      <th></th>\n",
       "      <th></th>\n",
       "    </tr>\n",
       "  </thead>\n",
       "  <tbody>\n",
       "    <tr>\n",
       "      <th>TCGA-02-0047-01</th>\n",
       "      <td>-0.144100</td>\n",
       "      <td>-0.136450</td>\n",
       "      <td>-0.207065</td>\n",
       "      <td>1.049402</td>\n",
       "      <td>0.644625</td>\n",
       "    </tr>\n",
       "    <tr>\n",
       "      <th>TCGA-02-0055-01</th>\n",
       "      <td>-0.124925</td>\n",
       "      <td>-0.197893</td>\n",
       "      <td>-0.132694</td>\n",
       "      <td>0.704438</td>\n",
       "      <td>0.154763</td>\n",
       "    </tr>\n",
       "    <tr>\n",
       "      <th>TCGA-02-2483-01</th>\n",
       "      <td>-0.133543</td>\n",
       "      <td>-0.174587</td>\n",
       "      <td>-0.103291</td>\n",
       "      <td>1.473420</td>\n",
       "      <td>0.669303</td>\n",
       "    </tr>\n",
       "    <tr>\n",
       "      <th>TCGA-02-2485-01</th>\n",
       "      <td>-0.147052</td>\n",
       "      <td>-0.072888</td>\n",
       "      <td>-0.213119</td>\n",
       "      <td>4.405612</td>\n",
       "      <td>11.503035</td>\n",
       "    </tr>\n",
       "    <tr>\n",
       "      <th>TCGA-02-2486-01</th>\n",
       "      <td>-0.145321</td>\n",
       "      <td>-0.181076</td>\n",
       "      <td>-0.147395</td>\n",
       "      <td>1.013468</td>\n",
       "      <td>0.117745</td>\n",
       "    </tr>\n",
       "  </tbody>\n",
       "</table>\n",
       "</div>"
      ],
      "text/plain": [
       "                        1        10       100      1000      10000\n",
       "sample_id                                                         \n",
       "TCGA-02-0047-01 -0.144100 -0.136450 -0.207065  1.049402   0.644625\n",
       "TCGA-02-0055-01 -0.124925 -0.197893 -0.132694  0.704438   0.154763\n",
       "TCGA-02-2483-01 -0.133543 -0.174587 -0.103291  1.473420   0.669303\n",
       "TCGA-02-2485-01 -0.147052 -0.072888 -0.213119  4.405612  11.503035\n",
       "TCGA-02-2486-01 -0.145321 -0.181076 -0.147395  1.013468   0.117745"
      ]
     },
     "execution_count": 7,
     "metadata": {},
     "output_type": "execute_result"
    }
   ],
   "source": [
    "print(rnaseq_df.shape)\n",
    "rnaseq_df.iloc[:5, :5]"
   ]
  },
  {
   "cell_type": "code",
   "execution_count": 8,
   "metadata": {},
   "outputs": [
    {
     "data": {
      "text/plain": [
       "(9074, 3)"
      ]
     },
     "metadata": {},
     "output_type": "display_data"
    },
    {
     "data": {
      "text/html": [
       "<div>\n",
       "<style scoped>\n",
       "    .dataframe tbody tr th:only-of-type {\n",
       "        vertical-align: middle;\n",
       "    }\n",
       "\n",
       "    .dataframe tbody tr th {\n",
       "        vertical-align: top;\n",
       "    }\n",
       "\n",
       "    .dataframe thead th {\n",
       "        text-align: right;\n",
       "    }\n",
       "</style>\n",
       "<table border=\"1\" class=\"dataframe\">\n",
       "  <thead>\n",
       "    <tr style=\"text-align: right;\">\n",
       "      <th></th>\n",
       "      <th>status</th>\n",
       "      <th>cancer_type</th>\n",
       "      <th>subtype</th>\n",
       "    </tr>\n",
       "    <tr>\n",
       "      <th>SAMPLE_BARCODE</th>\n",
       "      <th></th>\n",
       "      <th></th>\n",
       "      <th></th>\n",
       "    </tr>\n",
       "  </thead>\n",
       "  <tbody>\n",
       "    <tr>\n",
       "      <th>TCGA-02-0047-01</th>\n",
       "      <td>1</td>\n",
       "      <td>GBM</td>\n",
       "      <td>IDHwt</td>\n",
       "    </tr>\n",
       "    <tr>\n",
       "      <th>TCGA-02-0055-01</th>\n",
       "      <td>0</td>\n",
       "      <td>GBM</td>\n",
       "      <td>IDHwt</td>\n",
       "    </tr>\n",
       "    <tr>\n",
       "      <th>TCGA-02-2483-01</th>\n",
       "      <td>0</td>\n",
       "      <td>GBM</td>\n",
       "      <td>IDHmut-non-codel</td>\n",
       "    </tr>\n",
       "    <tr>\n",
       "      <th>TCGA-02-2485-01</th>\n",
       "      <td>1</td>\n",
       "      <td>GBM</td>\n",
       "      <td>IDHwt</td>\n",
       "    </tr>\n",
       "    <tr>\n",
       "      <th>TCGA-02-2486-01</th>\n",
       "      <td>0</td>\n",
       "      <td>GBM</td>\n",
       "      <td>IDHwt</td>\n",
       "    </tr>\n",
       "  </tbody>\n",
       "</table>\n",
       "</div>"
      ],
      "text/plain": [
       "                 status cancer_type           subtype\n",
       "SAMPLE_BARCODE                                       \n",
       "TCGA-02-0047-01       1         GBM             IDHwt\n",
       "TCGA-02-0055-01       0         GBM             IDHwt\n",
       "TCGA-02-2483-01       0         GBM  IDHmut-non-codel\n",
       "TCGA-02-2485-01       1         GBM             IDHwt\n",
       "TCGA-02-2486-01       0         GBM             IDHwt"
      ]
     },
     "metadata": {},
     "output_type": "display_data"
    }
   ],
   "source": [
    "y_df = (mutation_df\n",
    "    .loc[:, [gene]]\n",
    "    .merge(sample_freeze_df, left_index=True, right_on='SAMPLE_BARCODE')\n",
    "    .drop(columns='PATIENT_BARCODE')\n",
    "    .set_index('SAMPLE_BARCODE')\n",
    "    .rename(columns={gene: 'status',\n",
    "                     'DISEASE': 'cancer_type',\n",
    "                     'SUBTYPE': 'subtype'})\n",
    ")\n",
    "display(y_df.shape, y_df.head())"
   ]
  },
  {
   "cell_type": "code",
   "execution_count": 9,
   "metadata": {},
   "outputs": [
    {
     "data": {
      "text/plain": [
       "(9074, 16148)"
      ]
     },
     "metadata": {},
     "output_type": "display_data"
    },
    {
     "data": {
      "text/plain": [
       "0"
      ]
     },
     "metadata": {},
     "output_type": "display_data"
    },
    {
     "data": {
      "text/html": [
       "<div>\n",
       "<style scoped>\n",
       "    .dataframe tbody tr th:only-of-type {\n",
       "        vertical-align: middle;\n",
       "    }\n",
       "\n",
       "    .dataframe tbody tr th {\n",
       "        vertical-align: top;\n",
       "    }\n",
       "\n",
       "    .dataframe thead th {\n",
       "        text-align: right;\n",
       "    }\n",
       "</style>\n",
       "<table border=\"1\" class=\"dataframe\">\n",
       "  <thead>\n",
       "    <tr style=\"text-align: right;\">\n",
       "      <th></th>\n",
       "      <th>1</th>\n",
       "      <th>10</th>\n",
       "      <th>100</th>\n",
       "      <th>1000</th>\n",
       "      <th>10000</th>\n",
       "    </tr>\n",
       "    <tr>\n",
       "      <th>SAMPLE_BARCODE</th>\n",
       "      <th></th>\n",
       "      <th></th>\n",
       "      <th></th>\n",
       "      <th></th>\n",
       "      <th></th>\n",
       "    </tr>\n",
       "  </thead>\n",
       "  <tbody>\n",
       "    <tr>\n",
       "      <th>TCGA-02-0047-01</th>\n",
       "      <td>-0.144100</td>\n",
       "      <td>-0.136450</td>\n",
       "      <td>-0.207065</td>\n",
       "      <td>1.049402</td>\n",
       "      <td>0.644625</td>\n",
       "    </tr>\n",
       "    <tr>\n",
       "      <th>TCGA-02-0055-01</th>\n",
       "      <td>-0.124925</td>\n",
       "      <td>-0.197893</td>\n",
       "      <td>-0.132694</td>\n",
       "      <td>0.704438</td>\n",
       "      <td>0.154763</td>\n",
       "    </tr>\n",
       "    <tr>\n",
       "      <th>TCGA-02-2483-01</th>\n",
       "      <td>-0.133543</td>\n",
       "      <td>-0.174587</td>\n",
       "      <td>-0.103291</td>\n",
       "      <td>1.473420</td>\n",
       "      <td>0.669303</td>\n",
       "    </tr>\n",
       "    <tr>\n",
       "      <th>TCGA-02-2485-01</th>\n",
       "      <td>-0.147052</td>\n",
       "      <td>-0.072888</td>\n",
       "      <td>-0.213119</td>\n",
       "      <td>4.405612</td>\n",
       "      <td>11.503035</td>\n",
       "    </tr>\n",
       "    <tr>\n",
       "      <th>TCGA-02-2486-01</th>\n",
       "      <td>-0.145321</td>\n",
       "      <td>-0.181076</td>\n",
       "      <td>-0.147395</td>\n",
       "      <td>1.013468</td>\n",
       "      <td>0.117745</td>\n",
       "    </tr>\n",
       "  </tbody>\n",
       "</table>\n",
       "</div>"
      ],
      "text/plain": [
       "                        1        10       100      1000      10000\n",
       "SAMPLE_BARCODE                                                    \n",
       "TCGA-02-0047-01 -0.144100 -0.136450 -0.207065  1.049402   0.644625\n",
       "TCGA-02-0055-01 -0.124925 -0.197893 -0.132694  0.704438   0.154763\n",
       "TCGA-02-2483-01 -0.133543 -0.174587 -0.103291  1.473420   0.669303\n",
       "TCGA-02-2485-01 -0.147052 -0.072888 -0.213119  4.405612  11.503035\n",
       "TCGA-02-2486-01 -0.145321 -0.181076 -0.147395  1.013468   0.117745"
      ]
     },
     "metadata": {},
     "output_type": "display_data"
    }
   ],
   "source": [
    "X_df = rnaseq_df.reindex(y_df.index)\n",
    "\n",
    "# make sure we didn't introduce any NA rows\n",
    "assert X_df.isna().sum().sum() == 0\n",
    "\n",
    "display(X_df.shape,\n",
    "        X_df.isna().sum().sum(),\n",
    "        X_df.iloc[:5, :5])"
   ]
  },
  {
   "cell_type": "code",
   "execution_count": 10,
   "metadata": {},
   "outputs": [],
   "source": [
    "def filter_cancer_types(gene, X_df, y_df, sample_freeze_df, mutation_burden_df):\n",
    "    # most of this code is copied from process_y_matrix in pancancer_utilities.tcga_utilities\n",
    "    # \n",
    "    # note this is not including copy number variants, to do that we have to\n",
    "    # know oncogene/TSG status for every gene (need to figure out where to get\n",
    "    # this info)\n",
    "    y_df = (\n",
    "        y_df.merge(\n",
    "            sample_freeze_df,\n",
    "            how='left',\n",
    "            left_index=True,\n",
    "            right_on='SAMPLE_BARCODE'\n",
    "        )\n",
    "        .set_index('SAMPLE_BARCODE')\n",
    "        .merge(mutation_burden_df, left_index=True, right_index=True)\n",
    "    )\n",
    "    disease_counts_df = pd.DataFrame(y_df.groupby('cancer_type').sum()['status'])\n",
    "    disease_proportion_df = disease_counts_df.divide(\n",
    "        y_df['cancer_type'].value_counts(sort=False).sort_index(), axis=0\n",
    "    )\n",
    "    filter_disease_df = (\n",
    "        (disease_counts_df > cfg.filter_count) &\n",
    "        (disease_proportion_df > cfg.filter_prop)\n",
    "    )\n",
    "    disease_proportion_df['disease_included'] = filter_disease_df\n",
    "    disease_proportion_df['count'] = disease_counts_df['status']\n",
    "    filter_disease_df.columns = ['disease_included']\n",
    "    \n",
    "    use_diseases = disease_proportion_df.query('disease_included').index.tolist()\n",
    "    \n",
    "    y_filtered_df = y_df.query('cancer_type in @use_diseases')\n",
    "    X_filtered_df = X_df.reindex(index=y_filtered_df.index)\n",
    "    \n",
    "    return X_filtered_df, y_filtered_df\n",
    "\n",
    "def get_f_stats_for_cancer_types(gene, X_df, y_df):\n",
    "    # filter to cancer types with sufficient mutations\n",
    "    X_filtered_df, y_filtered_df = filter_cancer_types(\n",
    "        gene, X_df, y_df, sample_freeze_df, mut_burden_df\n",
    "    )\n",
    "    assert X_filtered_df.isna().sum().sum() == 0\n",
    "    \n",
    "    # then calculate pan-cancer and specific-cancer f-statistics\n",
    "    # (i.e. univariate correlations with labels)\n",
    "    f_stats_df = {\n",
    "        'pancan': f_classif(X_df, y_df.status)[0]\n",
    "    }\n",
    "    for cancer_type in y_df.cancer_type.unique():\n",
    "        ct_samples = y_df[y_df.cancer_type == cancer_type].index\n",
    "        X_ct_df = X_df.reindex(ct_samples)\n",
    "        y_ct_df = y_df.reindex(ct_samples)\n",
    "        \n",
    "        f_stats_df[cancer_type] = f_classif(X_ct_df, y_ct_df.status)[0]\n",
    "        \n",
    "    return pd.DataFrame(f_stats_df, index=X_df.columns)"
   ]
  },
  {
   "cell_type": "code",
   "execution_count": 11,
   "metadata": {},
   "outputs": [
    {
     "name": "stderr",
     "output_type": "stream",
     "text": [
      "/home/jake/anaconda3/envs/pancancer-evaluation/lib/python3.6/site-packages/sklearn/feature_selection/univariate_selection.py:109: RuntimeWarning: invalid value encountered in true_divide\n",
      "  msb = ssbn / float(dfbn)\n",
      "/home/jake/anaconda3/envs/pancancer-evaluation/lib/python3.6/site-packages/sklearn/feature_selection/univariate_selection.py:109: RuntimeWarning: invalid value encountered in true_divide\n",
      "  msb = ssbn / float(dfbn)\n",
      "/home/jake/anaconda3/envs/pancancer-evaluation/lib/python3.6/site-packages/sklearn/feature_selection/univariate_selection.py:109: RuntimeWarning: invalid value encountered in true_divide\n",
      "  msb = ssbn / float(dfbn)\n",
      "/home/jake/anaconda3/envs/pancancer-evaluation/lib/python3.6/site-packages/sklearn/feature_selection/univariate_selection.py:109: RuntimeWarning: invalid value encountered in true_divide\n",
      "  msb = ssbn / float(dfbn)\n",
      "/home/jake/anaconda3/envs/pancancer-evaluation/lib/python3.6/site-packages/sklearn/feature_selection/univariate_selection.py:109: RuntimeWarning: invalid value encountered in true_divide\n",
      "  msb = ssbn / float(dfbn)\n",
      "/home/jake/anaconda3/envs/pancancer-evaluation/lib/python3.6/site-packages/sklearn/feature_selection/univariate_selection.py:109: RuntimeWarning: invalid value encountered in true_divide\n",
      "  msb = ssbn / float(dfbn)\n"
     ]
    },
    {
     "data": {
      "text/html": [
       "<div>\n",
       "<style scoped>\n",
       "    .dataframe tbody tr th:only-of-type {\n",
       "        vertical-align: middle;\n",
       "    }\n",
       "\n",
       "    .dataframe tbody tr th {\n",
       "        vertical-align: top;\n",
       "    }\n",
       "\n",
       "    .dataframe thead th {\n",
       "        text-align: right;\n",
       "    }\n",
       "</style>\n",
       "<table border=\"1\" class=\"dataframe\">\n",
       "  <thead>\n",
       "    <tr style=\"text-align: right;\">\n",
       "      <th></th>\n",
       "      <th>pancan</th>\n",
       "      <th>GBM</th>\n",
       "      <th>OV</th>\n",
       "      <th>LUAD</th>\n",
       "      <th>LUSC</th>\n",
       "    </tr>\n",
       "  </thead>\n",
       "  <tbody>\n",
       "    <tr>\n",
       "      <th>1</th>\n",
       "      <td>4.817732</td>\n",
       "      <td>0.272624</td>\n",
       "      <td>0.566079</td>\n",
       "      <td>2.113628</td>\n",
       "      <td>0.638567</td>\n",
       "    </tr>\n",
       "    <tr>\n",
       "      <th>10</th>\n",
       "      <td>7.139245</td>\n",
       "      <td>1.311232</td>\n",
       "      <td>7.562607</td>\n",
       "      <td>0.356228</td>\n",
       "      <td>0.002447</td>\n",
       "    </tr>\n",
       "    <tr>\n",
       "      <th>100</th>\n",
       "      <td>14.003632</td>\n",
       "      <td>0.361684</td>\n",
       "      <td>0.651172</td>\n",
       "      <td>7.109284</td>\n",
       "      <td>1.824715</td>\n",
       "    </tr>\n",
       "    <tr>\n",
       "      <th>1000</th>\n",
       "      <td>126.874712</td>\n",
       "      <td>0.042507</td>\n",
       "      <td>0.818162</td>\n",
       "      <td>0.341211</td>\n",
       "      <td>0.081557</td>\n",
       "    </tr>\n",
       "    <tr>\n",
       "      <th>10000</th>\n",
       "      <td>242.546644</td>\n",
       "      <td>9.340984</td>\n",
       "      <td>0.555840</td>\n",
       "      <td>0.000046</td>\n",
       "      <td>3.303869</td>\n",
       "    </tr>\n",
       "  </tbody>\n",
       "</table>\n",
       "</div>"
      ],
      "text/plain": [
       "           pancan       GBM        OV      LUAD      LUSC\n",
       "1        4.817732  0.272624  0.566079  2.113628  0.638567\n",
       "10       7.139245  1.311232  7.562607  0.356228  0.002447\n",
       "100     14.003632  0.361684  0.651172  7.109284  1.824715\n",
       "1000   126.874712  0.042507  0.818162  0.341211  0.081557\n",
       "10000  242.546644  9.340984  0.555840  0.000046  3.303869"
      ]
     },
     "execution_count": 11,
     "metadata": {},
     "output_type": "execute_result"
    }
   ],
   "source": [
    "f_stats_df = get_f_stats_for_cancer_types(gene, X_df, y_df)\n",
    "f_stats_df.iloc[:5, :5]"
   ]
  },
  {
   "cell_type": "code",
   "execution_count": 12,
   "metadata": {},
   "outputs": [
    {
     "name": "stderr",
     "output_type": "stream",
     "text": [
      "/home/jake/anaconda3/envs/pancancer-evaluation/lib/python3.6/site-packages/sklearn/feature_selection/univariate_selection.py:109: RuntimeWarning: invalid value encountered in true_divide\n",
      "  msb = ssbn / float(dfbn)\n",
      "/home/jake/anaconda3/envs/pancancer-evaluation/lib/python3.6/site-packages/sklearn/feature_selection/univariate_selection.py:109: RuntimeWarning: invalid value encountered in true_divide\n",
      "  msb = ssbn / float(dfbn)\n",
      "/home/jake/anaconda3/envs/pancancer-evaluation/lib/python3.6/site-packages/sklearn/feature_selection/univariate_selection.py:109: RuntimeWarning: invalid value encountered in true_divide\n",
      "  msb = ssbn / float(dfbn)\n",
      "/home/jake/anaconda3/envs/pancancer-evaluation/lib/python3.6/site-packages/sklearn/feature_selection/univariate_selection.py:109: RuntimeWarning: invalid value encountered in true_divide\n",
      "  msb = ssbn / float(dfbn)\n",
      "/home/jake/anaconda3/envs/pancancer-evaluation/lib/python3.6/site-packages/sklearn/feature_selection/univariate_selection.py:109: RuntimeWarning: invalid value encountered in true_divide\n",
      "  msb = ssbn / float(dfbn)\n",
      "/home/jake/anaconda3/envs/pancancer-evaluation/lib/python3.6/site-packages/sklearn/feature_selection/univariate_selection.py:109: RuntimeWarning: invalid value encountered in true_divide\n",
      "  msb = ssbn / float(dfbn)\n",
      "/home/jake/anaconda3/envs/pancancer-evaluation/lib/python3.6/site-packages/sklearn/feature_selection/univariate_selection.py:109: RuntimeWarning: invalid value encountered in true_divide\n",
      "  msb = ssbn / float(dfbn)\n",
      "/home/jake/anaconda3/envs/pancancer-evaluation/lib/python3.6/site-packages/sklearn/feature_selection/univariate_selection.py:109: RuntimeWarning: invalid value encountered in true_divide\n",
      "  msb = ssbn / float(dfbn)\n",
      "/home/jake/anaconda3/envs/pancancer-evaluation/lib/python3.6/site-packages/sklearn/feature_selection/univariate_selection.py:109: RuntimeWarning: invalid value encountered in true_divide\n",
      "  msb = ssbn / float(dfbn)\n",
      "/home/jake/anaconda3/envs/pancancer-evaluation/lib/python3.6/site-packages/sklearn/feature_selection/univariate_selection.py:109: RuntimeWarning: invalid value encountered in true_divide\n",
      "  msb = ssbn / float(dfbn)\n",
      "/home/jake/anaconda3/envs/pancancer-evaluation/lib/python3.6/site-packages/sklearn/feature_selection/univariate_selection.py:109: RuntimeWarning: invalid value encountered in true_divide\n",
      "  msb = ssbn / float(dfbn)\n",
      "/home/jake/anaconda3/envs/pancancer-evaluation/lib/python3.6/site-packages/sklearn/feature_selection/univariate_selection.py:109: RuntimeWarning: invalid value encountered in true_divide\n",
      "  msb = ssbn / float(dfbn)\n",
      "/home/jake/anaconda3/envs/pancancer-evaluation/lib/python3.6/site-packages/sklearn/feature_selection/univariate_selection.py:109: RuntimeWarning: invalid value encountered in true_divide\n",
      "  msb = ssbn / float(dfbn)\n",
      "/home/jake/anaconda3/envs/pancancer-evaluation/lib/python3.6/site-packages/sklearn/feature_selection/univariate_selection.py:109: RuntimeWarning: invalid value encountered in true_divide\n",
      "  msb = ssbn / float(dfbn)\n",
      "/home/jake/anaconda3/envs/pancancer-evaluation/lib/python3.6/site-packages/sklearn/feature_selection/univariate_selection.py:109: RuntimeWarning: invalid value encountered in true_divide\n",
      "  msb = ssbn / float(dfbn)\n",
      "/home/jake/anaconda3/envs/pancancer-evaluation/lib/python3.6/site-packages/sklearn/feature_selection/univariate_selection.py:109: RuntimeWarning: invalid value encountered in true_divide\n",
      "  msb = ssbn / float(dfbn)\n",
      "/home/jake/anaconda3/envs/pancancer-evaluation/lib/python3.6/site-packages/sklearn/feature_selection/univariate_selection.py:109: RuntimeWarning: invalid value encountered in true_divide\n",
      "  msb = ssbn / float(dfbn)\n",
      "/home/jake/anaconda3/envs/pancancer-evaluation/lib/python3.6/site-packages/sklearn/feature_selection/univariate_selection.py:109: RuntimeWarning: invalid value encountered in true_divide\n",
      "  msb = ssbn / float(dfbn)\n",
      "/home/jake/anaconda3/envs/pancancer-evaluation/lib/python3.6/site-packages/sklearn/feature_selection/univariate_selection.py:109: RuntimeWarning: invalid value encountered in true_divide\n",
      "  msb = ssbn / float(dfbn)\n",
      "/home/jake/anaconda3/envs/pancancer-evaluation/lib/python3.6/site-packages/sklearn/feature_selection/univariate_selection.py:109: RuntimeWarning: invalid value encountered in true_divide\n",
      "  msb = ssbn / float(dfbn)\n",
      "/home/jake/anaconda3/envs/pancancer-evaluation/lib/python3.6/site-packages/sklearn/feature_selection/univariate_selection.py:109: RuntimeWarning: invalid value encountered in true_divide\n",
      "  msb = ssbn / float(dfbn)\n",
      "/home/jake/anaconda3/envs/pancancer-evaluation/lib/python3.6/site-packages/sklearn/feature_selection/univariate_selection.py:109: RuntimeWarning: invalid value encountered in true_divide\n",
      "  msb = ssbn / float(dfbn)\n",
      "/home/jake/anaconda3/envs/pancancer-evaluation/lib/python3.6/site-packages/sklearn/feature_selection/univariate_selection.py:109: RuntimeWarning: invalid value encountered in true_divide\n",
      "  msb = ssbn / float(dfbn)\n",
      "/home/jake/anaconda3/envs/pancancer-evaluation/lib/python3.6/site-packages/sklearn/feature_selection/univariate_selection.py:109: RuntimeWarning: invalid value encountered in true_divide\n",
      "  msb = ssbn / float(dfbn)\n",
      "/home/jake/anaconda3/envs/pancancer-evaluation/lib/python3.6/site-packages/sklearn/feature_selection/univariate_selection.py:109: RuntimeWarning: invalid value encountered in true_divide\n",
      "  msb = ssbn / float(dfbn)\n",
      "/home/jake/anaconda3/envs/pancancer-evaluation/lib/python3.6/site-packages/sklearn/feature_selection/univariate_selection.py:109: RuntimeWarning: invalid value encountered in true_divide\n",
      "  msb = ssbn / float(dfbn)\n",
      "/home/jake/anaconda3/envs/pancancer-evaluation/lib/python3.6/site-packages/sklearn/feature_selection/univariate_selection.py:109: RuntimeWarning: invalid value encountered in true_divide\n",
      "  msb = ssbn / float(dfbn)\n",
      "/home/jake/anaconda3/envs/pancancer-evaluation/lib/python3.6/site-packages/sklearn/feature_selection/univariate_selection.py:109: RuntimeWarning: invalid value encountered in true_divide\n",
      "  msb = ssbn / float(dfbn)\n",
      "/home/jake/anaconda3/envs/pancancer-evaluation/lib/python3.6/site-packages/sklearn/feature_selection/univariate_selection.py:109: RuntimeWarning: invalid value encountered in true_divide\n",
      "  msb = ssbn / float(dfbn)\n",
      "/home/jake/anaconda3/envs/pancancer-evaluation/lib/python3.6/site-packages/sklearn/feature_selection/univariate_selection.py:109: RuntimeWarning: invalid value encountered in true_divide\n",
      "  msb = ssbn / float(dfbn)\n"
     ]
    },
    {
     "data": {
      "text/plain": [
       "'PIK3CA_mad_n1000'"
      ]
     },
     "metadata": {},
     "output_type": "display_data"
    },
    {
     "data": {
      "text/html": [
       "<div>\n",
       "<style scoped>\n",
       "    .dataframe tbody tr th:only-of-type {\n",
       "        vertical-align: middle;\n",
       "    }\n",
       "\n",
       "    .dataframe tbody tr th {\n",
       "        vertical-align: top;\n",
       "    }\n",
       "\n",
       "    .dataframe thead th {\n",
       "        text-align: right;\n",
       "    }\n",
       "</style>\n",
       "<table border=\"1\" class=\"dataframe\">\n",
       "  <thead>\n",
       "    <tr style=\"text-align: right;\">\n",
       "      <th></th>\n",
       "      <th>pancan</th>\n",
       "      <th>GBM</th>\n",
       "      <th>OV</th>\n",
       "      <th>LUAD</th>\n",
       "      <th>LUSC</th>\n",
       "    </tr>\n",
       "  </thead>\n",
       "  <tbody>\n",
       "    <tr>\n",
       "      <th>1001</th>\n",
       "      <td>26.070196</td>\n",
       "      <td>0.008956</td>\n",
       "      <td>5.540335</td>\n",
       "      <td>9.322984</td>\n",
       "      <td>0.538218</td>\n",
       "    </tr>\n",
       "    <tr>\n",
       "      <th>100133941</th>\n",
       "      <td>30.660234</td>\n",
       "      <td>0.069971</td>\n",
       "      <td>26.052379</td>\n",
       "      <td>0.575575</td>\n",
       "      <td>2.869598</td>\n",
       "    </tr>\n",
       "    <tr>\n",
       "      <th>10057</th>\n",
       "      <td>12.454056</td>\n",
       "      <td>0.160172</td>\n",
       "      <td>2.982978</td>\n",
       "      <td>17.963213</td>\n",
       "      <td>0.063306</td>\n",
       "    </tr>\n",
       "    <tr>\n",
       "      <th>10075</th>\n",
       "      <td>1.076889</td>\n",
       "      <td>0.150340</td>\n",
       "      <td>1.649098</td>\n",
       "      <td>1.462026</td>\n",
       "      <td>0.218674</td>\n",
       "    </tr>\n",
       "    <tr>\n",
       "      <th>10079</th>\n",
       "      <td>0.783053</td>\n",
       "      <td>0.401446</td>\n",
       "      <td>1.162685</td>\n",
       "      <td>1.807782</td>\n",
       "      <td>0.025135</td>\n",
       "    </tr>\n",
       "  </tbody>\n",
       "</table>\n",
       "</div>"
      ],
      "text/plain": [
       "              pancan       GBM         OV       LUAD      LUSC\n",
       "1001       26.070196  0.008956   5.540335   9.322984  0.538218\n",
       "100133941  30.660234  0.069971  26.052379   0.575575  2.869598\n",
       "10057      12.454056  0.160172   2.982978  17.963213  0.063306\n",
       "10075       1.076889  0.150340   1.649098   1.462026  0.218674\n",
       "10079       0.783053  0.401446   1.162685   1.807782  0.025135"
      ]
     },
     "metadata": {},
     "output_type": "display_data"
    }
   ],
   "source": [
    "f_stats = {}\n",
    "\n",
    "for fs_method, genes in fs_method_coefs.items():\n",
    "    X_selected_df = X_df.loc[:, X_df.columns.intersection(genes)]\n",
    "    f_stats_df = get_f_stats_for_cancer_types(gene, X_selected_df, y_df)\n",
    "    f_stats[fs_method] = f_stats_df\n",
    "    \n",
    "fs_1 = list(fs_method_coefs.keys())[0]\n",
    "display(fs_1, f_stats[fs_1].iloc[:5, :5])"
   ]
  },
  {
   "cell_type": "code",
   "execution_count": 13,
   "metadata": {},
   "outputs": [
    {
     "name": "stdout",
     "output_type": "stream",
     "text": [
      "PIK3CA_mad_n1000 (33495,)\n",
      "PIK3CA_median_f_test_n100 (9504,)\n",
      "PIK3CA_mad_n100 (3366,)\n",
      "PIK3CA_mad_f_test_n100 (8580,)\n",
      "PIK3CA_pancan_f_test_n100 (4884,)\n"
     ]
    },
    {
     "data": {
      "image/png": "[encoded data removed]",
      "text/plain": [
       "<Figure size 1296x648 with 6 Axes>"
      ]
     },
     "metadata": {},
     "output_type": "display_data"
    }
   ],
   "source": [
    "sns.set({'figure.figsize': (18, 9)})\n",
    "sns.set_context('notebook')\n",
    "\n",
    "fig, axarr = plt.subplots(2, 3)\n",
    "\n",
    "for ix, (fs_method, f_stats_df) in enumerate(f_stats.items()):\n",
    "    ax = axarr[ix // 3, ix % 3]\n",
    "    dist_vals = (f_stats_df\n",
    "        .loc[:, ~(f_stats_df.columns == 'pancan')]\n",
    "        .values\n",
    "        .flatten()\n",
    "    )\n",
    "    print(fs_method, dist_vals.shape)\n",
    "    sns.histplot(dist_vals, ax=ax, bins=30)\n",
    "    ax.set_title(fs_method)\n",
    "    \n",
    "plt.tight_layout()"
   ]
  },
  {
   "cell_type": "code",
   "execution_count": 14,
   "metadata": {},
   "outputs": [
    {
     "data": {
      "text/plain": [
       "222166    2.129893\n",
       "5295      2.111168\n",
       "2778      1.795530\n",
       "5223      1.755802\n",
       "5226      1.749436\n",
       "dtype: float64"
      ]
     },
     "execution_count": 14,
     "metadata": {},
     "output_type": "execute_result"
    }
   ],
   "source": [
    "# top 6 median f-test values\n",
    "f_df = f_stats['{}_median_f_test_n100'.format(gene)]\n",
    "median_df = (f_df\n",
    "    .loc[:, ~(f_df.columns == 'pancan')]\n",
    "    .median(axis='columns')\n",
    "    .sort_values(ascending=False)\n",
    ")\n",
    "median_df.iloc[:5]"
   ]
  },
  {
   "cell_type": "code",
   "execution_count": 15,
   "metadata": {},
   "outputs": [
    {
     "data": {
      "image/png": "[encoded data removed]",
      "text/plain": [
       "<Figure size 1296x648 with 6 Axes>"
      ]
     },
     "metadata": {},
     "output_type": "display_data"
    }
   ],
   "source": [
    "sns.set({'figure.figsize': (18, 9)})\n",
    "sns.set_context('notebook')\n",
    "\n",
    "fig, axarr = plt.subplots(2, 3)\n",
    "\n",
    "genes_to_plot = median_df.index[:6]\n",
    "for ix, gene_to_plot in enumerate(genes_to_plot):\n",
    "    ax = axarr[ix // 3, ix % 3]\n",
    "    dist_df = f_df.loc[gene_to_plot, :]\n",
    "    sns.histplot(dist_df.values, ax=ax, bins=20)\n",
    "    ax.set_title(gene_to_plot)\n",
    "    \n",
    "plt.suptitle('Top median f-test genes')\n",
    "plt.tight_layout()"
   ]
  },
  {
   "cell_type": "code",
   "execution_count": 16,
   "metadata": {},
   "outputs": [
    {
     "data": {
      "text/plain": [
       "2099     415.082761\n",
       "57535    359.346544\n",
       "7494     356.275470\n",
       "3020     356.105380\n",
       "5757     315.307366\n",
       "Name: pancan, dtype: float64"
      ]
     },
     "execution_count": 16,
     "metadata": {},
     "output_type": "execute_result"
    }
   ],
   "source": [
    "# top 6 pan-cancer f-test values\n",
    "f_df = f_stats['{}_pancan_f_test_n100'.format(gene)]\n",
    "pancan_df = (f_df\n",
    "    .loc[:, 'pancan']\n",
    "    .sort_values(ascending=False)\n",
    ")\n",
    "pancan_df.iloc[:5]"
   ]
  },
  {
   "cell_type": "code",
   "execution_count": 17,
   "metadata": {},
   "outputs": [
    {
     "data": {
      "image/png": "[encoded data removed]",
      "text/plain": [
       "<Figure size 1296x648 with 6 Axes>"
      ]
     },
     "metadata": {},
     "output_type": "display_data"
    }
   ],
   "source": [
    "sns.set({'figure.figsize': (18, 9)})\n",
    "sns.set_context('notebook')\n",
    "\n",
    "fig, axarr = plt.subplots(2, 3)\n",
    "\n",
    "genes_to_plot = pancan_df.index[:6]\n",
    "for ix, gene_to_plot in enumerate(genes_to_plot):\n",
    "    ax = axarr[ix // 3, ix % 3]\n",
    "    dist_df = f_df.loc[gene_to_plot, :]\n",
    "    sns.histplot(dist_df.values, ax=ax, bins=20)\n",
    "    ax.set_title(gene_to_plot)\n",
    "    \n",
    "plt.suptitle('Top pan-cancer f-test genes')\n",
    "plt.tight_layout()"
   ]
  },
  {
   "cell_type": "code",
   "execution_count": 23,
   "metadata": {},
   "outputs": [
    {
     "data": {
      "text/plain": [
       "3856    0.762731\n",
       "7494    0.745813\n",
       "7534    0.739751\n",
       "4627    0.735118\n",
       "3320    0.720498\n",
       "dtype: float64"
      ]
     },
     "execution_count": 23,
     "metadata": {},
     "output_type": "execute_result"
    }
   ],
   "source": [
    "# top 6 MAD genes\n",
    "f_df = f_stats['{}_mad_n100'.format(gene)]\n",
    "X_filtered_df, y_filtered_df = filter_cancer_types(\n",
    "    gene, X_df, y_df, sample_freeze_df, mut_burden_df\n",
    ")\n",
    "mad_df = (X_filtered_df\n",
    "    .loc[:, (X_filtered_df.columns.isin(fs_method_coefs['{}_mad_n100'.format(gene)]))]\n",
    "    .mad(axis='index')\n",
    "    .sort_values(ascending=False)\n",
    ")\n",
    "mad_df.iloc[:5]"
   ]
  },
  {
   "cell_type": "code",
   "execution_count": 24,
   "metadata": {},
   "outputs": [
    {
     "data": {
      "image/png": "[encoded data removed]",
      "text/plain": [
       "<Figure size 1296x648 with 6 Axes>"
      ]
     },
     "metadata": {},
     "output_type": "display_data"
    }
   ],
   "source": [
    "sns.set({'figure.figsize': (18, 9)})\n",
    "sns.set_context('notebook')\n",
    "\n",
    "fig, axarr = plt.subplots(2, 3)\n",
    "\n",
    "genes_to_plot = mad_df.index[:6]\n",
    "for ix, gene_to_plot in enumerate(genes_to_plot):\n",
    "    ax = axarr[ix // 3, ix % 3]\n",
    "    dist_df = f_df.loc[gene_to_plot, :]\n",
    "    sns.histplot(dist_df.values, ax=ax, bins=20)\n",
    "    ax.set_title(gene_to_plot)\n",
    "    \n",
    "plt.suptitle('Top MAD genes')\n",
    "plt.tight_layout()"
   ]
  }
 ],
 "metadata": {
  "kernelspec": {
   "display_name": "Python [conda env:pancancer-evaluation]",
   "language": "python",
   "name": "conda-env-pancancer-evaluation-py"
  },
  "language_info": {
   "codemirror_mode": {
    "name": "ipython",
    "version": 3
   },
   "file_extension": ".py",
   "mimetype": "text/x-python",
   "name": "python",
   "nbconvert_exporter": "python",
   "pygments_lexer": "ipython3",
   "version": "3.6.9"
  }
 },
 "nbformat": 4,
 "nbformat_minor": 4
}
