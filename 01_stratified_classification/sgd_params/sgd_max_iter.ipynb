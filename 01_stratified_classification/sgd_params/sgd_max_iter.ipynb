{
 "cells": [
  {
   "cell_type": "code",
   "execution_count": null,
   "id": "4b84ac60-4127-485f-aad6-c24a45bf0668",
   "metadata": {},
   "outputs": [],
   "source": []
  },
  {
   "cell_type": "code",
   "execution_count": 1,
   "id": "b346ddca-38de-49c7-9bf9-d2edf1996bd0",
   "metadata": {},
   "outputs": [],
   "source": [
    "import os\n",
    "\n",
    "import numpy as np\n",
    "import pandas as pd\n",
    "import matplotlib\n",
    "import matplotlib.pyplot as plt\n",
    "import seaborn as sns\n",
    "\n",
    "import pancancer_evaluation.config as cfg\n",
    "import pancancer_evaluation.utilities.analysis_utilities as au\n",
    "\n",
    "%load_ext autoreload\n",
    "%autoreload 2"
   ]
  },
  {
   "cell_type": "code",
   "execution_count": 2,
   "id": "71cbc82c-7931-4689-a855-7ddd0b802e64",
   "metadata": {
    "tags": [
     "parameters"
    ]
   },
   "outputs": [],
   "source": [
    "results_dir = os.path.join(\n",
    "    cfg.repo_root, '01_stratified_classification', 'results', 'sgd_max_iter', 'gene'\n",
    ")\n",
    "\n",
    "plot_gene = 'KRAS'\n",
    "metric = 'aupr'\n",
    "\n",
    "output_plots = True\n",
    "output_plots_dir = os.path.join(\n",
    "    cfg.repo_root, '01_stratified_classification', 'optimizers_plots'\n",
    ")"
   ]
  },
  {
   "cell_type": "code",
   "execution_count": 3,
   "id": "f0f6585f-9fff-4ed0-8ab4-7d4e0594365f",
   "metadata": {
    "tags": [
     "parameters"
    ]
   },
   "outputs": [],
   "source": [
    "def load_prediction_results_max_iter(results_dir, gene):\n",
    "    results_df = pd.DataFrame()\n",
    "    for gene_name in os.listdir(results_dir):\n",
    "        # if gene argument is provided, only process files for that gene\n",
    "        if gene not in gene_name: continue\n",
    "        gene_dir = os.path.join(results_dir, gene_name)\n",
    "        if not os.path.isdir(gene_dir): continue\n",
    "        for results_file in os.listdir(gene_dir):\n",
    "            if not ('metrics' in results_file): continue\n",
    "            if results_file[0] == '.': continue\n",
    "            full_results_file = os.path.join(gene_dir, results_file)\n",
    "            gene_results_df = pd.read_csv(full_results_file, sep='\\t')\n",
    "            max_iter = results_file.split('_')[-2].replace('i', '')\n",
    "            gene_results_df['max_iter'] = max_iter\n",
    "            lasso_param = results_file.split('_')[-3].replace('c', '')\n",
    "            gene_results_df['lasso_param'] = lasso_param\n",
    "            # if identifier_from_fname:\n",
    "            #     identifier = results_file.split('_')[0]\n",
    "            #     gene_results_df['identifier'] = identifier\n",
    "            results_df = pd.concat((results_df, gene_results_df))\n",
    "    return results_df"
   ]
  },
  {
   "cell_type": "code",
   "execution_count": 4,
   "id": "e976e402-aefa-476d-85ee-b1ea1a21a6cd",
   "metadata": {},
   "outputs": [
    {
     "name": "stdout",
     "output_type": "stream",
     "text": [
      "(456, 9)\n",
      "['5e-05' '0.01' '0.0005' '0.001' '0.005' '1e-05' '0.0001' '0.05']\n",
      "['1000' '5000' '100000' '500' '10000']\n"
     ]
    },
    {
     "data": {
      "text/html": [
       "<div>\n",
       "<style scoped>\n",
       "    .dataframe tbody tr th:only-of-type {\n",
       "        vertical-align: middle;\n",
       "    }\n",
       "\n",
       "    .dataframe tbody tr th {\n",
       "        vertical-align: top;\n",
       "    }\n",
       "\n",
       "    .dataframe thead th {\n",
       "        text-align: right;\n",
       "    }\n",
       "</style>\n",
       "<table border=\"1\" class=\"dataframe\">\n",
       "  <thead>\n",
       "    <tr style=\"text-align: right;\">\n",
       "      <th></th>\n",
       "      <th>auroc</th>\n",
       "      <th>aupr</th>\n",
       "      <th>gene</th>\n",
       "      <th>signal</th>\n",
       "      <th>seed</th>\n",
       "      <th>data_type</th>\n",
       "      <th>fold</th>\n",
       "      <th>max_iter</th>\n",
       "      <th>lasso_param</th>\n",
       "    </tr>\n",
       "  </thead>\n",
       "  <tbody>\n",
       "    <tr>\n",
       "      <th>0</th>\n",
       "      <td>1.00000</td>\n",
       "      <td>1.00000</td>\n",
       "      <td>KRAS</td>\n",
       "      <td>signal</td>\n",
       "      <td>42</td>\n",
       "      <td>train</td>\n",
       "      <td>0</td>\n",
       "      <td>1000</td>\n",
       "      <td>5e-05</td>\n",
       "    </tr>\n",
       "    <tr>\n",
       "      <th>1</th>\n",
       "      <td>0.78820</td>\n",
       "      <td>0.55470</td>\n",
       "      <td>KRAS</td>\n",
       "      <td>signal</td>\n",
       "      <td>42</td>\n",
       "      <td>test</td>\n",
       "      <td>0</td>\n",
       "      <td>1000</td>\n",
       "      <td>5e-05</td>\n",
       "    </tr>\n",
       "    <tr>\n",
       "      <th>2</th>\n",
       "      <td>0.78781</td>\n",
       "      <td>0.57497</td>\n",
       "      <td>KRAS</td>\n",
       "      <td>signal</td>\n",
       "      <td>42</td>\n",
       "      <td>cv</td>\n",
       "      <td>0</td>\n",
       "      <td>1000</td>\n",
       "      <td>5e-05</td>\n",
       "    </tr>\n",
       "    <tr>\n",
       "      <th>3</th>\n",
       "      <td>1.00000</td>\n",
       "      <td>1.00000</td>\n",
       "      <td>KRAS</td>\n",
       "      <td>signal</td>\n",
       "      <td>42</td>\n",
       "      <td>train</td>\n",
       "      <td>1</td>\n",
       "      <td>1000</td>\n",
       "      <td>5e-05</td>\n",
       "    </tr>\n",
       "    <tr>\n",
       "      <th>4</th>\n",
       "      <td>0.82193</td>\n",
       "      <td>0.58707</td>\n",
       "      <td>KRAS</td>\n",
       "      <td>signal</td>\n",
       "      <td>42</td>\n",
       "      <td>test</td>\n",
       "      <td>1</td>\n",
       "      <td>1000</td>\n",
       "      <td>5e-05</td>\n",
       "    </tr>\n",
       "  </tbody>\n",
       "</table>\n",
       "</div>"
      ],
      "text/plain": [
       "     auroc     aupr  gene  signal  seed data_type  fold max_iter lasso_param\n",
       "0  1.00000  1.00000  KRAS  signal    42     train     0     1000       5e-05\n",
       "1  0.78820  0.55470  KRAS  signal    42      test     0     1000       5e-05\n",
       "2  0.78781  0.57497  KRAS  signal    42        cv     0     1000       5e-05\n",
       "3  1.00000  1.00000  KRAS  signal    42     train     1     1000       5e-05\n",
       "4  0.82193  0.58707  KRAS  signal    42      test     1     1000       5e-05"
      ]
     },
     "execution_count": 4,
     "metadata": {},
     "output_type": "execute_result"
    }
   ],
   "source": [
    "perf_df = (\n",
    "    load_prediction_results_max_iter(results_dir, plot_gene)\n",
    "      .drop(columns=['holdout_cancer_type'])\n",
    "      .copy()\n",
    ")\n",
    "\n",
    "print(perf_df.shape)\n",
    "print(perf_df.lasso_param.unique())\n",
    "print(perf_df.max_iter.unique())\n",
    "perf_df.head()"
   ]
  },
  {
   "cell_type": "code",
   "execution_count": 16,
   "id": "88039588-c658-403b-a1fe-c62aa3d4b80c",
   "metadata": {},
   "outputs": [
    {
     "data": {
      "image/png": "[encoded data removed]",
      "text/plain": [
       "<Figure size 1152x432 with 2 Axes>"
      ]
     },
     "metadata": {},
     "output_type": "display_data"
    }
   ],
   "source": [
    "sns.set({'figure.figsize': (16, 6)})\n",
    "sns.set_style('ticks')\n",
    "\n",
    "fig, axarr = plt.subplots(1, 2)\n",
    "\n",
    "plot_df = (\n",
    "    perf_df[(perf_df.signal == 'signal')]\n",
    "      .sort_values(by=['max_iter', 'lasso_param'])\n",
    "      .reset_index(drop=True)\n",
    ")\n",
    "plot_df.lasso_param = plot_df.lasso_param.astype(float)\n",
    "plot_df.max_iter = plot_df.max_iter.astype(float)\n",
    "\n",
    "with sns.plotting_context('notebook', font_scale=1.5):\n",
    "    sns.lineplot(\n",
    "        data=plot_df[plot_df.data_type == 'cv'],\n",
    "        x='lasso_param', y=metric, hue='max_iter', marker='o',\n",
    "        err_style='bars', palette='viridis', ax=axarr[0]\n",
    "    )\n",
    "    axarr[0].set(xscale='log', \n",
    "                 xlim=(min(plot_df.lasso_param), max(plot_df.lasso_param)))\n",
    "    axarr[0].set_xlabel('LASSO parameter (lower = less regularization)', size=16)\n",
    "    axarr[0].set_xlim((10e-7, 10))\n",
    "    axarr[0].set_ylim((-0.05, 1.05))\n",
    "    axarr[0].set_ylabel(f'{metric.upper()}')\n",
    "    axarr[0].set_title(f'{plot_gene}, CV data')\n",
    "    axarr[0].tick_params(axis='both', labelsize=16)\n",
    "    \n",
    "    sns.lineplot(\n",
    "        data=plot_df[plot_df.data_type == 'test'],\n",
    "        x='lasso_param', y=metric, hue='max_iter', marker='o',\n",
    "        err_style='bars', palette='viridis', ax=axarr[1]\n",
    "    )\n",
    "    axarr[1].set(xscale='log', \n",
    "                 xlim=(min(plot_df.lasso_param), max(plot_df.lasso_param)))\n",
    "    axarr[1].set_xlabel('LASSO parameter (lower = less regularization)', size=16)\n",
    "    axarr[1].set_xlim((10e-7, 10))\n",
    "    axarr[1].set_ylim((-0.05, 1.05))\n",
    "    axarr[1].set_ylabel(f'{metric.upper()}')\n",
    "    axarr[1].set_title(f'{plot_gene}, test data')\n",
    "    axarr[1].tick_params(axis='both', labelsize=16)\n",
    "\n",
    "plt.tight_layout()"
   ]
  },
  {
   "cell_type": "code",
   "execution_count": null,
   "id": "4d5a2497-1591-418c-b2a9-a87f55f75adf",
   "metadata": {},
   "outputs": [],
   "source": []
  }
 ],
 "metadata": {
  "kernelspec": {
   "display_name": "Python [conda env:pc-eval]",
   "language": "python",
   "name": "conda-env-pc-eval-py"
  },
  "language_info": {
   "codemirror_mode": {
    "name": "ipython",
    "version": 3
   },
   "file_extension": ".py",
   "mimetype": "text/x-python",
   "name": "python",
   "nbconvert_exporter": "python",
   "pygments_lexer": "ipython3",
   "version": "3.8.13"
  }
 },
 "nbformat": 4,
 "nbformat_minor": 5
}
