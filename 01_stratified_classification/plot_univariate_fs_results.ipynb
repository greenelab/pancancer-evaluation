{
 "cells": [
  {
   "cell_type": "markdown",
   "metadata": {},
   "source": [
    "## Analysis of mutation prediction results"
   ]
  },
  {
   "cell_type": "code",
   "execution_count": 1,
   "metadata": {},
   "outputs": [],
   "source": [
    "import os\n",
    "import sys\n",
    "\n",
    "import numpy as np\n",
    "import pandas as pd\n",
    "import matplotlib.pyplot as plt\n",
    "import seaborn as sns\n",
    "import upsetplot as up\n",
    "from venn import generate_petal_labels\n",
    "\n",
    "import pancancer_evaluation.config as cfg\n",
    "import pancancer_evaluation.utilities.analysis_utilities as au\n",
    "\n",
    "%load_ext autoreload\n",
    "%autoreload 2"
   ]
  },
  {
   "cell_type": "code",
   "execution_count": 2,
   "metadata": {},
   "outputs": [],
   "source": [
    "results_dir = os.path.join('results', 'univariate_fs', 'pancancer')"
   ]
  },
  {
   "cell_type": "code",
   "execution_count": 3,
   "metadata": {},
   "outputs": [
    {
     "name": "stdout",
     "output_type": "stream",
     "text": [
      "(240, 10)\n",
      "['median_f_test' 'mad_100' 'mad_1000' 'mad_f_test' 'pancan_f_test']\n",
      "[ 100 1000]\n"
     ]
    },
    {
     "data": {
      "text/html": [
       "<div>\n",
       "<style scoped>\n",
       "    .dataframe tbody tr th:only-of-type {\n",
       "        vertical-align: middle;\n",
       "    }\n",
       "\n",
       "    .dataframe tbody tr th {\n",
       "        vertical-align: top;\n",
       "    }\n",
       "\n",
       "    .dataframe thead th {\n",
       "        text-align: right;\n",
       "    }\n",
       "</style>\n",
       "<table border=\"1\" class=\"dataframe\">\n",
       "  <thead>\n",
       "    <tr style=\"text-align: right;\">\n",
       "      <th></th>\n",
       "      <th>auroc</th>\n",
       "      <th>aupr</th>\n",
       "      <th>gene</th>\n",
       "      <th>holdout_cancer_type</th>\n",
       "      <th>signal</th>\n",
       "      <th>seed</th>\n",
       "      <th>data_type</th>\n",
       "      <th>fold</th>\n",
       "      <th>fs_method</th>\n",
       "      <th>n_dims</th>\n",
       "    </tr>\n",
       "  </thead>\n",
       "  <tbody>\n",
       "    <tr>\n",
       "      <th>0</th>\n",
       "      <td>0.55681</td>\n",
       "      <td>0.53291</td>\n",
       "      <td>TP53</td>\n",
       "      <td>NaN</td>\n",
       "      <td>shuffled</td>\n",
       "      <td>42</td>\n",
       "      <td>train</td>\n",
       "      <td>0</td>\n",
       "      <td>median_f_test</td>\n",
       "      <td>100</td>\n",
       "    </tr>\n",
       "    <tr>\n",
       "      <th>1</th>\n",
       "      <td>0.49419</td>\n",
       "      <td>0.46362</td>\n",
       "      <td>TP53</td>\n",
       "      <td>NaN</td>\n",
       "      <td>shuffled</td>\n",
       "      <td>42</td>\n",
       "      <td>test</td>\n",
       "      <td>0</td>\n",
       "      <td>median_f_test</td>\n",
       "      <td>100</td>\n",
       "    </tr>\n",
       "    <tr>\n",
       "      <th>2</th>\n",
       "      <td>0.51169</td>\n",
       "      <td>0.48608</td>\n",
       "      <td>TP53</td>\n",
       "      <td>NaN</td>\n",
       "      <td>shuffled</td>\n",
       "      <td>42</td>\n",
       "      <td>cv</td>\n",
       "      <td>0</td>\n",
       "      <td>median_f_test</td>\n",
       "      <td>100</td>\n",
       "    </tr>\n",
       "    <tr>\n",
       "      <th>3</th>\n",
       "      <td>0.54038</td>\n",
       "      <td>0.50844</td>\n",
       "      <td>TP53</td>\n",
       "      <td>NaN</td>\n",
       "      <td>shuffled</td>\n",
       "      <td>42</td>\n",
       "      <td>train</td>\n",
       "      <td>1</td>\n",
       "      <td>median_f_test</td>\n",
       "      <td>100</td>\n",
       "    </tr>\n",
       "    <tr>\n",
       "      <th>4</th>\n",
       "      <td>0.52547</td>\n",
       "      <td>0.49144</td>\n",
       "      <td>TP53</td>\n",
       "      <td>NaN</td>\n",
       "      <td>shuffled</td>\n",
       "      <td>42</td>\n",
       "      <td>test</td>\n",
       "      <td>1</td>\n",
       "      <td>median_f_test</td>\n",
       "      <td>100</td>\n",
       "    </tr>\n",
       "  </tbody>\n",
       "</table>\n",
       "</div>"
      ],
      "text/plain": [
       "     auroc     aupr  gene  holdout_cancer_type    signal  seed data_type  \\\n",
       "0  0.55681  0.53291  TP53                  NaN  shuffled    42     train   \n",
       "1  0.49419  0.46362  TP53                  NaN  shuffled    42      test   \n",
       "2  0.51169  0.48608  TP53                  NaN  shuffled    42        cv   \n",
       "3  0.54038  0.50844  TP53                  NaN  shuffled    42     train   \n",
       "4  0.52547  0.49144  TP53                  NaN  shuffled    42      test   \n",
       "\n",
       "   fold      fs_method  n_dims  \n",
       "0     0  median_f_test     100  \n",
       "1     0  median_f_test     100  \n",
       "2     0  median_f_test     100  \n",
       "3     1  median_f_test     100  \n",
       "4     1  median_f_test     100  "
      ]
     },
     "execution_count": 3,
     "metadata": {},
     "output_type": "execute_result"
    }
   ],
   "source": [
    "results_df = au.load_prediction_results_fs(results_dir, cfg.fs_methods)\n",
    "\n",
    "# temporary, change later when all genes finish running\n",
    "results_df = results_df[results_df.gene == 'TP53'].copy()\n",
    "\n",
    "results_df.loc[\n",
    "    (results_df.fs_method == 'mad') & (results_df.n_dims == 100),\n",
    "    'fs_method'\n",
    "] = 'mad_100'\n",
    "results_df.loc[\n",
    "    (results_df.fs_method == 'mad') & (results_df.n_dims == 1000),\n",
    "    'fs_method'\n",
    "] = 'mad_1000'\n",
    "\n",
    "print(results_df.shape)\n",
    "print(results_df.fs_method.unique())\n",
    "print(results_df.n_dims.unique())\n",
    "results_df.head()"
   ]
  },
  {
   "cell_type": "code",
   "execution_count": 4,
   "metadata": {},
   "outputs": [
    {
     "name": "stdout",
     "output_type": "stream",
     "text": [
      "(40, 5)\n"
     ]
    },
    {
     "name": "stderr",
     "output_type": "stream",
     "text": [
      "median_f_test\n",
      "mad_100\n",
      "mad_1000\n",
      "mad_f_test\n",
      "pancan_f_test\n"
     ]
    },
    {
     "data": {
      "text/html": [
       "<div>\n",
       "<style scoped>\n",
       "    .dataframe tbody tr th:only-of-type {\n",
       "        vertical-align: middle;\n",
       "    }\n",
       "\n",
       "    .dataframe tbody tr th {\n",
       "        vertical-align: top;\n",
       "    }\n",
       "\n",
       "    .dataframe thead th {\n",
       "        text-align: right;\n",
       "    }\n",
       "</style>\n",
       "<table border=\"1\" class=\"dataframe\">\n",
       "  <thead>\n",
       "    <tr style=\"text-align: right;\">\n",
       "      <th></th>\n",
       "      <th>identifier</th>\n",
       "      <th>seed</th>\n",
       "      <th>fold</th>\n",
       "      <th>delta_aupr</th>\n",
       "      <th>fs_method</th>\n",
       "    </tr>\n",
       "  </thead>\n",
       "  <tbody>\n",
       "    <tr>\n",
       "      <th>0</th>\n",
       "      <td>TP53</td>\n",
       "      <td>42</td>\n",
       "      <td>0</td>\n",
       "      <td>0.38053</td>\n",
       "      <td>median_f_test</td>\n",
       "    </tr>\n",
       "    <tr>\n",
       "      <th>1</th>\n",
       "      <td>TP53</td>\n",
       "      <td>42</td>\n",
       "      <td>1</td>\n",
       "      <td>0.36588</td>\n",
       "      <td>median_f_test</td>\n",
       "    </tr>\n",
       "    <tr>\n",
       "      <th>2</th>\n",
       "      <td>TP53</td>\n",
       "      <td>42</td>\n",
       "      <td>2</td>\n",
       "      <td>0.40707</td>\n",
       "      <td>median_f_test</td>\n",
       "    </tr>\n",
       "    <tr>\n",
       "      <th>3</th>\n",
       "      <td>TP53</td>\n",
       "      <td>42</td>\n",
       "      <td>3</td>\n",
       "      <td>0.38879</td>\n",
       "      <td>median_f_test</td>\n",
       "    </tr>\n",
       "    <tr>\n",
       "      <th>4</th>\n",
       "      <td>TP53</td>\n",
       "      <td>1</td>\n",
       "      <td>0</td>\n",
       "      <td>0.37406</td>\n",
       "      <td>median_f_test</td>\n",
       "    </tr>\n",
       "  </tbody>\n",
       "</table>\n",
       "</div>"
      ],
      "text/plain": [
       "  identifier  seed  fold  delta_aupr      fs_method\n",
       "0       TP53    42     0     0.38053  median_f_test\n",
       "1       TP53    42     1     0.36588  median_f_test\n",
       "2       TP53    42     2     0.40707  median_f_test\n",
       "3       TP53    42     3     0.38879  median_f_test\n",
       "4       TP53     1     0     0.37406  median_f_test"
      ]
     },
     "execution_count": 4,
     "metadata": {},
     "output_type": "execute_result"
    }
   ],
   "source": [
    "compare_df = []\n",
    "for fs_method in results_df.fs_method.unique():\n",
    "    print(fs_method, file=sys.stderr)\n",
    "    compare_df.append(\n",
    "        au.compare_control_ind(results_df[results_df.fs_method == fs_method],\n",
    "                               metric='aupr', verbose=True)\n",
    "          .assign(fs_method=fs_method)\n",
    "    )\n",
    "compare_df = pd.concat(compare_df)\n",
    "\n",
    "print(compare_df.shape)\n",
    "compare_df.head()"
   ]
  },
  {
   "cell_type": "code",
   "execution_count": 5,
   "metadata": {},
   "outputs": [
    {
     "data": {
      "text/plain": [
       "(0.0, 1.0)"
      ]
     },
     "execution_count": 5,
     "metadata": {},
     "output_type": "execute_result"
    },
    {
     "data": {
      "image/png": "[encoded data removed]",
      "text/plain": [
       "<Figure size 720x432 with 1 Axes>"
      ]
     },
     "metadata": {},
     "output_type": "display_data"
    }
   ],
   "source": [
    "sns.set({'figure.figsize': (10, 6)})\n",
    "\n",
    "sns.boxplot(data=compare_df, x='fs_method', y='delta_aupr')\n",
    "plt.title('Comparing feature selection methods, {}'.format('TP53'))\n",
    "plt.xlabel('Feature selection method')\n",
    "plt.ylim(0, 1)"
   ]
  },
  {
   "cell_type": "code",
   "execution_count": 6,
   "metadata": {},
   "outputs": [
    {
     "name": "stdout",
     "output_type": "stream",
     "text": [
      "40\n"
     ]
    }
   ],
   "source": [
    "# analysis of selected features:\n",
    "# overlap of features in at least one model\n",
    "# f-statistic distributions for features in at least one model\n",
    "# f-statistic distributions per fold\n",
    "id_coefs_info = []\n",
    "for identifier, coefs_list in au.generate_nonzero_coefficients_fs(\n",
    "        results_dir, cfg.fs_methods):\n",
    "    if not identifier.startswith('TP53'): continue\n",
    "    for fold_no, coefs in enumerate(coefs_list):\n",
    "        id_coefs_info.append([identifier, fold_no, coefs])\n",
    "        \n",
    "print(len(id_coefs_info))"
   ]
  },
  {
   "cell_type": "code",
   "execution_count": 7,
   "metadata": {},
   "outputs": [
    {
     "name": "stdout",
     "output_type": "stream",
     "text": [
      "3\n",
      "['TP53_mad_n100', 0, [('6490', -48.839), ('CESC', -10.332), ('OV', 4.6879), ('UCS', 2.6518), ('PAAD', 1.6652), ('BLCA', -1.21), ('log10_mut', 1.0676), ('LUAD', -0.8744), ('READ', 0.80921), ('HNSC', -0.78588), ('2023', 0.64835), ('6122', -0.53176), ('4627', 0.47179), ('64065', 0.43956999999999996), ('UCEC', -0.41885), ('3728', 0.39264), ('6222', 0.3911), ('12', -0.36707), ('ESCA', 0.36680999999999997), ('2752', -0.34245), ('2670', 0.33713000000000004), ('STAD', -0.33566999999999997), ('1191', -0.32795), ('63827', 0.3183), ('1938', -0.31626), ('6678', -0.3053), ('1278', 0.27712), ('3854', -0.26961999999999997), ('1832', -0.26254), ('629', -0.23788), ('26986', 0.23656), ('7178', -0.23283), ('348', 0.23258), ('335', -0.21043), ('3817', -0.2092), ('6439', -0.20898000000000003), ('2810', -0.2076), ('6132', 0.20713), ('5660', 0.2039), ('2597', -0.18273), ('3106', 0.17174), ('7431', -0.16660999999999998), ('100133941', 0.15582000000000001), ('972', -0.1554), ('3105', 0.14943), ('79026', -0.13858), ('71', -0.13432), ('6277', -0.12095), ('1293', -0.11592999999999999), ('7018', 0.11572), ('3880', -0.1142), ('3861', 0.11266), ('6188', 0.10268), ('3856', -0.1015), ('3481', 0.10098), ('5284', -0.095871), ('1048', 0.09517300000000001), ('2316', 0.09351), ('213', -0.092748), ('10397', 0.092527), ('5034', 0.08490700000000001), ('5004', 0.08266699999999999), ('8404', 0.081321), ('4069', -0.0812), ('567', -0.079083), ('9168', -0.077784), ('5315', -0.077385), ('3868', -0.076724), ('338', -0.075865), ('2335', 0.075682), ('10562', -0.070006), ('3860', -0.062548), ('2', -0.061727), ('6175', -0.05957899999999999), ('2512', 0.054821), ('718', 0.053647), ('2495', 0.052377), ('1277', -0.05177999999999999), ('259', -0.05155800000000001), ('6279', -0.043956999999999996), ('4680', 0.030326), ('1508', -0.030318), ('3852', -0.027566000000000004), ('6191', 0.025758999999999997), ('SARC', 0.012575), ('6176', 0.0044733)]]\n"
     ]
    }
   ],
   "source": [
    "print(len(id_coefs_info[0]))\n",
    "print(id_coefs_info[0])"
   ]
  },
  {
   "cell_type": "code",
   "execution_count": 8,
   "metadata": {},
   "outputs": [
    {
     "name": "stdout",
     "output_type": "stream",
     "text": [
      "['TP53_mad_n100', 'TP53_mad_n1000', 'TP53_mad_f_test_n100', 'TP53_median_f_test_n100', 'TP53_pancan_f_test_n100']\n"
     ]
    }
   ],
   "source": [
    "# list of sets, one for each feature selection method, of\n",
    "# features that were selected in at least one cross-validation fold\n",
    "fs_method_coefs = {}\n",
    "for coefs_list in id_coefs_info:\n",
    "    identifier = coefs_list[0]\n",
    "    features = list(zip(*coefs_list[2]))[0]\n",
    "    if identifier in fs_method_coefs:\n",
    "        fs_method_coefs[identifier].update(features)\n",
    "    else:\n",
    "        fs_method_coefs[identifier] = set(features)\n",
    "    \n",
    "print(list(fs_method_coefs.keys()))"
   ]
  },
  {
   "cell_type": "code",
   "execution_count": 9,
   "metadata": {},
   "outputs": [
    {
     "name": "stdout",
     "output_type": "stream",
     "text": [
      "118\n",
      "['6176', '6175', '1281', '7431', '3488']\n"
     ]
    }
   ],
   "source": [
    "print(len(fs_method_coefs['TP53_mad_n100']))\n",
    "print(list(fs_method_coefs['TP53_mad_n100'])[:5])"
   ]
  },
  {
   "cell_type": "code",
   "execution_count": 10,
   "metadata": {},
   "outputs": [],
   "source": [
    "def series_from_samples(samples, labels):\n",
    "    \"\"\"Generate the weird dataframe format that Python upsetplot expects.\n",
    "    \n",
    "    Use as input lists of samples, and the labels that correspond\n",
    "    to each list.\n",
    "    \"\"\"\n",
    "    # use pyvenn to generate overlaps/labels from sample IDs\n",
    "    venn_labels = generate_petal_labels(samples)\n",
    "    # generate format upset plot package expects\n",
    "    df_ix = [[(i == '1') for i in list(b)] + [int(v)] for b, v in venn_labels.items()]\n",
    "    # generate dataframe from list\n",
    "    rename_map = {ix: labels[ix] for ix in range(len(labels))}\n",
    "    index_names = list(rename_map.values())\n",
    "    rename_map[len(labels)] = 'id'\n",
    "    df = (pd.DataFrame(df_ix)\n",
    "        .rename(columns=rename_map)\n",
    "        .set_index(index_names)\n",
    "    )\n",
    "    # and return as series\n",
    "    return df['id']"
   ]
  },
  {
   "cell_type": "code",
   "execution_count": 11,
   "metadata": {},
   "outputs": [
    {
     "data": {
      "text/plain": [
       "TP53_mad_n100  TP53_mad_n1000  TP53_mad_f_test_n100  TP53_median_f_test_n100  TP53_pancan_f_test_n100\n",
       "False          True            False                 False                    False                      498\n",
       "                               True                  False                    False                      154\n",
       "                               False                 True                     False                      147\n",
       "                                                     False                    True                        64\n",
       "True           True            False                 False                    False                       58\n",
       "Name: id, dtype: int64"
      ]
     },
     "execution_count": 11,
     "metadata": {},
     "output_type": "execute_result"
    }
   ],
   "source": [
    "upset_series = series_from_samples(\n",
    "    list(fs_method_coefs.values()), list(fs_method_coefs.keys())\n",
    ")\n",
    "upset_series[upset_series != 0].sort_values(ascending=False).head(5)"
   ]
  },
  {
   "cell_type": "code",
   "execution_count": 12,
   "metadata": {},
   "outputs": [
    {
     "data": {
      "text/plain": [
       "{'matrix': <AxesSubplot:>,\n",
       " 'shading': <AxesSubplot:>,\n",
       " 'totals': <AxesSubplot:>,\n",
       " 'intersections': <AxesSubplot:ylabel='Intersection size'>}"
      ]
     },
     "execution_count": 12,
     "metadata": {},
     "output_type": "execute_result"
    },
    {
     "data": {
      "image/png": "[encoded data removed]",
      "text/plain": [
       "<Figure size 704x352 with 4 Axes>"
      ]
     },
     "metadata": {},
     "output_type": "display_data"
    }
   ],
   "source": [
    "up.plot(upset_series[upset_series != 0])"
   ]
  },
  {
   "cell_type": "code",
   "execution_count": 13,
   "metadata": {},
   "outputs": [
    {
     "data": {
      "text/plain": [
       "TP53_mad_n100  TP53_mad_f_test_n100  TP53_median_f_test_n100  TP53_pancan_f_test_n100\n",
       "False          True                  False                    False                      154\n",
       "               False                 True                     False                      147\n",
       "                                     False                    True                        64\n",
       "True           False                 False                    False                       58\n",
       "False          False                 True                     True                        54\n",
       "Name: id, dtype: int64"
      ]
     },
     "execution_count": 13,
     "metadata": {},
     "output_type": "execute_result"
    }
   ],
   "source": [
    "fs_method_small = {\n",
    "    k: v for k, v in fs_method_coefs.items() if 'mad_n1000' not in k\n",
    "}\n",
    "upset_series_small = series_from_samples(\n",
    "    list(fs_method_small.values()), list(fs_method_small.keys())\n",
    ")\n",
    "upset_series_small[upset_series_small != 0].sort_values(ascending=False).head(5)"
   ]
  },
  {
   "cell_type": "code",
   "execution_count": 14,
   "metadata": {},
   "outputs": [
    {
     "data": {
      "text/plain": [
       "{'matrix': <AxesSubplot:>,\n",
       " 'shading': <AxesSubplot:>,\n",
       " 'totals': <AxesSubplot:>,\n",
       " 'intersections': <AxesSubplot:ylabel='Intersection size'>}"
      ]
     },
     "execution_count": 14,
     "metadata": {},
     "output_type": "execute_result"
    },
    {
     "data": {
      "image/png": "[encoded data removed]",
      "text/plain": [
       "<Figure size 672x320 with 4 Axes>"
      ]
     },
     "metadata": {},
     "output_type": "display_data"
    }
   ],
   "source": [
    "up.plot(upset_series_small[upset_series_small != 0])"
   ]
  }
 ],
 "metadata": {
  "kernelspec": {
   "display_name": "Python [conda env:pancancer-evaluation]",
   "language": "python",
   "name": "conda-env-pancancer-evaluation-py"
  },
  "language_info": {
   "codemirror_mode": {
    "name": "ipython",
    "version": 3
   },
   "file_extension": ".py",
   "mimetype": "text/x-python",
   "name": "python",
   "nbconvert_exporter": "python",
   "pygments_lexer": "ipython3",
   "version": "3.6.9"
  }
 },
 "nbformat": 4,
 "nbformat_minor": 4
}
