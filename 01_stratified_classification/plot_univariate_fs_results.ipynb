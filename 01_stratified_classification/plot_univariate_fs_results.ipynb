{
 "cells": [
  {
   "cell_type": "markdown",
   "metadata": {},
   "source": [
    "## Analysis of mutation prediction results"
   ]
  },
  {
   "cell_type": "code",
   "execution_count": 1,
   "metadata": {},
   "outputs": [],
   "source": [
    "import os\n",
    "import sys\n",
    "\n",
    "import numpy as np\n",
    "import pandas as pd\n",
    "import matplotlib.pyplot as plt\n",
    "import seaborn as sns\n",
    "import upsetplot as up\n",
    "from venn import generate_petal_labels\n",
    "\n",
    "import pancancer_evaluation.config as cfg\n",
    "import pancancer_evaluation.utilities.analysis_utilities as au\n",
    "\n",
    "%load_ext autoreload\n",
    "%autoreload 2"
   ]
  },
  {
   "cell_type": "code",
   "execution_count": 2,
   "metadata": {},
   "outputs": [],
   "source": [
    "results_dir = os.path.join('results', 'univariate_fs', 'pancancer')"
   ]
  },
  {
   "cell_type": "code",
   "execution_count": 3,
   "metadata": {},
   "outputs": [
    {
     "name": "stdout",
     "output_type": "stream",
     "text": [
      "(1440, 10)\n",
      "['median_f_test' 'mad_100' 'mad_1000' 'mad_f_test' 'pancan_f_test']\n",
      "[ 100 1000]\n"
     ]
    },
    {
     "data": {
      "text/html": [
       "<div>\n",
       "<style scoped>\n",
       "    .dataframe tbody tr th:only-of-type {\n",
       "        vertical-align: middle;\n",
       "    }\n",
       "\n",
       "    .dataframe tbody tr th {\n",
       "        vertical-align: top;\n",
       "    }\n",
       "\n",
       "    .dataframe thead th {\n",
       "        text-align: right;\n",
       "    }\n",
       "</style>\n",
       "<table border=\"1\" class=\"dataframe\">\n",
       "  <thead>\n",
       "    <tr style=\"text-align: right;\">\n",
       "      <th></th>\n",
       "      <th>auroc</th>\n",
       "      <th>aupr</th>\n",
       "      <th>gene</th>\n",
       "      <th>holdout_cancer_type</th>\n",
       "      <th>signal</th>\n",
       "      <th>seed</th>\n",
       "      <th>data_type</th>\n",
       "      <th>fold</th>\n",
       "      <th>fs_method</th>\n",
       "      <th>n_dims</th>\n",
       "    </tr>\n",
       "  </thead>\n",
       "  <tbody>\n",
       "    <tr>\n",
       "      <th>0</th>\n",
       "      <td>0.55681</td>\n",
       "      <td>0.53291</td>\n",
       "      <td>TP53</td>\n",
       "      <td>NaN</td>\n",
       "      <td>shuffled</td>\n",
       "      <td>42</td>\n",
       "      <td>train</td>\n",
       "      <td>0</td>\n",
       "      <td>median_f_test</td>\n",
       "      <td>100</td>\n",
       "    </tr>\n",
       "    <tr>\n",
       "      <th>1</th>\n",
       "      <td>0.49419</td>\n",
       "      <td>0.46362</td>\n",
       "      <td>TP53</td>\n",
       "      <td>NaN</td>\n",
       "      <td>shuffled</td>\n",
       "      <td>42</td>\n",
       "      <td>test</td>\n",
       "      <td>0</td>\n",
       "      <td>median_f_test</td>\n",
       "      <td>100</td>\n",
       "    </tr>\n",
       "    <tr>\n",
       "      <th>2</th>\n",
       "      <td>0.51169</td>\n",
       "      <td>0.48608</td>\n",
       "      <td>TP53</td>\n",
       "      <td>NaN</td>\n",
       "      <td>shuffled</td>\n",
       "      <td>42</td>\n",
       "      <td>cv</td>\n",
       "      <td>0</td>\n",
       "      <td>median_f_test</td>\n",
       "      <td>100</td>\n",
       "    </tr>\n",
       "    <tr>\n",
       "      <th>3</th>\n",
       "      <td>0.54038</td>\n",
       "      <td>0.50844</td>\n",
       "      <td>TP53</td>\n",
       "      <td>NaN</td>\n",
       "      <td>shuffled</td>\n",
       "      <td>42</td>\n",
       "      <td>train</td>\n",
       "      <td>1</td>\n",
       "      <td>median_f_test</td>\n",
       "      <td>100</td>\n",
       "    </tr>\n",
       "    <tr>\n",
       "      <th>4</th>\n",
       "      <td>0.52547</td>\n",
       "      <td>0.49144</td>\n",
       "      <td>TP53</td>\n",
       "      <td>NaN</td>\n",
       "      <td>shuffled</td>\n",
       "      <td>42</td>\n",
       "      <td>test</td>\n",
       "      <td>1</td>\n",
       "      <td>median_f_test</td>\n",
       "      <td>100</td>\n",
       "    </tr>\n",
       "  </tbody>\n",
       "</table>\n",
       "</div>"
      ],
      "text/plain": [
       "     auroc     aupr  gene  holdout_cancer_type    signal  seed data_type  \\\n",
       "0  0.55681  0.53291  TP53                  NaN  shuffled    42     train   \n",
       "1  0.49419  0.46362  TP53                  NaN  shuffled    42      test   \n",
       "2  0.51169  0.48608  TP53                  NaN  shuffled    42        cv   \n",
       "3  0.54038  0.50844  TP53                  NaN  shuffled    42     train   \n",
       "4  0.52547  0.49144  TP53                  NaN  shuffled    42      test   \n",
       "\n",
       "   fold      fs_method  n_dims  \n",
       "0     0  median_f_test     100  \n",
       "1     0  median_f_test     100  \n",
       "2     0  median_f_test     100  \n",
       "3     1  median_f_test     100  \n",
       "4     1  median_f_test     100  "
      ]
     },
     "execution_count": 3,
     "metadata": {},
     "output_type": "execute_result"
    }
   ],
   "source": [
    "results_df = au.load_prediction_results_fs(results_dir, cfg.fs_methods)\n",
    "\n",
    "results_df.loc[\n",
    "    (results_df.fs_method == 'mad') & (results_df.n_dims == 100),\n",
    "    'fs_method'\n",
    "] = 'mad_100'\n",
    "results_df.loc[\n",
    "    (results_df.fs_method == 'mad') & (results_df.n_dims == 1000),\n",
    "    'fs_method'\n",
    "] = 'mad_1000'\n",
    "\n",
    "print(results_df.shape)\n",
    "print(results_df.fs_method.unique())\n",
    "print(results_df.n_dims.unique())\n",
    "results_df.head()"
   ]
  },
  {
   "cell_type": "code",
   "execution_count": 4,
   "metadata": {},
   "outputs": [
    {
     "name": "stderr",
     "output_type": "stream",
     "text": [
      "median_f_test\n",
      "mad_100\n",
      "mad_1000\n",
      "mad_f_test\n",
      "pancan_f_test\n"
     ]
    },
    {
     "name": "stdout",
     "output_type": "stream",
     "text": [
      "(240, 5)\n"
     ]
    },
    {
     "data": {
      "text/html": [
       "<div>\n",
       "<style scoped>\n",
       "    .dataframe tbody tr th:only-of-type {\n",
       "        vertical-align: middle;\n",
       "    }\n",
       "\n",
       "    .dataframe tbody tr th {\n",
       "        vertical-align: top;\n",
       "    }\n",
       "\n",
       "    .dataframe thead th {\n",
       "        text-align: right;\n",
       "    }\n",
       "</style>\n",
       "<table border=\"1\" class=\"dataframe\">\n",
       "  <thead>\n",
       "    <tr style=\"text-align: right;\">\n",
       "      <th></th>\n",
       "      <th>identifier</th>\n",
       "      <th>seed</th>\n",
       "      <th>fold</th>\n",
       "      <th>delta_aupr</th>\n",
       "      <th>fs_method</th>\n",
       "    </tr>\n",
       "  </thead>\n",
       "  <tbody>\n",
       "    <tr>\n",
       "      <th>0</th>\n",
       "      <td>APC</td>\n",
       "      <td>42</td>\n",
       "      <td>0</td>\n",
       "      <td>0.53778</td>\n",
       "      <td>median_f_test</td>\n",
       "    </tr>\n",
       "    <tr>\n",
       "      <th>1</th>\n",
       "      <td>APC</td>\n",
       "      <td>42</td>\n",
       "      <td>1</td>\n",
       "      <td>0.61413</td>\n",
       "      <td>median_f_test</td>\n",
       "    </tr>\n",
       "    <tr>\n",
       "      <th>2</th>\n",
       "      <td>APC</td>\n",
       "      <td>42</td>\n",
       "      <td>2</td>\n",
       "      <td>0.55923</td>\n",
       "      <td>median_f_test</td>\n",
       "    </tr>\n",
       "    <tr>\n",
       "      <th>3</th>\n",
       "      <td>APC</td>\n",
       "      <td>42</td>\n",
       "      <td>3</td>\n",
       "      <td>0.56890</td>\n",
       "      <td>median_f_test</td>\n",
       "    </tr>\n",
       "    <tr>\n",
       "      <th>4</th>\n",
       "      <td>APC</td>\n",
       "      <td>1</td>\n",
       "      <td>0</td>\n",
       "      <td>0.53763</td>\n",
       "      <td>median_f_test</td>\n",
       "    </tr>\n",
       "  </tbody>\n",
       "</table>\n",
       "</div>"
      ],
      "text/plain": [
       "  identifier  seed  fold  delta_aupr      fs_method\n",
       "0        APC    42     0     0.53778  median_f_test\n",
       "1        APC    42     1     0.61413  median_f_test\n",
       "2        APC    42     2     0.55923  median_f_test\n",
       "3        APC    42     3     0.56890  median_f_test\n",
       "4        APC     1     0     0.53763  median_f_test"
      ]
     },
     "execution_count": 4,
     "metadata": {},
     "output_type": "execute_result"
    }
   ],
   "source": [
    "compare_df = []\n",
    "for fs_method in results_df.fs_method.unique():\n",
    "    print(fs_method, file=sys.stderr)\n",
    "    compare_df.append(\n",
    "        au.compare_control_ind(results_df[results_df.fs_method == fs_method],\n",
    "                               metric='aupr', verbose=True)\n",
    "          .assign(fs_method=fs_method)\n",
    "    )\n",
    "compare_df = pd.concat(compare_df)\n",
    "\n",
    "print(compare_df.shape)\n",
    "compare_df.head()"
   ]
  },
  {
   "cell_type": "code",
   "execution_count": 5,
   "metadata": {},
   "outputs": [
    {
     "data": {
      "image/png": "[encoded data removed]",
      "text/plain": [
       "<Figure size 1296x648 with 6 Axes>"
      ]
     },
     "metadata": {},
     "output_type": "display_data"
    }
   ],
   "source": [
    "sns.set({'figure.figsize': (18, 9)})\n",
    "sns.set_context('notebook')\n",
    "\n",
    "fig, axarr = plt.subplots(2, 3)\n",
    "\n",
    "for ix, gene in enumerate(compare_df.identifier.unique()):\n",
    "    ax = axarr[ix // 3, ix % 3]\n",
    "    plot_df = compare_df[compare_df.identifier == gene]\n",
    "    sns.boxplot(data=plot_df, x='fs_method', y='delta_aupr', ax=ax)\n",
    "    ax.set_title(gene)\n",
    "    ax.set_xlabel('Feature selection method')\n",
    "    ax.set_ylim(0, 1)\n",
    "\n",
    "plt.tight_layout()"
   ]
  },
  {
   "cell_type": "code",
   "execution_count": 6,
   "metadata": {},
   "outputs": [
    {
     "name": "stdout",
     "output_type": "stream",
     "text": [
      "40\n"
     ]
    }
   ],
   "source": [
    "# analysis of selected features:\n",
    "# overlap of features in at least one model\n",
    "# f-statistic distributions for features in at least one model\n",
    "# f-statistic distributions per fold\n",
    "\n",
    "# gene to analyze features for\n",
    "gene = 'TP53'\n",
    "\n",
    "id_coefs_info = []\n",
    "for identifier, coefs_list in au.generate_nonzero_coefficients_fs(\n",
    "        results_dir, cfg.fs_methods):\n",
    "    if not identifier.startswith(gene): continue\n",
    "    for fold_no, coefs in enumerate(coefs_list):\n",
    "        id_coefs_info.append([identifier, fold_no, coefs])\n",
    "        \n",
    "print(len(id_coefs_info))"
   ]
  },
  {
   "cell_type": "code",
   "execution_count": 7,
   "metadata": {},
   "outputs": [
    {
     "name": "stdout",
     "output_type": "stream",
     "text": [
      "3\n",
      "['TP53_mad_n100', 0, [('6490', -48.839), ('CESC', -10.332), ('OV', 4.6879), ('UCS', 2.6518), ('PAAD', 1.6652), ('BLCA', -1.21), ('log10_mut', 1.0676), ('LUAD', -0.8744), ('READ', 0.80921), ('HNSC', -0.78588), ('2023', 0.64835), ('6122', -0.53176), ('4627', 0.47179), ('64065', 0.43956999999999996), ('UCEC', -0.41885), ('3728', 0.39264), ('6222', 0.3911), ('12', -0.36707), ('ESCA', 0.36680999999999997), ('2752', -0.34245), ('2670', 0.33713000000000004), ('STAD', -0.33566999999999997), ('1191', -0.32795), ('63827', 0.3183), ('1938', -0.31626), ('6678', -0.3053), ('1278', 0.27712), ('3854', -0.26961999999999997), ('1832', -0.26254), ('629', -0.23788), ('26986', 0.23656), ('7178', -0.23283), ('348', 0.23258), ('335', -0.21043), ('3817', -0.2092), ('6439', -0.20898000000000003), ('2810', -0.2076), ('6132', 0.20713), ('5660', 0.2039), ('2597', -0.18273), ('3106', 0.17174), ('7431', -0.16660999999999998), ('100133941', 0.15582000000000001), ('972', -0.1554), ('3105', 0.14943), ('79026', -0.13858), ('71', -0.13432), ('6277', -0.12095), ('1293', -0.11592999999999999), ('7018', 0.11572), ('3880', -0.1142), ('3861', 0.11266), ('6188', 0.10268), ('3856', -0.1015), ('3481', 0.10098), ('5284', -0.095871), ('1048', 0.09517300000000001), ('2316', 0.09351), ('213', -0.092748), ('10397', 0.092527), ('5034', 0.08490700000000001), ('5004', 0.08266699999999999), ('8404', 0.081321), ('4069', -0.0812), ('567', -0.079083), ('9168', -0.077784), ('5315', -0.077385), ('3868', -0.076724), ('338', -0.075865), ('2335', 0.075682), ('10562', -0.070006), ('3860', -0.062548), ('2', -0.061727), ('6175', -0.05957899999999999), ('2512', 0.054821), ('718', 0.053647), ('2495', 0.052377), ('1277', -0.05177999999999999), ('259', -0.05155800000000001), ('6279', -0.043956999999999996), ('4680', 0.030326), ('1508', -0.030318), ('3852', -0.027566000000000004), ('6191', 0.025758999999999997), ('SARC', 0.012575), ('6176', 0.0044733)]]\n"
     ]
    }
   ],
   "source": [
    "print(len(id_coefs_info[0]))\n",
    "print(id_coefs_info[0])"
   ]
  },
  {
   "cell_type": "code",
   "execution_count": 8,
   "metadata": {},
   "outputs": [
    {
     "name": "stdout",
     "output_type": "stream",
     "text": [
      "['TP53_mad_n100', 'TP53_mad_n1000', 'TP53_mad_f_test_n100', 'TP53_median_f_test_n100', 'TP53_pancan_f_test_n100']\n"
     ]
    }
   ],
   "source": [
    "# list of sets, one for each feature selection method, of\n",
    "# features that were selected in at least one cross-validation fold\n",
    "fs_method_coefs = {}\n",
    "for coefs_list in id_coefs_info:\n",
    "    identifier = coefs_list[0]\n",
    "    features = list(zip(*coefs_list[2]))[0]\n",
    "    if identifier in fs_method_coefs:\n",
    "        fs_method_coefs[identifier].update(features)\n",
    "    else:\n",
    "        fs_method_coefs[identifier] = set(features)\n",
    "    \n",
    "print(list(fs_method_coefs.keys()))"
   ]
  },
  {
   "cell_type": "code",
   "execution_count": 9,
   "metadata": {},
   "outputs": [
    {
     "name": "stdout",
     "output_type": "stream",
     "text": [
      "118\n",
      "['2023', '1277', '1191', '71', '6696']\n"
     ]
    }
   ],
   "source": [
    "print(len(fs_method_coefs['{}_mad_n100'.format(gene)]))\n",
    "print(list(fs_method_coefs['{}_mad_n100'.format(gene)])[:5])"
   ]
  },
  {
   "cell_type": "code",
   "execution_count": 10,
   "metadata": {},
   "outputs": [],
   "source": [
    "def series_from_samples(samples, labels):\n",
    "    \"\"\"Generate the weird dataframe format that Python upsetplot expects.\n",
    "    \n",
    "    Use as input lists of samples, and the labels that correspond\n",
    "    to each list.\n",
    "    \"\"\"\n",
    "    # use pyvenn to generate overlaps/labels from sample IDs\n",
    "    venn_labels = generate_petal_labels(samples)\n",
    "    # generate format upset plot package expects\n",
    "    df_ix = [[(i == '1') for i in list(b)] + [int(v)] for b, v in venn_labels.items()]\n",
    "    # generate dataframe from list\n",
    "    rename_map = {ix: labels[ix] for ix in range(len(labels))}\n",
    "    index_names = list(rename_map.values())\n",
    "    rename_map[len(labels)] = 'id'\n",
    "    df = (pd.DataFrame(df_ix)\n",
    "        .rename(columns=rename_map)\n",
    "        .set_index(index_names)\n",
    "    )\n",
    "    # and return as series\n",
    "    return df['id']"
   ]
  },
  {
   "cell_type": "code",
   "execution_count": 11,
   "metadata": {},
   "outputs": [
    {
     "data": {
      "text/plain": [
       "TP53_mad_n100  TP53_mad_n1000  TP53_mad_f_test_n100  TP53_median_f_test_n100  TP53_pancan_f_test_n100\n",
       "False          True            False                 False                    False                      498\n",
       "                               True                  False                    False                      154\n",
       "                               False                 True                     False                      147\n",
       "                                                     False                    True                        64\n",
       "True           True            False                 False                    False                       58\n",
       "Name: id, dtype: int64"
      ]
     },
     "execution_count": 11,
     "metadata": {},
     "output_type": "execute_result"
    }
   ],
   "source": [
    "upset_series = series_from_samples(\n",
    "    list(fs_method_coefs.values()), list(fs_method_coefs.keys())\n",
    ")\n",
    "upset_series[upset_series != 0].sort_values(ascending=False).head(5)"
   ]
  },
  {
   "cell_type": "code",
   "execution_count": 12,
   "metadata": {},
   "outputs": [
    {
     "data": {
      "text/plain": [
       "{'matrix': <AxesSubplot:>,\n",
       " 'shading': <AxesSubplot:>,\n",
       " 'totals': <AxesSubplot:>,\n",
       " 'intersections': <AxesSubplot:ylabel='Intersection size'>}"
      ]
     },
     "execution_count": 12,
     "metadata": {},
     "output_type": "execute_result"
    },
    {
     "data": {
      "image/png": "[encoded data removed]",
      "text/plain": [
       "<Figure size 736x352 with 4 Axes>"
      ]
     },
     "metadata": {},
     "output_type": "display_data"
    }
   ],
   "source": [
    "up.plot(upset_series[upset_series != 0])"
   ]
  },
  {
   "cell_type": "code",
   "execution_count": 13,
   "metadata": {},
   "outputs": [
    {
     "data": {
      "text/plain": [
       "TP53_mad_n100  TP53_mad_f_test_n100  TP53_median_f_test_n100  TP53_pancan_f_test_n100\n",
       "False          True                  False                    False                      154\n",
       "               False                 True                     False                      147\n",
       "                                     False                    True                        64\n",
       "True           False                 False                    False                       58\n",
       "False          False                 True                     True                        54\n",
       "Name: id, dtype: int64"
      ]
     },
     "execution_count": 13,
     "metadata": {},
     "output_type": "execute_result"
    }
   ],
   "source": [
    "fs_method_small = {\n",
    "    k: v for k, v in fs_method_coefs.items() if 'mad_n1000' not in k\n",
    "}\n",
    "upset_series_small = series_from_samples(\n",
    "    list(fs_method_small.values()), list(fs_method_small.keys())\n",
    ")\n",
    "upset_series_small[upset_series_small != 0].sort_values(ascending=False).head(5)"
   ]
  },
  {
   "cell_type": "code",
   "execution_count": 14,
   "metadata": {},
   "outputs": [
    {
     "data": {
      "text/plain": [
       "{'matrix': <AxesSubplot:>,\n",
       " 'shading': <AxesSubplot:>,\n",
       " 'totals': <AxesSubplot:>,\n",
       " 'intersections': <AxesSubplot:ylabel='Intersection size'>}"
      ]
     },
     "execution_count": 14,
     "metadata": {},
     "output_type": "execute_result"
    },
    {
     "data": {
      "image/png": "[encoded data removed]",
      "text/plain": [
       "<Figure size 704x320 with 4 Axes>"
      ]
     },
     "metadata": {},
     "output_type": "display_data"
    }
   ],
   "source": [
    "up.plot(upset_series_small[upset_series_small != 0])"
   ]
  },
  {
   "cell_type": "code",
   "execution_count": 15,
   "metadata": {},
   "outputs": [],
   "source": [
    "# get distribution of univariate feature correlations\n",
    "# NOTE these won't be exactly what was used for feature selection since\n",
    "# we're not doing the same train/test splits here, we're just calculating\n",
    "# on the whole dataset\n",
    "# (this could be fixed but not sure it's worth the effort at the moment)"
   ]
  },
  {
   "cell_type": "code",
   "execution_count": 16,
   "metadata": {},
   "outputs": [
    {
     "name": "stderr",
     "output_type": "stream",
     "text": [
      "Loading gene label data...\n",
      "Loading sample info...\n",
      "Loading pan-cancer data from cached pickle file...\n",
      "Loading gene expression data...\n",
      "Standardizing columns of expression data...\n"
     ]
    }
   ],
   "source": [
    "from sklearn.preprocessing import StandardScaler\n",
    "from sklearn.feature_selection import f_classif\n",
    "\n",
    "import pancancer_evaluation.utilities.data_utilities as du\n",
    "\n",
    "print('Loading gene label data...', file=sys.stderr)\n",
    "genes_df = du.load_top_50()\n",
    "sample_info_df = du.load_sample_info(verbose=True)\n",
    "\n",
    "# this returns a tuple of dataframes, unpack it below\n",
    "pancancer_data = du.load_pancancer_data(verbose=True)\n",
    "(sample_freeze_df,\n",
    " mutation_df,\n",
    " copy_loss_df,\n",
    " copy_gain_df,\n",
    " mut_burden_df) = pancancer_data\n",
    "\n",
    "rnaseq_df = du.load_expression_data(verbose=True)\n",
    "\n",
    "# standardize columns of expression dataframe\n",
    "print('Standardizing columns of expression data...', file=sys.stderr)\n",
    "rnaseq_df[rnaseq_df.columns] = StandardScaler().fit_transform(rnaseq_df[rnaseq_df.columns])"
   ]
  },
  {
   "cell_type": "code",
   "execution_count": 17,
   "metadata": {},
   "outputs": [
    {
     "name": "stdout",
     "output_type": "stream",
     "text": [
      "(11060, 16148)\n"
     ]
    },
    {
     "data": {
      "text/html": [
       "<div>\n",
       "<style scoped>\n",
       "    .dataframe tbody tr th:only-of-type {\n",
       "        vertical-align: middle;\n",
       "    }\n",
       "\n",
       "    .dataframe tbody tr th {\n",
       "        vertical-align: top;\n",
       "    }\n",
       "\n",
       "    .dataframe thead th {\n",
       "        text-align: right;\n",
       "    }\n",
       "</style>\n",
       "<table border=\"1\" class=\"dataframe\">\n",
       "  <thead>\n",
       "    <tr style=\"text-align: right;\">\n",
       "      <th></th>\n",
       "      <th>1</th>\n",
       "      <th>10</th>\n",
       "      <th>100</th>\n",
       "      <th>1000</th>\n",
       "      <th>10000</th>\n",
       "    </tr>\n",
       "    <tr>\n",
       "      <th>sample_id</th>\n",
       "      <th></th>\n",
       "      <th></th>\n",
       "      <th></th>\n",
       "      <th></th>\n",
       "      <th></th>\n",
       "    </tr>\n",
       "  </thead>\n",
       "  <tbody>\n",
       "    <tr>\n",
       "      <th>TCGA-02-0047-01</th>\n",
       "      <td>-0.144100</td>\n",
       "      <td>-0.136450</td>\n",
       "      <td>-0.207065</td>\n",
       "      <td>1.049402</td>\n",
       "      <td>0.644625</td>\n",
       "    </tr>\n",
       "    <tr>\n",
       "      <th>TCGA-02-0055-01</th>\n",
       "      <td>-0.124925</td>\n",
       "      <td>-0.197893</td>\n",
       "      <td>-0.132694</td>\n",
       "      <td>0.704438</td>\n",
       "      <td>0.154763</td>\n",
       "    </tr>\n",
       "    <tr>\n",
       "      <th>TCGA-02-2483-01</th>\n",
       "      <td>-0.133543</td>\n",
       "      <td>-0.174587</td>\n",
       "      <td>-0.103291</td>\n",
       "      <td>1.473420</td>\n",
       "      <td>0.669303</td>\n",
       "    </tr>\n",
       "    <tr>\n",
       "      <th>TCGA-02-2485-01</th>\n",
       "      <td>-0.147052</td>\n",
       "      <td>-0.072888</td>\n",
       "      <td>-0.213119</td>\n",
       "      <td>4.405612</td>\n",
       "      <td>11.503035</td>\n",
       "    </tr>\n",
       "    <tr>\n",
       "      <th>TCGA-02-2486-01</th>\n",
       "      <td>-0.145321</td>\n",
       "      <td>-0.181076</td>\n",
       "      <td>-0.147395</td>\n",
       "      <td>1.013468</td>\n",
       "      <td>0.117745</td>\n",
       "    </tr>\n",
       "  </tbody>\n",
       "</table>\n",
       "</div>"
      ],
      "text/plain": [
       "                        1        10       100      1000      10000\n",
       "sample_id                                                         \n",
       "TCGA-02-0047-01 -0.144100 -0.136450 -0.207065  1.049402   0.644625\n",
       "TCGA-02-0055-01 -0.124925 -0.197893 -0.132694  0.704438   0.154763\n",
       "TCGA-02-2483-01 -0.133543 -0.174587 -0.103291  1.473420   0.669303\n",
       "TCGA-02-2485-01 -0.147052 -0.072888 -0.213119  4.405612  11.503035\n",
       "TCGA-02-2486-01 -0.145321 -0.181076 -0.147395  1.013468   0.117745"
      ]
     },
     "execution_count": 17,
     "metadata": {},
     "output_type": "execute_result"
    }
   ],
   "source": [
    "print(rnaseq_df.shape)\n",
    "rnaseq_df.iloc[:5, :5]"
   ]
  },
  {
   "cell_type": "code",
   "execution_count": 18,
   "metadata": {},
   "outputs": [
    {
     "data": {
      "text/plain": [
       "(9074, 3)"
      ]
     },
     "metadata": {},
     "output_type": "display_data"
    },
    {
     "data": {
      "text/html": [
       "<div>\n",
       "<style scoped>\n",
       "    .dataframe tbody tr th:only-of-type {\n",
       "        vertical-align: middle;\n",
       "    }\n",
       "\n",
       "    .dataframe tbody tr th {\n",
       "        vertical-align: top;\n",
       "    }\n",
       "\n",
       "    .dataframe thead th {\n",
       "        text-align: right;\n",
       "    }\n",
       "</style>\n",
       "<table border=\"1\" class=\"dataframe\">\n",
       "  <thead>\n",
       "    <tr style=\"text-align: right;\">\n",
       "      <th></th>\n",
       "      <th>status</th>\n",
       "      <th>cancer_type</th>\n",
       "      <th>subtype</th>\n",
       "    </tr>\n",
       "    <tr>\n",
       "      <th>SAMPLE_BARCODE</th>\n",
       "      <th></th>\n",
       "      <th></th>\n",
       "      <th></th>\n",
       "    </tr>\n",
       "  </thead>\n",
       "  <tbody>\n",
       "    <tr>\n",
       "      <th>TCGA-02-0047-01</th>\n",
       "      <td>0</td>\n",
       "      <td>GBM</td>\n",
       "      <td>IDHwt</td>\n",
       "    </tr>\n",
       "    <tr>\n",
       "      <th>TCGA-02-0055-01</th>\n",
       "      <td>1</td>\n",
       "      <td>GBM</td>\n",
       "      <td>IDHwt</td>\n",
       "    </tr>\n",
       "    <tr>\n",
       "      <th>TCGA-02-2483-01</th>\n",
       "      <td>1</td>\n",
       "      <td>GBM</td>\n",
       "      <td>IDHmut-non-codel</td>\n",
       "    </tr>\n",
       "    <tr>\n",
       "      <th>TCGA-02-2485-01</th>\n",
       "      <td>1</td>\n",
       "      <td>GBM</td>\n",
       "      <td>IDHwt</td>\n",
       "    </tr>\n",
       "    <tr>\n",
       "      <th>TCGA-02-2486-01</th>\n",
       "      <td>0</td>\n",
       "      <td>GBM</td>\n",
       "      <td>IDHwt</td>\n",
       "    </tr>\n",
       "  </tbody>\n",
       "</table>\n",
       "</div>"
      ],
      "text/plain": [
       "                 status cancer_type           subtype\n",
       "SAMPLE_BARCODE                                       \n",
       "TCGA-02-0047-01       0         GBM             IDHwt\n",
       "TCGA-02-0055-01       1         GBM             IDHwt\n",
       "TCGA-02-2483-01       1         GBM  IDHmut-non-codel\n",
       "TCGA-02-2485-01       1         GBM             IDHwt\n",
       "TCGA-02-2486-01       0         GBM             IDHwt"
      ]
     },
     "metadata": {},
     "output_type": "display_data"
    }
   ],
   "source": [
    "y_df = (mutation_df\n",
    "    .loc[:, [gene]]\n",
    "    .merge(sample_freeze_df, left_index=True, right_on='SAMPLE_BARCODE')\n",
    "    .drop(columns='PATIENT_BARCODE')\n",
    "    .set_index('SAMPLE_BARCODE')\n",
    "    .rename(columns={gene: 'status',\n",
    "                     'DISEASE': 'cancer_type',\n",
    "                     'SUBTYPE': 'subtype'})\n",
    ")\n",
    "display(y_df.shape, y_df.head())"
   ]
  },
  {
   "cell_type": "code",
   "execution_count": 19,
   "metadata": {},
   "outputs": [
    {
     "data": {
      "text/plain": [
       "(9074, 16148)"
      ]
     },
     "metadata": {},
     "output_type": "display_data"
    },
    {
     "data": {
      "text/plain": [
       "0"
      ]
     },
     "metadata": {},
     "output_type": "display_data"
    },
    {
     "data": {
      "text/html": [
       "<div>\n",
       "<style scoped>\n",
       "    .dataframe tbody tr th:only-of-type {\n",
       "        vertical-align: middle;\n",
       "    }\n",
       "\n",
       "    .dataframe tbody tr th {\n",
       "        vertical-align: top;\n",
       "    }\n",
       "\n",
       "    .dataframe thead th {\n",
       "        text-align: right;\n",
       "    }\n",
       "</style>\n",
       "<table border=\"1\" class=\"dataframe\">\n",
       "  <thead>\n",
       "    <tr style=\"text-align: right;\">\n",
       "      <th></th>\n",
       "      <th>1</th>\n",
       "      <th>10</th>\n",
       "      <th>100</th>\n",
       "      <th>1000</th>\n",
       "      <th>10000</th>\n",
       "    </tr>\n",
       "    <tr>\n",
       "      <th>SAMPLE_BARCODE</th>\n",
       "      <th></th>\n",
       "      <th></th>\n",
       "      <th></th>\n",
       "      <th></th>\n",
       "      <th></th>\n",
       "    </tr>\n",
       "  </thead>\n",
       "  <tbody>\n",
       "    <tr>\n",
       "      <th>TCGA-02-0047-01</th>\n",
       "      <td>-0.144100</td>\n",
       "      <td>-0.136450</td>\n",
       "      <td>-0.207065</td>\n",
       "      <td>1.049402</td>\n",
       "      <td>0.644625</td>\n",
       "    </tr>\n",
       "    <tr>\n",
       "      <th>TCGA-02-0055-01</th>\n",
       "      <td>-0.124925</td>\n",
       "      <td>-0.197893</td>\n",
       "      <td>-0.132694</td>\n",
       "      <td>0.704438</td>\n",
       "      <td>0.154763</td>\n",
       "    </tr>\n",
       "    <tr>\n",
       "      <th>TCGA-02-2483-01</th>\n",
       "      <td>-0.133543</td>\n",
       "      <td>-0.174587</td>\n",
       "      <td>-0.103291</td>\n",
       "      <td>1.473420</td>\n",
       "      <td>0.669303</td>\n",
       "    </tr>\n",
       "    <tr>\n",
       "      <th>TCGA-02-2485-01</th>\n",
       "      <td>-0.147052</td>\n",
       "      <td>-0.072888</td>\n",
       "      <td>-0.213119</td>\n",
       "      <td>4.405612</td>\n",
       "      <td>11.503035</td>\n",
       "    </tr>\n",
       "    <tr>\n",
       "      <th>TCGA-02-2486-01</th>\n",
       "      <td>-0.145321</td>\n",
       "      <td>-0.181076</td>\n",
       "      <td>-0.147395</td>\n",
       "      <td>1.013468</td>\n",
       "      <td>0.117745</td>\n",
       "    </tr>\n",
       "  </tbody>\n",
       "</table>\n",
       "</div>"
      ],
      "text/plain": [
       "                        1        10       100      1000      10000\n",
       "SAMPLE_BARCODE                                                    \n",
       "TCGA-02-0047-01 -0.144100 -0.136450 -0.207065  1.049402   0.644625\n",
       "TCGA-02-0055-01 -0.124925 -0.197893 -0.132694  0.704438   0.154763\n",
       "TCGA-02-2483-01 -0.133543 -0.174587 -0.103291  1.473420   0.669303\n",
       "TCGA-02-2485-01 -0.147052 -0.072888 -0.213119  4.405612  11.503035\n",
       "TCGA-02-2486-01 -0.145321 -0.181076 -0.147395  1.013468   0.117745"
      ]
     },
     "metadata": {},
     "output_type": "display_data"
    }
   ],
   "source": [
    "X_df = rnaseq_df.reindex(y_df.index)\n",
    "\n",
    "# make sure we didn't introduce any NA rows\n",
    "assert X_df.isna().sum().sum() == 0\n",
    "\n",
    "display(X_df.shape,\n",
    "        X_df.isna().sum().sum(),\n",
    "        X_df.iloc[:5, :5])"
   ]
  },
  {
   "cell_type": "code",
   "execution_count": 20,
   "metadata": {},
   "outputs": [],
   "source": [
    "def get_f_stats_for_cancer_types(X_df, y_df):\n",
    "    f_stats_df = {\n",
    "        'pancan': f_classif(X_df, y_df.status)[0]\n",
    "    }\n",
    "    for cancer_type in y_df.cancer_type.unique():\n",
    "        ct_samples = y_df[y_df.cancer_type == cancer_type].index\n",
    "        X_ct_df = X_df.reindex(ct_samples)\n",
    "        y_ct_df = y_df.reindex(ct_samples)\n",
    "        \n",
    "        f_stats_df[cancer_type] = f_classif(X_ct_df, y_ct_df.status)[0]\n",
    "        \n",
    "    return pd.DataFrame(f_stats_df, index=X_df.columns)"
   ]
  },
  {
   "cell_type": "code",
   "execution_count": 21,
   "metadata": {},
   "outputs": [
    {
     "name": "stderr",
     "output_type": "stream",
     "text": [
      "/home/jake/anaconda3/envs/pancancer-evaluation/lib/python3.6/site-packages/sklearn/feature_selection/univariate_selection.py:109: RuntimeWarning: invalid value encountered in true_divide\n",
      "  msb = ssbn / float(dfbn)\n",
      "/home/jake/anaconda3/envs/pancancer-evaluation/lib/python3.6/site-packages/sklearn/feature_selection/univariate_selection.py:109: RuntimeWarning: invalid value encountered in true_divide\n",
      "  msb = ssbn / float(dfbn)\n",
      "/home/jake/anaconda3/envs/pancancer-evaluation/lib/python3.6/site-packages/sklearn/feature_selection/univariate_selection.py:109: RuntimeWarning: invalid value encountered in true_divide\n",
      "  msb = ssbn / float(dfbn)\n",
      "/home/jake/anaconda3/envs/pancancer-evaluation/lib/python3.6/site-packages/sklearn/feature_selection/univariate_selection.py:109: RuntimeWarning: invalid value encountered in true_divide\n",
      "  msb = ssbn / float(dfbn)\n",
      "/home/jake/anaconda3/envs/pancancer-evaluation/lib/python3.6/site-packages/sklearn/feature_selection/univariate_selection.py:109: RuntimeWarning: invalid value encountered in true_divide\n",
      "  msb = ssbn / float(dfbn)\n"
     ]
    },
    {
     "data": {
      "text/plain": [
       "'TP53_mad_n100'"
      ]
     },
     "metadata": {},
     "output_type": "display_data"
    },
    {
     "data": {
      "text/html": [
       "<div>\n",
       "<style scoped>\n",
       "    .dataframe tbody tr th:only-of-type {\n",
       "        vertical-align: middle;\n",
       "    }\n",
       "\n",
       "    .dataframe tbody tr th {\n",
       "        vertical-align: top;\n",
       "    }\n",
       "\n",
       "    .dataframe thead th {\n",
       "        text-align: right;\n",
       "    }\n",
       "</style>\n",
       "<table border=\"1\" class=\"dataframe\">\n",
       "  <thead>\n",
       "    <tr style=\"text-align: right;\">\n",
       "      <th></th>\n",
       "      <th>pancan</th>\n",
       "      <th>GBM</th>\n",
       "      <th>OV</th>\n",
       "      <th>LUAD</th>\n",
       "      <th>LUSC</th>\n",
       "    </tr>\n",
       "  </thead>\n",
       "  <tbody>\n",
       "    <tr>\n",
       "      <th>100133941</th>\n",
       "      <td>4.547036</td>\n",
       "      <td>0.187003</td>\n",
       "      <td>1.232441</td>\n",
       "      <td>10.350519</td>\n",
       "      <td>0.494572</td>\n",
       "    </tr>\n",
       "    <tr>\n",
       "      <th>10397</th>\n",
       "      <td>148.938505</td>\n",
       "      <td>1.983556</td>\n",
       "      <td>0.345875</td>\n",
       "      <td>13.831406</td>\n",
       "      <td>3.980787</td>\n",
       "    </tr>\n",
       "    <tr>\n",
       "      <th>1048</th>\n",
       "      <td>200.121549</td>\n",
       "      <td>0.351997</td>\n",
       "      <td>0.467251</td>\n",
       "      <td>0.185318</td>\n",
       "      <td>0.002804</td>\n",
       "    </tr>\n",
       "    <tr>\n",
       "      <th>10562</th>\n",
       "      <td>10.909579</td>\n",
       "      <td>0.082902</td>\n",
       "      <td>0.234602</td>\n",
       "      <td>0.049802</td>\n",
       "      <td>1.016339</td>\n",
       "    </tr>\n",
       "    <tr>\n",
       "      <th>1191</th>\n",
       "      <td>160.059601</td>\n",
       "      <td>6.135767</td>\n",
       "      <td>0.029481</td>\n",
       "      <td>13.720515</td>\n",
       "      <td>12.031676</td>\n",
       "    </tr>\n",
       "  </tbody>\n",
       "</table>\n",
       "</div>"
      ],
      "text/plain": [
       "               pancan       GBM        OV       LUAD       LUSC\n",
       "100133941    4.547036  0.187003  1.232441  10.350519   0.494572\n",
       "10397      148.938505  1.983556  0.345875  13.831406   3.980787\n",
       "1048       200.121549  0.351997  0.467251   0.185318   0.002804\n",
       "10562       10.909579  0.082902  0.234602   0.049802   1.016339\n",
       "1191       160.059601  6.135767  0.029481  13.720515  12.031676"
      ]
     },
     "metadata": {},
     "output_type": "display_data"
    }
   ],
   "source": [
    "f_stats = {}\n",
    "\n",
    "for fs_method, genes in fs_method_coefs.items():\n",
    "    X_selected_df = X_df.loc[:, X_df.columns.intersection(genes)]\n",
    "    f_stats_df = get_f_stats_for_cancer_types(X_selected_df, y_df)\n",
    "    f_stats[fs_method] = f_stats_df\n",
    "    \n",
    "fs_1 = list(fs_method_coefs.keys())[0]\n",
    "display(fs_1, f_stats[fs_1].iloc[:5, :5])"
   ]
  },
  {
   "cell_type": "code",
   "execution_count": 32,
   "metadata": {},
   "outputs": [
    {
     "name": "stdout",
     "output_type": "stream",
     "text": [
      "TP53_mad_n100 (3333,)\n",
      "TP53_mad_n1000 (33726,)\n",
      "TP53_mad_f_test_n100 (6171,)\n",
      "TP53_median_f_test_n100 (7095,)\n",
      "TP53_pancan_f_test_n100 (4224,)\n"
     ]
    },
    {
     "data": {
      "image/png": "[encoded data removed]",
      "text/plain": [
       "<Figure size 1296x648 with 6 Axes>"
      ]
     },
     "metadata": {},
     "output_type": "display_data"
    }
   ],
   "source": [
    "sns.set({'figure.figsize': (18, 9)})\n",
    "sns.set_context('notebook')\n",
    "\n",
    "fig, axarr = plt.subplots(2, 3)\n",
    "\n",
    "for ix, (fs_method, f_stats_df) in enumerate(f_stats.items()):\n",
    "    ax = axarr[ix // 3, ix % 3]\n",
    "    dist_vals = (f_stats_df\n",
    "        .loc[:, ~(f_stats_df.columns == 'pancan')]\n",
    "        .values\n",
    "        .flatten()\n",
    "    )\n",
    "    print(fs_method, dist_vals.shape)\n",
    "    sns.histplot(dist_vals, ax=ax, binwidth=10)\n",
    "    ax.set_title(fs_method)\n",
    "    \n",
    "plt.tight_layout()"
   ]
  },
  {
   "cell_type": "code",
   "execution_count": null,
   "metadata": {},
   "outputs": [],
   "source": []
  }
 ],
 "metadata": {
  "kernelspec": {
   "display_name": "Python [conda env:pancancer-evaluation]",
   "language": "python",
   "name": "conda-env-pancancer-evaluation-py"
  },
  "language_info": {
   "codemirror_mode": {
    "name": "ipython",
    "version": 3
   },
   "file_extension": ".py",
   "mimetype": "text/x-python",
   "name": "python",
   "nbconvert_exporter": "python",
   "pygments_lexer": "ipython3",
   "version": "3.6.9"
  }
 },
 "nbformat": 4,
 "nbformat_minor": 4
}
