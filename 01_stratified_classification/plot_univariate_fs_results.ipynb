{
 "cells": [
  {
   "cell_type": "markdown",
   "metadata": {},
   "source": [
    "## Analysis of mutation prediction results"
   ]
  },
  {
   "cell_type": "code",
   "execution_count": 1,
   "metadata": {},
   "outputs": [],
   "source": [
    "import os\n",
    "import sys\n",
    "\n",
    "import numpy as np\n",
    "import pandas as pd\n",
    "import matplotlib.pyplot as plt\n",
    "import seaborn as sns\n",
    "\n",
    "import pancancer_evaluation.config as cfg\n",
    "import pancancer_evaluation.utilities.analysis_utilities as au\n",
    "\n",
    "%load_ext autoreload\n",
    "%autoreload 2"
   ]
  },
  {
   "cell_type": "code",
   "execution_count": 2,
   "metadata": {},
   "outputs": [],
   "source": [
    "results_dir = os.path.join(\n",
    "    'results', 'univariate_fs', 'pancancer'\n",
    ")"
   ]
  },
  {
   "cell_type": "code",
   "execution_count": 3,
   "metadata": {},
   "outputs": [
    {
     "name": "stdout",
     "output_type": "stream",
     "text": [
      "(240, 10)\n",
      "['median_f_test' 'mad_100' 'mad_1000' 'mad_f_test' 'pancan_f_test']\n",
      "[ 100 1000]\n"
     ]
    },
    {
     "data": {
      "text/html": [
       "<div>\n",
       "<style scoped>\n",
       "    .dataframe tbody tr th:only-of-type {\n",
       "        vertical-align: middle;\n",
       "    }\n",
       "\n",
       "    .dataframe tbody tr th {\n",
       "        vertical-align: top;\n",
       "    }\n",
       "\n",
       "    .dataframe thead th {\n",
       "        text-align: right;\n",
       "    }\n",
       "</style>\n",
       "<table border=\"1\" class=\"dataframe\">\n",
       "  <thead>\n",
       "    <tr style=\"text-align: right;\">\n",
       "      <th></th>\n",
       "      <th>auroc</th>\n",
       "      <th>aupr</th>\n",
       "      <th>gene</th>\n",
       "      <th>holdout_cancer_type</th>\n",
       "      <th>signal</th>\n",
       "      <th>seed</th>\n",
       "      <th>data_type</th>\n",
       "      <th>fold</th>\n",
       "      <th>fs_method</th>\n",
       "      <th>n_dims</th>\n",
       "    </tr>\n",
       "  </thead>\n",
       "  <tbody>\n",
       "    <tr>\n",
       "      <th>0</th>\n",
       "      <td>0.55681</td>\n",
       "      <td>0.53291</td>\n",
       "      <td>TP53</td>\n",
       "      <td>NaN</td>\n",
       "      <td>shuffled</td>\n",
       "      <td>42</td>\n",
       "      <td>train</td>\n",
       "      <td>0</td>\n",
       "      <td>median_f_test</td>\n",
       "      <td>100</td>\n",
       "    </tr>\n",
       "    <tr>\n",
       "      <th>1</th>\n",
       "      <td>0.49419</td>\n",
       "      <td>0.46362</td>\n",
       "      <td>TP53</td>\n",
       "      <td>NaN</td>\n",
       "      <td>shuffled</td>\n",
       "      <td>42</td>\n",
       "      <td>test</td>\n",
       "      <td>0</td>\n",
       "      <td>median_f_test</td>\n",
       "      <td>100</td>\n",
       "    </tr>\n",
       "    <tr>\n",
       "      <th>2</th>\n",
       "      <td>0.51169</td>\n",
       "      <td>0.48608</td>\n",
       "      <td>TP53</td>\n",
       "      <td>NaN</td>\n",
       "      <td>shuffled</td>\n",
       "      <td>42</td>\n",
       "      <td>cv</td>\n",
       "      <td>0</td>\n",
       "      <td>median_f_test</td>\n",
       "      <td>100</td>\n",
       "    </tr>\n",
       "    <tr>\n",
       "      <th>3</th>\n",
       "      <td>0.54038</td>\n",
       "      <td>0.50844</td>\n",
       "      <td>TP53</td>\n",
       "      <td>NaN</td>\n",
       "      <td>shuffled</td>\n",
       "      <td>42</td>\n",
       "      <td>train</td>\n",
       "      <td>1</td>\n",
       "      <td>median_f_test</td>\n",
       "      <td>100</td>\n",
       "    </tr>\n",
       "    <tr>\n",
       "      <th>4</th>\n",
       "      <td>0.52547</td>\n",
       "      <td>0.49144</td>\n",
       "      <td>TP53</td>\n",
       "      <td>NaN</td>\n",
       "      <td>shuffled</td>\n",
       "      <td>42</td>\n",
       "      <td>test</td>\n",
       "      <td>1</td>\n",
       "      <td>median_f_test</td>\n",
       "      <td>100</td>\n",
       "    </tr>\n",
       "  </tbody>\n",
       "</table>\n",
       "</div>"
      ],
      "text/plain": [
       "     auroc     aupr  gene  holdout_cancer_type    signal  seed data_type  \\\n",
       "0  0.55681  0.53291  TP53                  NaN  shuffled    42     train   \n",
       "1  0.49419  0.46362  TP53                  NaN  shuffled    42      test   \n",
       "2  0.51169  0.48608  TP53                  NaN  shuffled    42        cv   \n",
       "3  0.54038  0.50844  TP53                  NaN  shuffled    42     train   \n",
       "4  0.52547  0.49144  TP53                  NaN  shuffled    42      test   \n",
       "\n",
       "   fold      fs_method  n_dims  \n",
       "0     0  median_f_test     100  \n",
       "1     0  median_f_test     100  \n",
       "2     0  median_f_test     100  \n",
       "3     1  median_f_test     100  \n",
       "4     1  median_f_test     100  "
      ]
     },
     "execution_count": 3,
     "metadata": {},
     "output_type": "execute_result"
    }
   ],
   "source": [
    "results_df = (\n",
    "    au.load_prediction_results_fs(results_dir, cfg.fs_methods)\n",
    ")\n",
    "\n",
    "# temporary, change later\n",
    "results_df = results_df[results_df.gene == 'TP53'].copy()\n",
    "\n",
    "results_df.loc[\n",
    "    (results_df.fs_method == 'mad') & (results_df.n_dims == 100),\n",
    "    'fs_method'\n",
    "] = 'mad_100'\n",
    "results_df.loc[\n",
    "    (results_df.fs_method == 'mad') & (results_df.n_dims == 1000),\n",
    "    'fs_method'\n",
    "] = 'mad_1000'\n",
    "\n",
    "print(results_df.shape)\n",
    "print(results_df.fs_method.unique())\n",
    "print(results_df.n_dims.unique())\n",
    "results_df.head()"
   ]
  },
  {
   "cell_type": "code",
   "execution_count": 4,
   "metadata": {},
   "outputs": [
    {
     "name": "stdout",
     "output_type": "stream",
     "text": [
      "(40, 5)\n"
     ]
    },
    {
     "name": "stderr",
     "output_type": "stream",
     "text": [
      "median_f_test\n",
      "mad_100\n",
      "mad_1000\n",
      "mad_f_test\n",
      "pancan_f_test\n"
     ]
    },
    {
     "data": {
      "text/html": [
       "<div>\n",
       "<style scoped>\n",
       "    .dataframe tbody tr th:only-of-type {\n",
       "        vertical-align: middle;\n",
       "    }\n",
       "\n",
       "    .dataframe tbody tr th {\n",
       "        vertical-align: top;\n",
       "    }\n",
       "\n",
       "    .dataframe thead th {\n",
       "        text-align: right;\n",
       "    }\n",
       "</style>\n",
       "<table border=\"1\" class=\"dataframe\">\n",
       "  <thead>\n",
       "    <tr style=\"text-align: right;\">\n",
       "      <th></th>\n",
       "      <th>identifier</th>\n",
       "      <th>seed</th>\n",
       "      <th>fold</th>\n",
       "      <th>delta_aupr</th>\n",
       "      <th>fs_method</th>\n",
       "    </tr>\n",
       "  </thead>\n",
       "  <tbody>\n",
       "    <tr>\n",
       "      <th>0</th>\n",
       "      <td>TP53</td>\n",
       "      <td>42</td>\n",
       "      <td>0</td>\n",
       "      <td>0.38053</td>\n",
       "      <td>median_f_test</td>\n",
       "    </tr>\n",
       "    <tr>\n",
       "      <th>1</th>\n",
       "      <td>TP53</td>\n",
       "      <td>42</td>\n",
       "      <td>1</td>\n",
       "      <td>0.36588</td>\n",
       "      <td>median_f_test</td>\n",
       "    </tr>\n",
       "    <tr>\n",
       "      <th>2</th>\n",
       "      <td>TP53</td>\n",
       "      <td>42</td>\n",
       "      <td>2</td>\n",
       "      <td>0.40707</td>\n",
       "      <td>median_f_test</td>\n",
       "    </tr>\n",
       "    <tr>\n",
       "      <th>3</th>\n",
       "      <td>TP53</td>\n",
       "      <td>42</td>\n",
       "      <td>3</td>\n",
       "      <td>0.38879</td>\n",
       "      <td>median_f_test</td>\n",
       "    </tr>\n",
       "    <tr>\n",
       "      <th>4</th>\n",
       "      <td>TP53</td>\n",
       "      <td>1</td>\n",
       "      <td>0</td>\n",
       "      <td>0.37406</td>\n",
       "      <td>median_f_test</td>\n",
       "    </tr>\n",
       "  </tbody>\n",
       "</table>\n",
       "</div>"
      ],
      "text/plain": [
       "  identifier  seed  fold  delta_aupr      fs_method\n",
       "0       TP53    42     0     0.38053  median_f_test\n",
       "1       TP53    42     1     0.36588  median_f_test\n",
       "2       TP53    42     2     0.40707  median_f_test\n",
       "3       TP53    42     3     0.38879  median_f_test\n",
       "4       TP53     1     0     0.37406  median_f_test"
      ]
     },
     "execution_count": 4,
     "metadata": {},
     "output_type": "execute_result"
    }
   ],
   "source": [
    "compare_df = []\n",
    "for fs_method in results_df.fs_method.unique():\n",
    "    print(fs_method, file=sys.stderr)\n",
    "    compare_df.append(\n",
    "        au.compare_control_ind(results_df[results_df.fs_method == fs_method],\n",
    "                               metric='aupr', verbose=True)\n",
    "          .assign(fs_method=fs_method)\n",
    "    )\n",
    "compare_df = pd.concat(compare_df)\n",
    "\n",
    "print(compare_df.shape)\n",
    "compare_df.head()"
   ]
  },
  {
   "cell_type": "code",
   "execution_count": 5,
   "metadata": {},
   "outputs": [
    {
     "data": {
      "text/plain": [
       "(0.0, 1.0)"
      ]
     },
     "execution_count": 5,
     "metadata": {},
     "output_type": "execute_result"
    },
    {
     "data": {
      "image/png": "[encoded data removed]",
      "text/plain": [
       "<Figure size 720x432 with 1 Axes>"
      ]
     },
     "metadata": {},
     "output_type": "display_data"
    }
   ],
   "source": [
    "sns.set({'figure.figsize': (10, 6)})\n",
    "\n",
    "sns.boxplot(data=compare_df, x='fs_method', y='delta_aupr')\n",
    "plt.title('Comparing feature selection methods, {}'.format('TP53'))\n",
    "plt.xlabel('Feature selection method')\n",
    "plt.ylim(0, 1)"
   ]
  }
 ],
 "metadata": {
  "kernelspec": {
   "display_name": "Python [conda env:pancancer-evaluation]",
   "language": "python",
   "name": "conda-env-pancancer-evaluation-py"
  },
  "language_info": {
   "codemirror_mode": {
    "name": "ipython",
    "version": 3
   },
   "file_extension": ".py",
   "mimetype": "text/x-python",
   "name": "python",
   "nbconvert_exporter": "python",
   "pygments_lexer": "ipython3",
   "version": "3.6.9"
  }
 },
 "nbformat": 4,
 "nbformat_minor": 4
}
