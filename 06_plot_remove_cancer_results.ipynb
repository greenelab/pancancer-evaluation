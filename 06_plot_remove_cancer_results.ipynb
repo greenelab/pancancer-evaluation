{
 "cells": [
  {
   "cell_type": "markdown",
   "metadata": {},
   "source": [
    "## Remove cancer type experiments\n",
    "\n",
    "In our previous experiments, we were comparing pancancer mutation prediction (train a model on all cancer types, then test on a single cancer type) with single-cancer mutation prediction (train and test on the same single cancer type).\n",
    "\n",
    "Here, we want to find out what happens to performance when we remove the relevant cancer type from the pancancer training set (i.e. train on all cancer types minus the one we test on). We plan to compare this with the pancancer results, under the assumption that this should be detrimental to performance."
   ]
  },
  {
   "cell_type": "code",
   "execution_count": 1,
   "metadata": {},
   "outputs": [],
   "source": [
    "import os\n",
    "\n",
    "import numpy as np\n",
    "import pandas as pd\n",
    "import matplotlib.pyplot as plt\n",
    "import seaborn as sns\n",
    "\n",
    "import pancancer_evaluation.config as cfg\n",
    "import pancancer_evaluation.utilities.analysis_utilities as au"
   ]
  },
  {
   "cell_type": "code",
   "execution_count": 2,
   "metadata": {},
   "outputs": [],
   "source": [
    "single_cancer_dir = os.path.join(cfg.results_dir, 'single_cancer')\n",
    "pancancer_dir = os.path.join(cfg.results_dir, 'pancancer')\n",
    "remove_cancer_dir = os.path.join(cfg.results_dir, 'pancancer_only')"
   ]
  },
  {
   "cell_type": "code",
   "execution_count": 3,
   "metadata": {},
   "outputs": [
    {
     "name": "stdout",
     "output_type": "stream",
     "text": [
      "(10464, 10)\n"
     ]
    },
    {
     "data": {
      "text/html": [
       "<div>\n",
       "<style scoped>\n",
       "    .dataframe tbody tr th:only-of-type {\n",
       "        vertical-align: middle;\n",
       "    }\n",
       "\n",
       "    .dataframe tbody tr th {\n",
       "        vertical-align: top;\n",
       "    }\n",
       "\n",
       "    .dataframe thead th {\n",
       "        text-align: right;\n",
       "    }\n",
       "</style>\n",
       "<table border=\"1\" class=\"dataframe\">\n",
       "  <thead>\n",
       "    <tr style=\"text-align: right;\">\n",
       "      <th></th>\n",
       "      <th>auroc</th>\n",
       "      <th>aupr</th>\n",
       "      <th>gene</th>\n",
       "      <th>holdout_cancer_type</th>\n",
       "      <th>signal</th>\n",
       "      <th>seed</th>\n",
       "      <th>data_type</th>\n",
       "      <th>fold</th>\n",
       "      <th>train_set</th>\n",
       "      <th>identifier</th>\n",
       "    </tr>\n",
       "  </thead>\n",
       "  <tbody>\n",
       "    <tr>\n",
       "      <th>0</th>\n",
       "      <td>0.99987</td>\n",
       "      <td>0.99879</td>\n",
       "      <td>MAP3K1</td>\n",
       "      <td>BRCA</td>\n",
       "      <td>signal</td>\n",
       "      <td>42</td>\n",
       "      <td>train</td>\n",
       "      <td>0</td>\n",
       "      <td>single_cancer</td>\n",
       "      <td>MAP3K1_BRCA</td>\n",
       "    </tr>\n",
       "    <tr>\n",
       "      <th>1</th>\n",
       "      <td>0.72689</td>\n",
       "      <td>0.46638</td>\n",
       "      <td>MAP3K1</td>\n",
       "      <td>BRCA</td>\n",
       "      <td>signal</td>\n",
       "      <td>42</td>\n",
       "      <td>test</td>\n",
       "      <td>0</td>\n",
       "      <td>single_cancer</td>\n",
       "      <td>MAP3K1_BRCA</td>\n",
       "    </tr>\n",
       "    <tr>\n",
       "      <th>2</th>\n",
       "      <td>0.72844</td>\n",
       "      <td>0.38910</td>\n",
       "      <td>MAP3K1</td>\n",
       "      <td>BRCA</td>\n",
       "      <td>signal</td>\n",
       "      <td>42</td>\n",
       "      <td>cv</td>\n",
       "      <td>0</td>\n",
       "      <td>single_cancer</td>\n",
       "      <td>MAP3K1_BRCA</td>\n",
       "    </tr>\n",
       "    <tr>\n",
       "      <th>3</th>\n",
       "      <td>0.99860</td>\n",
       "      <td>0.98630</td>\n",
       "      <td>MAP3K1</td>\n",
       "      <td>BRCA</td>\n",
       "      <td>signal</td>\n",
       "      <td>42</td>\n",
       "      <td>train</td>\n",
       "      <td>1</td>\n",
       "      <td>single_cancer</td>\n",
       "      <td>MAP3K1_BRCA</td>\n",
       "    </tr>\n",
       "    <tr>\n",
       "      <th>4</th>\n",
       "      <td>0.74887</td>\n",
       "      <td>0.48700</td>\n",
       "      <td>MAP3K1</td>\n",
       "      <td>BRCA</td>\n",
       "      <td>signal</td>\n",
       "      <td>42</td>\n",
       "      <td>test</td>\n",
       "      <td>1</td>\n",
       "      <td>single_cancer</td>\n",
       "      <td>MAP3K1_BRCA</td>\n",
       "    </tr>\n",
       "  </tbody>\n",
       "</table>\n",
       "</div>"
      ],
      "text/plain": [
       "     auroc     aupr    gene holdout_cancer_type  signal  seed data_type  fold  \\\n",
       "0  0.99987  0.99879  MAP3K1                BRCA  signal    42     train     0   \n",
       "1  0.72689  0.46638  MAP3K1                BRCA  signal    42      test     0   \n",
       "2  0.72844  0.38910  MAP3K1                BRCA  signal    42        cv     0   \n",
       "3  0.99860  0.98630  MAP3K1                BRCA  signal    42     train     1   \n",
       "4  0.74887  0.48700  MAP3K1                BRCA  signal    42      test     1   \n",
       "\n",
       "       train_set   identifier  \n",
       "0  single_cancer  MAP3K1_BRCA  \n",
       "1  single_cancer  MAP3K1_BRCA  \n",
       "2  single_cancer  MAP3K1_BRCA  \n",
       "3  single_cancer  MAP3K1_BRCA  \n",
       "4  single_cancer  MAP3K1_BRCA  "
      ]
     },
     "execution_count": 3,
     "metadata": {},
     "output_type": "execute_result"
    }
   ],
   "source": [
    "single_cancer_df = au.load_prediction_results(single_cancer_dir, 'single_cancer')\n",
    "print(single_cancer_df.shape)\n",
    "single_cancer_df.head()"
   ]
  },
  {
   "cell_type": "code",
   "execution_count": 4,
   "metadata": {},
   "outputs": [
    {
     "name": "stdout",
     "output_type": "stream",
     "text": [
      "(9732, 10)\n"
     ]
    },
    {
     "data": {
      "text/html": [
       "<div>\n",
       "<style scoped>\n",
       "    .dataframe tbody tr th:only-of-type {\n",
       "        vertical-align: middle;\n",
       "    }\n",
       "\n",
       "    .dataframe tbody tr th {\n",
       "        vertical-align: top;\n",
       "    }\n",
       "\n",
       "    .dataframe thead th {\n",
       "        text-align: right;\n",
       "    }\n",
       "</style>\n",
       "<table border=\"1\" class=\"dataframe\">\n",
       "  <thead>\n",
       "    <tr style=\"text-align: right;\">\n",
       "      <th></th>\n",
       "      <th>auroc</th>\n",
       "      <th>aupr</th>\n",
       "      <th>gene</th>\n",
       "      <th>holdout_cancer_type</th>\n",
       "      <th>signal</th>\n",
       "      <th>seed</th>\n",
       "      <th>data_type</th>\n",
       "      <th>fold</th>\n",
       "      <th>train_set</th>\n",
       "      <th>identifier</th>\n",
       "    </tr>\n",
       "  </thead>\n",
       "  <tbody>\n",
       "    <tr>\n",
       "      <th>0</th>\n",
       "      <td>0.95820</td>\n",
       "      <td>0.68399</td>\n",
       "      <td>MAP3K1</td>\n",
       "      <td>BRCA</td>\n",
       "      <td>signal</td>\n",
       "      <td>42</td>\n",
       "      <td>train</td>\n",
       "      <td>0</td>\n",
       "      <td>pancancer</td>\n",
       "      <td>MAP3K1_BRCA</td>\n",
       "    </tr>\n",
       "    <tr>\n",
       "      <th>1</th>\n",
       "      <td>0.69619</td>\n",
       "      <td>0.40796</td>\n",
       "      <td>MAP3K1</td>\n",
       "      <td>BRCA</td>\n",
       "      <td>signal</td>\n",
       "      <td>42</td>\n",
       "      <td>test</td>\n",
       "      <td>0</td>\n",
       "      <td>pancancer</td>\n",
       "      <td>MAP3K1_BRCA</td>\n",
       "    </tr>\n",
       "    <tr>\n",
       "      <th>2</th>\n",
       "      <td>0.62527</td>\n",
       "      <td>0.20878</td>\n",
       "      <td>MAP3K1</td>\n",
       "      <td>BRCA</td>\n",
       "      <td>signal</td>\n",
       "      <td>42</td>\n",
       "      <td>cv</td>\n",
       "      <td>0</td>\n",
       "      <td>pancancer</td>\n",
       "      <td>MAP3K1_BRCA</td>\n",
       "    </tr>\n",
       "    <tr>\n",
       "      <th>3</th>\n",
       "      <td>0.98367</td>\n",
       "      <td>0.82884</td>\n",
       "      <td>MAP3K1</td>\n",
       "      <td>BRCA</td>\n",
       "      <td>signal</td>\n",
       "      <td>42</td>\n",
       "      <td>train</td>\n",
       "      <td>1</td>\n",
       "      <td>pancancer</td>\n",
       "      <td>MAP3K1_BRCA</td>\n",
       "    </tr>\n",
       "    <tr>\n",
       "      <th>4</th>\n",
       "      <td>0.77170</td>\n",
       "      <td>0.44885</td>\n",
       "      <td>MAP3K1</td>\n",
       "      <td>BRCA</td>\n",
       "      <td>signal</td>\n",
       "      <td>42</td>\n",
       "      <td>test</td>\n",
       "      <td>1</td>\n",
       "      <td>pancancer</td>\n",
       "      <td>MAP3K1_BRCA</td>\n",
       "    </tr>\n",
       "  </tbody>\n",
       "</table>\n",
       "</div>"
      ],
      "text/plain": [
       "     auroc     aupr    gene holdout_cancer_type  signal  seed data_type  fold  \\\n",
       "0  0.95820  0.68399  MAP3K1                BRCA  signal    42     train     0   \n",
       "1  0.69619  0.40796  MAP3K1                BRCA  signal    42      test     0   \n",
       "2  0.62527  0.20878  MAP3K1                BRCA  signal    42        cv     0   \n",
       "3  0.98367  0.82884  MAP3K1                BRCA  signal    42     train     1   \n",
       "4  0.77170  0.44885  MAP3K1                BRCA  signal    42      test     1   \n",
       "\n",
       "   train_set   identifier  \n",
       "0  pancancer  MAP3K1_BRCA  \n",
       "1  pancancer  MAP3K1_BRCA  \n",
       "2  pancancer  MAP3K1_BRCA  \n",
       "3  pancancer  MAP3K1_BRCA  \n",
       "4  pancancer  MAP3K1_BRCA  "
      ]
     },
     "execution_count": 4,
     "metadata": {},
     "output_type": "execute_result"
    }
   ],
   "source": [
    "pancancer_df = au.load_prediction_results(pancancer_dir, 'pancancer')\n",
    "print(pancancer_df.shape)\n",
    "pancancer_df.head()"
   ]
  },
  {
   "cell_type": "code",
   "execution_count": null,
   "metadata": {},
   "outputs": [],
   "source": [
    "remove_cancer_df = au.load_prediction_results(remove_cancer_dir, 'pancancer_only')\n",
    "print(remove_cancer_df.shape)\n",
    "remove_cancer_df.head()"
   ]
  },
  {
   "cell_type": "code",
   "execution_count": null,
   "metadata": {},
   "outputs": [],
   "source": [
    "experiment_comparison_df = au.compare_results(single_cancer_df,\n",
    "                                              pancancer_df=remove_cancer_df,\n",
    "                                              identifier='identifier',\n",
    "                                              metric='aupr',\n",
    "                                              correction=False,\n",
    "                                              verbose=False)\n",
    "experiment_comparison_df.sort_values(by='p_value').head(n=15)"
   ]
  },
  {
   "cell_type": "code",
   "execution_count": null,
   "metadata": {},
   "outputs": [],
   "source": [
    "experiment_comparison_df['nlog10_p'] = -np.log(experiment_comparison_df.p_value)\n",
    "\n",
    "sns.set({'figure.figsize': (8, 6)})\n",
    "sns.scatterplot(data=experiment_comparison_df, x='delta_mean', y='nlog10_p')\n",
    "plt.xlabel('AUPRC(pancancer only) - AUPRC(single cancer)')\n",
    "plt.ylabel(r'$-\\log_{10}($adjusted p-value$)$')\n",
    "plt.title('Comparison of pan-cancer and single-cancer results, Vogelstein genes')"
   ]
  },
  {
   "cell_type": "code",
   "execution_count": null,
   "metadata": {},
   "outputs": [],
   "source": [
    "experiment_comparison_df[experiment_comparison_df.identifier == 'BRAF_SKCM']"
   ]
  },
  {
   "cell_type": "code",
   "execution_count": null,
   "metadata": {},
   "outputs": [],
   "source": [
    "single_cancer_df[\n",
    "    (single_cancer_df.identifier == 'BRAF_SKCM') &\n",
    "    (single_cancer_df.data_type == 'test') &\n",
    "    (single_cancer_df.signal == 'signal')\n",
    "]"
   ]
  },
  {
   "cell_type": "code",
   "execution_count": null,
   "metadata": {},
   "outputs": [],
   "source": [
    "remove_cancer_df[\n",
    "    (remove_cancer_df.identifier == 'BRAF_SKCM') &\n",
    "    (remove_cancer_df.data_type == 'test') &\n",
    "    (remove_cancer_df.signal == 'signal')\n",
    "]"
   ]
  },
  {
   "cell_type": "code",
   "execution_count": null,
   "metadata": {},
   "outputs": [],
   "source": [
    "experiment_comparison_df = au.compare_results(pancancer_df,\n",
    "                                              pancancer_df=remove_cancer_df,\n",
    "                                              identifier='identifier',\n",
    "                                              metric='aupr',\n",
    "                                              correction=False,\n",
    "                                              verbose=False)\n",
    "experiment_comparison_df.sort_values(by='p_value').head(n=25)"
   ]
  },
  {
   "cell_type": "code",
   "execution_count": null,
   "metadata": {},
   "outputs": [],
   "source": [
    "results_dir = '/home/jake/data/pancancer_vogelstein_09_25'\n",
    "pancancer_comparison_df = pd.read_csv(os.path.join(results_dir, 'pancancer_pvals.tsv'),\n",
    "                                      index_col=False, sep='\\t')\n",
    "overlap = experiment_comparison_df.index.intersection(pancancer_comparison_df.index)\n",
    "experiment_sig_df = (\n",
    "    experiment_comparison_df.reindex(overlap)\n",
    "                            .assign(reject_shuffled_null=pancancer_comparison_df.reject_null)\n",
    ")\n",
    "experiment_sig_df.sort_values(by='p_value').head(n=15)"
   ]
  },
  {
   "cell_type": "code",
   "execution_count": null,
   "metadata": {},
   "outputs": [],
   "source": [
    "experiment_sig_df['nlog10_p'] = -np.log(experiment_sig_df.p_value)\n",
    "\n",
    "sns.set({'figure.figsize': (8, 6)})\n",
    "sns.scatterplot(data=experiment_sig_df, x='delta_mean', y='nlog10_p', hue='reject_shuffled_null')\n",
    "plt.xlabel('AUPRC(pancancer only) - AUPRC(pancancer)')\n",
    "plt.ylabel(r'$-\\log_{10}($adjusted p-value$)$')\n",
    "plt.title('Comparison of pan-cancer and single-cancer results, Vogelstein genes')"
   ]
  },
  {
   "cell_type": "code",
   "execution_count": null,
   "metadata": {},
   "outputs": [],
   "source": []
  }
 ],
 "metadata": {
  "kernelspec": {
   "display_name": "Python [conda env:pancancer-evaluation]",
   "language": "python",
   "name": "conda-env-pancancer-evaluation-py"
  },
  "language_info": {
   "codemirror_mode": {
    "name": "ipython",
    "version": 3
   },
   "file_extension": ".py",
   "mimetype": "text/x-python",
   "name": "python",
   "nbconvert_exporter": "python",
   "pygments_lexer": "ipython3",
   "version": "3.6.9"
  }
 },
 "nbformat": 4,
 "nbformat_minor": 4
}
