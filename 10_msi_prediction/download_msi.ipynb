{
 "cells": [
  {
   "cell_type": "markdown",
   "metadata": {},
   "source": [
    "## Download microsatellite instability groups\n",
    "\n",
    "We download pre-computed MSI status information from Firebrowse, as described in the supplement [of this paper](https://journals.plos.org/ploscompbiol/article?id=10.1371/journal.pcbi.1008878).\n",
    "\n",
    "This information exists for 4 cancer types: COAD, STAD, READ, UCEC."
   ]
  },
  {
   "cell_type": "code",
   "execution_count": 1,
   "metadata": {},
   "outputs": [],
   "source": [
    "import os\n",
    "import pandas as pd\n",
    "import urllib.request\n",
    "import tarfile\n",
    "\n",
    "import pancancer_evaluation.config as cfg"
   ]
  },
  {
   "cell_type": "code",
   "execution_count": 2,
   "metadata": {},
   "outputs": [],
   "source": [
    "# URL locations of zip files containing clinical info\n",
    "clinical_zip_files = {\n",
    "    'COADREAD': 'https://gdac.broadinstitute.org/runs/stddata__2016_01_28/data/COADREAD/20160128/gdac.broadinstitute.org_COADREAD.Clinical_Pick_Tier1.Level_4.2016012800.0.0.tar.gz',\n",
    "    'STAD': 'https://gdac.broadinstitute.org/runs/stddata__2016_01_28/data/STAD/20160128/gdac.broadinstitute.org_STAD.Clinical_Pick_Tier1.Level_4.2016012800.0.0.tar.gz',\n",
    "    'UCEC': 'https://gdac.broadinstitute.org/runs/stddata__2016_01_28/data/UCEC/20160128/gdac.broadinstitute.org_UCEC.Clinical_Pick_Tier1.Level_4.2016012800.0.0.tar.gz'\n",
    "}\n",
    "\n",
    "# where to save extracted clinical tsv files\n",
    "os.makedirs(cfg.msi_data_dir, exist_ok=True)"
   ]
  },
  {
   "cell_type": "code",
   "execution_count": 3,
   "metadata": {},
   "outputs": [],
   "source": [
    "def download_and_extract_firebrowse(cancer_type):\n",
    "    \"\"\"Function to download and extract clinical data for the given cancer type.\"\"\"\n",
    "    \n",
    "    # set filenames for target cancer type\n",
    "    zip_file_url = clinical_zip_files[cancer_type]\n",
    "    download_file = os.path.join(cfg.msi_data_dir, \n",
    "                                 os.path.split(zip_file_url)[-1])\n",
    "    download_dir = os.path.split(zip_file_url)[-1].replace('.tar.gz', '')\n",
    "    print(download_file, download_dir)\n",
    "    \n",
    "    # retrieve compressed file from firebrowse\n",
    "    urllib.request.urlretrieve(zip_file_url, download_file)\n",
    "    # extract clinical data file from .tar.gz\n",
    "    tar_file = tarfile.open(download_file, 'r:gz')\n",
    "    tar_file.extract('gdac.broadinstitute.org_{}.Clinical_Pick_Tier1.Level_4.2016012800.0.0/All_CDEs.txt'.format(cancer_type),\n",
    "                     cfg.msi_data_dir)\n",
    "    tar_file.close()\n",
    "    \n",
    "    # move clinical data up one dir, and remove tar dir\n",
    "    clinical_untar = os.path.join(cfg.msi_data_dir, download_dir,\n",
    "                                  'All_CDEs.txt'.format(cancer_type))\n",
    "    clinical_move_to = os.path.join(cfg.msi_data_dir, '{}_All_CDEs.txt'.format(cancer_type))\n",
    "    \n",
    "    # clean up untarred stuff\n",
    "    os.rename(clinical_untar, clinical_move_to)\n",
    "    os.remove(download_file)\n",
    "    os.rmdir(os.path.join(cfg.msi_data_dir, download_dir))\n",
    "    \n",
    "    # return downloaded tsv filename\n",
    "    return clinical_move_to"
   ]
  },
  {
   "cell_type": "code",
   "execution_count": 4,
   "metadata": {},
   "outputs": [],
   "source": [
    "def get_and_save_msi_status(cancer_type, clinical_info_file):\n",
    "    \"\"\"Function to get MSI status from clinical info, and save to file\"\"\"\n",
    "    \n",
    "    # this column stores MSI status (MSI-H, MSI-L, MSS, indeterminate)\n",
    "    clinical_df = (\n",
    "        pd.read_csv(clinical_info_file, sep='\\t', index_col=0)\n",
    "          .transpose()\n",
    "    )['mononucleotide_and_dinucleotide_marker_panel_analysis_status']\n",
    "\n",
    "    # rename column and uppercase TCGA identifiers to match omics datasets\n",
    "    clinical_df = pd.DataFrame(\n",
    "        clinical_df.values,\n",
    "        index=clinical_df.index.str.upper(),\n",
    "        columns=['msi_status']\n",
    "    )\n",
    "\n",
    "    clinical_df.to_csv(\n",
    "        os.path.join(cfg.msi_data_dir, \n",
    "                     '{}_msi_status.tsv'.format(cancer_type)),\n",
    "        sep='\\t'\n",
    "    )\n",
    "    return clinical_df"
   ]
  },
  {
   "cell_type": "code",
   "execution_count": 5,
   "metadata": {},
   "outputs": [
    {
     "name": "stdout",
     "output_type": "stream",
     "text": [
      "/home/jake/research/pancancer-evaluation/data/msi_data/gdac.broadinstitute.org_COADREAD.Clinical_Pick_Tier1.Level_4.2016012800.0.0.tar.gz gdac.broadinstitute.org_COADREAD.Clinical_Pick_Tier1.Level_4.2016012800.0.0\n",
      "/home/jake/research/pancancer-evaluation/data/msi_data/COADREAD_All_CDEs.txt\n"
     ]
    }
   ],
   "source": [
    "coadread_clinical_file = download_and_extract_firebrowse('COADREAD') \n",
    "print(coadread_clinical_file)"
   ]
  },
  {
   "cell_type": "code",
   "execution_count": 6,
   "metadata": {},
   "outputs": [
    {
     "name": "stdout",
     "output_type": "stream",
     "text": [
      "(629, 1)\n",
      "Index(['msi_status'], dtype='object')\n"
     ]
    },
    {
     "data": {
      "text/html": [
       "<div>\n",
       "<style scoped>\n",
       "    .dataframe tbody tr th:only-of-type {\n",
       "        vertical-align: middle;\n",
       "    }\n",
       "\n",
       "    .dataframe tbody tr th {\n",
       "        vertical-align: top;\n",
       "    }\n",
       "\n",
       "    .dataframe thead th {\n",
       "        text-align: right;\n",
       "    }\n",
       "</style>\n",
       "<table border=\"1\" class=\"dataframe\">\n",
       "  <thead>\n",
       "    <tr style=\"text-align: right;\">\n",
       "      <th></th>\n",
       "      <th>msi_status</th>\n",
       "    </tr>\n",
       "  </thead>\n",
       "  <tbody>\n",
       "    <tr>\n",
       "      <th>TCGA-A6-2677</th>\n",
       "      <td>mss</td>\n",
       "    </tr>\n",
       "    <tr>\n",
       "      <th>TCGA-A6-2681</th>\n",
       "      <td>mss</td>\n",
       "    </tr>\n",
       "    <tr>\n",
       "      <th>TCGA-A6-2682</th>\n",
       "      <td>mss</td>\n",
       "    </tr>\n",
       "    <tr>\n",
       "      <th>TCGA-A6-4105</th>\n",
       "      <td>mss</td>\n",
       "    </tr>\n",
       "    <tr>\n",
       "      <th>TCGA-A6-6649</th>\n",
       "      <td>mss</td>\n",
       "    </tr>\n",
       "  </tbody>\n",
       "</table>\n",
       "</div>"
      ],
      "text/plain": [
       "             msi_status\n",
       "TCGA-A6-2677        mss\n",
       "TCGA-A6-2681        mss\n",
       "TCGA-A6-2682        mss\n",
       "TCGA-A6-4105        mss\n",
       "TCGA-A6-6649        mss"
      ]
     },
     "execution_count": 6,
     "metadata": {},
     "output_type": "execute_result"
    }
   ],
   "source": [
    "coadread_clinical_df = get_and_save_msi_status('COADREAD',\n",
    "                                               coadread_clinical_file)\n",
    "\n",
    "print(coadread_clinical_df.shape)\n",
    "print(coadread_clinical_df.columns)\n",
    "coadread_clinical_df.head()"
   ]
  },
  {
   "cell_type": "code",
   "execution_count": 7,
   "metadata": {},
   "outputs": [
    {
     "name": "stdout",
     "output_type": "stream",
     "text": [
      "/home/jake/research/pancancer-evaluation/data/msi_data/gdac.broadinstitute.org_STAD.Clinical_Pick_Tier1.Level_4.2016012800.0.0.tar.gz gdac.broadinstitute.org_STAD.Clinical_Pick_Tier1.Level_4.2016012800.0.0\n",
      "/home/jake/research/pancancer-evaluation/data/msi_data/STAD_All_CDEs.txt\n"
     ]
    }
   ],
   "source": [
    "stad_clinical_file = download_and_extract_firebrowse('STAD') \n",
    "print(stad_clinical_file)"
   ]
  },
  {
   "cell_type": "code",
   "execution_count": 8,
   "metadata": {},
   "outputs": [
    {
     "name": "stdout",
     "output_type": "stream",
     "text": [
      "(443, 1)\n",
      "Index(['msi_status'], dtype='object')\n"
     ]
    },
    {
     "data": {
      "text/html": [
       "<div>\n",
       "<style scoped>\n",
       "    .dataframe tbody tr th:only-of-type {\n",
       "        vertical-align: middle;\n",
       "    }\n",
       "\n",
       "    .dataframe tbody tr th {\n",
       "        vertical-align: top;\n",
       "    }\n",
       "\n",
       "    .dataframe thead th {\n",
       "        text-align: right;\n",
       "    }\n",
       "</style>\n",
       "<table border=\"1\" class=\"dataframe\">\n",
       "  <thead>\n",
       "    <tr style=\"text-align: right;\">\n",
       "      <th></th>\n",
       "      <th>msi_status</th>\n",
       "    </tr>\n",
       "  </thead>\n",
       "  <tbody>\n",
       "    <tr>\n",
       "      <th>TCGA-CG-4444</th>\n",
       "      <td>mss</td>\n",
       "    </tr>\n",
       "    <tr>\n",
       "      <th>TCGA-CG-4460</th>\n",
       "      <td>msi-h</td>\n",
       "    </tr>\n",
       "    <tr>\n",
       "      <th>TCGA-CG-4475</th>\n",
       "      <td>mss</td>\n",
       "    </tr>\n",
       "    <tr>\n",
       "      <th>TCGA-CG-4476</th>\n",
       "      <td>mss</td>\n",
       "    </tr>\n",
       "    <tr>\n",
       "      <th>TCGA-CG-5716</th>\n",
       "      <td>mss</td>\n",
       "    </tr>\n",
       "  </tbody>\n",
       "</table>\n",
       "</div>"
      ],
      "text/plain": [
       "             msi_status\n",
       "TCGA-CG-4444        mss\n",
       "TCGA-CG-4460      msi-h\n",
       "TCGA-CG-4475        mss\n",
       "TCGA-CG-4476        mss\n",
       "TCGA-CG-5716        mss"
      ]
     },
     "execution_count": 8,
     "metadata": {},
     "output_type": "execute_result"
    }
   ],
   "source": [
    "stad_clinical_df = get_and_save_msi_status('STAD', stad_clinical_file)\n",
    "\n",
    "print(stad_clinical_df.shape)\n",
    "print(stad_clinical_df.columns)\n",
    "stad_clinical_df.head()"
   ]
  },
  {
   "cell_type": "code",
   "execution_count": 9,
   "metadata": {},
   "outputs": [
    {
     "name": "stdout",
     "output_type": "stream",
     "text": [
      "/home/jake/research/pancancer-evaluation/data/msi_data/gdac.broadinstitute.org_UCEC.Clinical_Pick_Tier1.Level_4.2016012800.0.0.tar.gz gdac.broadinstitute.org_UCEC.Clinical_Pick_Tier1.Level_4.2016012800.0.0\n",
      "/home/jake/research/pancancer-evaluation/data/msi_data/UCEC_All_CDEs.txt\n"
     ]
    }
   ],
   "source": [
    "ucec_clinical_file = download_and_extract_firebrowse('UCEC') \n",
    "print(ucec_clinical_file)"
   ]
  },
  {
   "cell_type": "code",
   "execution_count": 10,
   "metadata": {},
   "outputs": [
    {
     "name": "stdout",
     "output_type": "stream",
     "text": [
      "(548, 1)\n",
      "Index(['msi_status'], dtype='object')\n"
     ]
    },
    {
     "data": {
      "text/html": [
       "<div>\n",
       "<style scoped>\n",
       "    .dataframe tbody tr th:only-of-type {\n",
       "        vertical-align: middle;\n",
       "    }\n",
       "\n",
       "    .dataframe tbody tr th {\n",
       "        vertical-align: top;\n",
       "    }\n",
       "\n",
       "    .dataframe thead th {\n",
       "        text-align: right;\n",
       "    }\n",
       "</style>\n",
       "<table border=\"1\" class=\"dataframe\">\n",
       "  <thead>\n",
       "    <tr style=\"text-align: right;\">\n",
       "      <th></th>\n",
       "      <th>msi_status</th>\n",
       "    </tr>\n",
       "  </thead>\n",
       "  <tbody>\n",
       "    <tr>\n",
       "      <th>TCGA-2E-A9G8</th>\n",
       "      <td>indeterminate</td>\n",
       "    </tr>\n",
       "    <tr>\n",
       "      <th>TCGA-A5-A0GI</th>\n",
       "      <td>msi-h</td>\n",
       "    </tr>\n",
       "    <tr>\n",
       "      <th>TCGA-A5-A0GM</th>\n",
       "      <td>mss</td>\n",
       "    </tr>\n",
       "    <tr>\n",
       "      <th>TCGA-A5-A1OK</th>\n",
       "      <td>mss</td>\n",
       "    </tr>\n",
       "    <tr>\n",
       "      <th>TCGA-A5-AB3J</th>\n",
       "      <td>mss</td>\n",
       "    </tr>\n",
       "  </tbody>\n",
       "</table>\n",
       "</div>"
      ],
      "text/plain": [
       "                 msi_status\n",
       "TCGA-2E-A9G8  indeterminate\n",
       "TCGA-A5-A0GI          msi-h\n",
       "TCGA-A5-A0GM            mss\n",
       "TCGA-A5-A1OK            mss\n",
       "TCGA-A5-AB3J            mss"
      ]
     },
     "execution_count": 10,
     "metadata": {},
     "output_type": "execute_result"
    }
   ],
   "source": [
    "ucec_clinical_df = get_and_save_msi_status('UCEC', ucec_clinical_file)\n",
    "\n",
    "print(ucec_clinical_df.shape)\n",
    "print(ucec_clinical_df.columns)\n",
    "ucec_clinical_df.head()"
   ]
  }
 ],
 "metadata": {
  "kernelspec": {
   "display_name": "Python [conda env:pc2]",
   "language": "python",
   "name": "conda-env-pc2-py"
  },
  "language_info": {
   "codemirror_mode": {
    "name": "ipython",
    "version": 3
   },
   "file_extension": ".py",
   "mimetype": "text/x-python",
   "name": "python",
   "nbconvert_exporter": "python",
   "pygments_lexer": "ipython3",
   "version": "3.9.15"
  }
 },
 "nbformat": 4,
 "nbformat_minor": 4
}
