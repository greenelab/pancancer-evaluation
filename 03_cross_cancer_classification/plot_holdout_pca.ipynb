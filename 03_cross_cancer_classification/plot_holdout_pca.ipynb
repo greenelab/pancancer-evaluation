{
 "cells": [
  {
   "cell_type": "markdown",
   "metadata": {},
   "source": [
    "## Single-cancer holdout dimension reduction analysis\n",
    "\n",
    "Following [this GitHub issue](https://github.com/greenelab/pancancer-evaluation/issues/39) and related discussions in lab meeting, we wanted to look at how separable the data is in the 95% holdout cases where performance isn't decreasing. Our hypothesis is that in the cases where performance is fairly consistent, the data is very close to linearly separable, allowing us to easily train a decent classifier even from very little training data."
   ]
  },
  {
   "cell_type": "code",
   "execution_count": 1,
   "metadata": {},
   "outputs": [],
   "source": [
    "import os\n",
    "\n",
    "import numpy as np\n",
    "import pandas as pd\n",
    "import matplotlib.pyplot as plt\n",
    "import seaborn as sns\n",
    "\n",
    "import pancancer_evaluation.config as cfg\n",
    "import pancancer_evaluation.utilities.analysis_utilities as au"
   ]
  },
  {
   "cell_type": "code",
   "execution_count": 2,
   "metadata": {},
   "outputs": [
    {
     "name": "stderr",
     "output_type": "stream",
     "text": [
      "Loading gene expression data...\n",
      "Loading sample info...\n",
      "Loading pan-cancer data from cached pickle file...\n"
     ]
    }
   ],
   "source": [
    "# load gene expression and mutation data\n",
    "from pancancer_evaluation.data_models.tcga_data_model import TCGADataModel\n",
    "\n",
    "tcga_data = TCGADataModel(seed=cfg.default_seed,\n",
    "                          subset_mad_genes=cfg.num_features_raw,\n",
    "                          verbose=True,\n",
    "                          debug=False)"
   ]
  },
  {
   "cell_type": "code",
   "execution_count": 3,
   "metadata": {},
   "outputs": [
    {
     "name": "stdout",
     "output_type": "stream",
     "text": [
      "(62, 2)\n",
      "[[-24.86078919 -19.84701966]\n",
      " [-71.78214107 -14.96675691]\n",
      " [ 14.85002665  73.82339542]\n",
      " [  4.25661987  46.87962647]\n",
      " [-98.60069106 -36.12117675]]\n"
     ]
    }
   ],
   "source": [
    "# for a given gene and holdout percentage, generate reduced dimensional\n",
    "# representation of train/test data\n",
    "from sklearn.decomposition import PCA\n",
    "from umap import UMAP\n",
    "\n",
    "from pancancer_evaluation.utilities import data_utilities as du\n",
    "from pancancer_evaluation.utilities import tcga_utilities as tu\n",
    "\n",
    "pca = PCA(n_components=2)\n",
    "umap = UMAP(n_components=2)\n",
    "\n",
    "def generate_rep_holdout(gene, cancer_type, percent_holdout, method='pca'):\n",
    "    identifier = '{}_{}'.format(gene, cancer_type)\n",
    "    classification = du.get_classification(gene)\n",
    "    tcga_data.process_data_for_identifiers(identifier,\n",
    "                                           identifier,\n",
    "                                           classification,\n",
    "                                           classification,\n",
    "                                           output_dir=None,\n",
    "                                           shuffle_labels=False,\n",
    "                                           percent_holdout=percent_holdout,\n",
    "                                           holdout_class='both')\n",
    "    # this step standardizes columns and filters features by MAD\n",
    "    X_train, X_test = tu.preprocess_data(tcga_data.X_train_raw_df,\n",
    "                                         tcga_data.X_test_raw_df,\n",
    "                                         tcga_data.gene_features,\n",
    "                                         tcga_data.subset_mad_genes)\n",
    "    # now take PCA and return 2-dimensional representation\n",
    "    if method == 'pca':\n",
    "        train_rep = pca.fit_transform(X_train)\n",
    "        test_rep = pca.fit_transform(X_test)\n",
    "    elif method == 'umap':\n",
    "        train_rep = umap.fit_transform(X_train)\n",
    "        test_rep = umap.fit_transform(X_test)\n",
    "    # also return corresponding mutation labels\n",
    "    train_labels = tcga_data.y_train_df.status.values\n",
    "    test_labels = tcga_data.y_test_df.status.values\n",
    "    return (train_rep, test_rep, train_labels, test_labels)\n",
    "\n",
    "X, _, __, ___ = generate_rep_holdout('TP53', 'GBM', 0.5)\n",
    "print(X.shape)\n",
    "print(X[:5, :])"
   ]
  },
  {
   "cell_type": "code",
   "execution_count": null,
   "metadata": {},
   "outputs": [],
   "source": [
    "gene = 'BRAF'\n",
    "cancer_type = 'THCA'\n",
    "projection_method = 'umap'\n",
    "remove_percents = [0.1, 0.5, 0.75, 0.9]\n",
    "sns.set({'figure.figsize': (18, 10)})\n",
    "\n",
    "fig, axarr = plt.subplots(2, len(remove_percents))\n",
    "\n",
    "z_label = '{} wild-type'.format(gene)\n",
    "nz_label = '{} mutant'.format(gene)\n",
    "x_label = '{}1'.format(projection_method.upper())\n",
    "y_label = '{}2'.format(projection_method.upper())\n",
    "\n",
    "for ix, remove_percent in enumerate(remove_percents):\n",
    "    ax0 = axarr[0, ix]\n",
    "    ax1 = axarr[1, ix]\n",
    "    rep = generate_rep_holdout(gene, cancer_type, remove_percent, method=projection_method)\n",
    "    X_tr_train, X_tr_test, y_train, y_test = rep\n",
    "    ax0.scatter(x=X_tr_train[y_train == 0, 0], y=X_tr_train[y_train == 0, 1], color='blue', label=z_label, s=16)\n",
    "    ax0.scatter(x=X_tr_train[y_train == 1, 0], y=X_tr_train[y_train == 1, 1], color='orange', label=nz_label, s=16)\n",
    "    ax0.set_xlabel(x_label)\n",
    "    ax0.set_ylabel(y_label)\n",
    "    ax0.set_title('Train data; holdout percent: {}'.format(remove_percent))\n",
    "    ax1.scatter(x=X_tr_test[y_test == 0, 0], y=X_tr_test[y_test == 0, 1], color='blue', label=z_label, s=16)\n",
    "    ax1.scatter(x=X_tr_test[y_test == 1, 0], y=X_tr_test[y_test == 1, 1], color='orange', label=nz_label, s=16)\n",
    "    ax1.set_xlabel(x_label)\n",
    "    ax1.set_ylabel(y_label)\n",
    "    ax1.set_title('Test data; holdout percent: {}'.format(remove_percent))\n",
    "\n",
    "plt.tight_layout()\n",
    "labels = [z_label, nz_label]\n",
    "fig.suptitle('{} dimension reduction for varying holdout size: {}_{}'.format(\n",
    "    projection_method.upper(), gene, cancer_type))\n",
    "fig.legend(labels=labels, loc='lower center', ncol=2, fontsize=13)\n",
    "fig.subplots_adjust(top=0.925, bottom=0.1)"
   ]
  },
  {
   "cell_type": "markdown",
   "metadata": {},
   "source": [
    "Running the above cell for a few different gene/cancer type combinations shows that in most of the cases where performance is fairly consistent across holdout data percentages (e.g. BRAF_THCA, TP53_LGG) the data is fairly close to being linearly separable. In other words, in these cases data appears to (roughly) cluster by mutation status.\n",
    "\n",
    "In cases where performance decreases (e.g. EGFR_LUAD, TP53_SKCM, TP53_BLCA) this isn't necessarily the case; mutated samples seem to be more or less randomly distributed throughout the point cloud.\n",
    "\n",
    "This doesn't really seem to depend on the dimension reduction method used (PCA and UMAP for the most part give similar results), although UMAP clusters probably look a bit nicer/more well-separated in some cases.\n",
    "\n",
    "Thus, the results seem to suggest that what we're seeing is a real trend in the data (some mutations are just very resistant to removing training data), rather than a bug or a characteristic of the performance metric we chose."
   ]
  },
  {
   "cell_type": "code",
   "execution_count": null,
   "metadata": {},
   "outputs": [],
   "source": [
    "# reproduce the line plot from plot_holdout_single_cancer, but only for one gene\n",
    "# this will put the above plots in context\n",
    "results_dir = os.path.join(cfg.results_dir,\n",
    "                           'cross_cancer',\n",
    "                           'cross_cancer_flip_counts',\n",
    "                           'cross_cancer_flip_labels')\n",
    "holdout_df = (\n",
    "    au.load_flip_labels_results(results_dir, 'flip_labels')\n",
    "      .sort_values(by=['train_identifier', 'test_identifier',\n",
    "                       'percent_holdout', 'signal'])\n",
    ")\n",
    "\n",
    "holdout_norm_df = au.normalize_to_control(holdout_df,\n",
    "                                          train_id='train_identifier',\n",
    "                                          test_id='test_identifier',\n",
    "                                          additional_cols=['percent_holdout'])\n",
    "holdout_norm_df = (\n",
    "    holdout_norm_df.assign(gene=lambda x: x.train_identifier.str.split('_', expand=True)[0],\n",
    "                           cancer_type=lambda x: x.train_identifier.str.split('_', expand=True)[1])\n",
    "                   .drop(columns=['train_identifier', 'test_identifier'])\n",
    "                   .reset_index(drop=True)\n",
    ")\n",
    "holdout_norm_df['identifier'] = holdout_norm_df.gene + '_' + holdout_norm_df.cancer_type\n",
    "holdout_norm_df.head()"
   ]
  },
  {
   "cell_type": "code",
   "execution_count": null,
   "metadata": {},
   "outputs": [],
   "source": [
    "sns.set({'figure.figsize': (10, 6)})\n",
    "plot_df = (\n",
    "    holdout_norm_df[(holdout_norm_df.gene == gene)].sort_values(by='cancer_type')\n",
    ")\n",
    "g = sns.pointplot(data=plot_df, x='percent_holdout', y='aupr', hue='identifier',\n",
    "                  palette='hls')\n",
    "plt.xlabel('Proportion of data held out')\n",
    "plt.ylabel('Change in AUPR vs. negative control')\n",
    "plt.ylim(-0.2, 1.0)\n",
    "plt.title('{} holdout performance, by cancer type'.format(gene))\n",
    "plt.legend(title='Identifier', bbox_to_anchor=(1.05, 1), loc=2, borderaxespad=0.)\n",
    "plt.axhline(y=0, color='black', linestyle='--')\n",
    "plt.tight_layout()\n",
    "\n",
    "# calculate the last percent where we have enough data\n",
    "# (most should be close to 1, but some small cancer types won't be)\n",
    "last_points = (\n",
    "    holdout_norm_df.groupby(['identifier'])\n",
    "                   .max()['percent_holdout']\n",
    "                   .to_dict()\n",
    ")\n",
    "\n",
    "# label cancer types to the right of line, this is much easier to read than colormap\n",
    "def label_points(x, y, identifier, ax):\n",
    "    x_offset = 0.15\n",
    "    y_offset = 0\n",
    "    x_categories = np.sort(np.unique(x.values))\n",
    "    a = pd.DataFrame({'x': x, 'y': y, 'identifier': identifier})\n",
    "    for i, point in a.iterrows():\n",
    "        # only label last point in line plot\n",
    "        if point['x'] == last_points[point['identifier']]:\n",
    "            # x-axis is actually categorical (\"fake\" continuous)\n",
    "            # so we have to map to the index of the category we want to label\n",
    "            x_loc = np.where(x_categories == point['x'])[0]\n",
    "            ax.text(x_loc+x_offset, point['y']+y_offset, str(point['identifier']))\n",
    "    \n",
    "label_points(plot_df.percent_holdout,\n",
    "             plot_df.aupr,\n",
    "             plot_df.identifier,\n",
    "             plt.gca())\n",
    "plt.gca().margins(x=0.2)"
   ]
  }
 ],
 "metadata": {
  "kernelspec": {
   "display_name": "Python [conda env:pancancer-evaluation]",
   "language": "python",
   "name": "conda-env-pancancer-evaluation-py"
  },
  "language_info": {
   "codemirror_mode": {
    "name": "ipython",
    "version": 3
   },
   "file_extension": ".py",
   "mimetype": "text/x-python",
   "name": "python",
   "nbconvert_exporter": "python",
   "pygments_lexer": "ipython3",
   "version": "3.6.9"
  }
 },
 "nbformat": 4,
 "nbformat_minor": 4
}
