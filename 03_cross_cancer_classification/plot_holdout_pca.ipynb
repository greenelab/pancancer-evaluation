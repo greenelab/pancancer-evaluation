{
 "cells": [
  {
   "cell_type": "markdown",
   "metadata": {},
   "source": [
    "## Single-cancer holdout dimension reduction analysis\n",
    "\n",
    "Words go here."
   ]
  },
  {
   "cell_type": "code",
   "execution_count": 1,
   "metadata": {},
   "outputs": [],
   "source": [
    "import os\n",
    "\n",
    "import numpy as np\n",
    "import pandas as pd\n",
    "import matplotlib.pyplot as plt\n",
    "import seaborn as sns\n",
    "\n",
    "import pancancer_evaluation.config as cfg\n",
    "import pancancer_evaluation.utilities.analysis_utilities as au"
   ]
  },
  {
   "cell_type": "code",
   "execution_count": 2,
   "metadata": {},
   "outputs": [
    {
     "name": "stderr",
     "output_type": "stream",
     "text": [
      "Loading gene expression data...\n",
      "Loading sample info...\n",
      "Loading pan-cancer data from cached pickle file...\n"
     ]
    }
   ],
   "source": [
    "# load gene expression and mutation data\n",
    "from pancancer_evaluation.data_models.tcga_data_model import TCGADataModel\n",
    "\n",
    "tcga_data = TCGADataModel(seed=cfg.default_seed,\n",
    "                          subset_mad_genes=cfg.num_features_raw,\n",
    "                          verbose=True,\n",
    "                          debug=False)"
   ]
  },
  {
   "cell_type": "code",
   "execution_count": 6,
   "metadata": {},
   "outputs": [
    {
     "name": "stdout",
     "output_type": "stream",
     "text": [
      "(62, 2)\n",
      "[[ -62401.9781104  -124221.7825539 ]\n",
      " [-204293.8407749  -142207.64138238]\n",
      " [-378674.67630148   95338.37474755]\n",
      " [-192584.37691558  196852.44023123]\n",
      " [-306156.92880978 -153121.62017862]]\n"
     ]
    }
   ],
   "source": [
    "# for a given gene and holdout percentage, generate reduced dimensional\n",
    "# representation of train/test data\n",
    "from sklearn.decomposition import PCA\n",
    "\n",
    "from pancancer_evaluation.utilities import data_utilities as du\n",
    "from pancancer_evaluation.utilities import tcga_utilities as tu\n",
    "\n",
    "pca = PCA(n_components=2)\n",
    "\n",
    "def generate_pca_holdout(gene, cancer_type, percent_holdout):\n",
    "    identifier = '{}_{}'.format(gene, cancer_type)\n",
    "    classification = du.get_classification(gene)\n",
    "    tcga_data.process_data_for_identifiers(identifier,\n",
    "                                           identifier,\n",
    "                                           classification,\n",
    "                                           classification,\n",
    "                                           output_dir=None,\n",
    "                                           shuffle_labels=False,\n",
    "                                           percent_holdout=percent_holdout,\n",
    "                                           holdout_class='both')\n",
    "    # this step standardizes columns and filters features by MAD\n",
    "    X_train, X_test = tu.preprocess_data(tcga_data.X_train_raw_df,\n",
    "                                         tcga_data.X_test_raw_df,\n",
    "                                         tcga_data.gene_features,\n",
    "                                         tcga_data.subset_mad_genes)\n",
    "    # now \n",
    "    train_pca = pca.fit_transform(X_train)\n",
    "    test_pca = pca.fit_transform(X_test)\n",
    "    train_labels = tcga_data.y_train_df.status.values\n",
    "    test_labels = tcga_data.y_test_df.status.values\n",
    "    return (train_pca, test_pca, train_labels, test_labels)\n",
    "\n",
    "X, _, __, ___ = generate_pca_holdout('TP53', 'GBM', 0.5)\n",
    "print(X.shape)\n",
    "print(X[:5, :])"
   ]
  },
  {
   "cell_type": "code",
   "execution_count": 4,
   "metadata": {},
   "outputs": [
    {
     "name": "stdout",
     "output_type": "stream",
     "text": [
      "(254, 16149)\n",
      "(252, 16149)\n",
      "(254, 5)\n",
      "(252, 5)\n"
     ]
    }
   ],
   "source": []
  },
  {
   "cell_type": "code",
   "execution_count": null,
   "metadata": {},
   "outputs": [],
   "source": []
  }
 ],
 "metadata": {
  "kernelspec": {
   "display_name": "Python [conda env:pancancer-evaluation]",
   "language": "python",
   "name": "conda-env-pancancer-evaluation-py"
  },
  "language_info": {
   "codemirror_mode": {
    "name": "ipython",
    "version": 3
   },
   "file_extension": ".py",
   "mimetype": "text/x-python",
   "name": "python",
   "nbconvert_exporter": "python",
   "pygments_lexer": "ipython3",
   "version": "3.6.9"
  }
 },
 "nbformat": 4,
 "nbformat_minor": 4
}
