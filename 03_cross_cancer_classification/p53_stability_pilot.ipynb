{
 "cells": [
  {
   "cell_type": "code",
   "execution_count": 1,
   "metadata": {},
   "outputs": [],
   "source": [
    "import os\n",
    "\n",
    "import numpy as np\n",
    "import pandas as pd\n",
    "import matplotlib.pyplot as plt\n",
    "import seaborn as sns\n",
    "\n",
    "import pancancer_evaluation.config as cfg\n",
    "import pancancer_evaluation.utilities.analysis_utilities as au"
   ]
  },
  {
   "cell_type": "code",
   "execution_count": 2,
   "metadata": {},
   "outputs": [],
   "source": [
    "results_dir = os.path.join(\n",
    "    cfg.repo_root, '03_cross_cancer_classification', 'results'\n",
    ")\n",
    "p53_results_dir = os.path.join(\n",
    "    results_dir, 'p53_stability_pilot', 'cross_cancer'\n",
    ")"
   ]
  },
  {
   "cell_type": "code",
   "execution_count": 3,
   "metadata": {},
   "outputs": [
    {
     "name": "stdout",
     "output_type": "stream",
     "text": [
      "(3840, 8)\n"
     ]
    },
    {
     "data": {
      "text/html": [
       "<div>\n",
       "<style scoped>\n",
       "    .dataframe tbody tr th:only-of-type {\n",
       "        vertical-align: middle;\n",
       "    }\n",
       "\n",
       "    .dataframe tbody tr th {\n",
       "        vertical-align: top;\n",
       "    }\n",
       "\n",
       "    .dataframe thead th {\n",
       "        text-align: right;\n",
       "    }\n",
       "</style>\n",
       "<table border=\"1\" class=\"dataframe\">\n",
       "  <thead>\n",
       "    <tr style=\"text-align: right;\">\n",
       "      <th></th>\n",
       "      <th>auroc</th>\n",
       "      <th>aupr</th>\n",
       "      <th>train_identifier</th>\n",
       "      <th>test_identifier</th>\n",
       "      <th>signal</th>\n",
       "      <th>seed</th>\n",
       "      <th>data_type</th>\n",
       "      <th>experiment</th>\n",
       "    </tr>\n",
       "  </thead>\n",
       "  <tbody>\n",
       "    <tr>\n",
       "      <th>0</th>\n",
       "      <td>0.97497</td>\n",
       "      <td>0.97336</td>\n",
       "      <td>TP53_LGG</td>\n",
       "      <td>TP53_LGG</td>\n",
       "      <td>signal</td>\n",
       "      <td>10</td>\n",
       "      <td>train</td>\n",
       "      <td>cross_cancer</td>\n",
       "    </tr>\n",
       "    <tr>\n",
       "      <th>1</th>\n",
       "      <td>0.97497</td>\n",
       "      <td>0.97336</td>\n",
       "      <td>TP53_LGG</td>\n",
       "      <td>TP53_LGG</td>\n",
       "      <td>signal</td>\n",
       "      <td>10</td>\n",
       "      <td>test</td>\n",
       "      <td>cross_cancer</td>\n",
       "    </tr>\n",
       "    <tr>\n",
       "      <th>2</th>\n",
       "      <td>0.96688</td>\n",
       "      <td>0.96759</td>\n",
       "      <td>TP53_LGG</td>\n",
       "      <td>TP53_LGG</td>\n",
       "      <td>signal</td>\n",
       "      <td>10</td>\n",
       "      <td>cv</td>\n",
       "      <td>cross_cancer</td>\n",
       "    </tr>\n",
       "    <tr>\n",
       "      <th>0</th>\n",
       "      <td>1.00000</td>\n",
       "      <td>1.00000</td>\n",
       "      <td>TP53_SARC</td>\n",
       "      <td>TP53_SARC</td>\n",
       "      <td>signal</td>\n",
       "      <td>3</td>\n",
       "      <td>train</td>\n",
       "      <td>cross_cancer</td>\n",
       "    </tr>\n",
       "    <tr>\n",
       "      <th>1</th>\n",
       "      <td>1.00000</td>\n",
       "      <td>1.00000</td>\n",
       "      <td>TP53_SARC</td>\n",
       "      <td>TP53_SARC</td>\n",
       "      <td>signal</td>\n",
       "      <td>3</td>\n",
       "      <td>test</td>\n",
       "      <td>cross_cancer</td>\n",
       "    </tr>\n",
       "  </tbody>\n",
       "</table>\n",
       "</div>"
      ],
      "text/plain": [
       "     auroc     aupr train_identifier test_identifier  signal  seed data_type  \\\n",
       "0  0.97497  0.97336         TP53_LGG        TP53_LGG  signal    10     train   \n",
       "1  0.97497  0.97336         TP53_LGG        TP53_LGG  signal    10      test   \n",
       "2  0.96688  0.96759         TP53_LGG        TP53_LGG  signal    10        cv   \n",
       "0  1.00000  1.00000        TP53_SARC       TP53_SARC  signal     3     train   \n",
       "1  1.00000  1.00000        TP53_SARC       TP53_SARC  signal     3      test   \n",
       "\n",
       "     experiment  \n",
       "0  cross_cancer  \n",
       "1  cross_cancer  \n",
       "2  cross_cancer  \n",
       "0  cross_cancer  \n",
       "1  cross_cancer  "
      ]
     },
     "execution_count": 3,
     "metadata": {},
     "output_type": "execute_result"
    }
   ],
   "source": [
    "cross_cancer_df = au.load_prediction_results_cc(p53_results_dir, 'cross_cancer')\n",
    "print(cross_cancer_df.shape)\n",
    "cross_cancer_df.head()"
   ]
  },
  {
   "cell_type": "code",
   "execution_count": 8,
   "metadata": {},
   "outputs": [
    {
     "data": {
      "text/html": [
       "<div>\n",
       "<style scoped>\n",
       "    .dataframe tbody tr th:only-of-type {\n",
       "        vertical-align: middle;\n",
       "    }\n",
       "\n",
       "    .dataframe tbody tr th {\n",
       "        vertical-align: top;\n",
       "    }\n",
       "\n",
       "    .dataframe thead th {\n",
       "        text-align: right;\n",
       "    }\n",
       "</style>\n",
       "<table border=\"1\" class=\"dataframe\">\n",
       "  <thead>\n",
       "    <tr style=\"text-align: right;\">\n",
       "      <th>test_identifier</th>\n",
       "      <th>TP53_BLCA</th>\n",
       "      <th>TP53_BRCA</th>\n",
       "      <th>TP53_COAD</th>\n",
       "      <th>TP53_LGG</th>\n",
       "      <th>TP53_LUAD</th>\n",
       "    </tr>\n",
       "    <tr>\n",
       "      <th>train_identifier</th>\n",
       "      <th></th>\n",
       "      <th></th>\n",
       "      <th></th>\n",
       "      <th></th>\n",
       "      <th></th>\n",
       "    </tr>\n",
       "  </thead>\n",
       "  <tbody>\n",
       "    <tr>\n",
       "      <th>TP53_BLCA</th>\n",
       "      <td>0.468778</td>\n",
       "      <td>0.433715</td>\n",
       "      <td>0.274924</td>\n",
       "      <td>0.092554</td>\n",
       "      <td>0.300342</td>\n",
       "    </tr>\n",
       "    <tr>\n",
       "      <th>TP53_BRCA</th>\n",
       "      <td>0.260828</td>\n",
       "      <td>0.587076</td>\n",
       "      <td>0.218038</td>\n",
       "      <td>0.222713</td>\n",
       "      <td>0.285390</td>\n",
       "    </tr>\n",
       "    <tr>\n",
       "      <th>TP53_COAD</th>\n",
       "      <td>0.228648</td>\n",
       "      <td>0.249131</td>\n",
       "      <td>0.345130</td>\n",
       "      <td>0.096214</td>\n",
       "      <td>0.280085</td>\n",
       "    </tr>\n",
       "    <tr>\n",
       "      <th>TP53_LGG</th>\n",
       "      <td>0.185695</td>\n",
       "      <td>0.260923</td>\n",
       "      <td>0.129134</td>\n",
       "      <td>0.478854</td>\n",
       "      <td>0.199958</td>\n",
       "    </tr>\n",
       "    <tr>\n",
       "      <th>TP53_LUAD</th>\n",
       "      <td>0.287071</td>\n",
       "      <td>0.472707</td>\n",
       "      <td>0.252163</td>\n",
       "      <td>0.253624</td>\n",
       "      <td>0.487172</td>\n",
       "    </tr>\n",
       "  </tbody>\n",
       "</table>\n",
       "</div>"
      ],
      "text/plain": [
       "test_identifier   TP53_BLCA  TP53_BRCA  TP53_COAD  TP53_LGG  TP53_LUAD\n",
       "train_identifier                                                      \n",
       "TP53_BLCA          0.468778   0.433715   0.274924  0.092554   0.300342\n",
       "TP53_BRCA          0.260828   0.587076   0.218038  0.222713   0.285390\n",
       "TP53_COAD          0.228648   0.249131   0.345130  0.096214   0.280085\n",
       "TP53_LGG           0.185695   0.260923   0.129134  0.478854   0.199958\n",
       "TP53_LUAD          0.287071   0.472707   0.252163  0.253624   0.487172"
      ]
     },
     "execution_count": 8,
     "metadata": {},
     "output_type": "execute_result"
    }
   ],
   "source": [
    "heatmap_df, sorted_ids = au.heatmap_from_results(cross_cancer_df,\n",
    "                                                 normalize_control=True,\n",
    "                                                 sort_results=False)\n",
    "heatmap_df.iloc[:5, :5]"
   ]
  },
  {
   "cell_type": "code",
   "execution_count": 9,
   "metadata": {},
   "outputs": [
    {
     "data": {
      "text/plain": [
       "Text(115.0, 0.5, 'Train identifier')"
      ]
     },
     "execution_count": 9,
     "metadata": {},
     "output_type": "execute_result"
    },
    {
     "data": {
      "image/png": "[encoded data removed]",
      "text/plain": [
       "<Figure size 1080x576 with 2 Axes>"
      ]
     },
     "metadata": {},
     "output_type": "display_data"
    }
   ],
   "source": [
    "sns.set({'figure.figsize': (15, 8)})\n",
    "sns.heatmap(heatmap_df, cbar_kws={'label': 'AUPR difference from baseline'}, center=0)\n",
    "plt.title('Cross-cancer mutation detection, AUPR heatmap')\n",
    "plt.xlabel('Test identifier')\n",
    "plt.ylabel('Train identifier')"
   ]
  }
 ],
 "metadata": {
  "kernelspec": {
   "display_name": "Python [conda env:pancancer-evaluation]",
   "language": "python",
   "name": "conda-env-pancancer-evaluation-py"
  },
  "language_info": {
   "codemirror_mode": {
    "name": "ipython",
    "version": 3
   },
   "file_extension": ".py",
   "mimetype": "text/x-python",
   "name": "python",
   "nbconvert_exporter": "python",
   "pygments_lexer": "ipython3",
   "version": "3.6.9"
  }
 },
 "nbformat": 4,
 "nbformat_minor": 4
}
