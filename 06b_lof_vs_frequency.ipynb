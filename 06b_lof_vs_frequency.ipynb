{
 "cells": [
  {
   "cell_type": "markdown",
   "metadata": {},
   "source": [
    "## Gene LOF vs. selection frequency\n",
    "\n",
    "TODO: describe in more detail"
   ]
  },
  {
   "cell_type": "code",
   "execution_count": 1,
   "metadata": {},
   "outputs": [],
   "source": [
    "import sys\n",
    "from pathlib import Path\n",
    "import warnings\n",
    "\n",
    "import numpy as np\n",
    "import pandas as pd\n",
    "import matplotlib.pyplot as plt\n",
    "import seaborn as sns\n",
    "\n",
    "import pancancer_evaluation.config as cfg\n",
    "\n",
    "%load_ext autoreload\n",
    "%autoreload 2"
   ]
  },
  {
   "cell_type": "code",
   "execution_count": 2,
   "metadata": {},
   "outputs": [],
   "source": [
    "gene = 'TP53'\n",
    "mad_threshold = 100"
   ]
  },
  {
   "cell_type": "code",
   "execution_count": 3,
   "metadata": {},
   "outputs": [
    {
     "name": "stdout",
     "output_type": "stream",
     "text": [
      "(100, 9)\n"
     ]
    },
    {
     "data": {
      "text/html": [
       "<div>\n",
       "<style scoped>\n",
       "    .dataframe tbody tr th:only-of-type {\n",
       "        vertical-align: middle;\n",
       "    }\n",
       "\n",
       "    .dataframe tbody tr th {\n",
       "        vertical-align: top;\n",
       "    }\n",
       "\n",
       "    .dataframe thead th {\n",
       "        text-align: right;\n",
       "    }\n",
       "</style>\n",
       "<table border=\"1\" class=\"dataframe\">\n",
       "  <thead>\n",
       "    <tr style=\"text-align: right;\">\n",
       "      <th></th>\n",
       "      <th>symbol</th>\n",
       "      <th>entrez_id</th>\n",
       "      <th>max - min</th>\n",
       "      <th>pancan</th>\n",
       "      <th>max_cancer_type</th>\n",
       "      <th>max_f_statistic</th>\n",
       "      <th>max_lof</th>\n",
       "      <th>abs_max_lof</th>\n",
       "      <th>symbol.1</th>\n",
       "    </tr>\n",
       "  </thead>\n",
       "  <tbody>\n",
       "    <tr>\n",
       "      <th>0</th>\n",
       "      <td>KIF4A</td>\n",
       "      <td>24137</td>\n",
       "      <td>290.781887</td>\n",
       "      <td>1215.285958</td>\n",
       "      <td>BRCA</td>\n",
       "      <td>290.782276</td>\n",
       "      <td>-15.805231</td>\n",
       "      <td>15.805231</td>\n",
       "      <td>KIF4A</td>\n",
       "    </tr>\n",
       "    <tr>\n",
       "      <th>1</th>\n",
       "      <td>NCAPH</td>\n",
       "      <td>23397</td>\n",
       "      <td>302.217636</td>\n",
       "      <td>1170.548897</td>\n",
       "      <td>BRCA</td>\n",
       "      <td>302.217668</td>\n",
       "      <td>-7.904053</td>\n",
       "      <td>7.904053</td>\n",
       "      <td>NCAPH</td>\n",
       "    </tr>\n",
       "    <tr>\n",
       "      <th>2</th>\n",
       "      <td>PLK1</td>\n",
       "      <td>5347</td>\n",
       "      <td>351.053548</td>\n",
       "      <td>1124.041606</td>\n",
       "      <td>BRCA</td>\n",
       "      <td>351.056898</td>\n",
       "      <td>-28.995296</td>\n",
       "      <td>28.995296</td>\n",
       "      <td>PLK1</td>\n",
       "    </tr>\n",
       "    <tr>\n",
       "      <th>3</th>\n",
       "      <td>BUB1</td>\n",
       "      <td>699</td>\n",
       "      <td>277.920176</td>\n",
       "      <td>1061.147200</td>\n",
       "      <td>BRCA</td>\n",
       "      <td>277.925279</td>\n",
       "      <td>-7.312019</td>\n",
       "      <td>7.312019</td>\n",
       "      <td>BUB1</td>\n",
       "    </tr>\n",
       "    <tr>\n",
       "      <th>4</th>\n",
       "      <td>KIF23</td>\n",
       "      <td>9493</td>\n",
       "      <td>225.278353</td>\n",
       "      <td>923.233478</td>\n",
       "      <td>BRCA</td>\n",
       "      <td>225.280224</td>\n",
       "      <td>-19.845620</td>\n",
       "      <td>19.845620</td>\n",
       "      <td>KIF23</td>\n",
       "    </tr>\n",
       "  </tbody>\n",
       "</table>\n",
       "</div>"
      ],
      "text/plain": [
       "  symbol entrez_id   max - min       pancan max_cancer_type  max_f_statistic  \\\n",
       "0  KIF4A     24137  290.781887  1215.285958            BRCA       290.782276   \n",
       "1  NCAPH     23397  302.217636  1170.548897            BRCA       302.217668   \n",
       "2   PLK1      5347  351.053548  1124.041606            BRCA       351.056898   \n",
       "3   BUB1       699  277.920176  1061.147200            BRCA       277.925279   \n",
       "4  KIF23      9493  225.278353   923.233478            BRCA       225.280224   \n",
       "\n",
       "     max_lof  abs_max_lof symbol.1  \n",
       "0 -15.805231    15.805231    KIF4A  \n",
       "1  -7.904053     7.904053    NCAPH  \n",
       "2 -28.995296    28.995296     PLK1  \n",
       "3  -7.312019     7.312019     BUB1  \n",
       "4 -19.845620    19.845620    KIF23  "
      ]
     },
     "execution_count": 3,
     "metadata": {},
     "output_type": "execute_result"
    }
   ],
   "source": [
    "# load LOF, etc\n",
    "output_dir = cfg.data_dir / 'univariate_corrs'\n",
    "output_file = output_dir / '{}_{}_corrs.tsv'.format(gene, mad_threshold)\n",
    "rank_df = pd.read_csv(output_file, sep='\\t')\n",
    "rank_df['entrez_id'] = rank_df.entrez_id.astype('str')\n",
    "\n",
    "print(rank_df.shape)\n",
    "rank_df.head()"
   ]
  },
  {
   "cell_type": "code",
   "execution_count": 4,
   "metadata": {},
   "outputs": [
    {
     "name": "stdout",
     "output_type": "stream",
     "text": [
      "(64176, 8)\n"
     ]
    },
    {
     "data": {
      "text/html": [
       "<div>\n",
       "<style scoped>\n",
       "    .dataframe tbody tr th:only-of-type {\n",
       "        vertical-align: middle;\n",
       "    }\n",
       "\n",
       "    .dataframe tbody tr th {\n",
       "        vertical-align: top;\n",
       "    }\n",
       "\n",
       "    .dataframe thead th {\n",
       "        text-align: right;\n",
       "    }\n",
       "</style>\n",
       "<table border=\"1\" class=\"dataframe\">\n",
       "  <thead>\n",
       "    <tr style=\"text-align: right;\">\n",
       "      <th></th>\n",
       "      <th>feature</th>\n",
       "      <th>weight</th>\n",
       "      <th>abs</th>\n",
       "      <th>signal</th>\n",
       "      <th>seed</th>\n",
       "      <th>identifier</th>\n",
       "      <th>training_data</th>\n",
       "      <th>fold</th>\n",
       "    </tr>\n",
       "  </thead>\n",
       "  <tbody>\n",
       "    <tr>\n",
       "      <th>0</th>\n",
       "      <td>4193</td>\n",
       "      <td>-0.78587</td>\n",
       "      <td>0.78587</td>\n",
       "      <td>signal</td>\n",
       "      <td>1</td>\n",
       "      <td>TP53</td>\n",
       "      <td>expression</td>\n",
       "      <td>0</td>\n",
       "    </tr>\n",
       "    <tr>\n",
       "      <th>1</th>\n",
       "      <td>581</td>\n",
       "      <td>-0.44985</td>\n",
       "      <td>0.44985</td>\n",
       "      <td>signal</td>\n",
       "      <td>1</td>\n",
       "      <td>TP53</td>\n",
       "      <td>expression</td>\n",
       "      <td>0</td>\n",
       "    </tr>\n",
       "    <tr>\n",
       "      <th>2</th>\n",
       "      <td>51065</td>\n",
       "      <td>-0.41703</td>\n",
       "      <td>0.41703</td>\n",
       "      <td>signal</td>\n",
       "      <td>1</td>\n",
       "      <td>TP53</td>\n",
       "      <td>expression</td>\n",
       "      <td>0</td>\n",
       "    </tr>\n",
       "    <tr>\n",
       "      <th>3</th>\n",
       "      <td>1643</td>\n",
       "      <td>-0.41383</td>\n",
       "      <td>0.41383</td>\n",
       "      <td>signal</td>\n",
       "      <td>1</td>\n",
       "      <td>TP53</td>\n",
       "      <td>expression</td>\n",
       "      <td>0</td>\n",
       "    </tr>\n",
       "    <tr>\n",
       "      <th>4</th>\n",
       "      <td>1026</td>\n",
       "      <td>-0.39162</td>\n",
       "      <td>0.39162</td>\n",
       "      <td>signal</td>\n",
       "      <td>1</td>\n",
       "      <td>TP53</td>\n",
       "      <td>expression</td>\n",
       "      <td>0</td>\n",
       "    </tr>\n",
       "  </tbody>\n",
       "</table>\n",
       "</div>"
      ],
      "text/plain": [
       "  feature   weight      abs  signal  seed identifier training_data  fold\n",
       "0    4193 -0.78587  0.78587  signal     1       TP53    expression     0\n",
       "1     581 -0.44985  0.44985  signal     1       TP53    expression     0\n",
       "2   51065 -0.41703  0.41703  signal     1       TP53    expression     0\n",
       "3    1643 -0.41383  0.41383  signal     1       TP53    expression     0\n",
       "4    1026 -0.39162  0.39162  signal     1       TP53    expression     0"
      ]
     },
     "execution_count": 4,
     "metadata": {},
     "output_type": "execute_result"
    }
   ],
   "source": [
    "import glob\n",
    "\n",
    "# process feature selection\n",
    "# use models from mpmp paper here\n",
    "models_dir = (\n",
    "    Path('/home/jake/research/mpmp/') /\n",
    "    '02_classify_mutations' / \n",
    "    'results' /\n",
    "    'merged_expression' /\n",
    "    'gene' / \n",
    "    gene\n",
    ")\n",
    "coefs_files = str(models_dir / \n",
    "    '{}_expression_signal_classify_s*_coefficients.tsv.gz'.format(gene)\n",
    ")\n",
    "coefs = []\n",
    "for coefs_file in glob.glob(coefs_files):\n",
    "    coefs.append(\n",
    "        pd.read_csv(coefs_file, sep='\\t')\n",
    "    )\n",
    "    \n",
    "coefs_df = pd.concat(coefs)\n",
    "print(coefs_df.shape)\n",
    "coefs_df.head()"
   ]
  },
  {
   "cell_type": "code",
   "execution_count": 5,
   "metadata": {},
   "outputs": [
    {
     "data": {
      "text/html": [
       "<div>\n",
       "<style scoped>\n",
       "    .dataframe tbody tr th:only-of-type {\n",
       "        vertical-align: middle;\n",
       "    }\n",
       "\n",
       "    .dataframe tbody tr th {\n",
       "        vertical-align: top;\n",
       "    }\n",
       "\n",
       "    .dataframe thead th {\n",
       "        text-align: right;\n",
       "    }\n",
       "</style>\n",
       "<table border=\"1\" class=\"dataframe\">\n",
       "  <thead>\n",
       "    <tr style=\"text-align: right;\">\n",
       "      <th></th>\n",
       "      <th>feature</th>\n",
       "      <th>weight</th>\n",
       "      <th>abs</th>\n",
       "      <th>signal</th>\n",
       "      <th>seed</th>\n",
       "      <th>identifier</th>\n",
       "      <th>training_data</th>\n",
       "      <th>fold</th>\n",
       "      <th>nz_weight</th>\n",
       "    </tr>\n",
       "  </thead>\n",
       "  <tbody>\n",
       "    <tr>\n",
       "      <th>0</th>\n",
       "      <td>4193</td>\n",
       "      <td>-0.78587</td>\n",
       "      <td>0.78587</td>\n",
       "      <td>signal</td>\n",
       "      <td>1</td>\n",
       "      <td>TP53</td>\n",
       "      <td>expression</td>\n",
       "      <td>0</td>\n",
       "      <td>True</td>\n",
       "    </tr>\n",
       "    <tr>\n",
       "      <th>1</th>\n",
       "      <td>581</td>\n",
       "      <td>-0.44985</td>\n",
       "      <td>0.44985</td>\n",
       "      <td>signal</td>\n",
       "      <td>1</td>\n",
       "      <td>TP53</td>\n",
       "      <td>expression</td>\n",
       "      <td>0</td>\n",
       "      <td>True</td>\n",
       "    </tr>\n",
       "    <tr>\n",
       "      <th>2</th>\n",
       "      <td>51065</td>\n",
       "      <td>-0.41703</td>\n",
       "      <td>0.41703</td>\n",
       "      <td>signal</td>\n",
       "      <td>1</td>\n",
       "      <td>TP53</td>\n",
       "      <td>expression</td>\n",
       "      <td>0</td>\n",
       "      <td>True</td>\n",
       "    </tr>\n",
       "    <tr>\n",
       "      <th>3</th>\n",
       "      <td>1643</td>\n",
       "      <td>-0.41383</td>\n",
       "      <td>0.41383</td>\n",
       "      <td>signal</td>\n",
       "      <td>1</td>\n",
       "      <td>TP53</td>\n",
       "      <td>expression</td>\n",
       "      <td>0</td>\n",
       "      <td>True</td>\n",
       "    </tr>\n",
       "    <tr>\n",
       "      <th>4</th>\n",
       "      <td>1026</td>\n",
       "      <td>-0.39162</td>\n",
       "      <td>0.39162</td>\n",
       "      <td>signal</td>\n",
       "      <td>1</td>\n",
       "      <td>TP53</td>\n",
       "      <td>expression</td>\n",
       "      <td>0</td>\n",
       "      <td>True</td>\n",
       "    </tr>\n",
       "  </tbody>\n",
       "</table>\n",
       "</div>"
      ],
      "text/plain": [
       "  feature   weight      abs  signal  seed identifier training_data  fold  \\\n",
       "0    4193 -0.78587  0.78587  signal     1       TP53    expression     0   \n",
       "1     581 -0.44985  0.44985  signal     1       TP53    expression     0   \n",
       "2   51065 -0.41703  0.41703  signal     1       TP53    expression     0   \n",
       "3    1643 -0.41383  0.41383  signal     1       TP53    expression     0   \n",
       "4    1026 -0.39162  0.39162  signal     1       TP53    expression     0   \n",
       "\n",
       "   nz_weight  \n",
       "0       True  \n",
       "1       True  \n",
       "2       True  \n",
       "3       True  \n",
       "4       True  "
      ]
     },
     "execution_count": 5,
     "metadata": {},
     "output_type": "execute_result"
    }
   ],
   "source": [
    "coefs_df['nz_weight'] = (coefs_df.weight != 0.)\n",
    "coefs_df.head()"
   ]
  },
  {
   "cell_type": "code",
   "execution_count": 6,
   "metadata": {},
   "outputs": [
    {
     "data": {
      "text/html": [
       "<div>\n",
       "<style scoped>\n",
       "    .dataframe tbody tr th:only-of-type {\n",
       "        vertical-align: middle;\n",
       "    }\n",
       "\n",
       "    .dataframe tbody tr th {\n",
       "        vertical-align: top;\n",
       "    }\n",
       "\n",
       "    .dataframe thead th {\n",
       "        text-align: right;\n",
       "    }\n",
       "</style>\n",
       "<table border=\"1\" class=\"dataframe\">\n",
       "  <thead>\n",
       "    <tr style=\"text-align: right;\">\n",
       "      <th></th>\n",
       "      <th>nz_weight</th>\n",
       "    </tr>\n",
       "    <tr>\n",
       "      <th>feature</th>\n",
       "      <th></th>\n",
       "    </tr>\n",
       "  </thead>\n",
       "  <tbody>\n",
       "    <tr>\n",
       "      <th>log10_mut</th>\n",
       "      <td>8.0</td>\n",
       "    </tr>\n",
       "    <tr>\n",
       "      <th>4193</th>\n",
       "      <td>8.0</td>\n",
       "    </tr>\n",
       "    <tr>\n",
       "      <th>112</th>\n",
       "      <td>8.0</td>\n",
       "    </tr>\n",
       "    <tr>\n",
       "      <th>92579</th>\n",
       "      <td>8.0</td>\n",
       "    </tr>\n",
       "    <tr>\n",
       "      <th>50484</th>\n",
       "      <td>8.0</td>\n",
       "    </tr>\n",
       "  </tbody>\n",
       "</table>\n",
       "</div>"
      ],
      "text/plain": [
       "           nz_weight\n",
       "feature             \n",
       "log10_mut        8.0\n",
       "4193             8.0\n",
       "112              8.0\n",
       "92579            8.0\n",
       "50484            8.0"
      ]
     },
     "execution_count": 6,
     "metadata": {},
     "output_type": "execute_result"
    }
   ],
   "source": [
    "nz_models_df = (coefs_df\n",
    "  .groupby('feature')\n",
    "  .sum()\n",
    "  .loc[:, ['nz_weight']]\n",
    ")\n",
    "\n",
    "nz_models_df.sort_values(by='nz_weight', ascending=False).head()"
   ]
  },
  {
   "cell_type": "code",
   "execution_count": 7,
   "metadata": {},
   "outputs": [
    {
     "data": {
      "text/plain": [
       "Text(0.5, 0, '')"
      ]
     },
     "execution_count": 7,
     "metadata": {},
     "output_type": "execute_result"
    },
    {
     "data": {
      "image/png": "[encoded data removed]",
      "text/plain": [
       "<Figure size 576x432 with 1 Axes>"
      ]
     },
     "metadata": {},
     "output_type": "display_data"
    }
   ],
   "source": [
    "sns.set({'figure.figsize': (8, 6)})\n",
    "\n",
    "sns.histplot(data=nz_models_df, x='nz_weight', discrete=True)\n",
    "plt.title('Number of models where feature was selected, out of 8')\n",
    "plt.xlabel('')"
   ]
  },
  {
   "cell_type": "code",
   "execution_count": 8,
   "metadata": {},
   "outputs": [
    {
     "data": {
      "text/html": [
       "<div>\n",
       "<style scoped>\n",
       "    .dataframe tbody tr th:only-of-type {\n",
       "        vertical-align: middle;\n",
       "    }\n",
       "\n",
       "    .dataframe tbody tr th {\n",
       "        vertical-align: top;\n",
       "    }\n",
       "\n",
       "    .dataframe thead th {\n",
       "        text-align: right;\n",
       "    }\n",
       "</style>\n",
       "<table border=\"1\" class=\"dataframe\">\n",
       "  <thead>\n",
       "    <tr style=\"text-align: right;\">\n",
       "      <th></th>\n",
       "      <th>nz_weight</th>\n",
       "    </tr>\n",
       "    <tr>\n",
       "      <th>feature</th>\n",
       "      <th></th>\n",
       "    </tr>\n",
       "  </thead>\n",
       "  <tbody>\n",
       "    <tr>\n",
       "      <th>10053</th>\n",
       "      <td>1.0</td>\n",
       "    </tr>\n",
       "    <tr>\n",
       "      <th>10137</th>\n",
       "      <td>0.0</td>\n",
       "    </tr>\n",
       "    <tr>\n",
       "      <th>10236</th>\n",
       "      <td>0.0</td>\n",
       "    </tr>\n",
       "    <tr>\n",
       "      <th>10256</th>\n",
       "      <td>0.0</td>\n",
       "    </tr>\n",
       "    <tr>\n",
       "      <th>1040</th>\n",
       "      <td>2.0</td>\n",
       "    </tr>\n",
       "  </tbody>\n",
       "</table>\n",
       "</div>"
      ],
      "text/plain": [
       "         nz_weight\n",
       "feature           \n",
       "10053          1.0\n",
       "10137          0.0\n",
       "10236          0.0\n",
       "10256          0.0\n",
       "1040           2.0"
      ]
     },
     "execution_count": 8,
     "metadata": {},
     "output_type": "execute_result"
    }
   ],
   "source": [
    "feats_in_top_n = (\n",
    "    nz_models_df.index.isin(rank_df.entrez_id)\n",
    ")\n",
    "\n",
    "nz_models_df.loc[feats_in_top_n, :].head()"
   ]
  },
  {
   "cell_type": "code",
   "execution_count": 9,
   "metadata": {},
   "outputs": [
    {
     "data": {
      "text/plain": [
       "Text(0.5, 0, '')"
      ]
     },
     "execution_count": 9,
     "metadata": {},
     "output_type": "execute_result"
    },
    {
     "data": {
      "image/png": "[encoded data removed]",
      "text/plain": [
       "<Figure size 576x432 with 1 Axes>"
      ]
     },
     "metadata": {},
     "output_type": "display_data"
    }
   ],
   "source": [
    "sns.set({'figure.figsize': (8, 6)})\n",
    "\n",
    "sns.histplot(\n",
    "    data=nz_models_df.loc[feats_in_top_n, :],\n",
    "    x='nz_weight', discrete=True)\n",
    "plt.title(\n",
    "    'Number of models where feature was selected, out of 8, top {} only'.format(mad_threshold)\n",
    ")\n",
    "plt.xlabel('')"
   ]
  },
  {
   "cell_type": "code",
   "execution_count": 10,
   "metadata": {},
   "outputs": [
    {
     "name": "stdout",
     "output_type": "stream",
     "text": [
      "(66, 9)\n"
     ]
    },
    {
     "data": {
      "text/html": [
       "<div>\n",
       "<style scoped>\n",
       "    .dataframe tbody tr th:only-of-type {\n",
       "        vertical-align: middle;\n",
       "    }\n",
       "\n",
       "    .dataframe tbody tr th {\n",
       "        vertical-align: top;\n",
       "    }\n",
       "\n",
       "    .dataframe thead th {\n",
       "        text-align: right;\n",
       "    }\n",
       "</style>\n",
       "<table border=\"1\" class=\"dataframe\">\n",
       "  <thead>\n",
       "    <tr style=\"text-align: right;\">\n",
       "      <th></th>\n",
       "      <th>nz_weight</th>\n",
       "      <th>symbol</th>\n",
       "      <th>entrez_id</th>\n",
       "      <th>max - min</th>\n",
       "      <th>pancan</th>\n",
       "      <th>max_cancer_type</th>\n",
       "      <th>max_f_statistic</th>\n",
       "      <th>max_lof</th>\n",
       "      <th>abs_max_lof</th>\n",
       "    </tr>\n",
       "  </thead>\n",
       "  <tbody>\n",
       "    <tr>\n",
       "      <th>74</th>\n",
       "      <td>1.0</td>\n",
       "      <td>AP1M2</td>\n",
       "      <td>10053</td>\n",
       "      <td>24.228506</td>\n",
       "      <td>34.753944</td>\n",
       "      <td>BRCA</td>\n",
       "      <td>24.230451</td>\n",
       "      <td>-2.920684</td>\n",
       "      <td>2.920684</td>\n",
       "    </tr>\n",
       "    <tr>\n",
       "      <th>59</th>\n",
       "      <td>0.0</td>\n",
       "      <td>RBM12</td>\n",
       "      <td>10137</td>\n",
       "      <td>85.293385</td>\n",
       "      <td>129.750470</td>\n",
       "      <td>LGG</td>\n",
       "      <td>85.293431</td>\n",
       "      <td>-9.613026</td>\n",
       "      <td>9.613026</td>\n",
       "    </tr>\n",
       "    <tr>\n",
       "      <th>30</th>\n",
       "      <td>0.0</td>\n",
       "      <td>HNRNPR</td>\n",
       "      <td>10236</td>\n",
       "      <td>175.353110</td>\n",
       "      <td>412.992084</td>\n",
       "      <td>LGG</td>\n",
       "      <td>175.358815</td>\n",
       "      <td>-30.677698</td>\n",
       "      <td>30.677698</td>\n",
       "    </tr>\n",
       "    <tr>\n",
       "      <th>48</th>\n",
       "      <td>0.0</td>\n",
       "      <td>CNKSR1</td>\n",
       "      <td>10256</td>\n",
       "      <td>123.833196</td>\n",
       "      <td>168.578528</td>\n",
       "      <td>LGG</td>\n",
       "      <td>123.834562</td>\n",
       "      <td>-12.253634</td>\n",
       "      <td>12.253634</td>\n",
       "    </tr>\n",
       "    <tr>\n",
       "      <th>81</th>\n",
       "      <td>2.0</td>\n",
       "      <td>CDS1</td>\n",
       "      <td>1040</td>\n",
       "      <td>66.299387</td>\n",
       "      <td>19.031791</td>\n",
       "      <td>BRCA</td>\n",
       "      <td>66.299456</td>\n",
       "      <td>-2.518693</td>\n",
       "      <td>2.518693</td>\n",
       "    </tr>\n",
       "  </tbody>\n",
       "</table>\n",
       "</div>"
      ],
      "text/plain": [
       "    nz_weight  symbol entrez_id   max - min      pancan max_cancer_type  \\\n",
       "74        1.0   AP1M2     10053   24.228506   34.753944            BRCA   \n",
       "59        0.0   RBM12     10137   85.293385  129.750470             LGG   \n",
       "30        0.0  HNRNPR     10236  175.353110  412.992084             LGG   \n",
       "48        0.0  CNKSR1     10256  123.833196  168.578528             LGG   \n",
       "81        2.0    CDS1      1040   66.299387   19.031791            BRCA   \n",
       "\n",
       "    max_f_statistic    max_lof  abs_max_lof  \n",
       "74        24.230451  -2.920684     2.920684  \n",
       "59        85.293431  -9.613026     9.613026  \n",
       "30       175.358815 -30.677698    30.677698  \n",
       "48       123.834562 -12.253634    12.253634  \n",
       "81        66.299456  -2.518693     2.518693  "
      ]
     },
     "execution_count": 10,
     "metadata": {},
     "output_type": "execute_result"
    }
   ],
   "source": [
    "# plot max LOF vs. number of times selected\n",
    "# we want to see if there's a correlation\n",
    "\n",
    "plot_df = (nz_models_df\n",
    "    .merge(rank_df, left_index=True, right_on='entrez_id')\n",
    "    .drop(columns=['symbol.1'])\n",
    ")\n",
    "\n",
    "print(plot_df.shape)\n",
    "plot_df.head()"
   ]
  },
  {
   "cell_type": "code",
   "execution_count": 11,
   "metadata": {},
   "outputs": [
    {
     "data": {
      "text/plain": [
       "Text(0.5, 1.0, 'Times selected vs. max LOF value, TP53, top 100 genes')"
      ]
     },
     "execution_count": 11,
     "metadata": {},
     "output_type": "execute_result"
    },
    {
     "data": {
      "image/png": "[encoded data removed]",
      "text/plain": [
       "<Figure size 576x432 with 1 Axes>"
      ]
     },
     "metadata": {},
     "output_type": "display_data"
    }
   ],
   "source": [
    "sns.set({'figure.figsize': (8, 6)})\n",
    "\n",
    "sns.scatterplot(data=plot_df, x='nz_weight', y='abs_max_lof')\n",
    "plt.xlabel('Number of models where feature was selected')\n",
    "plt.ylabel('Max LOF value (higher = more outlier-y)')\n",
    "plt.title('Times selected vs. max LOF value, {}, top {} genes'.format(\n",
    "    gene, mad_threshold))"
   ]
  },
  {
   "cell_type": "code",
   "execution_count": 12,
   "metadata": {},
   "outputs": [
    {
     "data": {
      "text/plain": [
       "Text(0.5, 1.0, 'Times selected vs. max LOF value, TP53, top 100 genes')"
      ]
     },
     "execution_count": 12,
     "metadata": {},
     "output_type": "execute_result"
    },
    {
     "data": {
      "image/png": "[encoded data removed]",
      "text/plain": [
       "<Figure size 576x432 with 1 Axes>"
      ]
     },
     "metadata": {},
     "output_type": "display_data"
    }
   ],
   "source": [
    "sns.set({'figure.figsize': (8, 6)})\n",
    "\n",
    "sns.scatterplot(data=plot_df, x='nz_weight', y='abs_max_lof')\n",
    "plt.gca().set_yscale('log')\n",
    "plt.xlabel('Number of models where feature was selected')\n",
    "plt.ylabel('Max LOF value (higher = more outlier-y)')\n",
    "plt.title('Times selected vs. max LOF value, {}, top {} genes'.format(\n",
    "    gene, mad_threshold))"
   ]
  }
 ],
 "metadata": {
  "kernelspec": {
   "display_name": "Python [conda env:pancancer-evaluation]",
   "language": "python",
   "name": "conda-env-pancancer-evaluation-py"
  },
  "language_info": {
   "codemirror_mode": {
    "name": "ipython",
    "version": 3
   },
   "file_extension": ".py",
   "mimetype": "text/x-python",
   "name": "python",
   "nbconvert_exporter": "python",
   "pygments_lexer": "ipython3",
   "version": "3.6.9"
  }
 },
 "nbformat": 4,
 "nbformat_minor": 4
}
