{
 "cells": [
  {
   "cell_type": "markdown",
   "metadata": {},
   "source": [
    "## Univariate correlation analysis\n",
    "\n",
    "TODO: describe"
   ]
  },
  {
   "cell_type": "code",
   "execution_count": 1,
   "metadata": {},
   "outputs": [],
   "source": [
    "import sys\n",
    "from pathlib import Path\n",
    "\n",
    "import numpy as np\n",
    "import pandas as pd\n",
    "import matplotlib.pyplot as plt\n",
    "import seaborn as sns\n",
    "from sklearn.preprocessing import StandardScaler\n",
    "\n",
    "import pancancer_evaluation.config as cfg\n",
    "import pancancer_evaluation.utilities.data_utilities as du\n",
    "\n",
    "%load_ext autoreload\n",
    "%autoreload 2"
   ]
  },
  {
   "cell_type": "code",
   "execution_count": 2,
   "metadata": {},
   "outputs": [],
   "source": [
    "gene = 'TP53'"
   ]
  },
  {
   "cell_type": "markdown",
   "metadata": {},
   "source": [
    "### Load expression data and mutation label data"
   ]
  },
  {
   "cell_type": "code",
   "execution_count": 3,
   "metadata": {},
   "outputs": [
    {
     "name": "stderr",
     "output_type": "stream",
     "text": [
      "Loading gene label data...\n",
      "Loading sample info...\n",
      "Loading pan-cancer data from cached pickle file...\n",
      "Loading gene expression data...\n",
      "Standardizing columns of expression data...\n"
     ]
    }
   ],
   "source": [
    "print('Loading gene label data...', file=sys.stderr)\n",
    "genes_df = du.load_top_50()\n",
    "sample_info_df = du.load_sample_info(verbose=True)\n",
    "\n",
    "# this returns a tuple of dataframes, unpack it below\n",
    "pancancer_data = du.load_pancancer_data(verbose=True)\n",
    "(sample_freeze_df,\n",
    " mutation_df,\n",
    " copy_loss_df,\n",
    " copy_gain_df,\n",
    " mut_burden_df) = pancancer_data\n",
    "\n",
    "rnaseq_df = du.load_expression_data(verbose=True)\n",
    "\n",
    "# standardize columns of expression dataframe\n",
    "print('Standardizing columns of expression data...', file=sys.stderr)\n",
    "rnaseq_df[rnaseq_df.columns] = StandardScaler().fit_transform(rnaseq_df[rnaseq_df.columns])"
   ]
  },
  {
   "cell_type": "code",
   "execution_count": 4,
   "metadata": {},
   "outputs": [
    {
     "name": "stdout",
     "output_type": "stream",
     "text": [
      "(11060, 16148)\n"
     ]
    },
    {
     "data": {
      "text/html": [
       "<div>\n",
       "<style scoped>\n",
       "    .dataframe tbody tr th:only-of-type {\n",
       "        vertical-align: middle;\n",
       "    }\n",
       "\n",
       "    .dataframe tbody tr th {\n",
       "        vertical-align: top;\n",
       "    }\n",
       "\n",
       "    .dataframe thead th {\n",
       "        text-align: right;\n",
       "    }\n",
       "</style>\n",
       "<table border=\"1\" class=\"dataframe\">\n",
       "  <thead>\n",
       "    <tr style=\"text-align: right;\">\n",
       "      <th></th>\n",
       "      <th>1</th>\n",
       "      <th>10</th>\n",
       "      <th>100</th>\n",
       "      <th>1000</th>\n",
       "      <th>10000</th>\n",
       "    </tr>\n",
       "    <tr>\n",
       "      <th>sample_id</th>\n",
       "      <th></th>\n",
       "      <th></th>\n",
       "      <th></th>\n",
       "      <th></th>\n",
       "      <th></th>\n",
       "    </tr>\n",
       "  </thead>\n",
       "  <tbody>\n",
       "    <tr>\n",
       "      <th>TCGA-02-0047-01</th>\n",
       "      <td>-0.144100</td>\n",
       "      <td>-0.136450</td>\n",
       "      <td>-0.207065</td>\n",
       "      <td>1.049402</td>\n",
       "      <td>0.644625</td>\n",
       "    </tr>\n",
       "    <tr>\n",
       "      <th>TCGA-02-0055-01</th>\n",
       "      <td>-0.124925</td>\n",
       "      <td>-0.197893</td>\n",
       "      <td>-0.132694</td>\n",
       "      <td>0.704438</td>\n",
       "      <td>0.154763</td>\n",
       "    </tr>\n",
       "    <tr>\n",
       "      <th>TCGA-02-2483-01</th>\n",
       "      <td>-0.133543</td>\n",
       "      <td>-0.174587</td>\n",
       "      <td>-0.103291</td>\n",
       "      <td>1.473420</td>\n",
       "      <td>0.669303</td>\n",
       "    </tr>\n",
       "    <tr>\n",
       "      <th>TCGA-02-2485-01</th>\n",
       "      <td>-0.147052</td>\n",
       "      <td>-0.072888</td>\n",
       "      <td>-0.213119</td>\n",
       "      <td>4.405612</td>\n",
       "      <td>11.503035</td>\n",
       "    </tr>\n",
       "    <tr>\n",
       "      <th>TCGA-02-2486-01</th>\n",
       "      <td>-0.145321</td>\n",
       "      <td>-0.181076</td>\n",
       "      <td>-0.147395</td>\n",
       "      <td>1.013468</td>\n",
       "      <td>0.117745</td>\n",
       "    </tr>\n",
       "  </tbody>\n",
       "</table>\n",
       "</div>"
      ],
      "text/plain": [
       "                        1        10       100      1000      10000\n",
       "sample_id                                                         \n",
       "TCGA-02-0047-01 -0.144100 -0.136450 -0.207065  1.049402   0.644625\n",
       "TCGA-02-0055-01 -0.124925 -0.197893 -0.132694  0.704438   0.154763\n",
       "TCGA-02-2483-01 -0.133543 -0.174587 -0.103291  1.473420   0.669303\n",
       "TCGA-02-2485-01 -0.147052 -0.072888 -0.213119  4.405612  11.503035\n",
       "TCGA-02-2486-01 -0.145321 -0.181076 -0.147395  1.013468   0.117745"
      ]
     },
     "execution_count": 4,
     "metadata": {},
     "output_type": "execute_result"
    }
   ],
   "source": [
    "print(rnaseq_df.shape)\n",
    "rnaseq_df.iloc[:5, :5]"
   ]
  },
  {
   "cell_type": "code",
   "execution_count": 5,
   "metadata": {},
   "outputs": [
    {
     "data": {
      "text/html": [
       "<div>\n",
       "<style scoped>\n",
       "    .dataframe tbody tr th:only-of-type {\n",
       "        vertical-align: middle;\n",
       "    }\n",
       "\n",
       "    .dataframe tbody tr th {\n",
       "        vertical-align: top;\n",
       "    }\n",
       "\n",
       "    .dataframe thead th {\n",
       "        text-align: right;\n",
       "    }\n",
       "</style>\n",
       "<table border=\"1\" class=\"dataframe\">\n",
       "  <thead>\n",
       "    <tr style=\"text-align: right;\">\n",
       "      <th></th>\n",
       "      <th>PATIENT_BARCODE</th>\n",
       "      <th>SAMPLE_BARCODE</th>\n",
       "      <th>DISEASE</th>\n",
       "      <th>SUBTYPE</th>\n",
       "    </tr>\n",
       "  </thead>\n",
       "  <tbody>\n",
       "    <tr>\n",
       "      <th>0</th>\n",
       "      <td>TCGA-OR-A5J1</td>\n",
       "      <td>TCGA-OR-A5J1-01</td>\n",
       "      <td>ACC</td>\n",
       "      <td>Not_Applicable</td>\n",
       "    </tr>\n",
       "    <tr>\n",
       "      <th>1</th>\n",
       "      <td>TCGA-OR-A5J2</td>\n",
       "      <td>TCGA-OR-A5J2-01</td>\n",
       "      <td>ACC</td>\n",
       "      <td>Not_Applicable</td>\n",
       "    </tr>\n",
       "    <tr>\n",
       "      <th>2</th>\n",
       "      <td>TCGA-OR-A5J3</td>\n",
       "      <td>TCGA-OR-A5J3-01</td>\n",
       "      <td>ACC</td>\n",
       "      <td>Not_Applicable</td>\n",
       "    </tr>\n",
       "    <tr>\n",
       "      <th>3</th>\n",
       "      <td>TCGA-OR-A5J5</td>\n",
       "      <td>TCGA-OR-A5J5-01</td>\n",
       "      <td>ACC</td>\n",
       "      <td>Not_Applicable</td>\n",
       "    </tr>\n",
       "    <tr>\n",
       "      <th>4</th>\n",
       "      <td>TCGA-OR-A5J6</td>\n",
       "      <td>TCGA-OR-A5J6-01</td>\n",
       "      <td>ACC</td>\n",
       "      <td>Not_Applicable</td>\n",
       "    </tr>\n",
       "  </tbody>\n",
       "</table>\n",
       "</div>"
      ],
      "text/plain": [
       "  PATIENT_BARCODE   SAMPLE_BARCODE DISEASE         SUBTYPE\n",
       "0    TCGA-OR-A5J1  TCGA-OR-A5J1-01     ACC  Not_Applicable\n",
       "1    TCGA-OR-A5J2  TCGA-OR-A5J2-01     ACC  Not_Applicable\n",
       "2    TCGA-OR-A5J3  TCGA-OR-A5J3-01     ACC  Not_Applicable\n",
       "3    TCGA-OR-A5J5  TCGA-OR-A5J5-01     ACC  Not_Applicable\n",
       "4    TCGA-OR-A5J6  TCGA-OR-A5J6-01     ACC  Not_Applicable"
      ]
     },
     "execution_count": 5,
     "metadata": {},
     "output_type": "execute_result"
    }
   ],
   "source": [
    "sample_freeze_df.head()"
   ]
  },
  {
   "cell_type": "code",
   "execution_count": 6,
   "metadata": {},
   "outputs": [
    {
     "data": {
      "text/html": [
       "<div>\n",
       "<style scoped>\n",
       "    .dataframe tbody tr th:only-of-type {\n",
       "        vertical-align: middle;\n",
       "    }\n",
       "\n",
       "    .dataframe tbody tr th {\n",
       "        vertical-align: top;\n",
       "    }\n",
       "\n",
       "    .dataframe thead th {\n",
       "        text-align: right;\n",
       "    }\n",
       "</style>\n",
       "<table border=\"1\" class=\"dataframe\">\n",
       "  <thead>\n",
       "    <tr style=\"text-align: right;\">\n",
       "      <th></th>\n",
       "      <th>5S_rRNA</th>\n",
       "      <th>A1BG</th>\n",
       "      <th>A1CF</th>\n",
       "      <th>A2M</th>\n",
       "      <th>A2ML1</th>\n",
       "    </tr>\n",
       "    <tr>\n",
       "      <th>SAMPLE_BARCODE</th>\n",
       "      <th></th>\n",
       "      <th></th>\n",
       "      <th></th>\n",
       "      <th></th>\n",
       "      <th></th>\n",
       "    </tr>\n",
       "  </thead>\n",
       "  <tbody>\n",
       "    <tr>\n",
       "      <th>TCGA-02-0047-01</th>\n",
       "      <td>0</td>\n",
       "      <td>0</td>\n",
       "      <td>0</td>\n",
       "      <td>0</td>\n",
       "      <td>0</td>\n",
       "    </tr>\n",
       "    <tr>\n",
       "      <th>TCGA-02-0055-01</th>\n",
       "      <td>0</td>\n",
       "      <td>0</td>\n",
       "      <td>0</td>\n",
       "      <td>0</td>\n",
       "      <td>0</td>\n",
       "    </tr>\n",
       "    <tr>\n",
       "      <th>TCGA-02-2483-01</th>\n",
       "      <td>0</td>\n",
       "      <td>0</td>\n",
       "      <td>0</td>\n",
       "      <td>0</td>\n",
       "      <td>0</td>\n",
       "    </tr>\n",
       "    <tr>\n",
       "      <th>TCGA-02-2485-01</th>\n",
       "      <td>0</td>\n",
       "      <td>0</td>\n",
       "      <td>0</td>\n",
       "      <td>0</td>\n",
       "      <td>0</td>\n",
       "    </tr>\n",
       "    <tr>\n",
       "      <th>TCGA-02-2486-01</th>\n",
       "      <td>0</td>\n",
       "      <td>0</td>\n",
       "      <td>0</td>\n",
       "      <td>0</td>\n",
       "      <td>0</td>\n",
       "    </tr>\n",
       "  </tbody>\n",
       "</table>\n",
       "</div>"
      ],
      "text/plain": [
       "                 5S_rRNA  A1BG  A1CF  A2M  A2ML1\n",
       "SAMPLE_BARCODE                                  \n",
       "TCGA-02-0047-01        0     0     0    0      0\n",
       "TCGA-02-0055-01        0     0     0    0      0\n",
       "TCGA-02-2483-01        0     0     0    0      0\n",
       "TCGA-02-2485-01        0     0     0    0      0\n",
       "TCGA-02-2486-01        0     0     0    0      0"
      ]
     },
     "execution_count": 6,
     "metadata": {},
     "output_type": "execute_result"
    }
   ],
   "source": [
    "mutation_df.iloc[:5, :5]"
   ]
  },
  {
   "cell_type": "code",
   "execution_count": 7,
   "metadata": {},
   "outputs": [
    {
     "name": "stdout",
     "output_type": "stream",
     "text": [
      "(9074, 3)\n"
     ]
    },
    {
     "data": {
      "text/html": [
       "<div>\n",
       "<style scoped>\n",
       "    .dataframe tbody tr th:only-of-type {\n",
       "        vertical-align: middle;\n",
       "    }\n",
       "\n",
       "    .dataframe tbody tr th {\n",
       "        vertical-align: top;\n",
       "    }\n",
       "\n",
       "    .dataframe thead th {\n",
       "        text-align: right;\n",
       "    }\n",
       "</style>\n",
       "<table border=\"1\" class=\"dataframe\">\n",
       "  <thead>\n",
       "    <tr style=\"text-align: right;\">\n",
       "      <th></th>\n",
       "      <th>TP53</th>\n",
       "      <th>DISEASE</th>\n",
       "      <th>SUBTYPE</th>\n",
       "    </tr>\n",
       "    <tr>\n",
       "      <th>SAMPLE_BARCODE</th>\n",
       "      <th></th>\n",
       "      <th></th>\n",
       "      <th></th>\n",
       "    </tr>\n",
       "  </thead>\n",
       "  <tbody>\n",
       "    <tr>\n",
       "      <th>TCGA-02-0047-01</th>\n",
       "      <td>0</td>\n",
       "      <td>GBM</td>\n",
       "      <td>IDHwt</td>\n",
       "    </tr>\n",
       "    <tr>\n",
       "      <th>TCGA-02-0055-01</th>\n",
       "      <td>1</td>\n",
       "      <td>GBM</td>\n",
       "      <td>IDHwt</td>\n",
       "    </tr>\n",
       "    <tr>\n",
       "      <th>TCGA-02-2483-01</th>\n",
       "      <td>1</td>\n",
       "      <td>GBM</td>\n",
       "      <td>IDHmut-non-codel</td>\n",
       "    </tr>\n",
       "    <tr>\n",
       "      <th>TCGA-02-2485-01</th>\n",
       "      <td>1</td>\n",
       "      <td>GBM</td>\n",
       "      <td>IDHwt</td>\n",
       "    </tr>\n",
       "    <tr>\n",
       "      <th>TCGA-02-2486-01</th>\n",
       "      <td>0</td>\n",
       "      <td>GBM</td>\n",
       "      <td>IDHwt</td>\n",
       "    </tr>\n",
       "  </tbody>\n",
       "</table>\n",
       "</div>"
      ],
      "text/plain": [
       "                 TP53 DISEASE           SUBTYPE\n",
       "SAMPLE_BARCODE                                 \n",
       "TCGA-02-0047-01     0     GBM             IDHwt\n",
       "TCGA-02-0055-01     1     GBM             IDHwt\n",
       "TCGA-02-2483-01     1     GBM  IDHmut-non-codel\n",
       "TCGA-02-2485-01     1     GBM             IDHwt\n",
       "TCGA-02-2486-01     0     GBM             IDHwt"
      ]
     },
     "execution_count": 7,
     "metadata": {},
     "output_type": "execute_result"
    }
   ],
   "source": [
    "y_df = (mutation_df\n",
    "    .loc[:, [gene]]\n",
    "    .merge(sample_freeze_df, left_index=True, right_on='SAMPLE_BARCODE')\n",
    "    .drop(columns='PATIENT_BARCODE')\n",
    "    .set_index('SAMPLE_BARCODE')\n",
    ")\n",
    "print(y_df.shape)\n",
    "y_df.head()"
   ]
  },
  {
   "cell_type": "markdown",
   "metadata": {},
   "source": [
    "### Calculate pan-cancer univariate feature correlations"
   ]
  }
 ],
 "metadata": {
  "kernelspec": {
   "display_name": "Python [conda env:pancancer-evaluation]",
   "language": "python",
   "name": "conda-env-pancancer-evaluation-py"
  },
  "language_info": {
   "codemirror_mode": {
    "name": "ipython",
    "version": 3
   },
   "file_extension": ".py",
   "mimetype": "text/x-python",
   "name": "python",
   "nbconvert_exporter": "python",
   "pygments_lexer": "ipython3",
   "version": "3.6.9"
  }
 },
 "nbformat": 4,
 "nbformat_minor": 4
}
