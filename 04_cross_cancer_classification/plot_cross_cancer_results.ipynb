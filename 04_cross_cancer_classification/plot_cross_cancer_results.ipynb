{
 "cells": [
  {
   "cell_type": "markdown",
   "metadata": {},
   "source": [
    "## Cross-cancer prediction analysis"
   ]
  },
  {
   "cell_type": "code",
   "execution_count": 1,
   "metadata": {},
   "outputs": [],
   "source": [
    "import os\n",
    "\n",
    "import numpy as np\n",
    "import pandas as pd\n",
    "import matplotlib.pyplot as plt\n",
    "from matplotlib_venn import venn2\n",
    "import seaborn as sns\n",
    "\n",
    "import pancancer_evaluation.config as cfg\n",
    "import pancancer_evaluation.utilities.analysis_utilities as au"
   ]
  },
  {
   "cell_type": "code",
   "execution_count": 2,
   "metadata": {},
   "outputs": [
    {
     "name": "stdout",
     "output_type": "stream",
     "text": [
      "(3456, 8)\n"
     ]
    },
    {
     "data": {
      "text/html": [
       "<div>\n",
       "<style scoped>\n",
       "    .dataframe tbody tr th:only-of-type {\n",
       "        vertical-align: middle;\n",
       "    }\n",
       "\n",
       "    .dataframe tbody tr th {\n",
       "        vertical-align: top;\n",
       "    }\n",
       "\n",
       "    .dataframe thead th {\n",
       "        text-align: right;\n",
       "    }\n",
       "</style>\n",
       "<table border=\"1\" class=\"dataframe\">\n",
       "  <thead>\n",
       "    <tr style=\"text-align: right;\">\n",
       "      <th></th>\n",
       "      <th>auroc</th>\n",
       "      <th>aupr</th>\n",
       "      <th>train_identifier</th>\n",
       "      <th>test_identifier</th>\n",
       "      <th>signal</th>\n",
       "      <th>seed</th>\n",
       "      <th>data_type</th>\n",
       "      <th>experiment</th>\n",
       "    </tr>\n",
       "  </thead>\n",
       "  <tbody>\n",
       "    <tr>\n",
       "      <th>0</th>\n",
       "      <td>0.92601</td>\n",
       "      <td>0.555590</td>\n",
       "      <td>NRAS_COAD</td>\n",
       "      <td>PTEN_SKCM</td>\n",
       "      <td>shuffled</td>\n",
       "      <td>42</td>\n",
       "      <td>train</td>\n",
       "      <td>cross_cancer</td>\n",
       "    </tr>\n",
       "    <tr>\n",
       "      <th>1</th>\n",
       "      <td>0.50530</td>\n",
       "      <td>0.092270</td>\n",
       "      <td>NRAS_COAD</td>\n",
       "      <td>PTEN_SKCM</td>\n",
       "      <td>shuffled</td>\n",
       "      <td>42</td>\n",
       "      <td>test</td>\n",
       "      <td>cross_cancer</td>\n",
       "    </tr>\n",
       "    <tr>\n",
       "      <th>2</th>\n",
       "      <td>0.48782</td>\n",
       "      <td>0.061438</td>\n",
       "      <td>NRAS_COAD</td>\n",
       "      <td>PTEN_SKCM</td>\n",
       "      <td>shuffled</td>\n",
       "      <td>42</td>\n",
       "      <td>cv</td>\n",
       "      <td>cross_cancer</td>\n",
       "    </tr>\n",
       "    <tr>\n",
       "      <th>0</th>\n",
       "      <td>0.53141</td>\n",
       "      <td>0.063640</td>\n",
       "      <td>NF1_LGG</td>\n",
       "      <td>TTN_GBM</td>\n",
       "      <td>shuffled</td>\n",
       "      <td>42</td>\n",
       "      <td>train</td>\n",
       "      <td>cross_cancer</td>\n",
       "    </tr>\n",
       "    <tr>\n",
       "      <th>1</th>\n",
       "      <td>0.54635</td>\n",
       "      <td>0.332380</td>\n",
       "      <td>NF1_LGG</td>\n",
       "      <td>TTN_GBM</td>\n",
       "      <td>shuffled</td>\n",
       "      <td>42</td>\n",
       "      <td>test</td>\n",
       "      <td>cross_cancer</td>\n",
       "    </tr>\n",
       "  </tbody>\n",
       "</table>\n",
       "</div>"
      ],
      "text/plain": [
       "     auroc      aupr train_identifier test_identifier    signal  seed  \\\n",
       "0  0.92601  0.555590        NRAS_COAD       PTEN_SKCM  shuffled    42   \n",
       "1  0.50530  0.092270        NRAS_COAD       PTEN_SKCM  shuffled    42   \n",
       "2  0.48782  0.061438        NRAS_COAD       PTEN_SKCM  shuffled    42   \n",
       "0  0.53141  0.063640          NF1_LGG         TTN_GBM  shuffled    42   \n",
       "1  0.54635  0.332380          NF1_LGG         TTN_GBM  shuffled    42   \n",
       "\n",
       "  data_type    experiment  \n",
       "0     train  cross_cancer  \n",
       "1      test  cross_cancer  \n",
       "2        cv  cross_cancer  \n",
       "0     train  cross_cancer  \n",
       "1      test  cross_cancer  "
      ]
     },
     "execution_count": 2,
     "metadata": {},
     "output_type": "execute_result"
    }
   ],
   "source": [
    "cross_cancer_dir = os.path.join(cfg.results_dir, 'cross_cancer', 'cross_cancer')\n",
    "cross_cancer_df = au.load_prediction_results_cc(cross_cancer_dir, 'cross_cancer')\n",
    "print(cross_cancer_df.shape)\n",
    "cross_cancer_df.head()"
   ]
  },
  {
   "cell_type": "code",
   "execution_count": 3,
   "metadata": {},
   "outputs": [],
   "source": [
    "# get rows that have the same identifier\n",
    "cross_cancer_df['train_test_equal'] = (cross_cancer_df.train_identifier ==\n",
    "                                       cross_cancer_df.test_identifier)\n",
    "# get rows that have the same gene (possibly different identifiers)\n",
    "cross_cancer_df['gene_equal'] = (cross_cancer_df.train_identifier.str.split('_', expand=True)[0] ==\n",
    "                                 cross_cancer_df.test_identifier.str.split('_', expand=True)[0])"
   ]
  },
  {
   "cell_type": "code",
   "execution_count": 4,
   "metadata": {},
   "outputs": [
    {
     "data": {
      "text/plain": [
       "Text(0.5, 1.0, 'Cross-cancer performance, same train/test gene highlighted')"
      ]
     },
     "execution_count": 4,
     "metadata": {},
     "output_type": "execute_result"
    },
    {
     "data": {
      "image/png": "[encoded data removed]",
      "text/plain": [
       "<Figure size 1152x432 with 2 Axes>"
      ]
     },
     "metadata": {},
     "output_type": "display_data"
    }
   ],
   "source": [
    "sns.set({'figure.figsize': (16, 6)})\n",
    "fig, axarr = plt.subplots(1, 2)\n",
    "\n",
    "sns.histplot(data=cross_cancer_df[(cross_cancer_df.signal == 'signal') &\n",
    "                                  (cross_cancer_df.data_type == 'test')],\n",
    "             x='aupr', stat='count', hue='train_test_equal', element='step',\n",
    "             kde=False, ax=axarr[0])\n",
    "axarr[0].set_xlabel('AUPRC')\n",
    "axarr[0].set_ylabel('Count')\n",
    "axarr[0].set_title('Cross-cancer performance, same train/test data highlighted')\n",
    "sns.histplot(data=cross_cancer_df[(cross_cancer_df.signal == 'signal') &\n",
    "                                  (cross_cancer_df.data_type == 'test') &\n",
    "                                  (~cross_cancer_df.train_test_equal)],\n",
    "             x='aupr', stat='count', hue='gene_equal', element='step',\n",
    "             kde=False, ax=axarr[1])\n",
    "axarr[1].set_xlabel('AUPRC')\n",
    "axarr[1].set_ylabel('Count')\n",
    "axarr[1].set_title('Cross-cancer performance, same train/test gene highlighted')"
   ]
  },
  {
   "cell_type": "code",
   "execution_count": 5,
   "metadata": {},
   "outputs": [
    {
     "name": "stdout",
     "output_type": "stream",
     "text": [
      "24\n"
     ]
    }
   ],
   "source": [
    "count_unique_ids = np.unique(cross_cancer_df.train_identifier).shape[0]\n",
    "print(count_unique_ids)"
   ]
  },
  {
   "cell_type": "code",
   "execution_count": 6,
   "metadata": {},
   "outputs": [
    {
     "data": {
      "text/html": [
       "<div>\n",
       "<style scoped>\n",
       "    .dataframe tbody tr th:only-of-type {\n",
       "        vertical-align: middle;\n",
       "    }\n",
       "\n",
       "    .dataframe tbody tr th {\n",
       "        vertical-align: top;\n",
       "    }\n",
       "\n",
       "    .dataframe thead th {\n",
       "        text-align: right;\n",
       "    }\n",
       "</style>\n",
       "<table border=\"1\" class=\"dataframe\">\n",
       "  <thead>\n",
       "    <tr style=\"text-align: right;\">\n",
       "      <th>test_identifier</th>\n",
       "      <th>KRAS_COAD</th>\n",
       "      <th>NRAS_THCA</th>\n",
       "      <th>NRAS_COAD</th>\n",
       "      <th>NRAS_SKCM</th>\n",
       "      <th>BRAF_SKCM</th>\n",
       "    </tr>\n",
       "    <tr>\n",
       "      <th>train_identifier</th>\n",
       "      <th></th>\n",
       "      <th></th>\n",
       "      <th></th>\n",
       "      <th></th>\n",
       "      <th></th>\n",
       "    </tr>\n",
       "  </thead>\n",
       "  <tbody>\n",
       "    <tr>\n",
       "      <th>KRAS_COAD</th>\n",
       "      <td>0.95576</td>\n",
       "      <td>0.044197</td>\n",
       "      <td>0.070596</td>\n",
       "      <td>0.32623</td>\n",
       "      <td>0.62135</td>\n",
       "    </tr>\n",
       "    <tr>\n",
       "      <th>NRAS_THCA</th>\n",
       "      <td>0.42134</td>\n",
       "      <td>0.806650</td>\n",
       "      <td>0.057936</td>\n",
       "      <td>0.29792</td>\n",
       "      <td>0.59866</td>\n",
       "    </tr>\n",
       "    <tr>\n",
       "      <th>NRAS_COAD</th>\n",
       "      <td>0.56532</td>\n",
       "      <td>0.055429</td>\n",
       "      <td>0.680040</td>\n",
       "      <td>0.30188</td>\n",
       "      <td>0.48918</td>\n",
       "    </tr>\n",
       "    <tr>\n",
       "      <th>NRAS_SKCM</th>\n",
       "      <td>0.43494</td>\n",
       "      <td>0.078442</td>\n",
       "      <td>0.095447</td>\n",
       "      <td>0.99676</td>\n",
       "      <td>0.36546</td>\n",
       "    </tr>\n",
       "    <tr>\n",
       "      <th>BRAF_SKCM</th>\n",
       "      <td>0.47767</td>\n",
       "      <td>0.071228</td>\n",
       "      <td>0.044046</td>\n",
       "      <td>0.18275</td>\n",
       "      <td>0.99984</td>\n",
       "    </tr>\n",
       "  </tbody>\n",
       "</table>\n",
       "</div>"
      ],
      "text/plain": [
       "test_identifier   KRAS_COAD  NRAS_THCA  NRAS_COAD  NRAS_SKCM  BRAF_SKCM\n",
       "train_identifier                                                       \n",
       "KRAS_COAD           0.95576   0.044197   0.070596    0.32623    0.62135\n",
       "NRAS_THCA           0.42134   0.806650   0.057936    0.29792    0.59866\n",
       "NRAS_COAD           0.56532   0.055429   0.680040    0.30188    0.48918\n",
       "NRAS_SKCM           0.43494   0.078442   0.095447    0.99676    0.36546\n",
       "BRAF_SKCM           0.47767   0.071228   0.044046    0.18275    0.99984"
      ]
     },
     "execution_count": 6,
     "metadata": {},
     "output_type": "execute_result"
    }
   ],
   "source": [
    "# filter cross-cancer data and make a deep copy\n",
    "# (this avoids SettingWithCopyError)\n",
    "heatmap_df = (\n",
    "    cross_cancer_df[(cross_cancer_df.signal == 'signal') &\n",
    "                    (cross_cancer_df.data_type == 'test')].copy(deep=True)\n",
    ")\n",
    "    \n",
    "# order using config order\n",
    "heatmap_df['train_gene'] = pd.Categorical(\n",
    "    heatmap_df.train_identifier.str.split('_', expand=True)[0],\n",
    "    categories=cfg.cross_cancer_genes)\n",
    "heatmap_df.sort_values('train_gene', inplace=True)\n",
    "sorted_train_ids = pd.unique(heatmap_df.train_identifier)\n",
    "\n",
    "# then pivot to wideform heatmap and re-sort\n",
    "# (pivot sorts indexes alphabetically by default, so we have to override that)\n",
    "heatmap_df = heatmap_df.pivot(index='train_identifier', columns='test_identifier', values='aupr')\n",
    "heatmap_df = heatmap_df.reindex(sorted_train_ids)\n",
    "heatmap_df = heatmap_df.reindex(sorted_train_ids, axis=1)\n",
    "\n",
    "heatmap_df.iloc[:5, :5]"
   ]
  },
  {
   "cell_type": "code",
   "execution_count": 7,
   "metadata": {},
   "outputs": [
    {
     "data": {
      "text/plain": [
       "Text(88.0, 0.5, 'Train identifier')"
      ]
     },
     "execution_count": 7,
     "metadata": {},
     "output_type": "execute_result"
    },
    {
     "data": {
      "image/png": "[encoded data removed]",
      "text/plain": [
       "<Figure size 864x360 with 2 Axes>"
      ]
     },
     "metadata": {},
     "output_type": "display_data"
    }
   ],
   "source": [
    "sns.set({'figure.figsize': (12, 5)})\n",
    "sns.heatmap(heatmap_df, cbar_kws={'label': 'AUPR'})\n",
    "plt.title('Cross-cancer mutation detection, AUPR heatmap')\n",
    "plt.xlabel('Test identifier')\n",
    "plt.ylabel('Train identifier')"
   ]
  },
  {
   "cell_type": "code",
   "execution_count": 19,
   "metadata": {},
   "outputs": [
    {
     "name": "stdout",
     "output_type": "stream",
     "text": [
      "(2742, 8)\n"
     ]
    },
    {
     "data": {
      "text/html": [
       "<div>\n",
       "<style scoped>\n",
       "    .dataframe tbody tr th:only-of-type {\n",
       "        vertical-align: middle;\n",
       "    }\n",
       "\n",
       "    .dataframe tbody tr th {\n",
       "        vertical-align: top;\n",
       "    }\n",
       "\n",
       "    .dataframe thead th {\n",
       "        text-align: right;\n",
       "    }\n",
       "</style>\n",
       "<table border=\"1\" class=\"dataframe\">\n",
       "  <thead>\n",
       "    <tr style=\"text-align: right;\">\n",
       "      <th></th>\n",
       "      <th>auroc</th>\n",
       "      <th>aupr</th>\n",
       "      <th>train_gene</th>\n",
       "      <th>test_identifier</th>\n",
       "      <th>signal</th>\n",
       "      <th>seed</th>\n",
       "      <th>data_type</th>\n",
       "      <th>experiment</th>\n",
       "    </tr>\n",
       "  </thead>\n",
       "  <tbody>\n",
       "    <tr>\n",
       "      <th>0</th>\n",
       "      <td>0.81182</td>\n",
       "      <td>0.348820</td>\n",
       "      <td>NF1</td>\n",
       "      <td>ATM_COAD</td>\n",
       "      <td>signal</td>\n",
       "      <td>42</td>\n",
       "      <td>train</td>\n",
       "      <td>pan_cross_cancer</td>\n",
       "    </tr>\n",
       "    <tr>\n",
       "      <th>1</th>\n",
       "      <td>0.47958</td>\n",
       "      <td>0.069659</td>\n",
       "      <td>NF1</td>\n",
       "      <td>ATM_COAD</td>\n",
       "      <td>signal</td>\n",
       "      <td>42</td>\n",
       "      <td>test</td>\n",
       "      <td>pan_cross_cancer</td>\n",
       "    </tr>\n",
       "    <tr>\n",
       "      <th>2</th>\n",
       "      <td>0.68322</td>\n",
       "      <td>0.155740</td>\n",
       "      <td>NF1</td>\n",
       "      <td>ATM_COAD</td>\n",
       "      <td>signal</td>\n",
       "      <td>42</td>\n",
       "      <td>cv</td>\n",
       "      <td>pan_cross_cancer</td>\n",
       "    </tr>\n",
       "    <tr>\n",
       "      <th>0</th>\n",
       "      <td>0.51236</td>\n",
       "      <td>0.062820</td>\n",
       "      <td>NF1</td>\n",
       "      <td>TTN_LUSC</td>\n",
       "      <td>shuffled</td>\n",
       "      <td>42</td>\n",
       "      <td>train</td>\n",
       "      <td>pan_cross_cancer</td>\n",
       "    </tr>\n",
       "    <tr>\n",
       "      <th>1</th>\n",
       "      <td>0.47875</td>\n",
       "      <td>0.721730</td>\n",
       "      <td>NF1</td>\n",
       "      <td>TTN_LUSC</td>\n",
       "      <td>shuffled</td>\n",
       "      <td>42</td>\n",
       "      <td>test</td>\n",
       "      <td>pan_cross_cancer</td>\n",
       "    </tr>\n",
       "  </tbody>\n",
       "</table>\n",
       "</div>"
      ],
      "text/plain": [
       "     auroc      aupr train_gene test_identifier    signal  seed data_type  \\\n",
       "0  0.81182  0.348820        NF1        ATM_COAD    signal    42     train   \n",
       "1  0.47958  0.069659        NF1        ATM_COAD    signal    42      test   \n",
       "2  0.68322  0.155740        NF1        ATM_COAD    signal    42        cv   \n",
       "0  0.51236  0.062820        NF1        TTN_LUSC  shuffled    42     train   \n",
       "1  0.47875  0.721730        NF1        TTN_LUSC  shuffled    42      test   \n",
       "\n",
       "         experiment  \n",
       "0  pan_cross_cancer  \n",
       "1  pan_cross_cancer  \n",
       "2  pan_cross_cancer  \n",
       "0  pan_cross_cancer  \n",
       "1  pan_cross_cancer  "
      ]
     },
     "execution_count": 19,
     "metadata": {},
     "output_type": "execute_result"
    }
   ],
   "source": [
    "# pan_cross_cancer_dir = os.path.join(cfg.results_dir, 'pan_cross_cancer', 'pan_cross_cancer')\n",
    "pan_cross_cancer_dir = os.path.join(cfg.repo_root, 'pan_cross_cancer_results', 'pan_cross_cancer')\n",
    "pan_cross_cancer_df = au.load_prediction_results_cc(pan_cross_cancer_dir, 'pan_cross_cancer')\n",
    "print(pan_cross_cancer_df.shape)\n",
    "pan_cross_cancer_df.head()"
   ]
  },
  {
   "cell_type": "code",
   "execution_count": 20,
   "metadata": {},
   "outputs": [
    {
     "data": {
      "text/plain": [
       "Text(0.5, 1.0, 'Train pancancer/test cross-cancer, same train/test gene highlighted')"
      ]
     },
     "execution_count": 20,
     "metadata": {},
     "output_type": "execute_result"
    },
    {
     "data": {
      "image/png": "[encoded data removed]",
      "text/plain": [
       "<Figure size 576x432 with 1 Axes>"
      ]
     },
     "metadata": {},
     "output_type": "display_data"
    }
   ],
   "source": [
    "pan_cross_cancer_df['gene_equal'] = (pan_cross_cancer_df.train_gene ==\n",
    "                                     pan_cross_cancer_df.test_identifier.str.split('_', expand=True)[0])\n",
    "\n",
    "sns.set({'figure.figsize': (8, 6)})\n",
    "sns.histplot(data=pan_cross_cancer_df[(pan_cross_cancer_df.signal == 'signal') &\n",
    "                                      (pan_cross_cancer_df.data_type == 'test')],\n",
    "             x='aupr', stat='count', hue='gene_equal', element='step', kde=False)\n",
    "plt.xlabel('AUPRC')\n",
    "plt.ylabel('Count')\n",
    "plt.title('Train pancancer/test cross-cancer, same train/test gene highlighted')"
   ]
  },
  {
   "cell_type": "code",
   "execution_count": 14,
   "metadata": {},
   "outputs": [
    {
     "data": {
      "text/html": [
       "<div>\n",
       "<style scoped>\n",
       "    .dataframe tbody tr th:only-of-type {\n",
       "        vertical-align: middle;\n",
       "    }\n",
       "\n",
       "    .dataframe tbody tr th {\n",
       "        vertical-align: top;\n",
       "    }\n",
       "\n",
       "    .dataframe thead th {\n",
       "        text-align: right;\n",
       "    }\n",
       "</style>\n",
       "<table border=\"1\" class=\"dataframe\">\n",
       "  <thead>\n",
       "    <tr style=\"text-align: right;\">\n",
       "      <th>test_identifier</th>\n",
       "      <th>ATM_COAD</th>\n",
       "      <th>ATM_SKCM</th>\n",
       "      <th>BRAF_COAD</th>\n",
       "      <th>BRAF_SKCM</th>\n",
       "      <th>BRAF_THCA</th>\n",
       "    </tr>\n",
       "    <tr>\n",
       "      <th>train_gene</th>\n",
       "      <th></th>\n",
       "      <th></th>\n",
       "      <th></th>\n",
       "      <th></th>\n",
       "      <th></th>\n",
       "    </tr>\n",
       "  </thead>\n",
       "  <tbody>\n",
       "    <tr>\n",
       "      <th>KRAS</th>\n",
       "      <td>0.091958</td>\n",
       "      <td>0.066831</td>\n",
       "      <td>0.133560</td>\n",
       "      <td>0.52639</td>\n",
       "      <td>0.82387</td>\n",
       "    </tr>\n",
       "    <tr>\n",
       "      <th>HRAS</th>\n",
       "      <td>0.064599</td>\n",
       "      <td>0.060353</td>\n",
       "      <td>0.123140</td>\n",
       "      <td>0.46768</td>\n",
       "      <td>0.63685</td>\n",
       "    </tr>\n",
       "    <tr>\n",
       "      <th>NRAS</th>\n",
       "      <td>0.091436</td>\n",
       "      <td>0.059490</td>\n",
       "      <td>0.057585</td>\n",
       "      <td>0.47158</td>\n",
       "      <td>0.54766</td>\n",
       "    </tr>\n",
       "    <tr>\n",
       "      <th>BRAF</th>\n",
       "      <td>0.073592</td>\n",
       "      <td>0.117610</td>\n",
       "      <td>0.167130</td>\n",
       "      <td>0.50411</td>\n",
       "      <td>0.50841</td>\n",
       "    </tr>\n",
       "    <tr>\n",
       "      <th>NF1</th>\n",
       "      <td>0.069659</td>\n",
       "      <td>0.078952</td>\n",
       "      <td>0.222640</td>\n",
       "      <td>0.59301</td>\n",
       "      <td>0.61537</td>\n",
       "    </tr>\n",
       "  </tbody>\n",
       "</table>\n",
       "</div>"
      ],
      "text/plain": [
       "test_identifier  ATM_COAD  ATM_SKCM  BRAF_COAD  BRAF_SKCM  BRAF_THCA\n",
       "train_gene                                                          \n",
       "KRAS             0.091958  0.066831   0.133560    0.52639    0.82387\n",
       "HRAS             0.064599  0.060353   0.123140    0.46768    0.63685\n",
       "NRAS             0.091436  0.059490   0.057585    0.47158    0.54766\n",
       "BRAF             0.073592  0.117610   0.167130    0.50411    0.50841\n",
       "NF1              0.069659  0.078952   0.222640    0.59301    0.61537"
      ]
     },
     "execution_count": 14,
     "metadata": {},
     "output_type": "execute_result"
    }
   ],
   "source": [
    "# filter cross-cancer data and make a deep copy\n",
    "# (this avoids SettingWithCopyError)\n",
    "heatmap_df = (\n",
    "    pan_cross_cancer_df[(pan_cross_cancer_df.signal == 'signal') &\n",
    "                        (pan_cross_cancer_df.data_type == 'test') &\n",
    "                        (pan_cross_cancer_df.test_identifier.str.split('_', expand=True)[1].isin(\n",
    "                            cfg.cross_cancer_types))\n",
    "                       ].copy(deep=True)\n",
    ")\n",
    "    \n",
    "# order using config order\n",
    "heatmap_df['train_gene'] = pd.Categorical(\n",
    "    heatmap_df.train_gene,\n",
    "    categories=cfg.cross_cancer_genes)\n",
    "heatmap_df.sort_values('train_gene', inplace=True)\n",
    "sorted_train_genes = pd.unique(heatmap_df.train_gene)\n",
    "sorted_test_ids = pd.unique(heatmap_df.test_identifier)\n",
    "\n",
    "# then pivot to wideform heatmap and re-sort\n",
    "# (pivot sorts indexes alphabetically by default, so we have to override that)\n",
    "heatmap_df = heatmap_df.pivot(index='train_gene', columns='test_identifier', values='aupr')\n",
    "heatmap_df = heatmap_df.reindex(sorted_train_genes)\n",
    "\n",
    "# this is a hack... (using train ID order from prev experiment)\n",
    "heatmap_df = heatmap_df.reindex(sorted_train_ids, axis=1)\n",
    "\n",
    "heatmap_df.iloc[:5, :5]"
   ]
  },
  {
   "cell_type": "code",
   "execution_count": 11,
   "metadata": {},
   "outputs": [
    {
     "data": {
      "text/plain": [
       "Text(88.0, 0.5, 'Train identifier')"
      ]
     },
     "execution_count": 11,
     "metadata": {},
     "output_type": "execute_result"
    },
    {
     "data": {
      "image/png": "[encoded data removed]",
      "text/plain": [
       "<Figure size 864x360 with 2 Axes>"
      ]
     },
     "metadata": {},
     "output_type": "display_data"
    }
   ],
   "source": [
    "sns.set({'figure.figsize': (12, 5)})\n",
    "sns.heatmap(heatmap_df, cbar_kws={'label': 'AUPR'})\n",
    "plt.title('Train pan-cancer/test cross-cancer mutation detection, AUPR heatmap')\n",
    "plt.xlabel('Test identifier')\n",
    "plt.ylabel('Train identifier')"
   ]
  },
  {
   "cell_type": "code",
   "execution_count": 23,
   "metadata": {},
   "outputs": [
    {
     "data": {
      "text/html": [
       "<div>\n",
       "<style scoped>\n",
       "    .dataframe tbody tr th:only-of-type {\n",
       "        vertical-align: middle;\n",
       "    }\n",
       "\n",
       "    .dataframe tbody tr th {\n",
       "        vertical-align: top;\n",
       "    }\n",
       "\n",
       "    .dataframe thead th {\n",
       "        text-align: right;\n",
       "    }\n",
       "</style>\n",
       "<table border=\"1\" class=\"dataframe\">\n",
       "  <thead>\n",
       "    <tr style=\"text-align: right;\">\n",
       "      <th>test_identifier</th>\n",
       "      <th>BRAF_COAD</th>\n",
       "      <th>BRAF_LUAD</th>\n",
       "      <th>BRAF_SKCM</th>\n",
       "      <th>BRAF_THCA</th>\n",
       "      <th>HRAS_HNSC</th>\n",
       "    </tr>\n",
       "    <tr>\n",
       "      <th>train_gene</th>\n",
       "      <th></th>\n",
       "      <th></th>\n",
       "      <th></th>\n",
       "      <th></th>\n",
       "      <th></th>\n",
       "    </tr>\n",
       "  </thead>\n",
       "  <tbody>\n",
       "    <tr>\n",
       "      <th>KRAS</th>\n",
       "      <td>0.133560</td>\n",
       "      <td>0.084967</td>\n",
       "      <td>0.52639</td>\n",
       "      <td>0.82387</td>\n",
       "      <td>0.385900</td>\n",
       "    </tr>\n",
       "    <tr>\n",
       "      <th>HRAS</th>\n",
       "      <td>0.123140</td>\n",
       "      <td>0.099286</td>\n",
       "      <td>0.46768</td>\n",
       "      <td>0.63685</td>\n",
       "      <td>NaN</td>\n",
       "    </tr>\n",
       "    <tr>\n",
       "      <th>NRAS</th>\n",
       "      <td>0.057585</td>\n",
       "      <td>0.084066</td>\n",
       "      <td>0.47158</td>\n",
       "      <td>0.54766</td>\n",
       "      <td>0.059628</td>\n",
       "    </tr>\n",
       "    <tr>\n",
       "      <th>BRAF</th>\n",
       "      <td>0.167130</td>\n",
       "      <td>0.087667</td>\n",
       "      <td>0.50411</td>\n",
       "      <td>0.50841</td>\n",
       "      <td>0.093059</td>\n",
       "    </tr>\n",
       "  </tbody>\n",
       "</table>\n",
       "</div>"
      ],
      "text/plain": [
       "test_identifier  BRAF_COAD  BRAF_LUAD  BRAF_SKCM  BRAF_THCA  HRAS_HNSC\n",
       "train_gene                                                            \n",
       "KRAS              0.133560   0.084967    0.52639    0.82387   0.385900\n",
       "HRAS              0.123140   0.099286    0.46768    0.63685        NaN\n",
       "NRAS              0.057585   0.084066    0.47158    0.54766   0.059628\n",
       "BRAF              0.167130   0.087667    0.50411    0.50841   0.093059"
      ]
     },
     "execution_count": 23,
     "metadata": {},
     "output_type": "execute_result"
    }
   ],
   "source": [
    "# filter cross-cancer data and make a deep copy\n",
    "# (this avoids SettingWithCopyError)\n",
    "plot_gene_list = ['KRAS', 'HRAS', 'NRAS', 'BRAF', 'TTN']\n",
    "heatmap_df = (\n",
    "    pan_cross_cancer_df[(pan_cross_cancer_df.signal == 'signal') &\n",
    "                        (pan_cross_cancer_df.data_type == 'test') &\n",
    "                        (pan_cross_cancer_df.train_gene.isin(\n",
    "                            plot_gene_list)) &\n",
    "                        (pan_cross_cancer_df.test_identifier.str.split('_', expand=True)[0].isin(\n",
    "                            plot_gene_list))\n",
    "                       ].copy(deep=True)\n",
    ")\n",
    "    \n",
    "# order using config order\n",
    "heatmap_df['train_gene'] = pd.Categorical(\n",
    "    heatmap_df.train_gene,\n",
    "    categories=plot_gene_list)\n",
    "heatmap_df.sort_values('train_gene', inplace=True)\n",
    "\n",
    "# then pivot to wideform heatmap and re-sort\n",
    "# (pivot sorts indexes alphabetically by default, so we have to override that)\n",
    "heatmap_df = heatmap_df.pivot(index='train_gene', columns='test_identifier', values='aupr')\n",
    "\n",
    "heatmap_df.iloc[:5, :5]"
   ]
  },
  {
   "cell_type": "code",
   "execution_count": null,
   "metadata": {},
   "outputs": [],
   "source": [
    "sns.set({'figure.figsize': (12, 4)})\n",
    "sns.heatmap(heatmap_df, cbar_kws={'label': 'AUPR'})\n",
    "plt.title('Train pan-cancer/test cross-cancer mutation detection, AUPR heatmap')\n",
    "plt.xlabel('Test identifier')\n",
    "plt.ylabel('Train identifier')"
   ]
  },
  {
   "cell_type": "code",
   "execution_count": null,
   "metadata": {},
   "outputs": [],
   "source": []
  }
 ],
 "metadata": {
  "kernelspec": {
   "display_name": "Python [conda env:pancancer-evaluation]",
   "language": "python",
   "name": "conda-env-pancancer-evaluation-py"
  },
  "language_info": {
   "codemirror_mode": {
    "name": "ipython",
    "version": 3
   },
   "file_extension": ".py",
   "mimetype": "text/x-python",
   "name": "python",
   "nbconvert_exporter": "python",
   "pygments_lexer": "ipython3",
   "version": "3.6.9"
  }
 },
 "nbformat": 4,
 "nbformat_minor": 4
}
