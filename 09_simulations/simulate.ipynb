{
 "cells": [
  {
   "cell_type": "code",
   "execution_count": 1,
   "id": "d485e2fd-5f06-428b-89c8-26d4283d57f9",
   "metadata": {},
   "outputs": [
    {
     "name": "stderr",
     "output_type": "stream",
     "text": [
      "/home/jake/miniconda3/envs/pc-eval/lib/python3.8/site-packages/tqdm/auto.py:22: TqdmWarning: IProgress not found. Please update jupyter and ipywidgets. See https://ipywidgets.readthedocs.io/en/stable/user_install.html\n",
      "  from .autonotebook import tqdm as notebook_tqdm\n"
     ]
    }
   ],
   "source": [
    "import numpy as np\n",
    "import matplotlib.pyplot as plt\n",
    "import pandas as pd\n",
    "import seaborn as sns\n",
    "from sklearn.decomposition import PCA\n",
    "from sklearn.model_selection import KFold\n",
    "from umap import UMAP\n",
    "\n",
    "from csd_simulations import (\n",
    "    simulate_no_csd,\n",
    "    simulate_no_csd_same_z,\n",
    "    simulate_no_csd_large_z,\n",
    "    simulate_csd,\n",
    "    simulate_csd_corr,\n",
    ")\n",
    "from models import (\n",
    "    train_ridge,\n",
    "    train_rf,\n",
    "    train_mlp,\n",
    "    get_metrics\n",
    ")\n",
    "\n",
    "np.random.seed(42)\n",
    "\n",
    "%load_ext autoreload\n",
    "%autoreload 2"
   ]
  },
  {
   "cell_type": "code",
   "execution_count": 2,
   "id": "88d5e465-c3b3-434a-a731-0be06d704b7f",
   "metadata": {},
   "outputs": [],
   "source": [
    "n_domains = 5\n",
    "n_per_domain = 25\n",
    "p = 20\n",
    "k = 5\n",
    "noise_scale = 1.5\n",
    "\n",
    "simulate_with_csd = True\n",
    "simulate_same_z = True\n",
    "correlated_noise = True"
   ]
  },
  {
   "cell_type": "code",
   "execution_count": 3,
   "id": "bc419eb6-4c01-40e7-9aaa-94afcfa3865b",
   "metadata": {},
   "outputs": [
    {
     "name": "stdout",
     "output_type": "stream",
     "text": [
      "(125, 20)\n",
      "[[ 1.84023368 -3.59690101  0.29815664 -4.57198419  0.8939916 ]\n",
      " [-0.31444919  1.24656857 -1.3437388  -0.87838585 -2.39541086]\n",
      " [ 0.26753875 -4.25080318 -0.23958198 -3.55497219 -3.92958233]\n",
      " [-1.0974214  -3.10565759 -1.50897959 -3.40290593 -3.25123423]\n",
      " [ 1.79573188 -4.06134746  0.01405683 -1.21646615 -3.270836  ]]\n"
     ]
    }
   ],
   "source": [
    "if k is not None:\n",
    "    if simulate_with_csd:\n",
    "        if correlated_noise:\n",
    "            xs, ys = simulate_csd_corr(n_domains, n_per_domain, p, k)\n",
    "        else:\n",
    "            xs, ys = simulate_csd(n_domains, n_per_domain, p, k, noise_scale)\n",
    "    else:\n",
    "        xs, ys = simulate_no_csd_large_z(n_domains, n_per_domain, p, k, noise_scale)\n",
    "elif simulate_same_z:\n",
    "    xs, ys = simulate_no_csd_same_z(n_domains, n_per_domain, p, noise_scale)\n",
    "else:\n",
    "    xs, ys = simulate_no_csd(n_domains, n_per_domain, p, noise_scale)\n",
    "\n",
    "print(xs.shape)\n",
    "print(xs[:5, :5])"
   ]
  },
  {
   "cell_type": "code",
   "execution_count": 4,
   "id": "e922b652-34f9-4de7-afb9-c1c9c467485d",
   "metadata": {},
   "outputs": [
    {
     "name": "stdout",
     "output_type": "stream",
     "text": [
      "(125, 1)\n",
      "[[ 1]\n",
      " [ 1]\n",
      " [-1]]\n"
     ]
    }
   ],
   "source": [
    "print(ys.shape)\n",
    "print(ys[:3, :])"
   ]
  },
  {
   "cell_type": "code",
   "execution_count": 5,
   "id": "91216ae6-d60f-4d29-b776-b3df18a6cc40",
   "metadata": {},
   "outputs": [
    {
     "data": {
      "text/html": [
       "<div>\n",
       "<style scoped>\n",
       "    .dataframe tbody tr th:only-of-type {\n",
       "        vertical-align: middle;\n",
       "    }\n",
       "\n",
       "    .dataframe tbody tr th {\n",
       "        vertical-align: top;\n",
       "    }\n",
       "\n",
       "    .dataframe thead th {\n",
       "        text-align: right;\n",
       "    }\n",
       "</style>\n",
       "<table border=\"1\" class=\"dataframe\">\n",
       "  <thead>\n",
       "    <tr style=\"text-align: right;\">\n",
       "      <th></th>\n",
       "      <th>UMAP0</th>\n",
       "      <th>UMAP1</th>\n",
       "      <th>domain</th>\n",
       "      <th>label</th>\n",
       "    </tr>\n",
       "  </thead>\n",
       "  <tbody>\n",
       "    <tr>\n",
       "      <th>0</th>\n",
       "      <td>13.637556</td>\n",
       "      <td>4.475949</td>\n",
       "      <td>0</td>\n",
       "      <td>1</td>\n",
       "    </tr>\n",
       "    <tr>\n",
       "      <th>1</th>\n",
       "      <td>13.266127</td>\n",
       "      <td>5.340850</td>\n",
       "      <td>0</td>\n",
       "      <td>1</td>\n",
       "    </tr>\n",
       "    <tr>\n",
       "      <th>2</th>\n",
       "      <td>13.564172</td>\n",
       "      <td>6.179660</td>\n",
       "      <td>0</td>\n",
       "      <td>-1</td>\n",
       "    </tr>\n",
       "    <tr>\n",
       "      <th>3</th>\n",
       "      <td>13.866877</td>\n",
       "      <td>5.907993</td>\n",
       "      <td>0</td>\n",
       "      <td>-1</td>\n",
       "    </tr>\n",
       "    <tr>\n",
       "      <th>4</th>\n",
       "      <td>13.973321</td>\n",
       "      <td>5.586529</td>\n",
       "      <td>0</td>\n",
       "      <td>-1</td>\n",
       "    </tr>\n",
       "  </tbody>\n",
       "</table>\n",
       "</div>"
      ],
      "text/plain": [
       "       UMAP0     UMAP1  domain  label\n",
       "0  13.637556  4.475949       0      1\n",
       "1  13.266127  5.340850       0      1\n",
       "2  13.564172  6.179660       0     -1\n",
       "3  13.866877  5.907993       0     -1\n",
       "4  13.973321  5.586529       0     -1"
      ]
     },
     "execution_count": 5,
     "metadata": {},
     "output_type": "execute_result"
    }
   ],
   "source": [
    "pca = PCA(n_components=2)\n",
    "X_proj_pca = pca.fit_transform(xs)\n",
    "reducer = UMAP(n_components=2, random_state=42)\n",
    "X_proj_umap = reducer.fit_transform(xs)\n",
    "\n",
    "domains = np.concatenate([([i] * n_per_domain) for i in range(n_domains)])\n",
    "\n",
    "X_pca_df = pd.DataFrame(X_proj_pca,\n",
    "                        columns=['PC{}'.format(j) for j in range(X_proj_pca.shape[1])])\n",
    "X_pca_df['domain'] = domains\n",
    "X_pca_df['label'] = ys.flatten()\n",
    "\n",
    "X_umap_df = pd.DataFrame(X_proj_umap,\n",
    "                        columns=['UMAP{}'.format(j) for j in range(X_proj_umap.shape[1])])\n",
    "X_umap_df['domain'] = domains\n",
    "X_umap_df['label'] = ys.flatten()\n",
    "\n",
    "X_umap_df.head()"
   ]
  },
  {
   "cell_type": "code",
   "execution_count": 6,
   "id": "b49403d7-286d-47fb-8c42-0029c038d9ea",
   "metadata": {},
   "outputs": [
    {
     "data": {
      "text/plain": [
       "<matplotlib.legend.Legend at 0x7f7e88928f40>"
      ]
     },
     "execution_count": 6,
     "metadata": {},
     "output_type": "execute_result"
    },
    {
     "data": {
      "image/png": "[encoded data removed]",
      "text/plain": [
       "<Figure size 1296x576 with 2 Axes>"
      ]
     },
     "metadata": {},
     "output_type": "display_data"
    }
   ],
   "source": [
    "sns.set({'figure.figsize': (18, 8)})\n",
    "fig, axarr = plt.subplots(1, 2)\n",
    "\n",
    "sns.scatterplot(data=X_pca_df, x='PC0', y='PC1', hue='domain', style='label', s=50, ax=axarr[0])\n",
    "sns.scatterplot(data=X_umap_df, x='UMAP0', y='UMAP1', hue='domain', style='label', s=50, ax=axarr[1])\n",
    "    \n",
    "axarr[0].set_title('PCA projection of simulated data, colored by domain')\n",
    "axarr[1].set_xlabel('PC1')\n",
    "axarr[1].set_ylabel('PC2')\n",
    "axarr[0].legend()\n",
    "axarr[1].set_title('UMAP projection of simulated data, colored by domain')\n",
    "axarr[1].set_xlabel('UMAP dimension 1')\n",
    "axarr[1].set_ylabel('UMAP dimension 2')\n",
    "axarr[1].legend()"
   ]
  },
  {
   "cell_type": "code",
   "execution_count": 7,
   "id": "95468140-5938-4d4e-b073-97ef5acf8745",
   "metadata": {},
   "outputs": [
    {
     "name": "stdout",
     "output_type": "stream",
     "text": [
      "Fitting 3 folds for each of 20 candidates, totalling 60 fits\n",
      "Fitting 3 folds for each of 20 candidates, totalling 60 fits\n",
      "Fitting 3 folds for each of 20 candidates, totalling 60 fits\n",
      "Fitting 3 folds for each of 20 candidates, totalling 60 fits\n"
     ]
    },
    {
     "data": {
      "text/html": [
       "<div>\n",
       "<style scoped>\n",
       "    .dataframe tbody tr th:only-of-type {\n",
       "        vertical-align: middle;\n",
       "    }\n",
       "\n",
       "    .dataframe tbody tr th {\n",
       "        vertical-align: top;\n",
       "    }\n",
       "\n",
       "    .dataframe thead th {\n",
       "        text-align: right;\n",
       "    }\n",
       "</style>\n",
       "<table border=\"1\" class=\"dataframe\">\n",
       "  <thead>\n",
       "    <tr style=\"text-align: right;\">\n",
       "      <th></th>\n",
       "      <th>model</th>\n",
       "      <th>fold</th>\n",
       "      <th>metric</th>\n",
       "      <th>value</th>\n",
       "    </tr>\n",
       "  </thead>\n",
       "  <tbody>\n",
       "    <tr>\n",
       "      <th>0</th>\n",
       "      <td>ridge</td>\n",
       "      <td>0</td>\n",
       "      <td>train_auroc</td>\n",
       "      <td>0.850233</td>\n",
       "    </tr>\n",
       "    <tr>\n",
       "      <th>1</th>\n",
       "      <td>random_forest</td>\n",
       "      <td>0</td>\n",
       "      <td>train_auroc</td>\n",
       "      <td>1.000000</td>\n",
       "    </tr>\n",
       "    <tr>\n",
       "      <th>2</th>\n",
       "      <td>mlp</td>\n",
       "      <td>0</td>\n",
       "      <td>train_auroc</td>\n",
       "      <td>0.995349</td>\n",
       "    </tr>\n",
       "    <tr>\n",
       "      <th>3</th>\n",
       "      <td>ridge</td>\n",
       "      <td>1</td>\n",
       "      <td>train_auroc</td>\n",
       "      <td>0.670213</td>\n",
       "    </tr>\n",
       "    <tr>\n",
       "      <th>4</th>\n",
       "      <td>random_forest</td>\n",
       "      <td>1</td>\n",
       "      <td>train_auroc</td>\n",
       "      <td>1.000000</td>\n",
       "    </tr>\n",
       "  </tbody>\n",
       "</table>\n",
       "</div>"
      ],
      "text/plain": [
       "           model  fold       metric     value\n",
       "0          ridge     0  train_auroc  0.850233\n",
       "1  random_forest     0  train_auroc  1.000000\n",
       "2            mlp     0  train_auroc  0.995349\n",
       "3          ridge     1  train_auroc  0.670213\n",
       "4  random_forest     1  train_auroc  1.000000"
      ]
     },
     "execution_count": 7,
     "metadata": {},
     "output_type": "execute_result"
    }
   ],
   "source": [
    "# split dataset into train/test\n",
    "n_splits = 4\n",
    "results = []\n",
    "results_cols = None\n",
    "\n",
    "kf = KFold(n_splits=n_splits, shuffle=True, random_state=42)\n",
    "for fold, (train_ix, test_ix) in enumerate(kf.split(xs)):\n",
    "    X_train, X_test = xs[train_ix, :], xs[test_ix, :]\n",
    "    y_train, y_test = ys[train_ix, :], ys[test_ix, :]\n",
    "    \n",
    "    fit_pipeline = train_ridge(X_train, y_train.flatten(), seed=42)\n",
    "    y_pred_train = fit_pipeline.predict(X_train)\n",
    "    y_pred_test = fit_pipeline.predict(X_test)\n",
    "    metrics = get_metrics(y_train, y_test, y_pred_train, y_pred_test)\n",
    " \n",
    "    metric_cols = list(metrics.keys()) + ['model', 'fold']\n",
    "    metric_vals = list(metrics.values()) + ['ridge', fold]\n",
    "    if results_cols is None:\n",
    "        results_cols = metric_cols\n",
    "    else:\n",
    "        assert metric_cols == results_cols\n",
    "    results.append(metric_vals)\n",
    " \n",
    "    fit_pipeline = train_rf(X_train, y_train.flatten(), seed=42)\n",
    "    y_pred_train = fit_pipeline.predict(X_train)\n",
    "    y_pred_test = fit_pipeline.predict(X_test)\n",
    "    metrics = get_metrics(y_train, y_test, y_pred_train, y_pred_test)\n",
    " \n",
    "    metric_vals = list(metrics.values()) + ['random_forest', fold]\n",
    "    if results_cols is None:\n",
    "        results_cols = metric_cols\n",
    "    else:\n",
    "        assert metric_cols == results_cols\n",
    "    results.append(metric_vals)\n",
    "    \n",
    "    params = {\n",
    "        'learning_rate': [0.1, 0.01, 0.001, 5e-4, 1e-4],\n",
    "        'h1_size': [100, 200, 300, 500],\n",
    "        'dropout': [0.1, 0.5, 0.75],\n",
    "        'weight_decay': [0, 0.1, 1, 10, 100]\n",
    "    }\n",
    "    \n",
    "    fit_pipeline = train_mlp(X_train, y_train.flatten(), params, seed=42, max_iter=100)\n",
    "    y_pred_train = fit_pipeline.predict_proba(X_train.astype(np.float32))[:, 1]\n",
    "    y_pred_test = fit_pipeline.predict_proba(X_test.astype(np.float32))[:, 1]\n",
    "    metrics = get_metrics(y_train, y_test, y_pred_train, y_pred_test)\n",
    "                        \n",
    "    metric_vals = list(metrics.values()) + ['mlp', fold]\n",
    "    if results_cols is None:\n",
    "        results_cols = metric_cols\n",
    "    else:\n",
    "        assert metric_cols == results_cols\n",
    "    results.append(metric_vals)\n",
    "    \n",
    "results_df = pd.DataFrame(results, columns=results_cols)\n",
    "results_df = results_df.melt(id_vars=['model', 'fold'], var_name='metric')\n",
    "results_df.head()"
   ]
  },
  {
   "cell_type": "code",
   "execution_count": 8,
   "id": "b0fde6e4-6a2d-4971-b5ae-dd25c802a738",
   "metadata": {},
   "outputs": [
    {
     "data": {
      "text/plain": [
       "(-0.1, 1.1)"
      ]
     },
     "execution_count": 8,
     "metadata": {},
     "output_type": "execute_result"
    },
    {
     "data": {
      "image/png": "[encoded data removed]",
      "text/plain": [
       "<Figure size 864x432 with 1 Axes>"
      ]
     },
     "metadata": {},
     "output_type": "display_data"
    }
   ],
   "source": [
    "sns.set({'figure.figsize': (12, 6)})\n",
    "\n",
    "sns.boxplot(data=results_df, x='model', y='value', hue='metric')\n",
    "plt.ylim(-0.1, 1.1)"
   ]
  },
  {
   "cell_type": "code",
   "execution_count": 9,
   "id": "9f724b3b-e550-4d10-a166-42708f4f7d07",
   "metadata": {},
   "outputs": [
    {
     "data": {
      "text/html": [
       "<div>\n",
       "<style scoped>\n",
       "    .dataframe tbody tr th:only-of-type {\n",
       "        vertical-align: middle;\n",
       "    }\n",
       "\n",
       "    .dataframe tbody tr th {\n",
       "        vertical-align: top;\n",
       "    }\n",
       "\n",
       "    .dataframe thead th {\n",
       "        text-align: right;\n",
       "    }\n",
       "</style>\n",
       "<table border=\"1\" class=\"dataframe\">\n",
       "  <thead>\n",
       "    <tr style=\"text-align: right;\">\n",
       "      <th></th>\n",
       "      <th>0</th>\n",
       "      <th>1</th>\n",
       "      <th>2</th>\n",
       "      <th>3</th>\n",
       "      <th>4</th>\n",
       "    </tr>\n",
       "  </thead>\n",
       "  <tbody>\n",
       "    <tr>\n",
       "      <th>0</th>\n",
       "      <td>1</td>\n",
       "      <td>0</td>\n",
       "      <td>0</td>\n",
       "      <td>0</td>\n",
       "      <td>0</td>\n",
       "    </tr>\n",
       "    <tr>\n",
       "      <th>1</th>\n",
       "      <td>1</td>\n",
       "      <td>0</td>\n",
       "      <td>0</td>\n",
       "      <td>0</td>\n",
       "      <td>0</td>\n",
       "    </tr>\n",
       "    <tr>\n",
       "      <th>2</th>\n",
       "      <td>1</td>\n",
       "      <td>0</td>\n",
       "      <td>0</td>\n",
       "      <td>0</td>\n",
       "      <td>0</td>\n",
       "    </tr>\n",
       "    <tr>\n",
       "      <th>3</th>\n",
       "      <td>1</td>\n",
       "      <td>0</td>\n",
       "      <td>0</td>\n",
       "      <td>0</td>\n",
       "      <td>0</td>\n",
       "    </tr>\n",
       "    <tr>\n",
       "      <th>4</th>\n",
       "      <td>1</td>\n",
       "      <td>0</td>\n",
       "      <td>0</td>\n",
       "      <td>0</td>\n",
       "      <td>0</td>\n",
       "    </tr>\n",
       "  </tbody>\n",
       "</table>\n",
       "</div>"
      ],
      "text/plain": [
       "   0  1  2  3  4\n",
       "0  1  0  0  0  0\n",
       "1  1  0  0  0  0\n",
       "2  1  0  0  0  0\n",
       "3  1  0  0  0  0\n",
       "4  1  0  0  0  0"
      ]
     },
     "execution_count": 9,
     "metadata": {},
     "output_type": "execute_result"
    }
   ],
   "source": [
    "x_covariates = pd.get_dummies(domains)\n",
    "x_covariates.head()"
   ]
  },
  {
   "cell_type": "code",
   "execution_count": 10,
   "id": "ece8562e-a077-4898-89ae-f3ece117d9fd",
   "metadata": {},
   "outputs": [
    {
     "name": "stdout",
     "output_type": "stream",
     "text": [
      "[[ 1.84023368e+00 -3.59690101e+00  2.98156644e-01 -4.57198419e+00\n",
      "   8.93991601e-01  3.89416792e+00  1.67126983e+00 -1.80028182e-01\n",
      "  -4.29649750e-01 -8.31423208e-01 -3.37202414e+00 -7.08180186e-01\n",
      "   1.69553003e+00  2.92951674e-01  3.49511928e+00  2.23000343e+00\n",
      "  -4.01277656e+00  1.33143989e+00  2.57196284e+00 -1.26021269e+00\n",
      "   1.00000000e+00  0.00000000e+00  0.00000000e+00  0.00000000e+00\n",
      "   0.00000000e+00]\n",
      " [-3.14449193e-01  1.24656857e+00 -1.34373880e+00 -8.78385855e-01\n",
      "  -2.39541086e+00 -4.60392870e-01 -6.95161778e-03  1.10772331e+00\n",
      "  -4.30965441e+00  2.96298638e+00 -2.68282565e+00 -3.51237830e+00\n",
      "  -5.28350812e-01  1.08983625e+00 -1.11429450e-01  2.64860396e+00\n",
      "  -1.67569843e+00  3.60755509e+00 -1.35744713e+00 -4.87953512e+00\n",
      "   1.00000000e+00  0.00000000e+00  0.00000000e+00  0.00000000e+00\n",
      "   0.00000000e+00]\n",
      " [ 2.67538750e-01 -4.25080318e+00 -2.39581980e-01 -3.55497219e+00\n",
      "  -3.92958233e+00 -5.33056851e-01 -8.06865800e-01  2.35686706e+00\n",
      "   1.97035223e+00 -1.03272641e-01 -3.86222700e+00 -4.31589879e+00\n",
      "  -2.27473456e+00 -3.60556380e+00 -1.53868847e-01  1.55544319e+00\n",
      "   1.24195015e+00  6.56413526e+00 -2.23840155e-01 -3.85944852e+00\n",
      "   1.00000000e+00  0.00000000e+00  0.00000000e+00  0.00000000e+00\n",
      "   0.00000000e+00]\n",
      " [-1.09742140e+00 -3.10565759e+00 -1.50897959e+00 -3.40290593e+00\n",
      "  -3.25123423e+00 -2.30789797e+00  2.11216064e+00  2.91196335e+00\n",
      "  -3.97522877e-01 -2.37293218e+00 -2.85358449e+00 -1.62683325e+00\n",
      "  -1.39523101e+00 -8.48926431e-01  8.94371915e-01 -9.76543662e-02\n",
      "  -2.83367466e+00  6.44328749e+00 -9.50989535e-01 -5.05128706e-01\n",
      "   1.00000000e+00  0.00000000e+00  0.00000000e+00  0.00000000e+00\n",
      "   0.00000000e+00]\n",
      " [ 1.79573188e+00 -4.06134746e+00  1.40568316e-02 -1.21646615e+00\n",
      "  -3.27083600e+00 -4.49905296e+00  2.00318724e-01  1.03540105e+00\n",
      "  -3.58950469e+00  4.88229105e+00  1.97533388e+00 -9.38492384e-01\n",
      "   2.30684811e-01 -4.00293724e+00  6.07738741e-01 -1.58951890e-01\n",
      "  -7.83096517e-01  9.22037632e+00  3.38538214e-01 -3.49651157e+00\n",
      "   1.00000000e+00  0.00000000e+00  0.00000000e+00  0.00000000e+00\n",
      "   0.00000000e+00]]\n"
     ]
    }
   ],
   "source": [
    "xs_fixed = np.concatenate((xs, x_covariates.values), axis=1)\n",
    "print(xs_fixed[:5, :]) "
   ]
  },
  {
   "cell_type": "code",
   "execution_count": 11,
   "id": "9e858270-c555-4dc2-8fd8-2d58d541ffe4",
   "metadata": {},
   "outputs": [
    {
     "name": "stdout",
     "output_type": "stream",
     "text": [
      "Fitting 3 folds for each of 20 candidates, totalling 60 fits\n",
      "Fitting 3 folds for each of 20 candidates, totalling 60 fits\n",
      "Fitting 3 folds for each of 20 candidates, totalling 60 fits\n",
      "Fitting 3 folds for each of 20 candidates, totalling 60 fits\n"
     ]
    },
    {
     "data": {
      "text/html": [
       "<div>\n",
       "<style scoped>\n",
       "    .dataframe tbody tr th:only-of-type {\n",
       "        vertical-align: middle;\n",
       "    }\n",
       "\n",
       "    .dataframe tbody tr th {\n",
       "        vertical-align: top;\n",
       "    }\n",
       "\n",
       "    .dataframe thead th {\n",
       "        text-align: right;\n",
       "    }\n",
       "</style>\n",
       "<table border=\"1\" class=\"dataframe\">\n",
       "  <thead>\n",
       "    <tr style=\"text-align: right;\">\n",
       "      <th></th>\n",
       "      <th>model</th>\n",
       "      <th>fold</th>\n",
       "      <th>metric</th>\n",
       "      <th>value</th>\n",
       "    </tr>\n",
       "  </thead>\n",
       "  <tbody>\n",
       "    <tr>\n",
       "      <th>0</th>\n",
       "      <td>ridge</td>\n",
       "      <td>0</td>\n",
       "      <td>train_auroc</td>\n",
       "      <td>0.850233</td>\n",
       "    </tr>\n",
       "    <tr>\n",
       "      <th>1</th>\n",
       "      <td>random_forest</td>\n",
       "      <td>0</td>\n",
       "      <td>train_auroc</td>\n",
       "      <td>1.000000</td>\n",
       "    </tr>\n",
       "    <tr>\n",
       "      <th>2</th>\n",
       "      <td>mlp</td>\n",
       "      <td>0</td>\n",
       "      <td>train_auroc</td>\n",
       "      <td>1.000000</td>\n",
       "    </tr>\n",
       "    <tr>\n",
       "      <th>3</th>\n",
       "      <td>ridge</td>\n",
       "      <td>1</td>\n",
       "      <td>train_auroc</td>\n",
       "      <td>0.670213</td>\n",
       "    </tr>\n",
       "    <tr>\n",
       "      <th>4</th>\n",
       "      <td>random_forest</td>\n",
       "      <td>1</td>\n",
       "      <td>train_auroc</td>\n",
       "      <td>0.968085</td>\n",
       "    </tr>\n",
       "  </tbody>\n",
       "</table>\n",
       "</div>"
      ],
      "text/plain": [
       "           model  fold       metric     value\n",
       "0          ridge     0  train_auroc  0.850233\n",
       "1  random_forest     0  train_auroc  1.000000\n",
       "2            mlp     0  train_auroc  1.000000\n",
       "3          ridge     1  train_auroc  0.670213\n",
       "4  random_forest     1  train_auroc  0.968085"
      ]
     },
     "execution_count": 11,
     "metadata": {},
     "output_type": "execute_result"
    }
   ],
   "source": [
    "# split dataset into train/test\n",
    "# this time with a covariate for domain membership (this should help performance)\n",
    "results = []\n",
    "results_cols = None\n",
    "\n",
    "kf = KFold(n_splits=n_splits, shuffle=True, random_state=42)\n",
    "for fold, (train_ix, test_ix) in enumerate(kf.split(xs_fixed)):\n",
    "    X_train, X_test = xs_fixed[train_ix, :], xs_fixed[test_ix, :]\n",
    "    y_train, y_test = ys[train_ix, :], ys[test_ix, :]\n",
    "    \n",
    "    fit_pipeline = train_ridge(X_train, y_train.flatten(), seed=42)\n",
    "    y_pred_train = fit_pipeline.predict(X_train)\n",
    "    y_pred_test = fit_pipeline.predict(X_test)\n",
    "    metrics = get_metrics(y_train, y_test, y_pred_train, y_pred_test)\n",
    "    \n",
    "    metric_cols = list(metrics.keys()) + ['model', 'fold']\n",
    "    metric_vals = list(metrics.values()) + ['ridge', fold]\n",
    "    if results_cols is None:\n",
    "        results_cols = metric_cols\n",
    "    else:\n",
    "        assert metric_cols == results_cols\n",
    "    results.append(metric_vals)\n",
    "    \n",
    "    fit_pipeline = train_rf(X_train, y_train.flatten(), seed=42)\n",
    "    y_pred_train = fit_pipeline.predict(X_train)\n",
    "    y_pred_test = fit_pipeline.predict(X_test)\n",
    "    metrics = get_metrics(y_train, y_test, y_pred_train, y_pred_test)\n",
    "                        \n",
    "    metric_vals = list(metrics.values()) + ['random_forest', fold]\n",
    "    if results_cols is None:\n",
    "        results_cols = metric_cols\n",
    "    else:\n",
    "        assert metric_cols == results_cols\n",
    "    results.append(metric_vals)\n",
    "    \n",
    "    fit_pipeline = train_mlp(X_train, y_train.flatten(), params, seed=42, max_iter=100)\n",
    "    y_pred_train = fit_pipeline.predict_proba(X_train.astype(np.float32))[:, 1]\n",
    "    y_pred_test = fit_pipeline.predict_proba(X_test.astype(np.float32))[:, 1]\n",
    "    metrics = get_metrics(y_train, y_test, y_pred_train, y_pred_test)\n",
    "                        \n",
    "    metric_vals = list(metrics.values()) + ['mlp', fold]\n",
    "    if results_cols is None:\n",
    "        results_cols = metric_cols\n",
    "    else:\n",
    "        assert metric_cols == results_cols\n",
    "    results.append(metric_vals)\n",
    "    \n",
    "results_df = pd.DataFrame(results, columns=results_cols)\n",
    "results_df = results_df.melt(id_vars=['model', 'fold'], var_name='metric')\n",
    "results_df.head()"
   ]
  },
  {
   "cell_type": "code",
   "execution_count": 12,
   "id": "39746687-6271-4f2d-90a6-a71b6dd93fe2",
   "metadata": {},
   "outputs": [
    {
     "data": {
      "text/plain": [
       "(-0.1, 1.1)"
      ]
     },
     "execution_count": 12,
     "metadata": {},
     "output_type": "execute_result"
    },
    {
     "data": {
      "image/png": "[encoded data removed]",
      "text/plain": [
       "<Figure size 864x432 with 1 Axes>"
      ]
     },
     "metadata": {},
     "output_type": "display_data"
    },
    {
     "name": "stderr",
     "output_type": "stream",
     "text": [
      "/home/jake/miniconda3/envs/pc-eval/lib/python3.8/site-packages/sklearn/linear_model/_logistic.py:444: ConvergenceWarning: lbfgs failed to converge (status=1):\n",
      "STOP: TOTAL NO. of ITERATIONS REACHED LIMIT.\n",
      "\n",
      "Increase the number of iterations (max_iter) or scale the data as shown in:\n",
      "    https://scikit-learn.org/stable/modules/preprocessing.html\n",
      "Please also refer to the documentation for alternative solver options:\n",
      "    https://scikit-learn.org/stable/modules/linear_model.html#logistic-regression\n",
      "  n_iter_i = _check_optimize_result(\n"
     ]
    }
   ],
   "source": [
    "sns.set({'figure.figsize': (12, 6)})\n",
    "\n",
    "sns.boxplot(data=results_df, x='model', y='value', hue='metric')\n",
    "plt.ylim(-0.1, 1.1)"
   ]
  }
 ],
 "metadata": {
  "kernelspec": {
   "display_name": "Python [conda env:pc-eval]",
   "language": "python",
   "name": "conda-env-pc-eval-py"
  },
  "language_info": {
   "codemirror_mode": {
    "name": "ipython",
    "version": 3
   },
   "file_extension": ".py",
   "mimetype": "text/x-python",
   "name": "python",
   "nbconvert_exporter": "python",
   "pygments_lexer": "ipython3",
   "version": "3.8.13"
  }
 },
 "nbformat": 4,
 "nbformat_minor": 5
}
