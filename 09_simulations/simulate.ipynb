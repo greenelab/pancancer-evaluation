{
 "cells": [
  {
   "cell_type": "code",
   "execution_count": 1,
   "id": "d485e2fd-5f06-428b-89c8-26d4283d57f9",
   "metadata": {},
   "outputs": [
    {
     "name": "stderr",
     "output_type": "stream",
     "text": [
      "/home/jake/miniconda3/envs/pc-eval/lib/python3.8/site-packages/tqdm/auto.py:22: TqdmWarning: IProgress not found. Please update jupyter and ipywidgets. See https://ipywidgets.readthedocs.io/en/stable/user_install.html\n",
      "  from .autonotebook import tqdm as notebook_tqdm\n"
     ]
    }
   ],
   "source": [
    "import numpy as np\n",
    "import matplotlib.pyplot as plt\n",
    "import pandas as pd\n",
    "import seaborn as sns\n",
    "from sklearn.decomposition import PCA\n",
    "from sklearn.model_selection import KFold\n",
    "from umap import UMAP\n",
    "\n",
    "from csd_simulations import (\n",
    "    simulate_no_csd,\n",
    "    simulate_no_csd_same_z,\n",
    "    simulate_no_csd_large_z,\n",
    "    simulate_csd,\n",
    ")\n",
    "from models import (\n",
    "    train_ridge,\n",
    "    train_rf,\n",
    "    train_mlp,\n",
    "    get_metrics\n",
    ")\n",
    "\n",
    "np.random.seed(42)\n",
    "\n",
    "%load_ext autoreload\n",
    "%autoreload 2"
   ]
  },
  {
   "cell_type": "code",
   "execution_count": 2,
   "id": "88d5e465-c3b3-434a-a731-0be06d704b7f",
   "metadata": {},
   "outputs": [],
   "source": [
    "n_domains = 5\n",
    "n_per_domain = 25\n",
    "p = 20\n",
    "k = 5\n",
    "noise_scale = 1.5\n",
    "\n",
    "simulate_with_csd = True\n",
    "simulate_same_z = True"
   ]
  },
  {
   "cell_type": "code",
   "execution_count": 3,
   "id": "bc419eb6-4c01-40e7-9aaa-94afcfa3865b",
   "metadata": {},
   "outputs": [
    {
     "name": "stdout",
     "output_type": "stream",
     "text": [
      "(125, 20)\n",
      "[[ 0.24010992 -0.53511875 -0.02324382 -0.6159071   0.67261319]\n",
      " [-0.18638521  0.86394495  0.53215158  0.28219304  3.74613725]\n",
      " [-1.26124241 -2.55621223 -0.36398179  0.20667181  0.99949372]\n",
      " [ 1.97254447  0.13680186 -1.08107534  0.03012466  0.71969016]\n",
      " [-1.7235759  -0.6765596  -0.22657    -0.35539514 -3.00680242]]\n"
     ]
    }
   ],
   "source": [
    "if k is not None:\n",
    "    if simulate_with_csd:\n",
    "        xs, ys = simulate_csd(n_domains, n_per_domain, p, k, noise_scale)\n",
    "    else:\n",
    "        xs, ys = simulate_no_csd_large_z(n_domains, n_per_domain, p, k, noise_scale)\n",
    "elif simulate_same_z:\n",
    "    xs, ys = simulate_no_csd_same_z(n_domains, n_per_domain, p, noise_scale)\n",
    "else:\n",
    "    xs, ys = simulate_no_csd(n_domains, n_per_domain, p, noise_scale)\n",
    "\n",
    "print(xs.shape)\n",
    "print(xs[:5, :5])"
   ]
  },
  {
   "cell_type": "code",
   "execution_count": 4,
   "id": "e922b652-34f9-4de7-afb9-c1c9c467485d",
   "metadata": {},
   "outputs": [
    {
     "name": "stdout",
     "output_type": "stream",
     "text": [
      "(125, 1)\n",
      "[[ 1]\n",
      " [ 1]\n",
      " [-1]]\n"
     ]
    }
   ],
   "source": [
    "print(ys.shape)\n",
    "print(ys[:3, :])"
   ]
  },
  {
   "cell_type": "code",
   "execution_count": 5,
   "id": "91216ae6-d60f-4d29-b776-b3df18a6cc40",
   "metadata": {},
   "outputs": [
    {
     "data": {
      "text/html": [
       "<div>\n",
       "<style scoped>\n",
       "    .dataframe tbody tr th:only-of-type {\n",
       "        vertical-align: middle;\n",
       "    }\n",
       "\n",
       "    .dataframe tbody tr th {\n",
       "        vertical-align: top;\n",
       "    }\n",
       "\n",
       "    .dataframe thead th {\n",
       "        text-align: right;\n",
       "    }\n",
       "</style>\n",
       "<table border=\"1\" class=\"dataframe\">\n",
       "  <thead>\n",
       "    <tr style=\"text-align: right;\">\n",
       "      <th></th>\n",
       "      <th>UMAP0</th>\n",
       "      <th>UMAP1</th>\n",
       "      <th>domain</th>\n",
       "      <th>label</th>\n",
       "    </tr>\n",
       "  </thead>\n",
       "  <tbody>\n",
       "    <tr>\n",
       "      <th>0</th>\n",
       "      <td>7.464597</td>\n",
       "      <td>6.294847</td>\n",
       "      <td>0</td>\n",
       "      <td>1</td>\n",
       "    </tr>\n",
       "    <tr>\n",
       "      <th>1</th>\n",
       "      <td>7.207072</td>\n",
       "      <td>7.108021</td>\n",
       "      <td>0</td>\n",
       "      <td>1</td>\n",
       "    </tr>\n",
       "    <tr>\n",
       "      <th>2</th>\n",
       "      <td>4.262995</td>\n",
       "      <td>6.450528</td>\n",
       "      <td>0</td>\n",
       "      <td>-1</td>\n",
       "    </tr>\n",
       "    <tr>\n",
       "      <th>3</th>\n",
       "      <td>4.956168</td>\n",
       "      <td>4.855062</td>\n",
       "      <td>0</td>\n",
       "      <td>-1</td>\n",
       "    </tr>\n",
       "    <tr>\n",
       "      <th>4</th>\n",
       "      <td>6.260319</td>\n",
       "      <td>4.209421</td>\n",
       "      <td>0</td>\n",
       "      <td>-1</td>\n",
       "    </tr>\n",
       "  </tbody>\n",
       "</table>\n",
       "</div>"
      ],
      "text/plain": [
       "      UMAP0     UMAP1  domain  label\n",
       "0  7.464597  6.294847       0      1\n",
       "1  7.207072  7.108021       0      1\n",
       "2  4.262995  6.450528       0     -1\n",
       "3  4.956168  4.855062       0     -1\n",
       "4  6.260319  4.209421       0     -1"
      ]
     },
     "execution_count": 5,
     "metadata": {},
     "output_type": "execute_result"
    }
   ],
   "source": [
    "pca = PCA(n_components=2)\n",
    "X_proj_pca = pca.fit_transform(xs)\n",
    "reducer = UMAP(n_components=2, random_state=42)\n",
    "X_proj_umap = reducer.fit_transform(xs)\n",
    "\n",
    "domains = np.concatenate([([i] * n_per_domain) for i in range(n_domains)])\n",
    "\n",
    "X_pca_df = pd.DataFrame(X_proj_pca,\n",
    "                        columns=['PC{}'.format(j) for j in range(X_proj_pca.shape[1])])\n",
    "X_pca_df['domain'] = domains\n",
    "X_pca_df['label'] = ys.flatten()\n",
    "\n",
    "X_umap_df = pd.DataFrame(X_proj_umap,\n",
    "                        columns=['UMAP{}'.format(j) for j in range(X_proj_umap.shape[1])])\n",
    "X_umap_df['domain'] = domains\n",
    "X_umap_df['label'] = ys.flatten()\n",
    "\n",
    "X_umap_df.head()"
   ]
  },
  {
   "cell_type": "code",
   "execution_count": 6,
   "id": "b49403d7-286d-47fb-8c42-0029c038d9ea",
   "metadata": {},
   "outputs": [
    {
     "data": {
      "text/plain": [
       "<matplotlib.legend.Legend at 0x7f47c958b490>"
      ]
     },
     "execution_count": 6,
     "metadata": {},
     "output_type": "execute_result"
    },
    {
     "data": {
      "image/png": "[encoded data removed]",
      "text/plain": [
       "<Figure size 1296x576 with 2 Axes>"
      ]
     },
     "metadata": {},
     "output_type": "display_data"
    }
   ],
   "source": [
    "sns.set({'figure.figsize': (18, 8)})\n",
    "fig, axarr = plt.subplots(1, 2)\n",
    "\n",
    "sns.scatterplot(data=X_pca_df, x='PC0', y='PC1', hue='domain', style='label', s=50, ax=axarr[0])\n",
    "sns.scatterplot(data=X_umap_df, x='UMAP0', y='UMAP1', hue='domain', style='label', s=50, ax=axarr[1])\n",
    "    \n",
    "axarr[0].set_title('PCA projection of simulated data, colored by domain')\n",
    "axarr[1].set_xlabel('PC1')\n",
    "axarr[1].set_ylabel('PC2')\n",
    "axarr[0].legend()\n",
    "axarr[1].set_title('UMAP projection of simulated data, colored by domain')\n",
    "axarr[1].set_xlabel('UMAP dimension 1')\n",
    "axarr[1].set_ylabel('UMAP dimension 2')\n",
    "axarr[1].legend()"
   ]
  },
  {
   "cell_type": "code",
   "execution_count": 7,
   "id": "95468140-5938-4d4e-b073-97ef5acf8745",
   "metadata": {},
   "outputs": [
    {
     "name": "stdout",
     "output_type": "stream",
     "text": [
      "Fitting 3 folds for each of 20 candidates, totalling 60 fits\n",
      "Fitting 3 folds for each of 20 candidates, totalling 60 fits\n",
      "Fitting 3 folds for each of 20 candidates, totalling 60 fits\n",
      "Fitting 3 folds for each of 20 candidates, totalling 60 fits\n"
     ]
    },
    {
     "data": {
      "text/html": [
       "<div>\n",
       "<style scoped>\n",
       "    .dataframe tbody tr th:only-of-type {\n",
       "        vertical-align: middle;\n",
       "    }\n",
       "\n",
       "    .dataframe tbody tr th {\n",
       "        vertical-align: top;\n",
       "    }\n",
       "\n",
       "    .dataframe thead th {\n",
       "        text-align: right;\n",
       "    }\n",
       "</style>\n",
       "<table border=\"1\" class=\"dataframe\">\n",
       "  <thead>\n",
       "    <tr style=\"text-align: right;\">\n",
       "      <th></th>\n",
       "      <th>model</th>\n",
       "      <th>fold</th>\n",
       "      <th>metric</th>\n",
       "      <th>value</th>\n",
       "    </tr>\n",
       "  </thead>\n",
       "  <tbody>\n",
       "    <tr>\n",
       "      <th>0</th>\n",
       "      <td>ridge</td>\n",
       "      <td>0</td>\n",
       "      <td>train_auroc</td>\n",
       "      <td>0.901914</td>\n",
       "    </tr>\n",
       "    <tr>\n",
       "      <th>1</th>\n",
       "      <td>random_forest</td>\n",
       "      <td>0</td>\n",
       "      <td>train_auroc</td>\n",
       "      <td>1.000000</td>\n",
       "    </tr>\n",
       "    <tr>\n",
       "      <th>2</th>\n",
       "      <td>mlp</td>\n",
       "      <td>0</td>\n",
       "      <td>train_auroc</td>\n",
       "      <td>0.998086</td>\n",
       "    </tr>\n",
       "    <tr>\n",
       "      <th>3</th>\n",
       "      <td>ridge</td>\n",
       "      <td>1</td>\n",
       "      <td>train_auroc</td>\n",
       "      <td>0.871202</td>\n",
       "    </tr>\n",
       "    <tr>\n",
       "      <th>4</th>\n",
       "      <td>random_forest</td>\n",
       "      <td>1</td>\n",
       "      <td>train_auroc</td>\n",
       "      <td>0.988889</td>\n",
       "    </tr>\n",
       "  </tbody>\n",
       "</table>\n",
       "</div>"
      ],
      "text/plain": [
       "           model  fold       metric     value\n",
       "0          ridge     0  train_auroc  0.901914\n",
       "1  random_forest     0  train_auroc  1.000000\n",
       "2            mlp     0  train_auroc  0.998086\n",
       "3          ridge     1  train_auroc  0.871202\n",
       "4  random_forest     1  train_auroc  0.988889"
      ]
     },
     "execution_count": 7,
     "metadata": {},
     "output_type": "execute_result"
    }
   ],
   "source": [
    "# split dataset into train/test\n",
    "n_splits = 4\n",
    "results = []\n",
    "results_cols = None\n",
    "\n",
    "kf = KFold(n_splits=n_splits, shuffle=True, random_state=42)\n",
    "for fold, (train_ix, test_ix) in enumerate(kf.split(xs)):\n",
    "    X_train, X_test = xs[train_ix, :], xs[test_ix, :]\n",
    "    y_train, y_test = ys[train_ix, :], ys[test_ix, :]\n",
    "    \n",
    "    fit_pipeline = train_ridge(X_train, y_train.flatten(), seed=42)\n",
    "    y_pred_train = fit_pipeline.predict(X_train)\n",
    "    y_pred_test = fit_pipeline.predict(X_test)\n",
    "    metrics = get_metrics(y_train, y_test, y_pred_train, y_pred_test)\n",
    " \n",
    "    metric_cols = list(metrics.keys()) + ['model', 'fold']\n",
    "    metric_vals = list(metrics.values()) + ['ridge', fold]\n",
    "    if results_cols is None:\n",
    "        results_cols = metric_cols\n",
    "    else:\n",
    "        assert metric_cols == results_cols\n",
    "    results.append(metric_vals)\n",
    " \n",
    "    fit_pipeline = train_rf(X_train, y_train.flatten(), seed=42)\n",
    "    y_pred_train = fit_pipeline.predict(X_train)\n",
    "    y_pred_test = fit_pipeline.predict(X_test)\n",
    "    metrics = get_metrics(y_train, y_test, y_pred_train, y_pred_test)\n",
    " \n",
    "    metric_vals = list(metrics.values()) + ['random_forest', fold]\n",
    "    if results_cols is None:\n",
    "        results_cols = metric_cols\n",
    "    else:\n",
    "        assert metric_cols == results_cols\n",
    "    results.append(metric_vals)\n",
    "    \n",
    "    params = {\n",
    "        'learning_rate': [0.1, 0.01, 0.001, 5e-4, 1e-4],\n",
    "        'h1_size': [100, 200, 300, 500],\n",
    "        'dropout': [0.1, 0.5, 0.75],\n",
    "        'weight_decay': [0, 0.1, 1, 10, 100]\n",
    "    }\n",
    "    \n",
    "    fit_pipeline = train_mlp(X_train, y_train.flatten(), params, seed=42, max_iter=100)\n",
    "    y_pred_train = fit_pipeline.predict_proba(X_train.astype(np.float32))[:, 1]\n",
    "    y_pred_test = fit_pipeline.predict_proba(X_test.astype(np.float32))[:, 1]\n",
    "    metrics = get_metrics(y_train, y_test, y_pred_train, y_pred_test)\n",
    "                        \n",
    "    metric_vals = list(metrics.values()) + ['mlp', fold]\n",
    "    if results_cols is None:\n",
    "        results_cols = metric_cols\n",
    "    else:\n",
    "        assert metric_cols == results_cols\n",
    "    results.append(metric_vals)\n",
    "    \n",
    "results_df = pd.DataFrame(results, columns=results_cols)\n",
    "results_df = results_df.melt(id_vars=['model', 'fold'], var_name='metric')\n",
    "results_df.head()"
   ]
  },
  {
   "cell_type": "code",
   "execution_count": 8,
   "id": "b0fde6e4-6a2d-4971-b5ae-dd25c802a738",
   "metadata": {},
   "outputs": [
    {
     "data": {
      "text/plain": [
       "(-0.1, 1.1)"
      ]
     },
     "execution_count": 8,
     "metadata": {},
     "output_type": "execute_result"
    },
    {
     "data": {
      "image/png": "[encoded data removed]",
      "text/plain": [
       "<Figure size 864x432 with 1 Axes>"
      ]
     },
     "metadata": {},
     "output_type": "display_data"
    }
   ],
   "source": [
    "sns.set({'figure.figsize': (12, 6)})\n",
    "\n",
    "sns.boxplot(data=results_df, x='model', y='value', hue='metric')\n",
    "plt.ylim(-0.1, 1.1)"
   ]
  },
  {
   "cell_type": "code",
   "execution_count": 9,
   "id": "9f724b3b-e550-4d10-a166-42708f4f7d07",
   "metadata": {},
   "outputs": [
    {
     "data": {
      "text/html": [
       "<div>\n",
       "<style scoped>\n",
       "    .dataframe tbody tr th:only-of-type {\n",
       "        vertical-align: middle;\n",
       "    }\n",
       "\n",
       "    .dataframe tbody tr th {\n",
       "        vertical-align: top;\n",
       "    }\n",
       "\n",
       "    .dataframe thead th {\n",
       "        text-align: right;\n",
       "    }\n",
       "</style>\n",
       "<table border=\"1\" class=\"dataframe\">\n",
       "  <thead>\n",
       "    <tr style=\"text-align: right;\">\n",
       "      <th></th>\n",
       "      <th>0</th>\n",
       "      <th>1</th>\n",
       "      <th>2</th>\n",
       "      <th>3</th>\n",
       "      <th>4</th>\n",
       "    </tr>\n",
       "  </thead>\n",
       "  <tbody>\n",
       "    <tr>\n",
       "      <th>0</th>\n",
       "      <td>1</td>\n",
       "      <td>0</td>\n",
       "      <td>0</td>\n",
       "      <td>0</td>\n",
       "      <td>0</td>\n",
       "    </tr>\n",
       "    <tr>\n",
       "      <th>1</th>\n",
       "      <td>1</td>\n",
       "      <td>0</td>\n",
       "      <td>0</td>\n",
       "      <td>0</td>\n",
       "      <td>0</td>\n",
       "    </tr>\n",
       "    <tr>\n",
       "      <th>2</th>\n",
       "      <td>1</td>\n",
       "      <td>0</td>\n",
       "      <td>0</td>\n",
       "      <td>0</td>\n",
       "      <td>0</td>\n",
       "    </tr>\n",
       "    <tr>\n",
       "      <th>3</th>\n",
       "      <td>1</td>\n",
       "      <td>0</td>\n",
       "      <td>0</td>\n",
       "      <td>0</td>\n",
       "      <td>0</td>\n",
       "    </tr>\n",
       "    <tr>\n",
       "      <th>4</th>\n",
       "      <td>1</td>\n",
       "      <td>0</td>\n",
       "      <td>0</td>\n",
       "      <td>0</td>\n",
       "      <td>0</td>\n",
       "    </tr>\n",
       "  </tbody>\n",
       "</table>\n",
       "</div>"
      ],
      "text/plain": [
       "   0  1  2  3  4\n",
       "0  1  0  0  0  0\n",
       "1  1  0  0  0  0\n",
       "2  1  0  0  0  0\n",
       "3  1  0  0  0  0\n",
       "4  1  0  0  0  0"
      ]
     },
     "execution_count": 9,
     "metadata": {},
     "output_type": "execute_result"
    }
   ],
   "source": [
    "x_covariates = pd.get_dummies(domains)\n",
    "x_covariates.head()"
   ]
  },
  {
   "cell_type": "code",
   "execution_count": 10,
   "id": "ece8562e-a077-4898-89ae-f3ece117d9fd",
   "metadata": {},
   "outputs": [
    {
     "name": "stdout",
     "output_type": "stream",
     "text": [
      "[[ 0.24010992 -0.53511875 -0.02324382 -0.6159071   0.67261319  1.29390914\n",
      "   0.42456532 -0.68523871 -0.50406027  3.25459153 -2.33451802  3.5487884\n",
      "  -1.52479025  0.61782308  0.48144122  0.01811476  1.45779259 -0.06658047\n",
      "  -0.40839156 -3.2126384   1.          0.          0.          0.\n",
      "   0.        ]\n",
      " [-0.18638521  0.86394495  0.53215158  0.28219304  3.74613725  0.66715853\n",
      "   1.75525049 -0.15604136  0.84800078  0.68448164 -0.02945664  3.37678702\n",
      "   0.59104596 -0.13207596  1.65995469  2.94538464  1.16129415  0.62453245\n",
      "  -0.6899816  -1.37407373  1.          0.          0.          0.\n",
      "   0.        ]\n",
      " [-1.26124241 -2.55621223 -0.36398179  0.20667181  0.99949372 -1.98318282\n",
      "   1.42878607 -1.09348655 -0.94669339 -1.12435862  4.08003528 -0.72347949\n",
      "   0.54358376 -0.55020504 -1.12563861 -1.99984124 -0.33303808  1.70832526\n",
      "   2.20397762 -2.73975592  1.          0.          0.          0.\n",
      "   0.        ]\n",
      " [ 1.97254447  0.13680186 -1.08107534  0.03012466  0.71969016  0.29712153\n",
      "  -3.20469562  0.92291836  2.62721019  1.39941536  0.21282835 -2.67636274\n",
      "  -0.73952922  4.60661025 -3.30801909 -2.50512381  0.17890882  0.77963755\n",
      "  -0.61378798  3.10902889  1.          0.          0.          0.\n",
      "   0.        ]\n",
      " [-1.7235759  -0.6765596  -0.22657    -0.35539514 -3.00680242  0.3576302\n",
      "   1.81690192  0.9851883   1.04576177  0.23671403  0.76548855  1.1118717\n",
      "  -1.00873292 -2.30954566 -3.36300155 -1.12250764  1.18188468  1.3226533\n",
      "  -0.78953382  0.75960934  1.          0.          0.          0.\n",
      "   0.        ]]\n"
     ]
    }
   ],
   "source": [
    "xs_fixed = np.concatenate((xs, x_covariates.values), axis=1)\n",
    "print(xs_fixed[:5, :]) "
   ]
  },
  {
   "cell_type": "code",
   "execution_count": 11,
   "id": "9e858270-c555-4dc2-8fd8-2d58d541ffe4",
   "metadata": {},
   "outputs": [
    {
     "name": "stdout",
     "output_type": "stream",
     "text": [
      "Fitting 3 folds for each of 20 candidates, totalling 60 fits\n",
      "Fitting 3 folds for each of 20 candidates, totalling 60 fits\n",
      "Fitting 3 folds for each of 20 candidates, totalling 60 fits\n",
      "Fitting 3 folds for each of 20 candidates, totalling 60 fits\n"
     ]
    },
    {
     "data": {
      "text/html": [
       "<div>\n",
       "<style scoped>\n",
       "    .dataframe tbody tr th:only-of-type {\n",
       "        vertical-align: middle;\n",
       "    }\n",
       "\n",
       "    .dataframe tbody tr th {\n",
       "        vertical-align: top;\n",
       "    }\n",
       "\n",
       "    .dataframe thead th {\n",
       "        text-align: right;\n",
       "    }\n",
       "</style>\n",
       "<table border=\"1\" class=\"dataframe\">\n",
       "  <thead>\n",
       "    <tr style=\"text-align: right;\">\n",
       "      <th></th>\n",
       "      <th>model</th>\n",
       "      <th>fold</th>\n",
       "      <th>metric</th>\n",
       "      <th>value</th>\n",
       "    </tr>\n",
       "  </thead>\n",
       "  <tbody>\n",
       "    <tr>\n",
       "      <th>0</th>\n",
       "      <td>ridge</td>\n",
       "      <td>0</td>\n",
       "      <td>train_auroc</td>\n",
       "      <td>0.862440</td>\n",
       "    </tr>\n",
       "    <tr>\n",
       "      <th>1</th>\n",
       "      <td>random_forest</td>\n",
       "      <td>0</td>\n",
       "      <td>train_auroc</td>\n",
       "      <td>1.000000</td>\n",
       "    </tr>\n",
       "    <tr>\n",
       "      <th>2</th>\n",
       "      <td>mlp</td>\n",
       "      <td>0</td>\n",
       "      <td>train_auroc</td>\n",
       "      <td>1.000000</td>\n",
       "    </tr>\n",
       "    <tr>\n",
       "      <th>3</th>\n",
       "      <td>ridge</td>\n",
       "      <td>1</td>\n",
       "      <td>train_auroc</td>\n",
       "      <td>0.882313</td>\n",
       "    </tr>\n",
       "    <tr>\n",
       "      <th>4</th>\n",
       "      <td>random_forest</td>\n",
       "      <td>1</td>\n",
       "      <td>train_auroc</td>\n",
       "      <td>1.000000</td>\n",
       "    </tr>\n",
       "  </tbody>\n",
       "</table>\n",
       "</div>"
      ],
      "text/plain": [
       "           model  fold       metric     value\n",
       "0          ridge     0  train_auroc  0.862440\n",
       "1  random_forest     0  train_auroc  1.000000\n",
       "2            mlp     0  train_auroc  1.000000\n",
       "3          ridge     1  train_auroc  0.882313\n",
       "4  random_forest     1  train_auroc  1.000000"
      ]
     },
     "execution_count": 11,
     "metadata": {},
     "output_type": "execute_result"
    }
   ],
   "source": [
    "# split dataset into train/test\n",
    "# this time with a covariate for domain membership (this should help performance)\n",
    "results = []\n",
    "results_cols = None\n",
    "\n",
    "kf = KFold(n_splits=n_splits, shuffle=True, random_state=42)\n",
    "for fold, (train_ix, test_ix) in enumerate(kf.split(xs_fixed)):\n",
    "    X_train, X_test = xs_fixed[train_ix, :], xs_fixed[test_ix, :]\n",
    "    y_train, y_test = ys[train_ix, :], ys[test_ix, :]\n",
    "    \n",
    "    fit_pipeline = train_ridge(X_train, y_train.flatten(), seed=42)\n",
    "    y_pred_train = fit_pipeline.predict(X_train)\n",
    "    y_pred_test = fit_pipeline.predict(X_test)\n",
    "    metrics = get_metrics(y_train, y_test, y_pred_train, y_pred_test)\n",
    "    \n",
    "    metric_cols = list(metrics.keys()) + ['model', 'fold']\n",
    "    metric_vals = list(metrics.values()) + ['ridge', fold]\n",
    "    if results_cols is None:\n",
    "        results_cols = metric_cols\n",
    "    else:\n",
    "        assert metric_cols == results_cols\n",
    "    results.append(metric_vals)\n",
    "    \n",
    "    fit_pipeline = train_rf(X_train, y_train.flatten(), seed=42)\n",
    "    y_pred_train = fit_pipeline.predict(X_train)\n",
    "    y_pred_test = fit_pipeline.predict(X_test)\n",
    "    metrics = get_metrics(y_train, y_test, y_pred_train, y_pred_test)\n",
    "                        \n",
    "    metric_vals = list(metrics.values()) + ['random_forest', fold]\n",
    "    if results_cols is None:\n",
    "        results_cols = metric_cols\n",
    "    else:\n",
    "        assert metric_cols == results_cols\n",
    "    results.append(metric_vals)\n",
    "    \n",
    "    fit_pipeline = train_mlp(X_train, y_train.flatten(), params, seed=42, max_iter=100)\n",
    "    y_pred_train = fit_pipeline.predict_proba(X_train.astype(np.float32))[:, 1]\n",
    "    y_pred_test = fit_pipeline.predict_proba(X_test.astype(np.float32))[:, 1]\n",
    "    metrics = get_metrics(y_train, y_test, y_pred_train, y_pred_test)\n",
    "                        \n",
    "    metric_vals = list(metrics.values()) + ['mlp', fold]\n",
    "    if results_cols is None:\n",
    "        results_cols = metric_cols\n",
    "    else:\n",
    "        assert metric_cols == results_cols\n",
    "    results.append(metric_vals)\n",
    "    \n",
    "results_df = pd.DataFrame(results, columns=results_cols)\n",
    "results_df = results_df.melt(id_vars=['model', 'fold'], var_name='metric')\n",
    "results_df.head()"
   ]
  },
  {
   "cell_type": "code",
   "execution_count": 12,
   "id": "39746687-6271-4f2d-90a6-a71b6dd93fe2",
   "metadata": {},
   "outputs": [
    {
     "data": {
      "text/plain": [
       "(-0.1, 1.1)"
      ]
     },
     "execution_count": 12,
     "metadata": {},
     "output_type": "execute_result"
    },
    {
     "data": {
      "image/png": "[encoded data removed]",
      "text/plain": [
       "<Figure size 864x432 with 1 Axes>"
      ]
     },
     "metadata": {},
     "output_type": "display_data"
    }
   ],
   "source": [
    "sns.set({'figure.figsize': (12, 6)})\n",
    "\n",
    "sns.boxplot(data=results_df, x='model', y='value', hue='metric')\n",
    "plt.ylim(-0.1, 1.1)"
   ]
  }
 ],
 "metadata": {
  "kernelspec": {
   "display_name": "Python [conda env:pc-eval]",
   "language": "python",
   "name": "conda-env-pc-eval-py"
  },
  "language_info": {
   "codemirror_mode": {
    "name": "ipython",
    "version": 3
   },
   "file_extension": ".py",
   "mimetype": "text/x-python",
   "name": "python",
   "nbconvert_exporter": "python",
   "pygments_lexer": "ipython3",
   "version": "3.8.13"
  }
 },
 "nbformat": 4,
 "nbformat_minor": 5
}
