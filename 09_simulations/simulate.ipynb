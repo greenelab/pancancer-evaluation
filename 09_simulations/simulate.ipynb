{
 "cells": [
  {
   "cell_type": "code",
   "execution_count": 1,
   "id": "d485e2fd-5f06-428b-89c8-26d4283d57f9",
   "metadata": {},
   "outputs": [
    {
     "name": "stderr",
     "output_type": "stream",
     "text": [
      "/home/jake/miniconda3/envs/pc-eval/lib/python3.8/site-packages/tqdm/auto.py:22: TqdmWarning: IProgress not found. Please update jupyter and ipywidgets. See https://ipywidgets.readthedocs.io/en/stable/user_install.html\n",
      "  from .autonotebook import tqdm as notebook_tqdm\n"
     ]
    }
   ],
   "source": [
    "import numpy as np\n",
    "import matplotlib.pyplot as plt\n",
    "import pandas as pd\n",
    "import seaborn as sns\n",
    "from sklearn.decomposition import PCA\n",
    "from sklearn.model_selection import KFold\n",
    "from umap import UMAP\n",
    "\n",
    "from models import (\n",
    "    train_ridge,\n",
    "    train_rf,\n",
    "    get_metrics\n",
    ")\n",
    "\n",
    "np.random.seed(42)\n",
    "\n",
    "%load_ext autoreload\n",
    "%autoreload 2"
   ]
  },
  {
   "cell_type": "code",
   "execution_count": 2,
   "id": "88d5e465-c3b3-434a-a731-0be06d704b7f",
   "metadata": {},
   "outputs": [
    {
     "data": {
      "text/plain": [
       "array([[ 0.49671415, -0.1382643 ,  0.64768854,  1.52302986, -0.23415337,\n",
       "        -0.23413696,  1.57921282,  0.76743473, -0.46947439,  0.54256004],\n",
       "       [-0.46341769, -0.46572975,  0.24196227, -1.91328024, -1.72491783,\n",
       "        -0.56228753, -1.01283112,  0.31424733, -0.90802408, -1.4123037 ]])"
      ]
     },
     "execution_count": 2,
     "metadata": {},
     "output_type": "execute_result"
    }
   ],
   "source": [
    "n_domains = 2\n",
    "n_per_domain = 25\n",
    "p = 10\n",
    "\n",
    "# just have e_c and e_s be unit vectors\n",
    "# e_c = np.array([1, 0])\n",
    "# e_s = np.array([0, 1])\n",
    "\n",
    "z = np.random.normal(size=(n_domains, p))\n",
    "z"
   ]
  },
  {
   "cell_type": "code",
   "execution_count": 3,
   "id": "80894d4b-18e2-477d-8817-2f017251ec20",
   "metadata": {},
   "outputs": [
    {
     "data": {
      "text/plain": [
       "array([0.36820995, 1.35552788])"
      ]
     },
     "execution_count": 3,
     "metadata": {},
     "output_type": "execute_result"
    }
   ],
   "source": [
    "betas = np.random.uniform(-1, 2, size=(n_domains,))\n",
    "betas"
   ]
  },
  {
   "cell_type": "code",
   "execution_count": 4,
   "id": "bc419eb6-4c01-40e7-9aaa-94afcfa3865b",
   "metadata": {},
   "outputs": [
    {
     "name": "stdout",
     "output_type": "stream",
     "text": [
      "(50, 10)\n",
      "[[ 1.37549017 -2.15128522  2.02197102  0.18544308 -0.6867283 ]\n",
      " [-0.74003634  0.08240427 -0.11408596  2.9625803   1.31058028]\n",
      " [ 0.34407699  3.33445252  0.68314723 -0.38894781 -2.93369696]\n",
      " [-2.94323849 -1.64217228  2.09965417  1.91632957  1.31066292]\n",
      " [-0.30860028 -1.59024584  2.66283005  3.02778836 -3.23452818]]\n"
     ]
    }
   ],
   "source": [
    "xs = None\n",
    "ys = None\n",
    "\n",
    "for i, beta_i in enumerate(betas):\n",
    "    ys_i = np.random.choice([-1, 1], size=(n_per_domain, 1))\n",
    "    np.tile((np.array([beta_i]) @ z[[i], :]), (n_per_domain, 1))\n",
    "    xs_i = (\n",
    "        np.tile(ys_i, (1, p)) *\n",
    "        np.tile((np.array([beta_i]) @ z[[i], :]), (n_per_domain, 1))\n",
    "    ) + (np.random.normal(scale=2., size=(n_per_domain, p)))\n",
    "    if xs is None:\n",
    "        xs = xs_i\n",
    "    else:\n",
    "        xs = np.concatenate((xs, xs_i))\n",
    "    if ys is None:\n",
    "        ys = ys_i\n",
    "    else:\n",
    "        ys = np.concatenate((ys, ys_i))\n",
    "    \n",
    "print(xs.shape)\n",
    "print(xs[:5, :5])"
   ]
  },
  {
   "cell_type": "code",
   "execution_count": 5,
   "id": "e922b652-34f9-4de7-afb9-c1c9c467485d",
   "metadata": {},
   "outputs": [
    {
     "name": "stdout",
     "output_type": "stream",
     "text": [
      "(50, 1)\n",
      "[[-1]\n",
      " [ 1]\n",
      " [-1]]\n"
     ]
    }
   ],
   "source": [
    "print(ys.shape)\n",
    "print(ys[:3, :])"
   ]
  },
  {
   "cell_type": "code",
   "execution_count": 6,
   "id": "91216ae6-d60f-4d29-b776-b3df18a6cc40",
   "metadata": {},
   "outputs": [
    {
     "data": {
      "text/html": [
       "<div>\n",
       "<style scoped>\n",
       "    .dataframe tbody tr th:only-of-type {\n",
       "        vertical-align: middle;\n",
       "    }\n",
       "\n",
       "    .dataframe tbody tr th {\n",
       "        vertical-align: top;\n",
       "    }\n",
       "\n",
       "    .dataframe thead th {\n",
       "        text-align: right;\n",
       "    }\n",
       "</style>\n",
       "<table border=\"1\" class=\"dataframe\">\n",
       "  <thead>\n",
       "    <tr style=\"text-align: right;\">\n",
       "      <th></th>\n",
       "      <th>UMAP0</th>\n",
       "      <th>UMAP1</th>\n",
       "      <th>domain</th>\n",
       "      <th>label</th>\n",
       "    </tr>\n",
       "  </thead>\n",
       "  <tbody>\n",
       "    <tr>\n",
       "      <th>0</th>\n",
       "      <td>3.834978</td>\n",
       "      <td>0.237933</td>\n",
       "      <td>0</td>\n",
       "      <td>-1</td>\n",
       "    </tr>\n",
       "    <tr>\n",
       "      <th>1</th>\n",
       "      <td>6.158569</td>\n",
       "      <td>0.323406</td>\n",
       "      <td>0</td>\n",
       "      <td>1</td>\n",
       "    </tr>\n",
       "    <tr>\n",
       "      <th>2</th>\n",
       "      <td>5.236025</td>\n",
       "      <td>2.823286</td>\n",
       "      <td>0</td>\n",
       "      <td>-1</td>\n",
       "    </tr>\n",
       "    <tr>\n",
       "      <th>3</th>\n",
       "      <td>5.388692</td>\n",
       "      <td>0.339380</td>\n",
       "      <td>0</td>\n",
       "      <td>1</td>\n",
       "    </tr>\n",
       "    <tr>\n",
       "      <th>4</th>\n",
       "      <td>4.211869</td>\n",
       "      <td>3.639693</td>\n",
       "      <td>0</td>\n",
       "      <td>1</td>\n",
       "    </tr>\n",
       "  </tbody>\n",
       "</table>\n",
       "</div>"
      ],
      "text/plain": [
       "      UMAP0     UMAP1  domain  label\n",
       "0  3.834978  0.237933       0     -1\n",
       "1  6.158569  0.323406       0      1\n",
       "2  5.236025  2.823286       0     -1\n",
       "3  5.388692  0.339380       0      1\n",
       "4  4.211869  3.639693       0      1"
      ]
     },
     "execution_count": 6,
     "metadata": {},
     "output_type": "execute_result"
    }
   ],
   "source": [
    "pca = PCA(n_components=2)\n",
    "X_proj_pca = pca.fit_transform(xs)\n",
    "reducer = UMAP(n_components=2, random_state=42)\n",
    "X_proj_umap = reducer.fit_transform(xs)\n",
    "\n",
    "domains = np.concatenate([([i] * n_per_domain) for i in range(n_domains)])\n",
    "\n",
    "X_pca_df = pd.DataFrame(X_proj_pca,\n",
    "                        columns=['PC{}'.format(j) for j in range(X_proj_pca.shape[1])])\n",
    "X_pca_df['domain'] = domains\n",
    "X_pca_df['label'] = ys.flatten()\n",
    "\n",
    "X_umap_df = pd.DataFrame(X_proj_umap,\n",
    "                        columns=['UMAP{}'.format(j) for j in range(X_proj_umap.shape[1])])\n",
    "X_umap_df['domain'] = domains\n",
    "X_umap_df['label'] = ys.flatten()\n",
    "\n",
    "X_umap_df.head()"
   ]
  },
  {
   "cell_type": "code",
   "execution_count": 7,
   "id": "b49403d7-286d-47fb-8c42-0029c038d9ea",
   "metadata": {},
   "outputs": [
    {
     "data": {
      "text/plain": [
       "<matplotlib.legend.Legend at 0x7f8e155d0580>"
      ]
     },
     "execution_count": 7,
     "metadata": {},
     "output_type": "execute_result"
    },
    {
     "data": {
      "image/png": "[encoded data removed]",
      "text/plain": [
       "<Figure size 1296x576 with 2 Axes>"
      ]
     },
     "metadata": {},
     "output_type": "display_data"
    }
   ],
   "source": [
    "sns.set({'figure.figsize': (18, 8)})\n",
    "fig, axarr = plt.subplots(1, 2)\n",
    "\n",
    "sns.scatterplot(data=X_pca_df, x='PC0', y='PC1', hue='domain', style='label', s=50, ax=axarr[0])\n",
    "sns.scatterplot(data=X_umap_df, x='UMAP0', y='UMAP1', hue='domain', style='label', s=50, ax=axarr[1])\n",
    "    \n",
    "axarr[0].set_title('PCA projection of simulated data, colored by domain')\n",
    "axarr[1].set_xlabel('PC1')\n",
    "axarr[1].set_ylabel('PC2')\n",
    "axarr[0].legend()\n",
    "axarr[1].set_title('UMAP projection of simulated data, colored by domain')\n",
    "axarr[1].set_xlabel('UMAP dimension 1')\n",
    "axarr[1].set_ylabel('UMAP dimension 2')\n",
    "axarr[1].legend()"
   ]
  },
  {
   "cell_type": "code",
   "execution_count": 8,
   "id": "95468140-5938-4d4e-b073-97ef5acf8745",
   "metadata": {},
   "outputs": [
    {
     "data": {
      "text/html": [
       "<div>\n",
       "<style scoped>\n",
       "    .dataframe tbody tr th:only-of-type {\n",
       "        vertical-align: middle;\n",
       "    }\n",
       "\n",
       "    .dataframe tbody tr th {\n",
       "        vertical-align: top;\n",
       "    }\n",
       "\n",
       "    .dataframe thead th {\n",
       "        text-align: right;\n",
       "    }\n",
       "</style>\n",
       "<table border=\"1\" class=\"dataframe\">\n",
       "  <thead>\n",
       "    <tr style=\"text-align: right;\">\n",
       "      <th></th>\n",
       "      <th>model</th>\n",
       "      <th>fold</th>\n",
       "      <th>metric</th>\n",
       "      <th>value</th>\n",
       "    </tr>\n",
       "  </thead>\n",
       "  <tbody>\n",
       "    <tr>\n",
       "      <th>0</th>\n",
       "      <td>ridge</td>\n",
       "      <td>0</td>\n",
       "      <td>train_auroc</td>\n",
       "      <td>0.618421</td>\n",
       "    </tr>\n",
       "    <tr>\n",
       "      <th>1</th>\n",
       "      <td>random_forest</td>\n",
       "      <td>0</td>\n",
       "      <td>train_auroc</td>\n",
       "      <td>1.000000</td>\n",
       "    </tr>\n",
       "    <tr>\n",
       "      <th>2</th>\n",
       "      <td>ridge</td>\n",
       "      <td>1</td>\n",
       "      <td>train_auroc</td>\n",
       "      <td>0.677083</td>\n",
       "    </tr>\n",
       "    <tr>\n",
       "      <th>3</th>\n",
       "      <td>random_forest</td>\n",
       "      <td>1</td>\n",
       "      <td>train_auroc</td>\n",
       "      <td>1.000000</td>\n",
       "    </tr>\n",
       "    <tr>\n",
       "      <th>4</th>\n",
       "      <td>ridge</td>\n",
       "      <td>2</td>\n",
       "      <td>train_auroc</td>\n",
       "      <td>0.669565</td>\n",
       "    </tr>\n",
       "  </tbody>\n",
       "</table>\n",
       "</div>"
      ],
      "text/plain": [
       "           model  fold       metric     value\n",
       "0          ridge     0  train_auroc  0.618421\n",
       "1  random_forest     0  train_auroc  1.000000\n",
       "2          ridge     1  train_auroc  0.677083\n",
       "3  random_forest     1  train_auroc  1.000000\n",
       "4          ridge     2  train_auroc  0.669565"
      ]
     },
     "execution_count": 8,
     "metadata": {},
     "output_type": "execute_result"
    }
   ],
   "source": [
    "# split dataset into train/test\n",
    "n_splits = 4\n",
    "results = []\n",
    "results_cols = None\n",
    "\n",
    "kf = KFold(n_splits=n_splits, shuffle=True, random_state=42)\n",
    "for fold, (train_ix, test_ix) in enumerate(kf.split(xs)):\n",
    "    X_train, X_test = xs[train_ix, :], xs[test_ix, :]\n",
    "    y_train, y_test = ys[train_ix, :], ys[test_ix, :]\n",
    "    \n",
    "    fit_pipeline = train_ridge(X_train, y_train.flatten(), seed=42)\n",
    "    y_pred_train = fit_pipeline.predict(X_train)\n",
    "    y_pred_test = fit_pipeline.predict(X_test)\n",
    "    metrics = get_metrics(y_train, y_test, y_pred_train, y_pred_test)\n",
    "    \n",
    "    metric_cols = list(metrics.keys()) + ['model', 'fold']\n",
    "    metric_vals = list(metrics.values()) + ['ridge', fold]\n",
    "    if results_cols is None:\n",
    "        results_cols = metric_cols\n",
    "    else:\n",
    "        assert metric_cols == results_cols\n",
    "    results.append(metric_vals)\n",
    "    \n",
    "    fit_pipeline = train_rf(X_train, y_train.flatten(), seed=42)\n",
    "    y_pred_train = fit_pipeline.predict(X_train)\n",
    "    y_pred_test = fit_pipeline.predict(X_test)\n",
    "    metrics = get_metrics(y_train, y_test, y_pred_train, y_pred_test)\n",
    "                        \n",
    "    metric_vals = list(metrics.values()) + ['random_forest', fold]\n",
    "    if results_cols is None:\n",
    "        results_cols = metric_cols\n",
    "    else:\n",
    "        assert metric_cols == results_cols\n",
    "    results.append(metric_vals)\n",
    "    \n",
    "results_df = pd.DataFrame(results, columns=results_cols)\n",
    "results_df = results_df.melt(id_vars=['model', 'fold'], var_name='metric')\n",
    "results_df.head()"
   ]
  },
  {
   "cell_type": "code",
   "execution_count": 9,
   "id": "b0fde6e4-6a2d-4971-b5ae-dd25c802a738",
   "metadata": {},
   "outputs": [
    {
     "data": {
      "text/plain": [
       "(-0.1, 1.1)"
      ]
     },
     "execution_count": 9,
     "metadata": {},
     "output_type": "execute_result"
    },
    {
     "data": {
      "image/png": "[encoded data removed]",
      "text/plain": [
       "<Figure size 864x432 with 1 Axes>"
      ]
     },
     "metadata": {},
     "output_type": "display_data"
    }
   ],
   "source": [
    "sns.set({'figure.figsize': (12, 6)})\n",
    "\n",
    "sns.boxplot(data=results_df, x='model', y='value', hue='metric')\n",
    "plt.ylim(-0.1, 1.1)"
   ]
  },
  {
   "cell_type": "code",
   "execution_count": 10,
   "id": "791c7117-17b1-4aa4-a750-a695756b506f",
   "metadata": {},
   "outputs": [
    {
     "name": "stdout",
     "output_type": "stream",
     "text": [
      "[[ 1.37549017 -2.15128522  2.02197102  0.18544308 -0.6867283  -2.23132893\n",
      "   0.55074378 -1.69148401 -2.58301347 -0.90600931  0.        ]\n",
      " [-0.74003634  0.08240427 -0.11408596  2.9625803   1.31058028 -0.42946923\n",
      "  -1.23289128  2.65982856  1.39819911  5.51179619  0.        ]\n",
      " [ 0.34407699  3.33445252  0.68314723 -0.38894781 -2.93369696  1.52921648\n",
      "  -2.26832172 -1.30922792  0.08579154 -0.75037783  0.        ]\n",
      " [-2.94323849 -1.64217228  2.09965417  1.91632957  1.31066292  0.26099257\n",
      "   1.9060509   0.76482143 -0.50927532  2.5293133   0.        ]\n",
      " [-0.30860028 -1.59024584  2.66283005  3.02778836 -3.23452818  1.18969433\n",
      "  -3.50736417  2.42153888 -2.04039082  1.76819238  0.        ]]\n"
     ]
    }
   ],
   "source": [
    "xs_fixed = np.concatenate((xs, domains[:, np.newaxis]), axis=1)\n",
    "print(xs_fixed[:5, :]) "
   ]
  },
  {
   "cell_type": "code",
   "execution_count": 11,
   "id": "9e858270-c555-4dc2-8fd8-2d58d541ffe4",
   "metadata": {},
   "outputs": [
    {
     "data": {
      "text/html": [
       "<div>\n",
       "<style scoped>\n",
       "    .dataframe tbody tr th:only-of-type {\n",
       "        vertical-align: middle;\n",
       "    }\n",
       "\n",
       "    .dataframe tbody tr th {\n",
       "        vertical-align: top;\n",
       "    }\n",
       "\n",
       "    .dataframe thead th {\n",
       "        text-align: right;\n",
       "    }\n",
       "</style>\n",
       "<table border=\"1\" class=\"dataframe\">\n",
       "  <thead>\n",
       "    <tr style=\"text-align: right;\">\n",
       "      <th></th>\n",
       "      <th>model</th>\n",
       "      <th>fold</th>\n",
       "      <th>metric</th>\n",
       "      <th>value</th>\n",
       "    </tr>\n",
       "  </thead>\n",
       "  <tbody>\n",
       "    <tr>\n",
       "      <th>0</th>\n",
       "      <td>ridge</td>\n",
       "      <td>0</td>\n",
       "      <td>train_auroc</td>\n",
       "      <td>0.618421</td>\n",
       "    </tr>\n",
       "    <tr>\n",
       "      <th>1</th>\n",
       "      <td>random_forest</td>\n",
       "      <td>0</td>\n",
       "      <td>train_auroc</td>\n",
       "      <td>1.000000</td>\n",
       "    </tr>\n",
       "    <tr>\n",
       "      <th>2</th>\n",
       "      <td>ridge</td>\n",
       "      <td>1</td>\n",
       "      <td>train_auroc</td>\n",
       "      <td>0.677083</td>\n",
       "    </tr>\n",
       "    <tr>\n",
       "      <th>3</th>\n",
       "      <td>random_forest</td>\n",
       "      <td>1</td>\n",
       "      <td>train_auroc</td>\n",
       "      <td>1.000000</td>\n",
       "    </tr>\n",
       "    <tr>\n",
       "      <th>4</th>\n",
       "      <td>ridge</td>\n",
       "      <td>2</td>\n",
       "      <td>train_auroc</td>\n",
       "      <td>0.669565</td>\n",
       "    </tr>\n",
       "  </tbody>\n",
       "</table>\n",
       "</div>"
      ],
      "text/plain": [
       "           model  fold       metric     value\n",
       "0          ridge     0  train_auroc  0.618421\n",
       "1  random_forest     0  train_auroc  1.000000\n",
       "2          ridge     1  train_auroc  0.677083\n",
       "3  random_forest     1  train_auroc  1.000000\n",
       "4          ridge     2  train_auroc  0.669565"
      ]
     },
     "execution_count": 11,
     "metadata": {},
     "output_type": "execute_result"
    }
   ],
   "source": [
    "# split dataset into train/test\n",
    "results = []\n",
    "results_cols = None\n",
    "\n",
    "kf = KFold(n_splits=n_splits, shuffle=True, random_state=42)\n",
    "for fold, (train_ix, test_ix) in enumerate(kf.split(xs_fixed)):\n",
    "    X_train, X_test = xs_fixed[train_ix, :], xs_fixed[test_ix, :]\n",
    "    y_train, y_test = ys[train_ix, :], ys[test_ix, :]\n",
    "    \n",
    "    fit_pipeline = train_ridge(X_train, y_train.flatten(), seed=42)\n",
    "    y_pred_train = fit_pipeline.predict(X_train)\n",
    "    y_pred_test = fit_pipeline.predict(X_test)\n",
    "    metrics = get_metrics(y_train, y_test, y_pred_train, y_pred_test)\n",
    "    \n",
    "    metric_cols = list(metrics.keys()) + ['model', 'fold']\n",
    "    metric_vals = list(metrics.values()) + ['ridge', fold]\n",
    "    if results_cols is None:\n",
    "        results_cols = metric_cols\n",
    "    else:\n",
    "        assert metric_cols == results_cols\n",
    "    results.append(metric_vals)\n",
    "    \n",
    "    fit_pipeline = train_rf(X_train, y_train.flatten(), seed=42)\n",
    "    y_pred_train = fit_pipeline.predict(X_train)\n",
    "    y_pred_test = fit_pipeline.predict(X_test)\n",
    "    metrics = get_metrics(y_train, y_test, y_pred_train, y_pred_test)\n",
    "                        \n",
    "    metric_vals = list(metrics.values()) + ['random_forest', fold]\n",
    "    if results_cols is None:\n",
    "        results_cols = metric_cols\n",
    "    else:\n",
    "        assert metric_cols == results_cols\n",
    "    results.append(metric_vals)\n",
    "    \n",
    "results_df = pd.DataFrame(results, columns=results_cols)\n",
    "results_df = results_df.melt(id_vars=['model', 'fold'], var_name='metric')\n",
    "results_df.head()"
   ]
  },
  {
   "cell_type": "code",
   "execution_count": 12,
   "id": "39746687-6271-4f2d-90a6-a71b6dd93fe2",
   "metadata": {},
   "outputs": [
    {
     "data": {
      "text/plain": [
       "(-0.1, 1.1)"
      ]
     },
     "execution_count": 12,
     "metadata": {},
     "output_type": "execute_result"
    },
    {
     "data": {
      "image/png": "[encoded data removed]",
      "text/plain": [
       "<Figure size 864x432 with 1 Axes>"
      ]
     },
     "metadata": {},
     "output_type": "display_data"
    }
   ],
   "source": [
    "sns.set({'figure.figsize': (12, 6)})\n",
    "\n",
    "sns.boxplot(data=results_df, x='model', y='value', hue='metric')\n",
    "plt.ylim(-0.1, 1.1)"
   ]
  }
 ],
 "metadata": {
  "kernelspec": {
   "display_name": "Python [conda env:pc-eval]",
   "language": "python",
   "name": "conda-env-pc-eval-py"
  },
  "language_info": {
   "codemirror_mode": {
    "name": "ipython",
    "version": 3
   },
   "file_extension": ".py",
   "mimetype": "text/x-python",
   "name": "python",
   "nbconvert_exporter": "python",
   "pygments_lexer": "ipython3",
   "version": "3.8.13"
  }
 },
 "nbformat": 4,
 "nbformat_minor": 5
}
