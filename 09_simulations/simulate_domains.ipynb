{
 "cells": [
  {
   "cell_type": "code",
   "execution_count": 1,
   "id": "9cc5ca1e-d931-4a86-8f39-86b2806d1b1c",
   "metadata": {},
   "outputs": [],
   "source": [
    "import numpy as np\n",
    "import matplotlib.pyplot as plt\n",
    "import pandas as pd\n",
    "import seaborn as sns\n",
    "from sklearn.decomposition import PCA\n",
    "from sklearn.model_selection import KFold\n",
    "from umap import UMAP\n",
    "\n",
    "from csd_simulations import (\n",
    "    simulate_no_csd,\n",
    "    simulate_no_csd_same_z,\n",
    "    simulate_no_csd_large_z,\n",
    "    simulate_csd,\n",
    "    simulate_csd_corr,\n",
    ")\n",
    "from models import (\n",
    "    train_ridge,\n",
    "    train_rf,\n",
    "    train_mlp,\n",
    "    get_metrics\n",
    ")\n",
    "\n",
    "np.random.seed(42)\n",
    "\n",
    "%load_ext autoreload\n",
    "%autoreload 2"
   ]
  },
  {
   "cell_type": "markdown",
   "id": "3495d911-7836-4c7b-905e-9f9b53c76367",
   "metadata": {},
   "source": [
    "### Simulate data from multiple \"domains\"\n",
    "\n",
    "Main simulation code is in `09_simulations/csd_simulations.py`."
   ]
  },
  {
   "cell_type": "code",
   "execution_count": 2,
   "id": "88d5e465-c3b3-434a-a731-0be06d704b7f",
   "metadata": {},
   "outputs": [],
   "source": [
    "n_domains = 5\n",
    "n_per_domain = 50\n",
    "p = 20\n",
    "k = 5\n",
    "noise_scale = 1.5\n",
    "\n",
    "simulate_with_csd = True\n",
    "simulate_same_z = True\n",
    "correlated_noise = True"
   ]
  },
  {
   "cell_type": "code",
   "execution_count": 3,
   "id": "bc419eb6-4c01-40e7-9aaa-94afcfa3865b",
   "metadata": {},
   "outputs": [
    {
     "name": "stdout",
     "output_type": "stream",
     "text": [
      "(250, 20)\n",
      "[[ 2.39323546 -1.61411072 -1.1969748   0.36920496 -2.63395221]\n",
      " [-0.74608752 -2.00149447 -2.10345026  4.26448022 -3.83833616]\n",
      " [ 1.57053367  1.24901487 -0.16932488  3.61469372 -3.45080186]\n",
      " [-0.53381692 -2.67608927 -1.69545508  1.47955195 -4.06023996]\n",
      " [ 1.75941129 -4.59532314 -2.60062117  1.42792509 -3.08658503]]\n"
     ]
    }
   ],
   "source": [
    "if k is not None:\n",
    "    if simulate_with_csd:\n",
    "        if correlated_noise:\n",
    "            xs, ys = simulate_csd_corr(n_domains, n_per_domain, p, k, corr_top=0.8, diag=1)\n",
    "        else:\n",
    "            xs, ys = simulate_csd(n_domains, n_per_domain, p, k, noise_scale)\n",
    "    else:\n",
    "        xs, ys = simulate_no_csd_large_z(n_domains, n_per_domain, p, k, noise_scale)\n",
    "elif simulate_same_z:\n",
    "    xs, ys = simulate_no_csd_same_z(n_domains, n_per_domain, p, noise_scale)\n",
    "else:\n",
    "    xs, ys = simulate_no_csd(n_domains, n_per_domain, p, noise_scale)\n",
    "\n",
    "print(xs.shape)\n",
    "print(xs[:5, :5])"
   ]
  },
  {
   "cell_type": "code",
   "execution_count": 4,
   "id": "e922b652-34f9-4de7-afb9-c1c9c467485d",
   "metadata": {},
   "outputs": [
    {
     "name": "stdout",
     "output_type": "stream",
     "text": [
      "(250, 1)\n",
      "[[ 1]\n",
      " [ 1]\n",
      " [-1]]\n"
     ]
    }
   ],
   "source": [
    "print(ys.shape)\n",
    "print(ys[:3, :])"
   ]
  },
  {
   "cell_type": "markdown",
   "id": "5241c97f-8562-4376-a7f5-1942014b6e54",
   "metadata": {},
   "source": [
    "### Plot simulated data\n",
    "\n",
    "We'll do this using both PCA and UMAP, side by side. We can color by domain and use different shapes for each label, to get an idea of how data clusters with respect to domain and how separable we expect different labels to be across domains."
   ]
  },
  {
   "cell_type": "code",
   "execution_count": 5,
   "id": "91216ae6-d60f-4d29-b776-b3df18a6cc40",
   "metadata": {},
   "outputs": [
    {
     "data": {
      "text/html": [
       "<div>\n",
       "<style scoped>\n",
       "    .dataframe tbody tr th:only-of-type {\n",
       "        vertical-align: middle;\n",
       "    }\n",
       "\n",
       "    .dataframe tbody tr th {\n",
       "        vertical-align: top;\n",
       "    }\n",
       "\n",
       "    .dataframe thead th {\n",
       "        text-align: right;\n",
       "    }\n",
       "</style>\n",
       "<table border=\"1\" class=\"dataframe\">\n",
       "  <thead>\n",
       "    <tr style=\"text-align: right;\">\n",
       "      <th></th>\n",
       "      <th>UMAP0</th>\n",
       "      <th>UMAP1</th>\n",
       "      <th>domain</th>\n",
       "      <th>label</th>\n",
       "    </tr>\n",
       "  </thead>\n",
       "  <tbody>\n",
       "    <tr>\n",
       "      <th>0</th>\n",
       "      <td>5.872278</td>\n",
       "      <td>6.765347</td>\n",
       "      <td>0</td>\n",
       "      <td>1</td>\n",
       "    </tr>\n",
       "    <tr>\n",
       "      <th>1</th>\n",
       "      <td>6.449939</td>\n",
       "      <td>6.767624</td>\n",
       "      <td>0</td>\n",
       "      <td>1</td>\n",
       "    </tr>\n",
       "    <tr>\n",
       "      <th>2</th>\n",
       "      <td>6.418840</td>\n",
       "      <td>6.971464</td>\n",
       "      <td>0</td>\n",
       "      <td>-1</td>\n",
       "    </tr>\n",
       "    <tr>\n",
       "      <th>3</th>\n",
       "      <td>6.748648</td>\n",
       "      <td>7.820406</td>\n",
       "      <td>0</td>\n",
       "      <td>-1</td>\n",
       "    </tr>\n",
       "    <tr>\n",
       "      <th>4</th>\n",
       "      <td>6.385404</td>\n",
       "      <td>7.922267</td>\n",
       "      <td>0</td>\n",
       "      <td>-1</td>\n",
       "    </tr>\n",
       "  </tbody>\n",
       "</table>\n",
       "</div>"
      ],
      "text/plain": [
       "      UMAP0     UMAP1  domain  label\n",
       "0  5.872278  6.765347       0      1\n",
       "1  6.449939  6.767624       0      1\n",
       "2  6.418840  6.971464       0     -1\n",
       "3  6.748648  7.820406       0     -1\n",
       "4  6.385404  7.922267       0     -1"
      ]
     },
     "execution_count": 5,
     "metadata": {},
     "output_type": "execute_result"
    }
   ],
   "source": [
    "pca = PCA(n_components=2)\n",
    "X_proj_pca = pca.fit_transform(xs)\n",
    "reducer = UMAP(n_components=2, random_state=42)\n",
    "X_proj_umap = reducer.fit_transform(xs)\n",
    "\n",
    "domains = np.concatenate([([i] * n_per_domain) for i in range(n_domains)])\n",
    "\n",
    "X_pca_df = pd.DataFrame(X_proj_pca,\n",
    "                        columns=['PC{}'.format(j) for j in range(X_proj_pca.shape[1])])\n",
    "X_pca_df['domain'] = domains\n",
    "X_pca_df['label'] = ys.flatten()\n",
    "\n",
    "X_umap_df = pd.DataFrame(X_proj_umap,\n",
    "                        columns=['UMAP{}'.format(j) for j in range(X_proj_umap.shape[1])])\n",
    "X_umap_df['domain'] = domains\n",
    "X_umap_df['label'] = ys.flatten()\n",
    "\n",
    "X_umap_df.head()"
   ]
  },
  {
   "cell_type": "code",
   "execution_count": 6,
   "id": "b49403d7-286d-47fb-8c42-0029c038d9ea",
   "metadata": {},
   "outputs": [
    {
     "data": {
      "text/plain": [
       "<matplotlib.legend.Legend at 0x7f32d0952550>"
      ]
     },
     "execution_count": 6,
     "metadata": {},
     "output_type": "execute_result"
    },
    {
     "data": {
      "image/png": "[encoded data removed]",
      "text/plain": [
       "<Figure size 1296x576 with 2 Axes>"
      ]
     },
     "metadata": {},
     "output_type": "display_data"
    }
   ],
   "source": [
    "sns.set({'figure.figsize': (18, 8)})\n",
    "fig, axarr = plt.subplots(1, 2)\n",
    "\n",
    "sns.scatterplot(data=X_pca_df, x='PC0', y='PC1', hue='domain', style='label', s=50, ax=axarr[0])\n",
    "sns.scatterplot(data=X_umap_df, x='UMAP0', y='UMAP1', hue='domain', style='label', s=50, ax=axarr[1])\n",
    "    \n",
    "axarr[0].set_title('PCA projection of simulated data, colored by domain')\n",
    "axarr[1].set_xlabel('PC1')\n",
    "axarr[1].set_ylabel('PC2')\n",
    "axarr[0].legend()\n",
    "axarr[1].set_title('UMAP projection of simulated data, colored by domain')\n",
    "axarr[1].set_xlabel('UMAP dimension 1')\n",
    "axarr[1].set_ylabel('UMAP dimension 2')\n",
    "axarr[1].legend()"
   ]
  },
  {
   "cell_type": "markdown",
   "id": "9073230c-5c29-4b37-b144-8f953fd093d2",
   "metadata": {},
   "source": [
    "### Random train/test splitting\n",
    "\n",
    "Just split the data randomly here, and fit some models to the split data. This gives us an idea of what baseline performance we should expect when we have access to training data from all domains."
   ]
  },
  {
   "cell_type": "code",
   "execution_count": 7,
   "id": "95468140-5938-4d4e-b073-97ef5acf8745",
   "metadata": {},
   "outputs": [
    {
     "name": "stdout",
     "output_type": "stream",
     "text": [
      "Fitting 1 folds for each of 20 candidates, totalling 20 fits\n",
      "Fitting 1 folds for each of 20 candidates, totalling 20 fits\n",
      "Fitting 1 folds for each of 20 candidates, totalling 20 fits\n",
      "Fitting 1 folds for each of 20 candidates, totalling 20 fits\n"
     ]
    },
    {
     "data": {
      "text/html": [
       "<div>\n",
       "<style scoped>\n",
       "    .dataframe tbody tr th:only-of-type {\n",
       "        vertical-align: middle;\n",
       "    }\n",
       "\n",
       "    .dataframe tbody tr th {\n",
       "        vertical-align: top;\n",
       "    }\n",
       "\n",
       "    .dataframe thead th {\n",
       "        text-align: right;\n",
       "    }\n",
       "</style>\n",
       "<table border=\"1\" class=\"dataframe\">\n",
       "  <thead>\n",
       "    <tr style=\"text-align: right;\">\n",
       "      <th></th>\n",
       "      <th>model</th>\n",
       "      <th>fold</th>\n",
       "      <th>metric</th>\n",
       "      <th>value</th>\n",
       "    </tr>\n",
       "  </thead>\n",
       "  <tbody>\n",
       "    <tr>\n",
       "      <th>0</th>\n",
       "      <td>ridge</td>\n",
       "      <td>0</td>\n",
       "      <td>train_auroc</td>\n",
       "      <td>0.758757</td>\n",
       "    </tr>\n",
       "    <tr>\n",
       "      <th>1</th>\n",
       "      <td>random_forest</td>\n",
       "      <td>0</td>\n",
       "      <td>train_auroc</td>\n",
       "      <td>0.822115</td>\n",
       "    </tr>\n",
       "    <tr>\n",
       "      <th>2</th>\n",
       "      <td>mlp</td>\n",
       "      <td>0</td>\n",
       "      <td>train_auroc</td>\n",
       "      <td>1.000000</td>\n",
       "    </tr>\n",
       "    <tr>\n",
       "      <th>3</th>\n",
       "      <td>ridge</td>\n",
       "      <td>1</td>\n",
       "      <td>train_auroc</td>\n",
       "      <td>0.719697</td>\n",
       "    </tr>\n",
       "    <tr>\n",
       "      <th>4</th>\n",
       "      <td>random_forest</td>\n",
       "      <td>1</td>\n",
       "      <td>train_auroc</td>\n",
       "      <td>0.944444</td>\n",
       "    </tr>\n",
       "  </tbody>\n",
       "</table>\n",
       "</div>"
      ],
      "text/plain": [
       "           model  fold       metric     value\n",
       "0          ridge     0  train_auroc  0.758757\n",
       "1  random_forest     0  train_auroc  0.822115\n",
       "2            mlp     0  train_auroc  1.000000\n",
       "3          ridge     1  train_auroc  0.719697\n",
       "4  random_forest     1  train_auroc  0.944444"
      ]
     },
     "execution_count": 7,
     "metadata": {},
     "output_type": "execute_result"
    }
   ],
   "source": [
    "# split dataset into train/test\n",
    "n_splits = 4\n",
    "results = []\n",
    "results_cols = None\n",
    "\n",
    "kf = KFold(n_splits=n_splits, shuffle=True, random_state=42)\n",
    "for fold, (train_ix, test_ix) in enumerate(kf.split(xs)):\n",
    "    X_train, X_test = xs[train_ix, :], xs[test_ix, :]\n",
    "    y_train, y_test = ys[train_ix, :], ys[test_ix, :]\n",
    "    \n",
    "    fit_pipeline = train_ridge(X_train, y_train.flatten(), seed=42)\n",
    "    y_pred_train = fit_pipeline.predict(X_train)\n",
    "    y_pred_test = fit_pipeline.predict(X_test)\n",
    "    metrics = get_metrics(y_train, y_test, y_pred_train, y_pred_test)\n",
    " \n",
    "    metric_cols = list(metrics.keys()) + ['model', 'fold']\n",
    "    metric_vals = list(metrics.values()) + ['ridge', fold]\n",
    "    if results_cols is None:\n",
    "        results_cols = metric_cols\n",
    "    else:\n",
    "        assert metric_cols == results_cols\n",
    "    results.append(metric_vals)\n",
    " \n",
    "    fit_pipeline = train_rf(X_train, y_train.flatten(), seed=42)\n",
    "    y_pred_train = fit_pipeline.predict(X_train)\n",
    "    y_pred_test = fit_pipeline.predict(X_test)\n",
    "    metrics = get_metrics(y_train, y_test, y_pred_train, y_pred_test)\n",
    " \n",
    "    metric_vals = list(metrics.values()) + ['random_forest', fold]\n",
    "    if results_cols is None:\n",
    "        results_cols = metric_cols\n",
    "    else:\n",
    "        assert metric_cols == results_cols\n",
    "    results.append(metric_vals)\n",
    "    \n",
    "    params = {\n",
    "        'learning_rate': [0.1, 0.01, 0.001, 5e-4, 1e-4],\n",
    "        'h1_size': [100, 200, 300, 500],\n",
    "        'dropout': [0.1, 0.5, 0.75],\n",
    "        'weight_decay': [0, 0.1, 1, 10, 100]\n",
    "    }\n",
    "    \n",
    "    fit_pipeline = train_mlp(X_train, y_train.flatten(), params, n_folds=-1, seed=42, max_iter=100)\n",
    "    y_pred_train = fit_pipeline.predict_proba(X_train.astype(np.float32))[:, 1]\n",
    "    y_pred_test = fit_pipeline.predict_proba(X_test.astype(np.float32))[:, 1]\n",
    "    metrics = get_metrics(y_train, y_test, y_pred_train, y_pred_test)\n",
    "                        \n",
    "    metric_vals = list(metrics.values()) + ['mlp', fold]\n",
    "    if results_cols is None:\n",
    "        results_cols = metric_cols\n",
    "    else:\n",
    "        assert metric_cols == results_cols\n",
    "    results.append(metric_vals)\n",
    "    \n",
    "results_df = pd.DataFrame(results, columns=results_cols)\n",
    "results_df = results_df.melt(id_vars=['model', 'fold'], var_name='metric')\n",
    "results_df.head()"
   ]
  },
  {
   "cell_type": "code",
   "execution_count": 8,
   "id": "b0fde6e4-6a2d-4971-b5ae-dd25c802a738",
   "metadata": {},
   "outputs": [
    {
     "data": {
      "text/plain": [
       "(-0.1, 1.1)"
      ]
     },
     "execution_count": 8,
     "metadata": {},
     "output_type": "execute_result"
    },
    {
     "data": {
      "image/png": "[encoded data removed]",
      "text/plain": [
       "<Figure size 864x432 with 1 Axes>"
      ]
     },
     "metadata": {},
     "output_type": "display_data"
    }
   ],
   "source": [
    "sns.set({'figure.figsize': (12, 6)})\n",
    "\n",
    "sns.boxplot(data=results_df, x='model', y='value', hue='metric')\n",
    "plt.ylim(-0.1, 1.1)"
   ]
  },
  {
   "cell_type": "markdown",
   "id": "062ab62c-8fb0-411b-80f3-6c9eda1ed410",
   "metadata": {},
   "source": [
    "### Domain holdout train/test splitting\n",
    "\n",
    "Here, we want to hold out a single domain and train on the other domains. This simulates the case when we have access to some domains during training, and we want to measure generalization to domains that we can't train on for whatever reason."
   ]
  },
  {
   "cell_type": "code",
   "execution_count": 9,
   "id": "c85a5975-7e6a-45c0-96f9-d24316d26cd6",
   "metadata": {},
   "outputs": [
    {
     "name": "stdout",
     "output_type": "stream",
     "text": [
      "Fitting 1 folds for each of 20 candidates, totalling 20 fits\n",
      "Fitting 1 folds for each of 20 candidates, totalling 20 fits\n",
      "Fitting 1 folds for each of 20 candidates, totalling 20 fits\n",
      "Fitting 1 folds for each of 20 candidates, totalling 20 fits\n"
     ]
    },
    {
     "data": {
      "text/html": [
       "<div>\n",
       "<style scoped>\n",
       "    .dataframe tbody tr th:only-of-type {\n",
       "        vertical-align: middle;\n",
       "    }\n",
       "\n",
       "    .dataframe tbody tr th {\n",
       "        vertical-align: top;\n",
       "    }\n",
       "\n",
       "    .dataframe thead th {\n",
       "        text-align: right;\n",
       "    }\n",
       "</style>\n",
       "<table border=\"1\" class=\"dataframe\">\n",
       "  <thead>\n",
       "    <tr style=\"text-align: right;\">\n",
       "      <th></th>\n",
       "      <th>model</th>\n",
       "      <th>fold</th>\n",
       "      <th>metric</th>\n",
       "      <th>value</th>\n",
       "    </tr>\n",
       "  </thead>\n",
       "  <tbody>\n",
       "    <tr>\n",
       "      <th>0</th>\n",
       "      <td>ridge</td>\n",
       "      <td>0</td>\n",
       "      <td>train_auroc</td>\n",
       "      <td>0.7550</td>\n",
       "    </tr>\n",
       "    <tr>\n",
       "      <th>1</th>\n",
       "      <td>random_forest</td>\n",
       "      <td>0</td>\n",
       "      <td>train_auroc</td>\n",
       "      <td>0.9800</td>\n",
       "    </tr>\n",
       "    <tr>\n",
       "      <th>2</th>\n",
       "      <td>mlp</td>\n",
       "      <td>0</td>\n",
       "      <td>train_auroc</td>\n",
       "      <td>0.9728</td>\n",
       "    </tr>\n",
       "    <tr>\n",
       "      <th>3</th>\n",
       "      <td>ridge</td>\n",
       "      <td>1</td>\n",
       "      <td>train_auroc</td>\n",
       "      <td>0.7550</td>\n",
       "    </tr>\n",
       "    <tr>\n",
       "      <th>4</th>\n",
       "      <td>random_forest</td>\n",
       "      <td>1</td>\n",
       "      <td>train_auroc</td>\n",
       "      <td>0.9800</td>\n",
       "    </tr>\n",
       "  </tbody>\n",
       "</table>\n",
       "</div>"
      ],
      "text/plain": [
       "           model  fold       metric   value\n",
       "0          ridge     0  train_auroc  0.7550\n",
       "1  random_forest     0  train_auroc  0.9800\n",
       "2            mlp     0  train_auroc  0.9728\n",
       "3          ridge     1  train_auroc  0.7550\n",
       "4  random_forest     1  train_auroc  0.9800"
      ]
     },
     "execution_count": 9,
     "metadata": {},
     "output_type": "execute_result"
    }
   ],
   "source": [
    "# split dataset into train/test\n",
    "n_splits = 4\n",
    "results = []\n",
    "results_cols = None\n",
    "\n",
    "holdout_domain = np.unique(domains)[-1]\n",
    "X_train = xs[domains != holdout_domain, :]\n",
    "X_holdout = xs[domains == holdout_domain, :]\n",
    "y_train = ys[domains != holdout_domain, :]\n",
    "y_holdout = ys[domains == holdout_domain, :]\n",
    "\n",
    "kf = KFold(n_splits=n_splits, shuffle=True, random_state=42)\n",
    "for fold, (_, test_ix) in enumerate(kf.split(X_holdout)):\n",
    "    X_test, y_test = X_holdout[test_ix, :], y_holdout[test_ix, :]\n",
    "\n",
    "    # train linear model with ridge penalty\n",
    "    fit_pipeline = train_ridge(X_train, y_train.flatten(), seed=42)\n",
    "    y_pred_train = fit_pipeline.predict(X_train)\n",
    "    y_pred_test = fit_pipeline.predict(X_test)\n",
    "    metrics = get_metrics(y_train, y_test, y_pred_train, y_pred_test)\n",
    "\n",
    "    metric_cols = list(metrics.keys()) + ['model', 'fold']\n",
    "    metric_vals = list(metrics.values()) + ['ridge', fold]\n",
    "    if results_cols is None:\n",
    "        results_cols = metric_cols\n",
    "    else:\n",
    "        assert metric_cols == results_cols\n",
    "    results.append(metric_vals)\n",
    "\n",
    "    # train random forest model\n",
    "    fit_pipeline = train_rf(X_train, y_train.flatten(), seed=42)\n",
    "    y_pred_train = fit_pipeline.predict(X_train)\n",
    "    y_pred_test = fit_pipeline.predict(X_test)\n",
    "    metrics = get_metrics(y_train, y_test, y_pred_train, y_pred_test)\n",
    "\n",
    "    metric_vals = list(metrics.values()) + ['random_forest', fold]\n",
    "    if results_cols is None:\n",
    "        results_cols = metric_cols\n",
    "    else:\n",
    "        assert metric_cols == results_cols\n",
    "    results.append(metric_vals)\n",
    "\n",
    "    # train 3-layer neural network model\n",
    "    params = {\n",
    "        'learning_rate': [0.1, 0.01, 0.001, 5e-4, 1e-4],\n",
    "        'h1_size': [100, 200, 300, 500],\n",
    "        'dropout': [0.1, 0.5, 0.75],\n",
    "        'weight_decay': [0, 0.1, 1, 10, 100]\n",
    "    }\n",
    "    fit_pipeline = train_mlp(X_train, y_train.flatten(), params, n_folds=-1, seed=42, max_iter=100)\n",
    "    y_pred_train = fit_pipeline.predict_proba(X_train.astype(np.float32))[:, 1]\n",
    "    y_pred_test = fit_pipeline.predict_proba(X_test.astype(np.float32))[:, 1]\n",
    "    metrics = get_metrics(y_train, y_test, y_pred_train, y_pred_test)\n",
    "\n",
    "    metric_vals = list(metrics.values()) + ['mlp', fold]\n",
    "    if results_cols is None:\n",
    "        results_cols = metric_cols\n",
    "    else:\n",
    "        assert metric_cols == results_cols\n",
    "    results.append(metric_vals)\n",
    "\n",
    "results_df = pd.DataFrame(results, columns=results_cols)\n",
    "results_df = results_df.melt(id_vars=['model', 'fold'], var_name='metric')\n",
    "results_df.head()"
   ]
  },
  {
   "cell_type": "code",
   "execution_count": 10,
   "id": "c1d1d3e2-7b5e-405d-a51c-1482e1d21bd9",
   "metadata": {},
   "outputs": [
    {
     "data": {
      "text/plain": [
       "(-0.1, 1.1)"
      ]
     },
     "execution_count": 10,
     "metadata": {},
     "output_type": "execute_result"
    },
    {
     "data": {
      "image/png": "[encoded data removed]",
      "text/plain": [
       "<Figure size 864x432 with 1 Axes>"
      ]
     },
     "metadata": {},
     "output_type": "display_data"
    }
   ],
   "source": [
    "sns.set({'figure.figsize': (12, 6)})\n",
    "\n",
    "sns.boxplot(data=results_df, x='model', y='value', hue='metric')\n",
    "plt.ylim(-0.1, 1.1)"
   ]
  },
  {
   "cell_type": "markdown",
   "id": "8ec4f513-bc47-45cf-9f47-b83f50820fde",
   "metadata": {},
   "source": [
    "### Random split with dummy covariate for domain\n",
    "\n",
    "Does providing the domain information (in the form of a dummy/one-hot variable) help performance?"
   ]
  },
  {
   "cell_type": "code",
   "execution_count": 11,
   "id": "9f724b3b-e550-4d10-a166-42708f4f7d07",
   "metadata": {},
   "outputs": [
    {
     "data": {
      "text/html": [
       "<div>\n",
       "<style scoped>\n",
       "    .dataframe tbody tr th:only-of-type {\n",
       "        vertical-align: middle;\n",
       "    }\n",
       "\n",
       "    .dataframe tbody tr th {\n",
       "        vertical-align: top;\n",
       "    }\n",
       "\n",
       "    .dataframe thead th {\n",
       "        text-align: right;\n",
       "    }\n",
       "</style>\n",
       "<table border=\"1\" class=\"dataframe\">\n",
       "  <thead>\n",
       "    <tr style=\"text-align: right;\">\n",
       "      <th></th>\n",
       "      <th>0</th>\n",
       "      <th>1</th>\n",
       "      <th>2</th>\n",
       "      <th>3</th>\n",
       "      <th>4</th>\n",
       "    </tr>\n",
       "  </thead>\n",
       "  <tbody>\n",
       "    <tr>\n",
       "      <th>0</th>\n",
       "      <td>1</td>\n",
       "      <td>0</td>\n",
       "      <td>0</td>\n",
       "      <td>0</td>\n",
       "      <td>0</td>\n",
       "    </tr>\n",
       "    <tr>\n",
       "      <th>1</th>\n",
       "      <td>1</td>\n",
       "      <td>0</td>\n",
       "      <td>0</td>\n",
       "      <td>0</td>\n",
       "      <td>0</td>\n",
       "    </tr>\n",
       "    <tr>\n",
       "      <th>2</th>\n",
       "      <td>1</td>\n",
       "      <td>0</td>\n",
       "      <td>0</td>\n",
       "      <td>0</td>\n",
       "      <td>0</td>\n",
       "    </tr>\n",
       "    <tr>\n",
       "      <th>3</th>\n",
       "      <td>1</td>\n",
       "      <td>0</td>\n",
       "      <td>0</td>\n",
       "      <td>0</td>\n",
       "      <td>0</td>\n",
       "    </tr>\n",
       "    <tr>\n",
       "      <th>4</th>\n",
       "      <td>1</td>\n",
       "      <td>0</td>\n",
       "      <td>0</td>\n",
       "      <td>0</td>\n",
       "      <td>0</td>\n",
       "    </tr>\n",
       "  </tbody>\n",
       "</table>\n",
       "</div>"
      ],
      "text/plain": [
       "   0  1  2  3  4\n",
       "0  1  0  0  0  0\n",
       "1  1  0  0  0  0\n",
       "2  1  0  0  0  0\n",
       "3  1  0  0  0  0\n",
       "4  1  0  0  0  0"
      ]
     },
     "execution_count": 11,
     "metadata": {},
     "output_type": "execute_result"
    }
   ],
   "source": [
    "x_covariates = pd.get_dummies(domains)\n",
    "x_covariates.head()"
   ]
  },
  {
   "cell_type": "code",
   "execution_count": 12,
   "id": "ece8562e-a077-4898-89ae-f3ece117d9fd",
   "metadata": {},
   "outputs": [
    {
     "name": "stdout",
     "output_type": "stream",
     "text": [
      "[[ 2.39323546 -1.61411072 -1.1969748   0.36920496 -2.63395221 -1.5963017\n",
      "   0.59131938 -1.93511878 -3.15978006 -1.99743127 -7.10115689  0.20083335\n",
      "  -3.26078107  0.97871908  1.5051829  -3.13565896  2.56374882  4.60429212\n",
      "   0.4563322   6.106903    1.          0.          0.          0.\n",
      "   0.        ]\n",
      " [-0.74608752 -2.00149447 -2.10345026  4.26448022 -3.83833616 -4.09228182\n",
      "   3.65864226  3.5360787   0.82162173 -1.94708364 -0.90095429 -2.20734653\n",
      "  -8.36881425  1.20675988 -0.61312338 -3.89091905  5.41791725  4.52842032\n",
      "   1.74425561  2.74506322  1.          0.          0.          0.\n",
      "   0.        ]\n",
      " [ 1.57053367  1.24901487 -0.16932488  3.61469372 -3.45080186 -0.43522114\n",
      "  -1.45054006  4.45593815  1.8346469  -3.70321197 -0.65340355 -2.57355928\n",
      "  -5.58012845  0.30652936 -1.87949337 -3.32790278  3.94893008  4.0520278\n",
      "  -2.50998912  3.84894223  1.          0.          0.          0.\n",
      "   0.        ]\n",
      " [-0.53381692 -2.67608927 -1.69545508  1.47955195 -4.06023996 -3.52078252\n",
      "  -0.42966267  3.71400554 -0.26694107 -4.9724634   2.02475641 -2.26049587\n",
      "  -3.54410311  0.38656627 -2.54002603 -4.74515829 -0.28596187  9.92670808\n",
      "  -2.26450025  4.11859115  1.          0.          0.          0.\n",
      "   0.        ]\n",
      " [ 1.75941129 -4.59532314 -2.60062117  1.42792509 -3.08658503 -2.88518443\n",
      "  -0.28486269  5.1563668  -1.42287031 -0.92095122  0.84802079 -2.61594767\n",
      "  -6.18635589 -2.6396467  -4.75995046 -2.45319357  1.56258475  6.1932412\n",
      "  -2.42172007  4.55365086  1.          0.          0.          0.\n",
      "   0.        ]]\n"
     ]
    }
   ],
   "source": [
    "xs_fixed = np.concatenate((xs, x_covariates.values), axis=1)\n",
    "print(xs_fixed[:5, :]) "
   ]
  },
  {
   "cell_type": "code",
   "execution_count": 13,
   "id": "9e858270-c555-4dc2-8fd8-2d58d541ffe4",
   "metadata": {},
   "outputs": [
    {
     "name": "stdout",
     "output_type": "stream",
     "text": [
      "Fitting 1 folds for each of 20 candidates, totalling 20 fits\n",
      "Fitting 1 folds for each of 20 candidates, totalling 20 fits\n",
      "Fitting 1 folds for each of 20 candidates, totalling 20 fits\n",
      "Fitting 1 folds for each of 20 candidates, totalling 20 fits\n"
     ]
    },
    {
     "data": {
      "text/html": [
       "<div>\n",
       "<style scoped>\n",
       "    .dataframe tbody tr th:only-of-type {\n",
       "        vertical-align: middle;\n",
       "    }\n",
       "\n",
       "    .dataframe tbody tr th {\n",
       "        vertical-align: top;\n",
       "    }\n",
       "\n",
       "    .dataframe thead th {\n",
       "        text-align: right;\n",
       "    }\n",
       "</style>\n",
       "<table border=\"1\" class=\"dataframe\">\n",
       "  <thead>\n",
       "    <tr style=\"text-align: right;\">\n",
       "      <th></th>\n",
       "      <th>model</th>\n",
       "      <th>fold</th>\n",
       "      <th>metric</th>\n",
       "      <th>value</th>\n",
       "    </tr>\n",
       "  </thead>\n",
       "  <tbody>\n",
       "    <tr>\n",
       "      <th>0</th>\n",
       "      <td>ridge</td>\n",
       "      <td>0</td>\n",
       "      <td>train_auroc</td>\n",
       "      <td>0.758757</td>\n",
       "    </tr>\n",
       "    <tr>\n",
       "      <th>1</th>\n",
       "      <td>random_forest</td>\n",
       "      <td>0</td>\n",
       "      <td>train_auroc</td>\n",
       "      <td>0.849302</td>\n",
       "    </tr>\n",
       "    <tr>\n",
       "      <th>2</th>\n",
       "      <td>mlp</td>\n",
       "      <td>0</td>\n",
       "      <td>train_auroc</td>\n",
       "      <td>0.979167</td>\n",
       "    </tr>\n",
       "    <tr>\n",
       "      <th>3</th>\n",
       "      <td>ridge</td>\n",
       "      <td>1</td>\n",
       "      <td>train_auroc</td>\n",
       "      <td>0.741793</td>\n",
       "    </tr>\n",
       "    <tr>\n",
       "      <th>4</th>\n",
       "      <td>random_forest</td>\n",
       "      <td>1</td>\n",
       "      <td>train_auroc</td>\n",
       "      <td>0.957071</td>\n",
       "    </tr>\n",
       "  </tbody>\n",
       "</table>\n",
       "</div>"
      ],
      "text/plain": [
       "           model  fold       metric     value\n",
       "0          ridge     0  train_auroc  0.758757\n",
       "1  random_forest     0  train_auroc  0.849302\n",
       "2            mlp     0  train_auroc  0.979167\n",
       "3          ridge     1  train_auroc  0.741793\n",
       "4  random_forest     1  train_auroc  0.957071"
      ]
     },
     "execution_count": 13,
     "metadata": {},
     "output_type": "execute_result"
    }
   ],
   "source": [
    "# split dataset into train/test\n",
    "# this time with a covariate for domain membership (this should help performance)\n",
    "results = []\n",
    "results_cols = None\n",
    "\n",
    "kf = KFold(n_splits=n_splits, shuffle=True, random_state=42)\n",
    "for fold, (train_ix, test_ix) in enumerate(kf.split(xs_fixed)):\n",
    "    X_train, X_test = xs_fixed[train_ix, :], xs_fixed[test_ix, :]\n",
    "    y_train, y_test = ys[train_ix, :], ys[test_ix, :]\n",
    "    \n",
    "    fit_pipeline = train_ridge(X_train, y_train.flatten(), seed=42)\n",
    "    y_pred_train = fit_pipeline.predict(X_train)\n",
    "    y_pred_test = fit_pipeline.predict(X_test)\n",
    "    metrics = get_metrics(y_train, y_test, y_pred_train, y_pred_test)\n",
    "    \n",
    "    metric_cols = list(metrics.keys()) + ['model', 'fold']\n",
    "    metric_vals = list(metrics.values()) + ['ridge', fold]\n",
    "    if results_cols is None:\n",
    "        results_cols = metric_cols\n",
    "    else:\n",
    "        assert metric_cols == results_cols\n",
    "    results.append(metric_vals)\n",
    "    \n",
    "    fit_pipeline = train_rf(X_train, y_train.flatten(), seed=42)\n",
    "    y_pred_train = fit_pipeline.predict(X_train)\n",
    "    y_pred_test = fit_pipeline.predict(X_test)\n",
    "    metrics = get_metrics(y_train, y_test, y_pred_train, y_pred_test)\n",
    "                        \n",
    "    metric_vals = list(metrics.values()) + ['random_forest', fold]\n",
    "    if results_cols is None:\n",
    "        results_cols = metric_cols\n",
    "    else:\n",
    "        assert metric_cols == results_cols\n",
    "    results.append(metric_vals)\n",
    "    \n",
    "    fit_pipeline = train_mlp(X_train, y_train.flatten(), params, n_folds=-1, seed=42, max_iter=100)\n",
    "    y_pred_train = fit_pipeline.predict_proba(X_train.astype(np.float32))[:, 1]\n",
    "    y_pred_test = fit_pipeline.predict_proba(X_test.astype(np.float32))[:, 1]\n",
    "    metrics = get_metrics(y_train, y_test, y_pred_train, y_pred_test)\n",
    "                        \n",
    "    metric_vals = list(metrics.values()) + ['mlp', fold]\n",
    "    if results_cols is None:\n",
    "        results_cols = metric_cols\n",
    "    else:\n",
    "        assert metric_cols == results_cols\n",
    "    results.append(metric_vals)\n",
    "    \n",
    "results_df = pd.DataFrame(results, columns=results_cols)\n",
    "results_df = results_df.melt(id_vars=['model', 'fold'], var_name='metric')\n",
    "results_df.head()"
   ]
  },
  {
   "cell_type": "code",
   "execution_count": 14,
   "id": "39746687-6271-4f2d-90a6-a71b6dd93fe2",
   "metadata": {},
   "outputs": [
    {
     "data": {
      "text/plain": [
       "(-0.1, 1.1)"
      ]
     },
     "execution_count": 14,
     "metadata": {},
     "output_type": "execute_result"
    },
    {
     "data": {
      "image/png": "[encoded data removed]",
      "text/plain": [
       "<Figure size 864x432 with 1 Axes>"
      ]
     },
     "metadata": {},
     "output_type": "display_data"
    }
   ],
   "source": [
    "sns.set({'figure.figsize': (12, 6)})\n",
    "\n",
    "sns.boxplot(data=results_df, x='model', y='value', hue='metric')\n",
    "plt.ylim(-0.1, 1.1)"
   ]
  }
 ],
 "metadata": {
  "kernelspec": {
   "display_name": "Python [conda env:pc-eval]",
   "language": "python",
   "name": "conda-env-pc-eval-py"
  },
  "language_info": {
   "codemirror_mode": {
    "name": "ipython",
    "version": 3
   },
   "file_extension": ".py",
   "mimetype": "text/x-python",
   "name": "python",
   "nbconvert_exporter": "python",
   "pygments_lexer": "ipython3",
   "version": "3.8.13"
  }
 },
 "nbformat": 4,
 "nbformat_minor": 5
}
