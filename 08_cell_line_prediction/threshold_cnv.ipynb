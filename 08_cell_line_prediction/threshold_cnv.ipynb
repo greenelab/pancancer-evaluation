{
 "cells": [
  {
   "cell_type": "markdown",
   "id": "aa97b7b5-3aef-411f-9dcb-6639a63fc363",
   "metadata": {},
   "source": [
    "### Threshold CCLE CNV log-ratios into binary gain/loss calls"
   ]
  },
  {
   "cell_type": "code",
   "execution_count": 1,
   "id": "19dc4452-80c4-446b-bf14-7507335873b3",
   "metadata": {
    "tags": []
   },
   "outputs": [],
   "source": [
    "import os\n",
    "import sys\n",
    "\n",
    "import pandas as pd\n",
    "import numpy as np\n",
    "import matplotlib.pyplot as plt\n",
    "import seaborn as sns\n",
    "\n",
    "import pancancer_evaluation.config as cfg"
   ]
  },
  {
   "cell_type": "code",
   "execution_count": 2,
   "id": "33bb4b23-fa78-4659-aef3-97314403f19f",
   "metadata": {},
   "outputs": [
    {
     "name": "stdout",
     "output_type": "stream",
     "text": [
      "(1775, 25368)\n",
      "Index(['DDX11L1 (84771)', 'WASH7P (653635)', 'MIR6859-1 (102466751)',\n",
      "       'MIR1302-2 (100302278)', 'FAM138A (645520)', 'OR4F5 (79501)',\n",
      "       'WASH9P (102723897)', 'MIR6859-2 (102465909)', 'OR4F29 (729759)',\n",
      "       'AL669831.3 (101928626)',\n",
      "       ...\n",
      "       'BPY2C (442868)', 'TTTY4C (474150)', 'CSPG4P1Y (114758)', 'CDY1 (9085)',\n",
      "       'TTTY3 (114760)', 'SNORD38B (94163)', 'SCARNA4 (677771)',\n",
      "       'SNORA50A (677830)', 'SNORD3D (780854)', 'POLR2J3 (548644)'],\n",
      "      dtype='object', length=25368)\n"
     ]
    },
    {
     "data": {
      "text/html": [
       "<div>\n",
       "<style scoped>\n",
       "    .dataframe tbody tr th:only-of-type {\n",
       "        vertical-align: middle;\n",
       "    }\n",
       "\n",
       "    .dataframe tbody tr th {\n",
       "        vertical-align: top;\n",
       "    }\n",
       "\n",
       "    .dataframe thead th {\n",
       "        text-align: right;\n",
       "    }\n",
       "</style>\n",
       "<table border=\"1\" class=\"dataframe\">\n",
       "  <thead>\n",
       "    <tr style=\"text-align: right;\">\n",
       "      <th></th>\n",
       "      <th>DDX11L1 (84771)</th>\n",
       "      <th>WASH7P (653635)</th>\n",
       "      <th>MIR6859-1 (102466751)</th>\n",
       "      <th>MIR1302-2 (100302278)</th>\n",
       "      <th>FAM138A (645520)</th>\n",
       "    </tr>\n",
       "  </thead>\n",
       "  <tbody>\n",
       "    <tr>\n",
       "      <th>ACH-000759</th>\n",
       "      <td>1.675758</td>\n",
       "      <td>1.675758</td>\n",
       "      <td>1.675758</td>\n",
       "      <td>1.675758</td>\n",
       "      <td>1.675758</td>\n",
       "    </tr>\n",
       "    <tr>\n",
       "      <th>ACH-000681</th>\n",
       "      <td>0.775472</td>\n",
       "      <td>0.775472</td>\n",
       "      <td>0.775472</td>\n",
       "      <td>0.775472</td>\n",
       "      <td>0.775472</td>\n",
       "    </tr>\n",
       "    <tr>\n",
       "      <th>ACH-000769</th>\n",
       "      <td>2.988233</td>\n",
       "      <td>2.988233</td>\n",
       "      <td>2.988233</td>\n",
       "      <td>2.988233</td>\n",
       "      <td>2.988233</td>\n",
       "    </tr>\n",
       "    <tr>\n",
       "      <th>ACH-002291</th>\n",
       "      <td>0.790799</td>\n",
       "      <td>0.790799</td>\n",
       "      <td>0.790799</td>\n",
       "      <td>0.790799</td>\n",
       "      <td>0.790799</td>\n",
       "    </tr>\n",
       "    <tr>\n",
       "      <th>ACH-000853</th>\n",
       "      <td>1.083618</td>\n",
       "      <td>1.083618</td>\n",
       "      <td>1.083618</td>\n",
       "      <td>1.083618</td>\n",
       "      <td>1.083618</td>\n",
       "    </tr>\n",
       "  </tbody>\n",
       "</table>\n",
       "</div>"
      ],
      "text/plain": [
       "            DDX11L1 (84771)  WASH7P (653635)  MIR6859-1 (102466751)  \\\n",
       "ACH-000759         1.675758         1.675758               1.675758   \n",
       "ACH-000681         0.775472         0.775472               0.775472   \n",
       "ACH-000769         2.988233         2.988233               2.988233   \n",
       "ACH-002291         0.790799         0.790799               0.790799   \n",
       "ACH-000853         1.083618         1.083618               1.083618   \n",
       "\n",
       "            MIR1302-2 (100302278)  FAM138A (645520)  \n",
       "ACH-000759               1.675758          1.675758  \n",
       "ACH-000681               0.775472          0.775472  \n",
       "ACH-000769               2.988233          2.988233  \n",
       "ACH-002291               0.790799          0.790799  \n",
       "ACH-000853               1.083618          1.083618  "
      ]
     },
     "execution_count": 2,
     "metadata": {},
     "output_type": "execute_result"
    }
   ],
   "source": [
    "if os.path.isfile(cfg.ccle_cnv_ratios):\n",
    "    ccle_cnv_df = pd.read_csv(cfg.ccle_cnv_ratios, sep=',', index_col=0)\n",
    "else:\n",
    "    print('Loading CNV info from CCLE download page...', file=sys.stderr)\n",
    "    # URL from CCLE public download data:\n",
    "    # https://depmap.org/portal/download/\n",
    "    ccle_cnv_df = pd.read_csv(\n",
    "        'https://figshare.com/ndownloader/files/38357438',\n",
    "        sep=',', index_col=0\n",
    "    )\n",
    "    os.makedirs(os.path.join(cfg.data_dir, 'ccle'), exist_ok=True)\n",
    "    ccle_cnv_df.to_csv(cfg.ccle_cnv_ratios)\n",
    "\n",
    "print(ccle_cnv_df.shape)\n",
    "print(ccle_cnv_df.columns)\n",
    "ccle_cnv_df.iloc[:5, :5]"
   ]
  },
  {
   "cell_type": "code",
   "execution_count": 3,
   "id": "6b9cb23b-dd95-4345-88f9-778a802c0fb9",
   "metadata": {},
   "outputs": [
    {
     "data": {
      "image/png": "[encoded data removed]",
      "text/plain": [
       "<Figure size 1200x600 with 1 Axes>"
      ]
     },
     "metadata": {},
     "output_type": "display_data"
    }
   ],
   "source": [
    "sns.set({'figure.figsize': (12, 6)})\n",
    "ratio_samples = np.random.choice(ccle_cnv_df.values.flatten(), size=100000)\n",
    "g = sns.histplot(ratio_samples, bins=50)\n",
    "g.set_yscale('log')"
   ]
  },
  {
   "cell_type": "code",
   "execution_count": 4,
   "id": "9a74dff4-bb19-4a8f-9af1-30ca1695ad9b",
   "metadata": {},
   "outputs": [
    {
     "name": "stdout",
     "output_type": "stream",
     "text": [
      "(array([0, 1]), array([43930274,  1097926]))\n"
     ]
    },
    {
     "data": {
      "text/html": [
       "<div>\n",
       "<style scoped>\n",
       "    .dataframe tbody tr th:only-of-type {\n",
       "        vertical-align: middle;\n",
       "    }\n",
       "\n",
       "    .dataframe tbody tr th {\n",
       "        vertical-align: top;\n",
       "    }\n",
       "\n",
       "    .dataframe thead th {\n",
       "        text-align: right;\n",
       "    }\n",
       "</style>\n",
       "<table border=\"1\" class=\"dataframe\">\n",
       "  <thead>\n",
       "    <tr style=\"text-align: right;\">\n",
       "      <th></th>\n",
       "      <th>DDX11L1</th>\n",
       "      <th>WASH7P</th>\n",
       "      <th>MIR6859-1</th>\n",
       "      <th>MIR1302-2</th>\n",
       "      <th>FAM138A</th>\n",
       "    </tr>\n",
       "  </thead>\n",
       "  <tbody>\n",
       "    <tr>\n",
       "      <th>ACH-000759</th>\n",
       "      <td>0</td>\n",
       "      <td>0</td>\n",
       "      <td>0</td>\n",
       "      <td>0</td>\n",
       "      <td>0</td>\n",
       "    </tr>\n",
       "    <tr>\n",
       "      <th>ACH-000681</th>\n",
       "      <td>0</td>\n",
       "      <td>0</td>\n",
       "      <td>0</td>\n",
       "      <td>0</td>\n",
       "      <td>0</td>\n",
       "    </tr>\n",
       "    <tr>\n",
       "      <th>ACH-000769</th>\n",
       "      <td>0</td>\n",
       "      <td>0</td>\n",
       "      <td>0</td>\n",
       "      <td>0</td>\n",
       "      <td>0</td>\n",
       "    </tr>\n",
       "    <tr>\n",
       "      <th>ACH-002291</th>\n",
       "      <td>0</td>\n",
       "      <td>0</td>\n",
       "      <td>0</td>\n",
       "      <td>0</td>\n",
       "      <td>0</td>\n",
       "    </tr>\n",
       "    <tr>\n",
       "      <th>ACH-000853</th>\n",
       "      <td>0</td>\n",
       "      <td>0</td>\n",
       "      <td>0</td>\n",
       "      <td>0</td>\n",
       "      <td>0</td>\n",
       "    </tr>\n",
       "  </tbody>\n",
       "</table>\n",
       "</div>"
      ],
      "text/plain": [
       "            DDX11L1  WASH7P  MIR6859-1  MIR1302-2  FAM138A\n",
       "ACH-000759        0       0          0          0        0\n",
       "ACH-000681        0       0          0          0        0\n",
       "ACH-000769        0       0          0          0        0\n",
       "ACH-002291        0       0          0          0        0\n",
       "ACH-000853        0       0          0          0        0"
      ]
     },
     "execution_count": 4,
     "metadata": {},
     "output_type": "execute_result"
    }
   ],
   "source": [
    "# we're using both of these just as rough thresholds that seem to work well\n",
    "# (i.e. give a decent number of samples labeled as 0/1), since observed\n",
    "# log-ratios are dependent on tumor purity even in full CN gain/loss situations\n",
    "\n",
    "# log_2(5/2) = log_2(1 + 3/2), or a full copy gain\n",
    "gain_threshold = 1.322\n",
    "\n",
    "# log_2(3/2) = log_2(1 + 1/2), or a full copy loss\n",
    "loss_threshold = 0.585\n",
    "\n",
    "copy_loss_df = (ccle_cnv_df\n",
    "    .fillna(0)\n",
    "    .astype(float)\n",
    "    .where(ccle_cnv_df < loss_threshold, 0)\n",
    "    .where(ccle_cnv_df >= loss_threshold, 1)\n",
    "    .astype(int)\n",
    ")\n",
    "\n",
    "# just use gene symbols as column names\n",
    "copy_loss_df.columns = copy_loss_df.columns.str.split(' ', expand=True).get_level_values(0)\n",
    "\n",
    "print(np.unique(copy_loss_df.values.flatten(), return_counts=True))\n",
    "copy_loss_df.iloc[:5, :5]"
   ]
  },
  {
   "cell_type": "code",
   "execution_count": 5,
   "id": "2f8625a7-06f6-4893-ab46-a4d82707bb88",
   "metadata": {},
   "outputs": [
    {
     "data": {
      "text/plain": [
       "59"
      ]
     },
     "execution_count": 5,
     "metadata": {},
     "output_type": "execute_result"
    }
   ],
   "source": [
    "copy_loss_df.sum()['TP53']"
   ]
  },
  {
   "cell_type": "code",
   "execution_count": 6,
   "id": "05442734-7c55-447c-a0a4-4ddc0af2f6b6",
   "metadata": {},
   "outputs": [],
   "source": [
    "copy_loss_df.to_csv(cfg.ccle_cnv_loss, sep='\\t')"
   ]
  },
  {
   "cell_type": "code",
   "execution_count": 7,
   "id": "5bc36c4e-81b2-4782-8991-a88ef185fbe4",
   "metadata": {},
   "outputs": [
    {
     "name": "stdout",
     "output_type": "stream",
     "text": [
      "(array([0, 1]), array([42760550,  2267650]))\n"
     ]
    },
    {
     "data": {
      "text/html": [
       "<div>\n",
       "<style scoped>\n",
       "    .dataframe tbody tr th:only-of-type {\n",
       "        vertical-align: middle;\n",
       "    }\n",
       "\n",
       "    .dataframe tbody tr th {\n",
       "        vertical-align: top;\n",
       "    }\n",
       "\n",
       "    .dataframe thead th {\n",
       "        text-align: right;\n",
       "    }\n",
       "</style>\n",
       "<table border=\"1\" class=\"dataframe\">\n",
       "  <thead>\n",
       "    <tr style=\"text-align: right;\">\n",
       "      <th></th>\n",
       "      <th>DDX11L1</th>\n",
       "      <th>WASH7P</th>\n",
       "      <th>MIR6859-1</th>\n",
       "      <th>MIR1302-2</th>\n",
       "      <th>FAM138A</th>\n",
       "    </tr>\n",
       "  </thead>\n",
       "  <tbody>\n",
       "    <tr>\n",
       "      <th>ACH-000759</th>\n",
       "      <td>1</td>\n",
       "      <td>1</td>\n",
       "      <td>1</td>\n",
       "      <td>1</td>\n",
       "      <td>1</td>\n",
       "    </tr>\n",
       "    <tr>\n",
       "      <th>ACH-000681</th>\n",
       "      <td>0</td>\n",
       "      <td>0</td>\n",
       "      <td>0</td>\n",
       "      <td>0</td>\n",
       "      <td>0</td>\n",
       "    </tr>\n",
       "    <tr>\n",
       "      <th>ACH-000769</th>\n",
       "      <td>1</td>\n",
       "      <td>1</td>\n",
       "      <td>1</td>\n",
       "      <td>1</td>\n",
       "      <td>1</td>\n",
       "    </tr>\n",
       "    <tr>\n",
       "      <th>ACH-002291</th>\n",
       "      <td>0</td>\n",
       "      <td>0</td>\n",
       "      <td>0</td>\n",
       "      <td>0</td>\n",
       "      <td>0</td>\n",
       "    </tr>\n",
       "    <tr>\n",
       "      <th>ACH-000853</th>\n",
       "      <td>0</td>\n",
       "      <td>0</td>\n",
       "      <td>0</td>\n",
       "      <td>0</td>\n",
       "      <td>0</td>\n",
       "    </tr>\n",
       "  </tbody>\n",
       "</table>\n",
       "</div>"
      ],
      "text/plain": [
       "            DDX11L1  WASH7P  MIR6859-1  MIR1302-2  FAM138A\n",
       "ACH-000759        1       1          1          1        1\n",
       "ACH-000681        0       0          0          0        0\n",
       "ACH-000769        1       1          1          1        1\n",
       "ACH-002291        0       0          0          0        0\n",
       "ACH-000853        0       0          0          0        0"
      ]
     },
     "execution_count": 7,
     "metadata": {},
     "output_type": "execute_result"
    }
   ],
   "source": [
    "copy_gain_df = (ccle_cnv_df\n",
    "    .fillna(0)\n",
    "    .astype(float)\n",
    "    .where(ccle_cnv_df > gain_threshold, 0)\n",
    "    .where(ccle_cnv_df <= gain_threshold, 1)\n",
    "    .astype(int)\n",
    ")\n",
    "\n",
    "# get rid of entrez IDs and just use gene symbols as column names \n",
    "copy_gain_df.columns = copy_gain_df.columns.str.split(' ', expand=True).get_level_values(0)\n",
    "\n",
    "print(np.unique(copy_gain_df.values.flatten(), return_counts=True))\n",
    "copy_gain_df.iloc[:5, :5]"
   ]
  },
  {
   "cell_type": "code",
   "execution_count": 8,
   "id": "8f43ce0e-6aa5-471c-b371-9ae6dc5d6b02",
   "metadata": {},
   "outputs": [
    {
     "data": {
      "text/plain": [
       "192"
      ]
     },
     "execution_count": 8,
     "metadata": {},
     "output_type": "execute_result"
    }
   ],
   "source": [
    "copy_gain_df.sum()['KRAS']"
   ]
  },
  {
   "cell_type": "code",
   "execution_count": 9,
   "id": "035e4a47-460f-46a4-801f-93bc45d5c980",
   "metadata": {},
   "outputs": [],
   "source": [
    "copy_gain_df.to_csv(cfg.ccle_cnv_gain, sep='\\t')"
   ]
  }
 ],
 "metadata": {
  "kernelspec": {
   "display_name": "Python [conda env:pc2]",
   "language": "python",
   "name": "conda-env-pc2-py"
  },
  "language_info": {
   "codemirror_mode": {
    "name": "ipython",
    "version": 3
   },
   "file_extension": ".py",
   "mimetype": "text/x-python",
   "name": "python",
   "nbconvert_exporter": "python",
   "pygments_lexer": "ipython3",
   "version": "3.9.15"
  }
 },
 "nbformat": 4,
 "nbformat_minor": 5
}
