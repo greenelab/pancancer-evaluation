{
 "cells": [
  {
   "cell_type": "markdown",
   "id": "ef5a4521-5312-4726-a7f9-a3e5b2c3fd9b",
   "metadata": {},
   "source": [
    "## Download and preprocess drug response data from GDSC\n",
    "\n",
    "* Drug responses come from processed data in [Sharifi-Noghabi et al. 2019](https://doi.org/10.1093/bioinformatics/btz318)\n",
    "* Cell lines are binarized into resistant/sensitive for each drug as described in [Iorio et al. 2016](https://doi.org/10.1016/j.cell.2016.06.017) (see Table S5 and associated supplementary details)"
   ]
  },
  {
   "cell_type": "code",
   "execution_count": 1,
   "id": "1b2e698e-c79e-4027-9b7c-abc06debc8d2",
   "metadata": {
    "tags": []
   },
   "outputs": [],
   "source": [
    "import glob\n",
    "import os\n",
    "import sys\n",
    "\n",
    "import numpy as np\n",
    "import pandas as pd\n",
    "import matplotlib.pyplot as plt\n",
    "import seaborn as sns\n",
    "\n",
    "import pancancer_evaluation.config as cfg"
   ]
  },
  {
   "cell_type": "code",
   "execution_count": 2,
   "id": "54cc0535-9340-4853-ad5a-08ed2b2930c9",
   "metadata": {
    "tags": [
     "parameters"
    ]
   },
   "outputs": [],
   "source": [
    "# drug to visualize sample proportions for\n",
    "# valid drugs: 5-Fluorouracil, Afatinib, Bortezomib, Cetuximab, Cisplatin, Docetaxel,\n",
    "# EGFRi, Erlotinib, Gefitinib, Gemcitabine, Lapatinib, Paclitaxel, Tamoxifen\n",
    "drug_name = 'EGFRi'\n",
    "\n",
    "# where to save plots\n",
    "output_plots = False\n",
    "output_plots_dir = (\n",
    "    cfg.repo_root / '08_cell_line_prediction' / 'drug_response_dists'\n",
    ")\n",
    "output_plots_dir.mkdir(exist_ok=True)"
   ]
  },
  {
   "cell_type": "markdown",
   "id": "e840274a-de2a-4577-ad71-2a3277bc69b3",
   "metadata": {
    "tags": [
     "parameters"
    ]
   },
   "source": [
    "### Download drug response data"
   ]
  },
  {
   "cell_type": "code",
   "execution_count": 3,
   "id": "8dfcb2b7-9363-411b-a0cd-f93a2faa7b42",
   "metadata": {
    "tags": [
     "parameters"
    ]
   },
   "outputs": [
    {
     "name": "stdout",
     "output_type": "stream",
     "text": [
      "Downloaded response data from MOLI paper already exists, skipping download\n"
     ]
    }
   ],
   "source": [
    "drug_response_file = cfg.cell_line_drug_response / 'response.tar.gz'\n",
    "decompress_dir = cfg.cell_line_drug_response / 'raw_response'\n",
    "\n",
    "if not os.path.exists(drug_response_file):\n",
    "    cfg.cell_line_drug_response.mkdir(exist_ok=True)\n",
    "    \n",
    "    # retrieve compressed response data\n",
    "    from urllib.request import urlretrieve\n",
    "    url = 'https://zenodo.org/record/4036592/files/response.tar.gz?download=1'\n",
    "    urlretrieve(url, drug_response_file)\n",
    "    \n",
    "    # decompress response data\n",
    "    decompressed_location = cfg.cell_line_drug_response / 'response'\n",
    "    !tar -xvzf $drug_response_file -C $cfg.cell_line_drug_response\n",
    "    !mv $decompressed_location $decompress_dir\n",
    "else:\n",
    "    print('Downloaded response data from MOLI paper already exists, skipping download')"
   ]
  },
  {
   "cell_type": "markdown",
   "id": "4ab703b9-b4eb-4c80-840a-b1d6768b0ddd",
   "metadata": {
    "tags": [
     "parameters"
    ]
   },
   "source": [
    "### Merge drug response files into binary matrix"
   ]
  },
  {
   "cell_type": "code",
   "execution_count": 4,
   "id": "65384c86-94d1-4ba7-a671-e96237f2555b",
   "metadata": {
    "tags": [
     "parameters"
    ]
   },
   "outputs": [
    {
     "name": "stdout",
     "output_type": "stream",
     "text": [
      "(954, 15)\n"
     ]
    },
    {
     "name": "stderr",
     "output_type": "stream",
     "text": [
      "/home/jake/research/pancancer-evaluation/data/ccle/drug_response/raw_response/GDSC_response.Trametinib_2.tsv\n",
      "/home/jake/research/pancancer-evaluation/data/ccle/drug_response/raw_response/GDSC_response.Gefitinib.tsv\n",
      "/home/jake/research/pancancer-evaluation/data/ccle/drug_response/raw_response/GDSC_response.Afatinib.tsv\n",
      "/home/jake/research/pancancer-evaluation/data/ccle/drug_response/raw_response/GDSC_response.Paclitaxel.tsv\n",
      "/home/jake/research/pancancer-evaluation/data/ccle/drug_response/raw_response/GDSC_response.5-Fluorouracil.tsv\n",
      "/home/jake/research/pancancer-evaluation/data/ccle/drug_response/raw_response/GDSC_response.Cetuximab.tsv\n",
      "/home/jake/research/pancancer-evaluation/data/ccle/drug_response/raw_response/GDSC_response.AZD6244_0.tsv\n",
      "/home/jake/research/pancancer-evaluation/data/ccle/drug_response/raw_response/GDSC_response.Erlotinib.tsv\n",
      "/home/jake/research/pancancer-evaluation/data/ccle/drug_response/raw_response/GDSC_response.EGFRi.tsv\n",
      "/home/jake/research/pancancer-evaluation/data/ccle/drug_response/raw_response/GDSC_response.Bortezomib.tsv\n",
      "/home/jake/research/pancancer-evaluation/data/ccle/drug_response/raw_response/GDSC_response.Docetaxel.tsv\n",
      "/home/jake/research/pancancer-evaluation/data/ccle/drug_response/raw_response/GDSC_response.Lapatinib.tsv\n",
      "/home/jake/research/pancancer-evaluation/data/ccle/drug_response/raw_response/GDSC_response.Cisplatin.tsv\n",
      "/home/jake/research/pancancer-evaluation/data/ccle/drug_response/raw_response/GDSC_response.Tamoxifen.tsv\n",
      "/home/jake/research/pancancer-evaluation/data/ccle/drug_response/raw_response/GDSC_response.AZD6244_1.tsv\n",
      "/home/jake/research/pancancer-evaluation/data/ccle/drug_response/raw_response/GDSC_response.Gemcitabine.tsv\n"
     ]
    },
    {
     "data": {
      "text/html": [
       "<div>\n",
       "<style scoped>\n",
       "    .dataframe tbody tr th:only-of-type {\n",
       "        vertical-align: middle;\n",
       "    }\n",
       "\n",
       "    .dataframe tbody tr th {\n",
       "        vertical-align: top;\n",
       "    }\n",
       "\n",
       "    .dataframe thead th {\n",
       "        text-align: right;\n",
       "    }\n",
       "</style>\n",
       "<table border=\"1\" class=\"dataframe\">\n",
       "  <thead>\n",
       "    <tr style=\"text-align: right;\">\n",
       "      <th></th>\n",
       "      <th>Trametinib_2</th>\n",
       "      <th>Gefitinib</th>\n",
       "      <th>Afatinib</th>\n",
       "      <th>Paclitaxel</th>\n",
       "      <th>5-Fluorouracil</th>\n",
       "      <th>Cetuximab</th>\n",
       "      <th>AZD6244_0</th>\n",
       "      <th>Erlotinib</th>\n",
       "      <th>Bortezomib</th>\n",
       "      <th>Docetaxel</th>\n",
       "      <th>Lapatinib</th>\n",
       "      <th>Cisplatin</th>\n",
       "      <th>Tamoxifen</th>\n",
       "      <th>AZD6244_1</th>\n",
       "      <th>Gemcitabine</th>\n",
       "    </tr>\n",
       "    <tr>\n",
       "      <th>COSMICID</th>\n",
       "      <th></th>\n",
       "      <th></th>\n",
       "      <th></th>\n",
       "      <th></th>\n",
       "      <th></th>\n",
       "      <th></th>\n",
       "      <th></th>\n",
       "      <th></th>\n",
       "      <th></th>\n",
       "      <th></th>\n",
       "      <th></th>\n",
       "      <th></th>\n",
       "      <th></th>\n",
       "      <th></th>\n",
       "      <th></th>\n",
       "    </tr>\n",
       "  </thead>\n",
       "  <tbody>\n",
       "    <tr>\n",
       "      <th>683665</th>\n",
       "      <td>0</td>\n",
       "      <td>0</td>\n",
       "      <td>0</td>\n",
       "      <td>0</td>\n",
       "      <td>1</td>\n",
       "      <td>0</td>\n",
       "      <td>0</td>\n",
       "      <td>0</td>\n",
       "      <td>0</td>\n",
       "      <td>0</td>\n",
       "      <td>0</td>\n",
       "      <td>0</td>\n",
       "      <td>0</td>\n",
       "      <td>0</td>\n",
       "      <td>0</td>\n",
       "    </tr>\n",
       "    <tr>\n",
       "      <th>683667</th>\n",
       "      <td>NaN</td>\n",
       "      <td>0</td>\n",
       "      <td>0</td>\n",
       "      <td>NaN</td>\n",
       "      <td>0</td>\n",
       "      <td>NaN</td>\n",
       "      <td>0</td>\n",
       "      <td>NaN</td>\n",
       "      <td>NaN</td>\n",
       "      <td>0</td>\n",
       "      <td>NaN</td>\n",
       "      <td>0</td>\n",
       "      <td>0</td>\n",
       "      <td>NaN</td>\n",
       "      <td>0</td>\n",
       "    </tr>\n",
       "    <tr>\n",
       "      <th>684052</th>\n",
       "      <td>0</td>\n",
       "      <td>NaN</td>\n",
       "      <td>NaN</td>\n",
       "      <td>NaN</td>\n",
       "      <td>0</td>\n",
       "      <td>0</td>\n",
       "      <td>0</td>\n",
       "      <td>NaN</td>\n",
       "      <td>NaN</td>\n",
       "      <td>NaN</td>\n",
       "      <td>NaN</td>\n",
       "      <td>NaN</td>\n",
       "      <td>0</td>\n",
       "      <td>0</td>\n",
       "      <td>0</td>\n",
       "    </tr>\n",
       "    <tr>\n",
       "      <th>684055</th>\n",
       "      <td>0</td>\n",
       "      <td>NaN</td>\n",
       "      <td>NaN</td>\n",
       "      <td>0</td>\n",
       "      <td>0</td>\n",
       "      <td>1</td>\n",
       "      <td>1</td>\n",
       "      <td>0</td>\n",
       "      <td>0</td>\n",
       "      <td>NaN</td>\n",
       "      <td>0</td>\n",
       "      <td>NaN</td>\n",
       "      <td>0</td>\n",
       "      <td>0</td>\n",
       "      <td>0</td>\n",
       "    </tr>\n",
       "    <tr>\n",
       "      <th>684057</th>\n",
       "      <td>0</td>\n",
       "      <td>0</td>\n",
       "      <td>0</td>\n",
       "      <td>0</td>\n",
       "      <td>0</td>\n",
       "      <td>0</td>\n",
       "      <td>0</td>\n",
       "      <td>0</td>\n",
       "      <td>0</td>\n",
       "      <td>0</td>\n",
       "      <td>0</td>\n",
       "      <td>1</td>\n",
       "      <td>0</td>\n",
       "      <td>0</td>\n",
       "      <td>0</td>\n",
       "    </tr>\n",
       "  </tbody>\n",
       "</table>\n",
       "</div>"
      ],
      "text/plain": [
       "         Trametinib_2 Gefitinib Afatinib Paclitaxel 5-Fluorouracil Cetuximab  \\\n",
       "COSMICID                                                                       \n",
       "683665              0         0        0          0              1         0   \n",
       "683667            NaN         0        0        NaN              0       NaN   \n",
       "684052              0       NaN      NaN        NaN              0         0   \n",
       "684055              0       NaN      NaN          0              0         1   \n",
       "684057              0         0        0          0              0         0   \n",
       "\n",
       "         AZD6244_0 Erlotinib Bortezomib Docetaxel Lapatinib Cisplatin  \\\n",
       "COSMICID                                                                \n",
       "683665           0         0          0         0         0         0   \n",
       "683667           0       NaN        NaN         0       NaN         0   \n",
       "684052           0       NaN        NaN       NaN       NaN       NaN   \n",
       "684055           1         0          0       NaN         0       NaN   \n",
       "684057           0         0          0         0         0         1   \n",
       "\n",
       "         Tamoxifen AZD6244_1 Gemcitabine  \n",
       "COSMICID                                  \n",
       "683665           0         0           0  \n",
       "683667           0       NaN           0  \n",
       "684052           0         0           0  \n",
       "684055           0         0           0  \n",
       "684057           0         0           0  "
      ]
     },
     "execution_count": 4,
     "metadata": {},
     "output_type": "execute_result"
    }
   ],
   "source": [
    "drug_labels = {}\n",
    "all_index = None\n",
    "for fname in glob.glob(str(decompress_dir / 'GDSC_response.*.tsv')):\n",
    "    print(fname, file=sys.stderr)\n",
    "    # skip combined EGFRi data for now, we'll deal with it next\n",
    "    # we want to look at the drugs independently\n",
    "    if 'EGFRi' in fname:\n",
    "        continue\n",
    "    drug_df = pd.read_csv(fname, sep='\\t', index_col=0)\n",
    "    drug_df.index.name = 'COSMICID'\n",
    "    drug_name = os.path.basename(fname).split('.')[1]\n",
    "    if 'drug' in drug_df.columns:\n",
    "        assert drug_df.drug.unique().shape[0] == 1\n",
    "    # 0 = resistant, 1 = sensitive\n",
    "    drug_labels[drug_name] = (drug_df.response\n",
    "        .replace(to_replace='R', value='0')\n",
    "        .replace(to_replace='S', value='1')\n",
    "    )\n",
    "    # make sure everything was labeled\n",
    "    assert set(drug_labels[drug_name].unique()).issubset(set(['0', '1', np.nan]))\n",
    "    # get union of all indexes\n",
    "    if all_index is None:\n",
    "        all_index = drug_labels[drug_name].index\n",
    "    else:\n",
    "        all_index = all_index.union(drug_labels[drug_name].index)\n",
    "        \n",
    "# reindex all response series with union of indexes\n",
    "drug_labels = {\n",
    "    n: s.reindex(all_index) for n, s in drug_labels.items()\n",
    "}\n",
    "# convert to matrix\n",
    "drugs_df = pd.DataFrame(drug_labels, index=all_index)\n",
    "\n",
    "print(drugs_df.shape)\n",
    "drugs_df.head()"
   ]
  },
  {
   "cell_type": "code",
   "execution_count": 5,
   "id": "69f3a916-c045-44fc-a0ad-1cb9e07a1956",
   "metadata": {
    "tags": [
     "parameters"
    ]
   },
   "outputs": [],
   "source": [
    "drugs_df.to_csv(cfg.cell_line_drug_response_matrix, sep='\\t')"
   ]
  },
  {
   "cell_type": "code",
   "execution_count": 6,
   "id": "60805a0d-f544-4f50-a157-40abd9337a3d",
   "metadata": {
    "tags": [
     "parameters"
    ]
   },
   "outputs": [
    {
     "data": {
      "text/html": [
       "<div>\n",
       "<style scoped>\n",
       "    .dataframe tbody tr th:only-of-type {\n",
       "        vertical-align: middle;\n",
       "    }\n",
       "\n",
       "    .dataframe tbody tr th {\n",
       "        vertical-align: top;\n",
       "    }\n",
       "\n",
       "    .dataframe thead th {\n",
       "        text-align: right;\n",
       "    }\n",
       "</style>\n",
       "<table border=\"1\" class=\"dataframe\">\n",
       "  <thead>\n",
       "    <tr style=\"text-align: right;\">\n",
       "      <th></th>\n",
       "      <th>response</th>\n",
       "      <th>logIC50</th>\n",
       "      <th>drug</th>\n",
       "      <th>exprs</th>\n",
       "      <th>CNA</th>\n",
       "      <th>mutations</th>\n",
       "    </tr>\n",
       "    <tr>\n",
       "      <th>sample_name</th>\n",
       "      <th></th>\n",
       "      <th></th>\n",
       "      <th></th>\n",
       "      <th></th>\n",
       "      <th></th>\n",
       "      <th></th>\n",
       "    </tr>\n",
       "  </thead>\n",
       "  <tbody>\n",
       "    <tr>\n",
       "      <th>683665</th>\n",
       "      <td>R</td>\n",
       "      <td>6.294447</td>\n",
       "      <td>Cetuximab</td>\n",
       "      <td>1</td>\n",
       "      <td>1</td>\n",
       "      <td>1</td>\n",
       "    </tr>\n",
       "    <tr>\n",
       "      <th>683665</th>\n",
       "      <td>R</td>\n",
       "      <td>2.436586</td>\n",
       "      <td>Erlotinib</td>\n",
       "      <td>1</td>\n",
       "      <td>1</td>\n",
       "      <td>1</td>\n",
       "    </tr>\n",
       "    <tr>\n",
       "      <th>683665</th>\n",
       "      <td>R</td>\n",
       "      <td>2.684181</td>\n",
       "      <td>Lapatinib</td>\n",
       "      <td>1</td>\n",
       "      <td>1</td>\n",
       "      <td>1</td>\n",
       "    </tr>\n",
       "    <tr>\n",
       "      <th>683665</th>\n",
       "      <td>R</td>\n",
       "      <td>1.464855</td>\n",
       "      <td>Gefitinib</td>\n",
       "      <td>1</td>\n",
       "      <td>1</td>\n",
       "      <td>1</td>\n",
       "    </tr>\n",
       "    <tr>\n",
       "      <th>683665</th>\n",
       "      <td>R</td>\n",
       "      <td>1.490015</td>\n",
       "      <td>Afatinib</td>\n",
       "      <td>1</td>\n",
       "      <td>1</td>\n",
       "      <td>1</td>\n",
       "    </tr>\n",
       "  </tbody>\n",
       "</table>\n",
       "</div>"
      ],
      "text/plain": [
       "            response   logIC50       drug  exprs  CNA  mutations\n",
       "sample_name                                                     \n",
       "683665             R  6.294447  Cetuximab      1    1          1\n",
       "683665             R  2.436586  Erlotinib      1    1          1\n",
       "683665             R  2.684181  Lapatinib      1    1          1\n",
       "683665             R  1.464855  Gefitinib      1    1          1\n",
       "683665             R  1.490015   Afatinib      1    1          1"
      ]
     },
     "execution_count": 6,
     "metadata": {},
     "output_type": "execute_result"
    }
   ],
   "source": [
    "# deal with EGFRi data here\n",
    "fname = str(decompress_dir / 'GDSC_response.EGFRi.tsv')\n",
    "drug_df = pd.read_csv(fname, sep='\\t', index_col=0)\n",
    "drug_df.head()"
   ]
  },
  {
   "cell_type": "code",
   "execution_count": 7,
   "id": "7286b46d-1b90-4742-9ae4-c8e78350d3c3",
   "metadata": {
    "tags": [
     "parameters"
    ]
   },
   "outputs": [
    {
     "name": "stdout",
     "output_type": "stream",
     "text": [
      "Cetuximab (856, 6)\n",
      "Erlotinib (362, 6)\n",
      "Lapatinib (387, 6)\n",
      "Gefitinib (825, 6)\n",
      "Afatinib (828, 6)\n",
      "(940,)\n"
     ]
    }
   ],
   "source": [
    "# get the list of samples that are assayed for at least one EGFR inhibitor\n",
    "all_index = None\n",
    "for drug in drug_df.drug.unique():\n",
    "    drug_specific_df = drug_df[drug_df.drug == drug]\n",
    "    if all_index is None:\n",
    "        all_index = drug_specific_df.index\n",
    "    else:\n",
    "        all_index = all_index.union(drug_specific_df.index)\n",
    "    print(drug, drug_specific_df.shape)\n",
    "    \n",
    "print(all_index.shape)"
   ]
  },
  {
   "cell_type": "code",
   "execution_count": 8,
   "id": "34b8ca53-93ec-4885-9bb3-2c7015151fa4",
   "metadata": {
    "tags": [
     "parameters"
    ]
   },
   "outputs": [
    {
     "name": "stdout",
     "output_type": "stream",
     "text": [
      "(940, 1)\n",
      "0    642\n",
      "1    298\n",
      "Name: EGFRi, dtype: int64\n"
     ]
    },
    {
     "data": {
      "text/html": [
       "<div>\n",
       "<style scoped>\n",
       "    .dataframe tbody tr th:only-of-type {\n",
       "        vertical-align: middle;\n",
       "    }\n",
       "\n",
       "    .dataframe tbody tr th {\n",
       "        vertical-align: top;\n",
       "    }\n",
       "\n",
       "    .dataframe thead th {\n",
       "        text-align: right;\n",
       "    }\n",
       "</style>\n",
       "<table border=\"1\" class=\"dataframe\">\n",
       "  <thead>\n",
       "    <tr style=\"text-align: right;\">\n",
       "      <th></th>\n",
       "      <th>EGFRi</th>\n",
       "    </tr>\n",
       "    <tr>\n",
       "      <th>COSMICID</th>\n",
       "      <th></th>\n",
       "    </tr>\n",
       "  </thead>\n",
       "  <tbody>\n",
       "    <tr>\n",
       "      <th>683665</th>\n",
       "      <td>0</td>\n",
       "    </tr>\n",
       "    <tr>\n",
       "      <th>683667</th>\n",
       "      <td>0</td>\n",
       "    </tr>\n",
       "    <tr>\n",
       "      <th>684052</th>\n",
       "      <td>0</td>\n",
       "    </tr>\n",
       "    <tr>\n",
       "      <th>684055</th>\n",
       "      <td>1</td>\n",
       "    </tr>\n",
       "    <tr>\n",
       "      <th>684057</th>\n",
       "      <td>0</td>\n",
       "    </tr>\n",
       "  </tbody>\n",
       "</table>\n",
       "</div>"
      ],
      "text/plain": [
       "          EGFRi\n",
       "COSMICID       \n",
       "683665        0\n",
       "683667        0\n",
       "684052        0\n",
       "684055        1\n",
       "684057        0"
      ]
     },
     "execution_count": 8,
     "metadata": {},
     "output_type": "execute_result"
    }
   ],
   "source": [
    "# here we want to get the union of EGFRi-sensitive cell lines\n",
    "# in other words, if a cell line is sensitive to any of the EGFR\n",
    "# inhibitors, we mark it as sensitive, otherwise resistant\n",
    "all_egfri_df = None\n",
    "for drug in drug_df.drug.unique():\n",
    "    drug_specific_df = (drug_df[drug_df.drug == drug]\n",
    "      .reindex(all_index)\n",
    "      .fillna(0)\n",
    "    )  \n",
    "    # 0 = resistant, 1 = sensitive\n",
    "    drug_specific_df['response'] = (drug_specific_df.response\n",
    "        .replace(to_replace='R', value='0')\n",
    "        .replace(to_replace='S', value='1')\n",
    "        .astype(int)\n",
    "    )\n",
    "    if all_egfri_df is None:\n",
    "        all_egfri_df = (drug_specific_df\n",
    "          .loc[:, ['response']]\n",
    "          .rename(columns={'response': 'EGFRi'})\n",
    "        )\n",
    "    else:\n",
    "        all_egfri_df['EGFRi'] += (\n",
    "            drug_specific_df.response\n",
    "        )\n",
    "        \n",
    "all_egfri_df.index.name = 'COSMICID'\n",
    "all_egfri_df['EGFRi'] = all_egfri_df.EGFRi.astype(bool).astype(int)\n",
    "        \n",
    "print(all_egfri_df.shape) \n",
    "print(all_egfri_df.EGFRi.value_counts())\n",
    "all_egfri_df.head()"
   ]
  },
  {
   "cell_type": "code",
   "execution_count": 9,
   "id": "67de59a7-4738-446f-84df-9b91d47917b4",
   "metadata": {
    "tags": [
     "parameters"
    ]
   },
   "outputs": [],
   "source": [
    "all_egfri_df.to_csv(cfg.cell_line_drug_response_egfri, sep='\\t')"
   ]
  },
  {
   "cell_type": "markdown",
   "id": "59ed939c-90ed-4d2c-982c-48bb5b12e06c",
   "metadata": {
    "tags": [
     "parameters"
    ]
   },
   "source": [
    "### Load CCLE sample info"
   ]
  },
  {
   "cell_type": "code",
   "execution_count": 10,
   "id": "339a76ee-e118-40e4-a13c-e8a31e3af247",
   "metadata": {},
   "outputs": [],
   "source": [
    "ccle_sample_info_df = pd.read_csv(cfg.ccle_sample_info, sep=',', index_col=0)\n",
    "ccle_expression_samples_df = pd.read_csv(cfg.ccle_expression, sep=',',\n",
    "                                         index_col=0, usecols=[0])"
   ]
  },
  {
   "cell_type": "code",
   "execution_count": 11,
   "id": "b77afe46-38ff-4614-bfe9-b9f374e644d4",
   "metadata": {},
   "outputs": [
    {
     "name": "stdout",
     "output_type": "stream",
     "text": [
      "Index(['cell_line_name', 'stripped_cell_line_name', 'CCLE_Name', 'alias',\n",
      "       'COSMICID', 'sex', 'source', 'RRID', 'WTSI_Master_Cell_ID',\n",
      "       'sample_collection_site', 'primary_or_metastasis', 'primary_disease',\n",
      "       'Subtype', 'age', 'Sanger_Model_ID', 'depmap_public_comments',\n",
      "       'lineage', 'lineage_subtype', 'lineage_sub_subtype',\n",
      "       'lineage_molecular_subtype', 'default_growth_pattern',\n",
      "       'model_manipulation', 'model_manipulation_details', 'patient_id',\n",
      "       'parent_depmap_id', 'Cellosaurus_NCIt_disease', 'Cellosaurus_NCIt_id',\n",
      "       'Cellosaurus_issues'],\n",
      "      dtype='object')\n"
     ]
    },
    {
     "data": {
      "text/html": [
       "<div>\n",
       "<style scoped>\n",
       "    .dataframe tbody tr th:only-of-type {\n",
       "        vertical-align: middle;\n",
       "    }\n",
       "\n",
       "    .dataframe tbody tr th {\n",
       "        vertical-align: top;\n",
       "    }\n",
       "\n",
       "    .dataframe thead th {\n",
       "        text-align: right;\n",
       "    }\n",
       "</style>\n",
       "<table border=\"1\" class=\"dataframe\">\n",
       "  <thead>\n",
       "    <tr style=\"text-align: right;\">\n",
       "      <th></th>\n",
       "      <th>cell_line_name</th>\n",
       "      <th>stripped_cell_line_name</th>\n",
       "      <th>CCLE_Name</th>\n",
       "      <th>alias</th>\n",
       "      <th>COSMICID</th>\n",
       "    </tr>\n",
       "    <tr>\n",
       "      <th>DepMap_ID</th>\n",
       "      <th></th>\n",
       "      <th></th>\n",
       "      <th></th>\n",
       "      <th></th>\n",
       "      <th></th>\n",
       "    </tr>\n",
       "  </thead>\n",
       "  <tbody>\n",
       "    <tr>\n",
       "      <th>ACH-000016</th>\n",
       "      <td>SLR 21</td>\n",
       "      <td>SLR21</td>\n",
       "      <td>SLR21_KIDNEY</td>\n",
       "      <td>NaN</td>\n",
       "      <td>NaN</td>\n",
       "    </tr>\n",
       "    <tr>\n",
       "      <th>ACH-000032</th>\n",
       "      <td>MHH-CALL-3</td>\n",
       "      <td>MHHCALL3</td>\n",
       "      <td>MHHCALL3_HAEMATOPOIETIC_AND_LYMPHOID_TISSUE</td>\n",
       "      <td>NaN</td>\n",
       "      <td>NaN</td>\n",
       "    </tr>\n",
       "    <tr>\n",
       "      <th>ACH-000033</th>\n",
       "      <td>NCI-H1819</td>\n",
       "      <td>NCIH1819</td>\n",
       "      <td>NCIH1819_LUNG</td>\n",
       "      <td>NaN</td>\n",
       "      <td>NaN</td>\n",
       "    </tr>\n",
       "    <tr>\n",
       "      <th>ACH-000043</th>\n",
       "      <td>Hs 895.T</td>\n",
       "      <td>HS895T</td>\n",
       "      <td>HS895T_FIBROBLAST</td>\n",
       "      <td>NaN</td>\n",
       "      <td>NaN</td>\n",
       "    </tr>\n",
       "    <tr>\n",
       "      <th>ACH-000049</th>\n",
       "      <td>HEK TE</td>\n",
       "      <td>HEKTE</td>\n",
       "      <td>HEKTE_KIDNEY</td>\n",
       "      <td>NaN</td>\n",
       "      <td>NaN</td>\n",
       "    </tr>\n",
       "  </tbody>\n",
       "</table>\n",
       "</div>"
      ],
      "text/plain": [
       "           cell_line_name stripped_cell_line_name  \\\n",
       "DepMap_ID                                           \n",
       "ACH-000016         SLR 21                   SLR21   \n",
       "ACH-000032     MHH-CALL-3                MHHCALL3   \n",
       "ACH-000033      NCI-H1819                NCIH1819   \n",
       "ACH-000043       Hs 895.T                  HS895T   \n",
       "ACH-000049         HEK TE                   HEKTE   \n",
       "\n",
       "                                              CCLE_Name alias  COSMICID  \n",
       "DepMap_ID                                                                \n",
       "ACH-000016                                 SLR21_KIDNEY   NaN       NaN  \n",
       "ACH-000032  MHHCALL3_HAEMATOPOIETIC_AND_LYMPHOID_TISSUE   NaN       NaN  \n",
       "ACH-000033                                NCIH1819_LUNG   NaN       NaN  \n",
       "ACH-000043                            HS895T_FIBROBLAST   NaN       NaN  \n",
       "ACH-000049                                 HEKTE_KIDNEY   NaN       NaN  "
      ]
     },
     "execution_count": 11,
     "metadata": {},
     "output_type": "execute_result"
    }
   ],
   "source": [
    "print(ccle_sample_info_df.columns)\n",
    "ccle_sample_info_df.iloc[:5, :5]"
   ]
  },
  {
   "cell_type": "code",
   "execution_count": 12,
   "id": "306694f0-5c69-4421-84bd-43a52bc95bc7",
   "metadata": {},
   "outputs": [
    {
     "data": {
      "text/html": [
       "<div>\n",
       "<style scoped>\n",
       "    .dataframe tbody tr th:only-of-type {\n",
       "        vertical-align: middle;\n",
       "    }\n",
       "\n",
       "    .dataframe tbody tr th {\n",
       "        vertical-align: top;\n",
       "    }\n",
       "\n",
       "    .dataframe thead th {\n",
       "        text-align: right;\n",
       "    }\n",
       "</style>\n",
       "<table border=\"1\" class=\"dataframe\">\n",
       "  <thead>\n",
       "    <tr style=\"text-align: right;\">\n",
       "      <th></th>\n",
       "    </tr>\n",
       "  </thead>\n",
       "  <tbody>\n",
       "    <tr>\n",
       "      <th>ACH-001113</th>\n",
       "    </tr>\n",
       "    <tr>\n",
       "      <th>ACH-001289</th>\n",
       "    </tr>\n",
       "    <tr>\n",
       "      <th>ACH-001339</th>\n",
       "    </tr>\n",
       "    <tr>\n",
       "      <th>ACH-001538</th>\n",
       "    </tr>\n",
       "    <tr>\n",
       "      <th>ACH-000242</th>\n",
       "    </tr>\n",
       "  </tbody>\n",
       "</table>\n",
       "</div>"
      ],
      "text/plain": [
       "Empty DataFrame\n",
       "Columns: []\n",
       "Index: [ACH-001113, ACH-001289, ACH-001339, ACH-001538, ACH-000242]"
      ]
     },
     "execution_count": 12,
     "metadata": {},
     "output_type": "execute_result"
    }
   ],
   "source": [
    "ccle_expression_samples_df.head()"
   ]
  },
  {
   "cell_type": "code",
   "execution_count": 13,
   "id": "70f88252-abe0-42fa-8961-245acc90f99d",
   "metadata": {},
   "outputs": [
    {
     "name": "stdout",
     "output_type": "stream",
     "text": [
      "(1406,) (700,)\n"
     ]
    },
    {
     "data": {
      "text/plain": [
       "ACH-000242     687455\n",
       "ACH-000708    1659929\n",
       "ACH-000327     684681\n",
       "ACH-000233     906836\n",
       "ACH-000528     906791\n",
       "Name: COSMICID, dtype: int64"
      ]
     },
     "execution_count": 13,
     "metadata": {},
     "output_type": "execute_result"
    }
   ],
   "source": [
    "ccle_samples = ccle_expression_samples_df.index.intersection(ccle_sample_info_df.index)\n",
    "ccle_to_cosmic_id = (ccle_sample_info_df\n",
    "    .reindex(ccle_samples)\n",
    "    .COSMICID\n",
    "    .dropna()\n",
    "    .astype(int)\n",
    ")\n",
    "\n",
    "print(ccle_samples.shape,ccle_to_cosmic_id.shape)\n",
    "ccle_to_cosmic_id[:5]"
   ]
  },
  {
   "cell_type": "code",
   "execution_count": 14,
   "id": "73e586d3-9860-4292-9b43-1a52e791524f",
   "metadata": {},
   "outputs": [
    {
     "data": {
      "text/html": [
       "<div>\n",
       "<style scoped>\n",
       "    .dataframe tbody tr th:only-of-type {\n",
       "        vertical-align: middle;\n",
       "    }\n",
       "\n",
       "    .dataframe tbody tr th {\n",
       "        vertical-align: top;\n",
       "    }\n",
       "\n",
       "    .dataframe thead th {\n",
       "        text-align: right;\n",
       "    }\n",
       "</style>\n",
       "<table border=\"1\" class=\"dataframe\">\n",
       "  <thead>\n",
       "    <tr style=\"text-align: right;\">\n",
       "      <th></th>\n",
       "      <th>primary_disease</th>\n",
       "      <th>count</th>\n",
       "    </tr>\n",
       "  </thead>\n",
       "  <tbody>\n",
       "    <tr>\n",
       "      <th>0</th>\n",
       "      <td>Adrenal Cancer</td>\n",
       "      <td>1</td>\n",
       "    </tr>\n",
       "    <tr>\n",
       "      <th>1</th>\n",
       "      <td>Bile Duct Cancer</td>\n",
       "      <td>35</td>\n",
       "    </tr>\n",
       "    <tr>\n",
       "      <th>2</th>\n",
       "      <td>Bladder Cancer</td>\n",
       "      <td>36</td>\n",
       "    </tr>\n",
       "    <tr>\n",
       "      <th>3</th>\n",
       "      <td>Bone Cancer</td>\n",
       "      <td>38</td>\n",
       "    </tr>\n",
       "    <tr>\n",
       "      <th>4</th>\n",
       "      <td>Brain Cancer</td>\n",
       "      <td>80</td>\n",
       "    </tr>\n",
       "  </tbody>\n",
       "</table>\n",
       "</div>"
      ],
      "text/plain": [
       "    primary_disease  count\n",
       "0    Adrenal Cancer      1\n",
       "1  Bile Duct Cancer     35\n",
       "2    Bladder Cancer     36\n",
       "3       Bone Cancer     38\n",
       "4      Brain Cancer     80"
      ]
     },
     "execution_count": 14,
     "metadata": {},
     "output_type": "execute_result"
    }
   ],
   "source": [
    "ccle_cancer_types = (ccle_sample_info_df\n",
    "    .reindex(ccle_samples)\n",
    "    .groupby('primary_disease')\n",
    "    .count()\n",
    "    .reset_index()\n",
    "    .iloc[:, [0, 1]]\n",
    "    .rename(columns={'cell_line_name': 'count'})\n",
    ")\n",
    "\n",
    "ccle_cancer_types.head()"
   ]
  },
  {
   "cell_type": "markdown",
   "id": "bce730e2-efb5-4655-81b8-f280261f1828",
   "metadata": {
    "tags": [
     "parameters"
    ]
   },
   "source": [
    "### Check distribution of labeled samples across cancer types"
   ]
  },
  {
   "cell_type": "code",
   "execution_count": 15,
   "id": "0df0c488-b6d7-46bb-8271-189fe7ccfafd",
   "metadata": {},
   "outputs": [
    {
     "name": "stdout",
     "output_type": "stream",
     "text": [
      "(844, 7)\n"
     ]
    },
    {
     "data": {
      "text/html": [
       "<div>\n",
       "<style scoped>\n",
       "    .dataframe tbody tr th:only-of-type {\n",
       "        vertical-align: middle;\n",
       "    }\n",
       "\n",
       "    .dataframe tbody tr th {\n",
       "        vertical-align: top;\n",
       "    }\n",
       "\n",
       "    .dataframe thead th {\n",
       "        text-align: right;\n",
       "    }\n",
       "</style>\n",
       "<table border=\"1\" class=\"dataframe\">\n",
       "  <thead>\n",
       "    <tr style=\"text-align: right;\">\n",
       "      <th></th>\n",
       "      <th>sample_name</th>\n",
       "      <th>response</th>\n",
       "      <th>logIC50</th>\n",
       "      <th>drug</th>\n",
       "      <th>exprs</th>\n",
       "      <th>CNA</th>\n",
       "      <th>mutations</th>\n",
       "    </tr>\n",
       "  </thead>\n",
       "  <tbody>\n",
       "    <tr>\n",
       "      <th>0</th>\n",
       "      <td>683665</td>\n",
       "      <td>R</td>\n",
       "      <td>-4.408972</td>\n",
       "      <td>Gemcitabine</td>\n",
       "      <td>1</td>\n",
       "      <td>1</td>\n",
       "      <td>1</td>\n",
       "    </tr>\n",
       "    <tr>\n",
       "      <th>1</th>\n",
       "      <td>683667</td>\n",
       "      <td>R</td>\n",
       "      <td>-0.399711</td>\n",
       "      <td>Gemcitabine</td>\n",
       "      <td>1</td>\n",
       "      <td>1</td>\n",
       "      <td>1</td>\n",
       "    </tr>\n",
       "    <tr>\n",
       "      <th>2</th>\n",
       "      <td>684052</td>\n",
       "      <td>R</td>\n",
       "      <td>-3.707244</td>\n",
       "      <td>Gemcitabine</td>\n",
       "      <td>1</td>\n",
       "      <td>1</td>\n",
       "      <td>1</td>\n",
       "    </tr>\n",
       "    <tr>\n",
       "      <th>3</th>\n",
       "      <td>684055</td>\n",
       "      <td>R</td>\n",
       "      <td>-2.996450</td>\n",
       "      <td>Gemcitabine</td>\n",
       "      <td>1</td>\n",
       "      <td>1</td>\n",
       "      <td>1</td>\n",
       "    </tr>\n",
       "    <tr>\n",
       "      <th>4</th>\n",
       "      <td>684057</td>\n",
       "      <td>R</td>\n",
       "      <td>-2.410022</td>\n",
       "      <td>Gemcitabine</td>\n",
       "      <td>1</td>\n",
       "      <td>1</td>\n",
       "      <td>1</td>\n",
       "    </tr>\n",
       "  </tbody>\n",
       "</table>\n",
       "</div>"
      ],
      "text/plain": [
       "   sample_name response   logIC50         drug  exprs  CNA  mutations\n",
       "0       683665        R -4.408972  Gemcitabine      1    1          1\n",
       "1       683667        R -0.399711  Gemcitabine      1    1          1\n",
       "2       684052        R -3.707244  Gemcitabine      1    1          1\n",
       "3       684055        R -2.996450  Gemcitabine      1    1          1\n",
       "4       684057        R -2.410022  Gemcitabine      1    1          1"
      ]
     },
     "execution_count": 15,
     "metadata": {},
     "output_type": "execute_result"
    }
   ],
   "source": [
    "drug_response_df = pd.read_csv(\n",
    "    decompress_dir / 'GDSC_response.{}.tsv'.format(drug_name), sep='\\t'\n",
    ")\n",
    "\n",
    "print(drug_response_df.shape)\n",
    "drug_response_df.head()"
   ]
  },
  {
   "cell_type": "code",
   "execution_count": 16,
   "id": "8a1041c7-c122-47ae-876a-454824ef3295",
   "metadata": {},
   "outputs": [
    {
     "name": "stdout",
     "output_type": "stream",
     "text": [
      "605\n",
      "[907269, 907270, 907271, 907273, 907274]\n"
     ]
    }
   ],
   "source": [
    "ccle_drug_label_overlap = (\n",
    "    set(drug_response_df.sample_name).intersection(\n",
    "    set(ccle_to_cosmic_id.values))\n",
    ")\n",
    "    \n",
    "print(len(ccle_drug_label_overlap))\n",
    "print(list(ccle_drug_label_overlap)[:5])"
   ]
  },
  {
   "cell_type": "code",
   "execution_count": 17,
   "id": "c5d39ba0-3cf4-48e1-80be-bde117e1b5dd",
   "metadata": {},
   "outputs": [
    {
     "data": {
      "text/html": [
       "<div>\n",
       "<style scoped>\n",
       "    .dataframe tbody tr th:only-of-type {\n",
       "        vertical-align: middle;\n",
       "    }\n",
       "\n",
       "    .dataframe tbody tr th {\n",
       "        vertical-align: top;\n",
       "    }\n",
       "\n",
       "    .dataframe thead th {\n",
       "        text-align: right;\n",
       "    }\n",
       "</style>\n",
       "<table border=\"1\" class=\"dataframe\">\n",
       "  <thead>\n",
       "    <tr style=\"text-align: right;\">\n",
       "      <th></th>\n",
       "      <th>primary_disease</th>\n",
       "      <th>labeled_count</th>\n",
       "      <th>count</th>\n",
       "      <th>labeled_proportion</th>\n",
       "    </tr>\n",
       "  </thead>\n",
       "  <tbody>\n",
       "    <tr>\n",
       "      <th>0</th>\n",
       "      <td>Adrenal Cancer</td>\n",
       "      <td>0.0</td>\n",
       "      <td>1</td>\n",
       "      <td>0.000000</td>\n",
       "    </tr>\n",
       "    <tr>\n",
       "      <th>1</th>\n",
       "      <td>Bile Duct Cancer</td>\n",
       "      <td>2.0</td>\n",
       "      <td>35</td>\n",
       "      <td>0.057143</td>\n",
       "    </tr>\n",
       "    <tr>\n",
       "      <th>2</th>\n",
       "      <td>Bladder Cancer</td>\n",
       "      <td>17.0</td>\n",
       "      <td>36</td>\n",
       "      <td>0.472222</td>\n",
       "    </tr>\n",
       "    <tr>\n",
       "      <th>3</th>\n",
       "      <td>Bone Cancer</td>\n",
       "      <td>14.0</td>\n",
       "      <td>38</td>\n",
       "      <td>0.368421</td>\n",
       "    </tr>\n",
       "    <tr>\n",
       "      <th>4</th>\n",
       "      <td>Brain Cancer</td>\n",
       "      <td>37.0</td>\n",
       "      <td>80</td>\n",
       "      <td>0.462500</td>\n",
       "    </tr>\n",
       "  </tbody>\n",
       "</table>\n",
       "</div>"
      ],
      "text/plain": [
       "    primary_disease  labeled_count  count  labeled_proportion\n",
       "0    Adrenal Cancer            0.0      1            0.000000\n",
       "1  Bile Duct Cancer            2.0     35            0.057143\n",
       "2    Bladder Cancer           17.0     36            0.472222\n",
       "3       Bone Cancer           14.0     38            0.368421\n",
       "4      Brain Cancer           37.0     80            0.462500"
      ]
     },
     "execution_count": 17,
     "metadata": {},
     "output_type": "execute_result"
    }
   ],
   "source": [
    "ccle_label_cancer_types = (ccle_sample_info_df\n",
    "    [ccle_sample_info_df.COSMICID.isin(ccle_drug_label_overlap)]\n",
    "    .groupby('primary_disease')\n",
    "    .count()\n",
    "    .reset_index()\n",
    "    .iloc[:, [0, 1]]\n",
    "    .rename(columns={'cell_line_name': 'labeled_count'})\n",
    "    .merge(ccle_cancer_types, how='right', on='primary_disease')\n",
    "    .fillna(value=0)\n",
    ")\n",
    "\n",
    "ccle_label_cancer_types['labeled_proportion'] = (\n",
    "    ccle_label_cancer_types['labeled_count'] / ccle_label_cancer_types['count']\n",
    ")\n",
    "\n",
    "ccle_label_cancer_types.head()"
   ]
  },
  {
   "cell_type": "code",
   "execution_count": 18,
   "id": "ae3d7784-c2d9-4cbe-892d-1bffc46b629f",
   "metadata": {},
   "outputs": [
    {
     "data": {
      "image/png": "[encoded data removed]",
      "text/plain": [
       "<Figure size 1296x720 with 2 Axes>"
      ]
     },
     "metadata": {},
     "output_type": "display_data"
    }
   ],
   "source": [
    "sns.set({'figure.figsize': (18, 10)})\n",
    "fig, axarr = plt.subplots(2, 1)\n",
    "\n",
    "sns.barplot(data=ccle_label_cancer_types, x='primary_disease',\n",
    "            y='labeled_count', ax=axarr[0])\n",
    "axarr[0].set_xticklabels(axarr[0].get_xticklabels(), rotation=90)\n",
    "axarr[0].set_xlabel('')\n",
    "axarr[0].set_ylabel('Count')\n",
    "axarr[0].set_title(\n",
    "    'Number of {} resistant/sensitive labeled cell lines across cancer types/tissues'.format(\n",
    "        drug_name)\n",
    ")\n",
    "\n",
    "sns.barplot(data=ccle_label_cancer_types, x='primary_disease',\n",
    "            y='labeled_proportion', ax=axarr[1])\n",
    "axarr[1].set_xticklabels(axarr[1].get_xticklabels(), rotation=90)\n",
    "axarr[1].set_xlabel('Cancer type')\n",
    "axarr[1].set_ylabel('Proportion')\n",
    "axarr[1].set_ylim(0.0, 1.0)\n",
    "axarr[1].set_title(\n",
    "    'Proportion of {} resistant/sensitive labeled cell lines across cancer types/tissues'.format(\n",
    "        drug_name)\n",
    ")\n",
    "\n",
    "plt.tight_layout()\n",
    "\n",
    "if output_plots:\n",
    "    plt.savefig(output_plots_dir / '{}_dist.png'.format(drug_name),\n",
    "                dpi=200, bbox_inches='tight')"
   ]
  }
 ],
 "metadata": {
  "kernelspec": {
   "display_name": "Python [conda env:pc-eval]",
   "language": "python",
   "name": "conda-env-pc-eval-py"
  },
  "language_info": {
   "codemirror_mode": {
    "name": "ipython",
    "version": 3
   },
   "file_extension": ".py",
   "mimetype": "text/x-python",
   "name": "python",
   "nbconvert_exporter": "python",
   "pygments_lexer": "ipython3",
   "version": "3.8.13"
  }
 },
 "nbformat": 4,
 "nbformat_minor": 5
}
